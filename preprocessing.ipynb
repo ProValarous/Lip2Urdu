{
 "cells": [
  {
   "cell_type": "code",
   "execution_count": 1,
   "metadata": {},
   "outputs": [],
   "source": [
    "import os\n",
    "import cv2\n",
    "import numpy as np\n",
    "import PIL\n",
    "import matplotlib.pyplot as plt\n",
    "import datetime"
   ]
  },
  {
   "cell_type": "code",
   "execution_count": 2,
   "metadata": {},
   "outputs": [],
   "source": [
    "# frame_lst = []\r\n",
    "# parent_dir = \"D:/OneDrive - Habib University/acedemics/semester5/DL/project/Lip2Urdu/test_data/data/\"\r\n",
    "def video2frames(video_file, output_path):\r\n",
    "  if not os.path.exists(output_path):\r\n",
    "        os.makedirs(output_path)\r\n",
    "  # cap = cv2.VideoCapture(os.path.join(\"test_data\",\"lec_01.mp4\"))\r\n",
    "  cap = cv2.VideoCapture(video_file)\r\n",
    "  parent_dir = output_path\r\n",
    "  success,image = cap.read()\r\n",
    "  image = image[130:260,450:600]\r\n",
    "  count = 0\r\n",
    "  while success and count<10:\r\n",
    "    seg_dir = os.path.join(parent_dir,\"seg_%d\" %count)\r\n",
    "    os.mkdir(seg_dir)\r\n",
    "    for i in range(75):\r\n",
    "      im = os.path.join(seg_dir,\"frame%d.jpg\" % i)\r\n",
    "      cv2.imwrite(im, image)         \r\n",
    "      success,image = cap.read()\r\n",
    "      if success:\r\n",
    "        image = image[130:260,450:600]\r\n",
    "    count += 1"
   ]
  },
  {
   "cell_type": "code",
   "execution_count": 6,
   "metadata": {},
   "outputs": [],
   "source": [
    "def multiple_video2frames( video_path, output_path ):\r\n",
    "    list_videos = os.listdir(video_path)\r\n",
    "    count = 1\r\n",
    "    for video in list_videos:\r\n",
    "        input_file = video_path + '/' + video\r\n",
    "        video2frames(input_file, output_path+str(count))\r\n",
    "        count+=1\r\n",
    "    return"
   ]
  },
  {
   "cell_type": "code",
   "execution_count": 7,
   "metadata": {},
   "outputs": [],
   "source": [
    "video_path = r\"C:\\Users\\User\\Desktop\\g\\C\\dl_projet\\Lip2Urdu\\test_data\\videos\"\r\n",
    "output_path = r\"C:\\Users\\User\\Desktop\\g\\C\\dl_projet\\Lip2Urdu\\test_data\\data\\video\"\r\n",
    "multiple_video2frames(video_path,output_path)"
   ]
  }
 ],
 "metadata": {
  "kernelspec": {
   "display_name": "Python 3.10.2 64-bit",
   "name": "python3102jvsc74a57bd0aecd030d4c8316a52bf122072e28f84bcc79844c2684e041fef2e3f1d9f59078"
  },
  "language_info": {
   "codemirror_mode": {
    "name": "ipython",
    "version": 3
   },
   "file_extension": ".py",
   "mimetype": "text/x-python",
   "name": "python",
   "nbconvert_exporter": "python",
   "pygments_lexer": "ipython3",
   "version": "3.10.2"
  },
  "orig_nbformat": 3
 },
 "nbformat": 4,
 "nbformat_minor": 2
}