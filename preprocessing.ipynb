{
 "cells": [
  {
   "cell_type": "code",
   "execution_count": 3,
   "metadata": {},
   "outputs": [],
   "source": [
    "import os\n",
    "import cv2\n",
    "import numpy as np\n",
    "import PIL\n",
    "import matplotlib.pyplot as plt\n",
    "import datetime\n",
    "import moviepy.editor"
   ]
  },
  {
   "cell_type": "markdown",
   "metadata": {},
   "source": [
    "### Video Segmenter"
   ]
  },
  {
   "cell_type": "code",
   "execution_count": 2,
   "metadata": {},
   "outputs": [],
   "source": [
    "# frame_lst = []\n",
    "# parent_dir = \"D:/OneDrive - Habib University/acedemics/semester5/DL/project/Lip2Urdu/test_data/data/\"\n",
    "def video2frames(video_file, output_path):\n",
    "  if not os.path.exists(output_path):\n",
    "        os.makedirs(output_path)\n",
    "  # cap = cv2.VideoCapture(os.path.join(\"test_data\",\"lec_01.mp4\"))\n",
    "  cap = cv2.VideoCapture(video_file)\n",
    "  parent_dir = output_path\n",
    "  success,image = cap.read()\n",
    "  image = image[130:260,450:600]\n",
    "  count = 0\n",
    "  while success and count<10:\n",
    "    seg_dir = os.path.join(parent_dir,\"seg_%d\" %count)\n",
    "    os.mkdir(seg_dir)\n",
    "    for i in range(75):\n",
    "      im = os.path.join(seg_dir,\"frame%d.jpg\" % i)\n",
    "      cv2.imwrite(im, image)         \n",
    "      success,image = cap.read()\n",
    "      if success:\n",
    "        image = image[130:260,450:600]\n",
    "    count += 1"
   ]
  },
  {
   "cell_type": "code",
   "execution_count": 6,
   "metadata": {},
   "outputs": [],
   "source": [
    "def multiple_video2frames( video_path, output_path ):\n",
    "    list_videos = os.listdir(video_path)\n",
    "    count = 1\n",
    "    for video in list_videos:\n",
    "        input_file = video_path + '/' + video\n",
    "        video2frames(input_file, output_path+str(count))\n",
    "        count+=1\n",
    "    return"
   ]
  },
  {
   "cell_type": "code",
   "execution_count": 7,
   "metadata": {},
   "outputs": [],
   "source": [
    "video_path = r\"C:\\Users\\User\\Desktop\\g\\C\\dl_projet\\Lip2Urdu\\test_data\\videos\"\n",
    "output_path = r\"C:\\Users\\User\\Desktop\\g\\C\\dl_projet\\Lip2Urdu\\test_data\\data\\video\"\n",
    "multiple_video2frames(video_path,output_path)"
   ]
  },
  {
   "cell_type": "markdown",
   "metadata": {},
   "source": [
    "### Audio Segmenter"
   ]
  },
  {
   "cell_type": "code",
   "execution_count": 39,
   "metadata": {},
   "outputs": [],
   "source": [
    "def video2audio(video_file, output_path):\n",
    "  video = moviepy.editor.VideoFileClip(video_file)\n",
    "  audio = video.audio\n",
    "  audio.write_audiofile(output_path)\n",
    "  "
   ]
  },
  {
   "cell_type": "code",
   "execution_count": 43,
   "metadata": {},
   "outputs": [
    {
     "name": "stdout",
     "output_type": "stream",
     "text": [
      "D:\\OneDrive - Habib University\\acedemics\\semester5\\DL\\project\\dataset\\Theory of Automata in Urdu\\lec_01.mp4\n",
      "D:\\OneDrive - Habib University\\acedemics\\semester5\\DL\\project\\dataset\\Theory of Automata in Urdu_Audio\n",
      "D:\\OneDrive - Habib University\\acedemics\\semester5\\DL\\project\\dataset\\Theory of Automata in Urdu_Audio\\lec_01.mp3\n"
     ]
    },
    {
     "name": "stderr",
     "output_type": "stream",
     "text": [
      "chunk:   0%|          | 28/90722 [00:47<1:32:12, 16.39it/s, now=None]"
     ]
    },
    {
     "name": "stdout",
     "output_type": "stream",
     "text": [
      "MoviePy - Writing audio in D:\\OneDrive - Habib University\\acedemics\\semester5\\DL\\project\\dataset\\Theory of Automata in Urdu_Audio\\lec_01.mp3\n"
     ]
    },
    {
     "name": "stderr",
     "output_type": "stream",
     "text": [
      "chunk:   0%|          | 28/90722 [02:32<1:32:12, 16.39it/s, now=None]"
     ]
    },
    {
     "name": "stdout",
     "output_type": "stream",
     "text": [
      "MoviePy - Done.\n",
      "D:\\OneDrive - Habib University\\acedemics\\semester5\\DL\\project\\dataset\\Theory of Automata in Urdu\\lec_02.mp4\n",
      "D:\\OneDrive - Habib University\\acedemics\\semester5\\DL\\project\\dataset\\Theory of Automata in Urdu_Audio\n",
      "D:\\OneDrive - Habib University\\acedemics\\semester5\\DL\\project\\dataset\\Theory of Automata in Urdu_Audio\\lec_02.mp3\n"
     ]
    },
    {
     "name": "stderr",
     "output_type": "stream",
     "text": [
      "chunk:   0%|          | 28/90722 [02:32<1:32:12, 16.39it/s, now=None]"
     ]
    },
    {
     "name": "stdout",
     "output_type": "stream",
     "text": [
      "MoviePy - Writing audio in D:\\OneDrive - Habib University\\acedemics\\semester5\\DL\\project\\dataset\\Theory of Automata in Urdu_Audio\\lec_02.mp3\n"
     ]
    },
    {
     "name": "stderr",
     "output_type": "stream",
     "text": [
      "chunk:   0%|          | 28/90722 [03:53<1:32:12, 16.39it/s, now=None]"
     ]
    },
    {
     "name": "stdout",
     "output_type": "stream",
     "text": [
      "MoviePy - Done.\n",
      "D:\\OneDrive - Habib University\\acedemics\\semester5\\DL\\project\\dataset\\Theory of Automata in Urdu\\lec_03.mp4\n",
      "D:\\OneDrive - Habib University\\acedemics\\semester5\\DL\\project\\dataset\\Theory of Automata in Urdu_Audio\n",
      "D:\\OneDrive - Habib University\\acedemics\\semester5\\DL\\project\\dataset\\Theory of Automata in Urdu_Audio\\lec_03.mp3\n"
     ]
    },
    {
     "name": "stderr",
     "output_type": "stream",
     "text": [
      "chunk:   0%|          | 28/90722 [03:54<1:32:12, 16.39it/s, now=None]"
     ]
    },
    {
     "name": "stdout",
     "output_type": "stream",
     "text": [
      "MoviePy - Writing audio in D:\\OneDrive - Habib University\\acedemics\\semester5\\DL\\project\\dataset\\Theory of Automata in Urdu_Audio\\lec_03.mp3\n"
     ]
    },
    {
     "name": "stderr",
     "output_type": "stream",
     "text": [
      "chunk:   0%|          | 28/90722 [05:26<1:32:12, 16.39it/s, now=None]"
     ]
    },
    {
     "name": "stdout",
     "output_type": "stream",
     "text": [
      "MoviePy - Done.\n",
      "D:\\OneDrive - Habib University\\acedemics\\semester5\\DL\\project\\dataset\\Theory of Automata in Urdu\\lec_04.mp4\n",
      "D:\\OneDrive - Habib University\\acedemics\\semester5\\DL\\project\\dataset\\Theory of Automata in Urdu_Audio\n",
      "D:\\OneDrive - Habib University\\acedemics\\semester5\\DL\\project\\dataset\\Theory of Automata in Urdu_Audio\\lec_04.mp3\n"
     ]
    },
    {
     "name": "stderr",
     "output_type": "stream",
     "text": [
      "chunk:   0%|          | 28/90722 [05:27<1:32:12, 16.39it/s, now=None]"
     ]
    },
    {
     "name": "stdout",
     "output_type": "stream",
     "text": [
      "MoviePy - Writing audio in D:\\OneDrive - Habib University\\acedemics\\semester5\\DL\\project\\dataset\\Theory of Automata in Urdu_Audio\\lec_04.mp3\n"
     ]
    },
    {
     "name": "stderr",
     "output_type": "stream",
     "text": [
      "chunk:   0%|          | 28/90722 [07:08<1:32:12, 16.39it/s, now=None]"
     ]
    },
    {
     "name": "stdout",
     "output_type": "stream",
     "text": [
      "MoviePy - Done.\n",
      "D:\\OneDrive - Habib University\\acedemics\\semester5\\DL\\project\\dataset\\Theory of Automata in Urdu\\lec_05.mp4\n",
      "D:\\OneDrive - Habib University\\acedemics\\semester5\\DL\\project\\dataset\\Theory of Automata in Urdu_Audio\n",
      "D:\\OneDrive - Habib University\\acedemics\\semester5\\DL\\project\\dataset\\Theory of Automata in Urdu_Audio\\lec_05.mp3\n"
     ]
    },
    {
     "name": "stderr",
     "output_type": "stream",
     "text": [
      "chunk:   0%|          | 28/90722 [07:09<1:32:12, 16.39it/s, now=None]"
     ]
    },
    {
     "name": "stdout",
     "output_type": "stream",
     "text": [
      "MoviePy - Writing audio in D:\\OneDrive - Habib University\\acedemics\\semester5\\DL\\project\\dataset\\Theory of Automata in Urdu_Audio\\lec_05.mp3\n"
     ]
    },
    {
     "name": "stderr",
     "output_type": "stream",
     "text": [
      "chunk:   0%|          | 28/90722 [08:43<1:32:12, 16.39it/s, now=None]"
     ]
    },
    {
     "name": "stdout",
     "output_type": "stream",
     "text": [
      "MoviePy - Done.\n",
      "D:\\OneDrive - Habib University\\acedemics\\semester5\\DL\\project\\dataset\\Theory of Automata in Urdu\\lec_06.mp4\n",
      "D:\\OneDrive - Habib University\\acedemics\\semester5\\DL\\project\\dataset\\Theory of Automata in Urdu_Audio\n",
      "D:\\OneDrive - Habib University\\acedemics\\semester5\\DL\\project\\dataset\\Theory of Automata in Urdu_Audio\\lec_06.mp3\n"
     ]
    },
    {
     "name": "stderr",
     "output_type": "stream",
     "text": [
      "chunk:   0%|          | 28/90722 [08:44<1:32:12, 16.39it/s, now=None]"
     ]
    },
    {
     "name": "stdout",
     "output_type": "stream",
     "text": [
      "MoviePy - Writing audio in D:\\OneDrive - Habib University\\acedemics\\semester5\\DL\\project\\dataset\\Theory of Automata in Urdu_Audio\\lec_06.mp3\n"
     ]
    },
    {
     "name": "stderr",
     "output_type": "stream",
     "text": [
      "chunk:   0%|          | 28/90722 [09:56<1:32:12, 16.39it/s, now=None]"
     ]
    },
    {
     "name": "stdout",
     "output_type": "stream",
     "text": [
      "MoviePy - Done.\n",
      "D:\\OneDrive - Habib University\\acedemics\\semester5\\DL\\project\\dataset\\Theory of Automata in Urdu\\lec_07.mp4\n",
      "D:\\OneDrive - Habib University\\acedemics\\semester5\\DL\\project\\dataset\\Theory of Automata in Urdu_Audio\n",
      "D:\\OneDrive - Habib University\\acedemics\\semester5\\DL\\project\\dataset\\Theory of Automata in Urdu_Audio\\lec_07.mp3\n"
     ]
    },
    {
     "name": "stderr",
     "output_type": "stream",
     "text": [
      "chunk:   0%|          | 28/90722 [09:57<1:32:12, 16.39it/s, now=None]"
     ]
    },
    {
     "name": "stdout",
     "output_type": "stream",
     "text": [
      "MoviePy - Writing audio in D:\\OneDrive - Habib University\\acedemics\\semester5\\DL\\project\\dataset\\Theory of Automata in Urdu_Audio\\lec_07.mp3\n"
     ]
    },
    {
     "name": "stderr",
     "output_type": "stream",
     "text": [
      "chunk:   0%|          | 28/90722 [11:33<1:32:12, 16.39it/s, now=None]"
     ]
    },
    {
     "name": "stdout",
     "output_type": "stream",
     "text": [
      "MoviePy - Done.\n",
      "D:\\OneDrive - Habib University\\acedemics\\semester5\\DL\\project\\dataset\\Theory of Automata in Urdu\\lec_08.mp4\n",
      "D:\\OneDrive - Habib University\\acedemics\\semester5\\DL\\project\\dataset\\Theory of Automata in Urdu_Audio\n",
      "D:\\OneDrive - Habib University\\acedemics\\semester5\\DL\\project\\dataset\\Theory of Automata in Urdu_Audio\\lec_08.mp3\n"
     ]
    },
    {
     "name": "stderr",
     "output_type": "stream",
     "text": [
      "chunk:   0%|          | 28/90722 [11:33<1:32:12, 16.39it/s, now=None]"
     ]
    },
    {
     "name": "stdout",
     "output_type": "stream",
     "text": [
      "MoviePy - Writing audio in D:\\OneDrive - Habib University\\acedemics\\semester5\\DL\\project\\dataset\\Theory of Automata in Urdu_Audio\\lec_08.mp3\n"
     ]
    },
    {
     "name": "stderr",
     "output_type": "stream",
     "text": [
      "chunk:   0%|          | 28/90722 [13:08<1:32:12, 16.39it/s, now=None]"
     ]
    },
    {
     "name": "stdout",
     "output_type": "stream",
     "text": [
      "MoviePy - Done.\n",
      "D:\\OneDrive - Habib University\\acedemics\\semester5\\DL\\project\\dataset\\Theory of Automata in Urdu\\lec_09.mp4\n",
      "D:\\OneDrive - Habib University\\acedemics\\semester5\\DL\\project\\dataset\\Theory of Automata in Urdu_Audio\n",
      "D:\\OneDrive - Habib University\\acedemics\\semester5\\DL\\project\\dataset\\Theory of Automata in Urdu_Audio\\lec_09.mp3\n"
     ]
    },
    {
     "name": "stderr",
     "output_type": "stream",
     "text": [
      "chunk:   0%|          | 28/90722 [13:09<1:32:12, 16.39it/s, now=None]"
     ]
    },
    {
     "name": "stdout",
     "output_type": "stream",
     "text": [
      "MoviePy - Writing audio in D:\\OneDrive - Habib University\\acedemics\\semester5\\DL\\project\\dataset\\Theory of Automata in Urdu_Audio\\lec_09.mp3\n"
     ]
    },
    {
     "name": "stderr",
     "output_type": "stream",
     "text": [
      "chunk:   0%|          | 28/90722 [14:39<1:32:12, 16.39it/s, now=None]"
     ]
    },
    {
     "name": "stdout",
     "output_type": "stream",
     "text": [
      "MoviePy - Done.\n",
      "D:\\OneDrive - Habib University\\acedemics\\semester5\\DL\\project\\dataset\\Theory of Automata in Urdu\\lec_10.mp4\n",
      "D:\\OneDrive - Habib University\\acedemics\\semester5\\DL\\project\\dataset\\Theory of Automata in Urdu_Audio\n",
      "D:\\OneDrive - Habib University\\acedemics\\semester5\\DL\\project\\dataset\\Theory of Automata in Urdu_Audio\\lec_10.mp3\n"
     ]
    },
    {
     "name": "stderr",
     "output_type": "stream",
     "text": [
      "chunk:   0%|          | 28/90722 [14:40<1:32:12, 16.39it/s, now=None]"
     ]
    },
    {
     "name": "stdout",
     "output_type": "stream",
     "text": [
      "MoviePy - Writing audio in D:\\OneDrive - Habib University\\acedemics\\semester5\\DL\\project\\dataset\\Theory of Automata in Urdu_Audio\\lec_10.mp3\n"
     ]
    },
    {
     "name": "stderr",
     "output_type": "stream",
     "text": [
      "chunk:   0%|          | 28/90722 [16:11<1:32:12, 16.39it/s, now=None]"
     ]
    },
    {
     "name": "stdout",
     "output_type": "stream",
     "text": [
      "MoviePy - Done.\n",
      "D:\\OneDrive - Habib University\\acedemics\\semester5\\DL\\project\\dataset\\Theory of Automata in Urdu\\lec_11.mp4\n",
      "D:\\OneDrive - Habib University\\acedemics\\semester5\\DL\\project\\dataset\\Theory of Automata in Urdu_Audio\n",
      "D:\\OneDrive - Habib University\\acedemics\\semester5\\DL\\project\\dataset\\Theory of Automata in Urdu_Audio\\lec_11.mp3\n"
     ]
    },
    {
     "name": "stderr",
     "output_type": "stream",
     "text": [
      "chunk:   0%|          | 28/90722 [16:12<1:32:12, 16.39it/s, now=None]"
     ]
    },
    {
     "name": "stdout",
     "output_type": "stream",
     "text": [
      "MoviePy - Writing audio in D:\\OneDrive - Habib University\\acedemics\\semester5\\DL\\project\\dataset\\Theory of Automata in Urdu_Audio\\lec_11.mp3\n"
     ]
    },
    {
     "name": "stderr",
     "output_type": "stream",
     "text": [
      "chunk:   0%|          | 28/90722 [17:27<1:32:12, 16.39it/s, now=None]"
     ]
    },
    {
     "name": "stdout",
     "output_type": "stream",
     "text": [
      "MoviePy - Done.\n",
      "D:\\OneDrive - Habib University\\acedemics\\semester5\\DL\\project\\dataset\\Theory of Automata in Urdu\\lec_12.mp4\n",
      "D:\\OneDrive - Habib University\\acedemics\\semester5\\DL\\project\\dataset\\Theory of Automata in Urdu_Audio\n",
      "D:\\OneDrive - Habib University\\acedemics\\semester5\\DL\\project\\dataset\\Theory of Automata in Urdu_Audio\\lec_12.mp3\n"
     ]
    },
    {
     "name": "stderr",
     "output_type": "stream",
     "text": [
      "chunk:   0%|          | 28/90722 [17:27<1:32:12, 16.39it/s, now=None]"
     ]
    },
    {
     "name": "stdout",
     "output_type": "stream",
     "text": [
      "MoviePy - Writing audio in D:\\OneDrive - Habib University\\acedemics\\semester5\\DL\\project\\dataset\\Theory of Automata in Urdu_Audio\\lec_12.mp3\n"
     ]
    },
    {
     "name": "stderr",
     "output_type": "stream",
     "text": [
      "chunk:   0%|          | 28/90722 [18:57<1:32:12, 16.39it/s, now=None]"
     ]
    },
    {
     "name": "stdout",
     "output_type": "stream",
     "text": [
      "MoviePy - Done.\n",
      "D:\\OneDrive - Habib University\\acedemics\\semester5\\DL\\project\\dataset\\Theory of Automata in Urdu\\lec_13.mp4\n",
      "D:\\OneDrive - Habib University\\acedemics\\semester5\\DL\\project\\dataset\\Theory of Automata in Urdu_Audio\n",
      "D:\\OneDrive - Habib University\\acedemics\\semester5\\DL\\project\\dataset\\Theory of Automata in Urdu_Audio\\lec_13.mp3\n"
     ]
    },
    {
     "name": "stderr",
     "output_type": "stream",
     "text": [
      "chunk:   0%|          | 28/90722 [18:58<1:32:12, 16.39it/s, now=None]"
     ]
    },
    {
     "name": "stdout",
     "output_type": "stream",
     "text": [
      "MoviePy - Writing audio in D:\\OneDrive - Habib University\\acedemics\\semester5\\DL\\project\\dataset\\Theory of Automata in Urdu_Audio\\lec_13.mp3\n"
     ]
    },
    {
     "name": "stderr",
     "output_type": "stream",
     "text": [
      "chunk:   0%|          | 28/90722 [20:28<1:32:12, 16.39it/s, now=None]"
     ]
    },
    {
     "name": "stdout",
     "output_type": "stream",
     "text": [
      "MoviePy - Done.\n",
      "D:\\OneDrive - Habib University\\acedemics\\semester5\\DL\\project\\dataset\\Theory of Automata in Urdu\\lec_14.mp4\n",
      "D:\\OneDrive - Habib University\\acedemics\\semester5\\DL\\project\\dataset\\Theory of Automata in Urdu_Audio\n",
      "D:\\OneDrive - Habib University\\acedemics\\semester5\\DL\\project\\dataset\\Theory of Automata in Urdu_Audio\\lec_14.mp3\n"
     ]
    },
    {
     "name": "stderr",
     "output_type": "stream",
     "text": [
      "chunk:   0%|          | 28/90722 [20:28<1:32:12, 16.39it/s, now=None]"
     ]
    },
    {
     "name": "stdout",
     "output_type": "stream",
     "text": [
      "MoviePy - Writing audio in D:\\OneDrive - Habib University\\acedemics\\semester5\\DL\\project\\dataset\\Theory of Automata in Urdu_Audio\\lec_14.mp3\n"
     ]
    },
    {
     "name": "stderr",
     "output_type": "stream",
     "text": [
      "chunk:   0%|          | 28/90722 [22:04<1:32:12, 16.39it/s, now=None]"
     ]
    },
    {
     "name": "stdout",
     "output_type": "stream",
     "text": [
      "MoviePy - Done.\n",
      "D:\\OneDrive - Habib University\\acedemics\\semester5\\DL\\project\\dataset\\Theory of Automata in Urdu\\lec_15.mp4\n",
      "D:\\OneDrive - Habib University\\acedemics\\semester5\\DL\\project\\dataset\\Theory of Automata in Urdu_Audio\n",
      "D:\\OneDrive - Habib University\\acedemics\\semester5\\DL\\project\\dataset\\Theory of Automata in Urdu_Audio\\lec_15.mp3\n"
     ]
    },
    {
     "name": "stderr",
     "output_type": "stream",
     "text": [
      "chunk:   0%|          | 28/90722 [22:05<1:32:12, 16.39it/s, now=None]"
     ]
    },
    {
     "name": "stdout",
     "output_type": "stream",
     "text": [
      "MoviePy - Writing audio in D:\\OneDrive - Habib University\\acedemics\\semester5\\DL\\project\\dataset\\Theory of Automata in Urdu_Audio\\lec_15.mp3\n"
     ]
    },
    {
     "name": "stderr",
     "output_type": "stream",
     "text": [
      "chunk:   0%|          | 28/90722 [23:43<1:32:12, 16.39it/s, now=None]"
     ]
    },
    {
     "name": "stdout",
     "output_type": "stream",
     "text": [
      "MoviePy - Done.\n",
      "D:\\OneDrive - Habib University\\acedemics\\semester5\\DL\\project\\dataset\\Theory of Automata in Urdu\\lec_16.mp4\n",
      "D:\\OneDrive - Habib University\\acedemics\\semester5\\DL\\project\\dataset\\Theory of Automata in Urdu_Audio\n",
      "D:\\OneDrive - Habib University\\acedemics\\semester5\\DL\\project\\dataset\\Theory of Automata in Urdu_Audio\\lec_16.mp3\n"
     ]
    },
    {
     "name": "stderr",
     "output_type": "stream",
     "text": [
      "chunk:   0%|          | 28/90722 [23:44<1:32:12, 16.39it/s, now=None]"
     ]
    },
    {
     "name": "stdout",
     "output_type": "stream",
     "text": [
      "MoviePy - Writing audio in D:\\OneDrive - Habib University\\acedemics\\semester5\\DL\\project\\dataset\\Theory of Automata in Urdu_Audio\\lec_16.mp3\n"
     ]
    },
    {
     "name": "stderr",
     "output_type": "stream",
     "text": [
      "chunk:   0%|          | 28/90722 [25:11<1:32:12, 16.39it/s, now=None]"
     ]
    },
    {
     "name": "stdout",
     "output_type": "stream",
     "text": [
      "MoviePy - Done.\n",
      "D:\\OneDrive - Habib University\\acedemics\\semester5\\DL\\project\\dataset\\Theory of Automata in Urdu\\lec_17.mp4\n",
      "D:\\OneDrive - Habib University\\acedemics\\semester5\\DL\\project\\dataset\\Theory of Automata in Urdu_Audio\n",
      "D:\\OneDrive - Habib University\\acedemics\\semester5\\DL\\project\\dataset\\Theory of Automata in Urdu_Audio\\lec_17.mp3\n"
     ]
    },
    {
     "name": "stderr",
     "output_type": "stream",
     "text": [
      "chunk:   0%|          | 28/90722 [25:12<1:32:12, 16.39it/s, now=None]"
     ]
    },
    {
     "name": "stdout",
     "output_type": "stream",
     "text": [
      "MoviePy - Writing audio in D:\\OneDrive - Habib University\\acedemics\\semester5\\DL\\project\\dataset\\Theory of Automata in Urdu_Audio\\lec_17.mp3\n"
     ]
    },
    {
     "name": "stderr",
     "output_type": "stream",
     "text": [
      "chunk:   0%|          | 28/90722 [26:45<1:32:12, 16.39it/s, now=None]"
     ]
    },
    {
     "name": "stdout",
     "output_type": "stream",
     "text": [
      "MoviePy - Done.\n",
      "D:\\OneDrive - Habib University\\acedemics\\semester5\\DL\\project\\dataset\\Theory of Automata in Urdu\\lec_18.mp4\n",
      "D:\\OneDrive - Habib University\\acedemics\\semester5\\DL\\project\\dataset\\Theory of Automata in Urdu_Audio\n",
      "D:\\OneDrive - Habib University\\acedemics\\semester5\\DL\\project\\dataset\\Theory of Automata in Urdu_Audio\\lec_18.mp3\n"
     ]
    },
    {
     "name": "stderr",
     "output_type": "stream",
     "text": [
      "chunk:   0%|          | 28/90722 [26:46<1:32:12, 16.39it/s, now=None]"
     ]
    },
    {
     "name": "stdout",
     "output_type": "stream",
     "text": [
      "MoviePy - Writing audio in D:\\OneDrive - Habib University\\acedemics\\semester5\\DL\\project\\dataset\\Theory of Automata in Urdu_Audio\\lec_18.mp3\n"
     ]
    },
    {
     "name": "stderr",
     "output_type": "stream",
     "text": [
      "chunk:   0%|          | 28/90722 [28:34<1:32:12, 16.39it/s, now=None]"
     ]
    },
    {
     "name": "stdout",
     "output_type": "stream",
     "text": [
      "MoviePy - Done.\n",
      "D:\\OneDrive - Habib University\\acedemics\\semester5\\DL\\project\\dataset\\Theory of Automata in Urdu\\lec_19.mp4\n",
      "D:\\OneDrive - Habib University\\acedemics\\semester5\\DL\\project\\dataset\\Theory of Automata in Urdu_Audio\n",
      "D:\\OneDrive - Habib University\\acedemics\\semester5\\DL\\project\\dataset\\Theory of Automata in Urdu_Audio\\lec_19.mp3\n"
     ]
    },
    {
     "name": "stderr",
     "output_type": "stream",
     "text": [
      "chunk:   0%|          | 28/90722 [28:34<1:32:12, 16.39it/s, now=None]"
     ]
    },
    {
     "name": "stdout",
     "output_type": "stream",
     "text": [
      "MoviePy - Writing audio in D:\\OneDrive - Habib University\\acedemics\\semester5\\DL\\project\\dataset\\Theory of Automata in Urdu_Audio\\lec_19.mp3\n"
     ]
    },
    {
     "name": "stderr",
     "output_type": "stream",
     "text": [
      "chunk:   0%|          | 28/90722 [30:18<1:32:12, 16.39it/s, now=None]"
     ]
    },
    {
     "name": "stdout",
     "output_type": "stream",
     "text": [
      "MoviePy - Done.\n",
      "D:\\OneDrive - Habib University\\acedemics\\semester5\\DL\\project\\dataset\\Theory of Automata in Urdu\\lec_20.mp4\n",
      "D:\\OneDrive - Habib University\\acedemics\\semester5\\DL\\project\\dataset\\Theory of Automata in Urdu_Audio\n",
      "D:\\OneDrive - Habib University\\acedemics\\semester5\\DL\\project\\dataset\\Theory of Automata in Urdu_Audio\\lec_20.mp3\n"
     ]
    },
    {
     "name": "stderr",
     "output_type": "stream",
     "text": [
      "chunk:   0%|          | 28/90722 [30:18<1:32:12, 16.39it/s, now=None]"
     ]
    },
    {
     "name": "stdout",
     "output_type": "stream",
     "text": [
      "MoviePy - Writing audio in D:\\OneDrive - Habib University\\acedemics\\semester5\\DL\\project\\dataset\\Theory of Automata in Urdu_Audio\\lec_20.mp3\n"
     ]
    },
    {
     "name": "stderr",
     "output_type": "stream",
     "text": [
      "chunk:   0%|          | 28/90722 [31:48<1:32:12, 16.39it/s, now=None]"
     ]
    },
    {
     "name": "stdout",
     "output_type": "stream",
     "text": [
      "MoviePy - Done.\n",
      "D:\\OneDrive - Habib University\\acedemics\\semester5\\DL\\project\\dataset\\Theory of Automata in Urdu\\lec_21.mp4\n",
      "D:\\OneDrive - Habib University\\acedemics\\semester5\\DL\\project\\dataset\\Theory of Automata in Urdu_Audio\n",
      "D:\\OneDrive - Habib University\\acedemics\\semester5\\DL\\project\\dataset\\Theory of Automata in Urdu_Audio\\lec_21.mp3\n"
     ]
    },
    {
     "name": "stderr",
     "output_type": "stream",
     "text": [
      "chunk:   0%|          | 28/90722 [31:49<1:32:12, 16.39it/s, now=None]"
     ]
    },
    {
     "name": "stdout",
     "output_type": "stream",
     "text": [
      "MoviePy - Writing audio in D:\\OneDrive - Habib University\\acedemics\\semester5\\DL\\project\\dataset\\Theory of Automata in Urdu_Audio\\lec_21.mp3\n"
     ]
    },
    {
     "name": "stderr",
     "output_type": "stream",
     "text": [
      "chunk:   0%|          | 28/90722 [33:17<1:32:12, 16.39it/s, now=None]"
     ]
    },
    {
     "name": "stdout",
     "output_type": "stream",
     "text": [
      "MoviePy - Done.\n",
      "D:\\OneDrive - Habib University\\acedemics\\semester5\\DL\\project\\dataset\\Theory of Automata in Urdu\\lec_22.mp4\n",
      "D:\\OneDrive - Habib University\\acedemics\\semester5\\DL\\project\\dataset\\Theory of Automata in Urdu_Audio\n",
      "D:\\OneDrive - Habib University\\acedemics\\semester5\\DL\\project\\dataset\\Theory of Automata in Urdu_Audio\\lec_22.mp3\n"
     ]
    },
    {
     "name": "stderr",
     "output_type": "stream",
     "text": [
      "chunk:   0%|          | 28/90722 [33:18<1:32:12, 16.39it/s, now=None]"
     ]
    },
    {
     "name": "stdout",
     "output_type": "stream",
     "text": [
      "MoviePy - Writing audio in D:\\OneDrive - Habib University\\acedemics\\semester5\\DL\\project\\dataset\\Theory of Automata in Urdu_Audio\\lec_22.mp3\n"
     ]
    },
    {
     "name": "stderr",
     "output_type": "stream",
     "text": [
      "chunk:   0%|          | 28/90722 [34:36<1:32:12, 16.39it/s, now=None]"
     ]
    },
    {
     "name": "stdout",
     "output_type": "stream",
     "text": [
      "MoviePy - Done.\n",
      "D:\\OneDrive - Habib University\\acedemics\\semester5\\DL\\project\\dataset\\Theory of Automata in Urdu\\lec_23.mp4\n",
      "D:\\OneDrive - Habib University\\acedemics\\semester5\\DL\\project\\dataset\\Theory of Automata in Urdu_Audio\n",
      "D:\\OneDrive - Habib University\\acedemics\\semester5\\DL\\project\\dataset\\Theory of Automata in Urdu_Audio\\lec_23.mp3\n"
     ]
    },
    {
     "name": "stderr",
     "output_type": "stream",
     "text": [
      "chunk:   0%|          | 28/90722 [34:37<1:32:12, 16.39it/s, now=None]"
     ]
    },
    {
     "name": "stdout",
     "output_type": "stream",
     "text": [
      "MoviePy - Writing audio in D:\\OneDrive - Habib University\\acedemics\\semester5\\DL\\project\\dataset\\Theory of Automata in Urdu_Audio\\lec_23.mp3\n"
     ]
    },
    {
     "name": "stderr",
     "output_type": "stream",
     "text": [
      "chunk:   0%|          | 28/90722 [35:52<1:32:12, 16.39it/s, now=None]"
     ]
    },
    {
     "name": "stdout",
     "output_type": "stream",
     "text": [
      "MoviePy - Done.\n",
      "D:\\OneDrive - Habib University\\acedemics\\semester5\\DL\\project\\dataset\\Theory of Automata in Urdu\\lec_24.mp4\n",
      "D:\\OneDrive - Habib University\\acedemics\\semester5\\DL\\project\\dataset\\Theory of Automata in Urdu_Audio\n",
      "D:\\OneDrive - Habib University\\acedemics\\semester5\\DL\\project\\dataset\\Theory of Automata in Urdu_Audio\\lec_24.mp3\n"
     ]
    },
    {
     "name": "stderr",
     "output_type": "stream",
     "text": [
      "chunk:   0%|          | 28/90722 [35:53<1:32:12, 16.39it/s, now=None]"
     ]
    },
    {
     "name": "stdout",
     "output_type": "stream",
     "text": [
      "MoviePy - Writing audio in D:\\OneDrive - Habib University\\acedemics\\semester5\\DL\\project\\dataset\\Theory of Automata in Urdu_Audio\\lec_24.mp3\n"
     ]
    },
    {
     "name": "stderr",
     "output_type": "stream",
     "text": [
      "chunk:   0%|          | 28/90722 [37:50<1:32:12, 16.39it/s, now=None]"
     ]
    },
    {
     "name": "stdout",
     "output_type": "stream",
     "text": [
      "MoviePy - Done.\n",
      "D:\\OneDrive - Habib University\\acedemics\\semester5\\DL\\project\\dataset\\Theory of Automata in Urdu\\lec_25.mp4\n",
      "D:\\OneDrive - Habib University\\acedemics\\semester5\\DL\\project\\dataset\\Theory of Automata in Urdu_Audio\n",
      "D:\\OneDrive - Habib University\\acedemics\\semester5\\DL\\project\\dataset\\Theory of Automata in Urdu_Audio\\lec_25.mp3\n"
     ]
    },
    {
     "name": "stderr",
     "output_type": "stream",
     "text": [
      "chunk:   0%|          | 28/90722 [37:50<1:32:12, 16.39it/s, now=None]"
     ]
    },
    {
     "name": "stdout",
     "output_type": "stream",
     "text": [
      "MoviePy - Writing audio in D:\\OneDrive - Habib University\\acedemics\\semester5\\DL\\project\\dataset\\Theory of Automata in Urdu_Audio\\lec_25.mp3\n"
     ]
    },
    {
     "name": "stderr",
     "output_type": "stream",
     "text": [
      "chunk:   0%|          | 28/90722 [40:00<1:32:12, 16.39it/s, now=None]"
     ]
    },
    {
     "name": "stdout",
     "output_type": "stream",
     "text": [
      "MoviePy - Done.\n",
      "D:\\OneDrive - Habib University\\acedemics\\semester5\\DL\\project\\dataset\\Theory of Automata in Urdu\\lec_26.mp4\n",
      "D:\\OneDrive - Habib University\\acedemics\\semester5\\DL\\project\\dataset\\Theory of Automata in Urdu_Audio\n",
      "D:\\OneDrive - Habib University\\acedemics\\semester5\\DL\\project\\dataset\\Theory of Automata in Urdu_Audio\\lec_26.mp3\n"
     ]
    },
    {
     "name": "stderr",
     "output_type": "stream",
     "text": [
      "chunk:   0%|          | 28/90722 [40:01<1:32:12, 16.39it/s, now=None]"
     ]
    },
    {
     "name": "stdout",
     "output_type": "stream",
     "text": [
      "MoviePy - Writing audio in D:\\OneDrive - Habib University\\acedemics\\semester5\\DL\\project\\dataset\\Theory of Automata in Urdu_Audio\\lec_26.mp3\n"
     ]
    },
    {
     "name": "stderr",
     "output_type": "stream",
     "text": [
      "chunk:   0%|          | 28/90722 [42:27<1:32:12, 16.39it/s, now=None]"
     ]
    },
    {
     "name": "stdout",
     "output_type": "stream",
     "text": [
      "MoviePy - Done.\n",
      "D:\\OneDrive - Habib University\\acedemics\\semester5\\DL\\project\\dataset\\Theory of Automata in Urdu\\lec_27.mp4\n",
      "D:\\OneDrive - Habib University\\acedemics\\semester5\\DL\\project\\dataset\\Theory of Automata in Urdu_Audio\n",
      "D:\\OneDrive - Habib University\\acedemics\\semester5\\DL\\project\\dataset\\Theory of Automata in Urdu_Audio\\lec_27.mp3\n"
     ]
    },
    {
     "name": "stderr",
     "output_type": "stream",
     "text": [
      "chunk:   0%|          | 28/90722 [42:28<1:32:12, 16.39it/s, now=None]"
     ]
    },
    {
     "name": "stdout",
     "output_type": "stream",
     "text": [
      "MoviePy - Writing audio in D:\\OneDrive - Habib University\\acedemics\\semester5\\DL\\project\\dataset\\Theory of Automata in Urdu_Audio\\lec_27.mp3\n"
     ]
    },
    {
     "name": "stderr",
     "output_type": "stream",
     "text": [
      "chunk:   0%|          | 28/90722 [44:16<1:32:12, 16.39it/s, now=None]"
     ]
    },
    {
     "name": "stdout",
     "output_type": "stream",
     "text": [
      "MoviePy - Done.\n",
      "D:\\OneDrive - Habib University\\acedemics\\semester5\\DL\\project\\dataset\\Theory of Automata in Urdu\\lec_28.mp4\n",
      "D:\\OneDrive - Habib University\\acedemics\\semester5\\DL\\project\\dataset\\Theory of Automata in Urdu_Audio\n",
      "D:\\OneDrive - Habib University\\acedemics\\semester5\\DL\\project\\dataset\\Theory of Automata in Urdu_Audio\\lec_28.mp3\n"
     ]
    },
    {
     "name": "stderr",
     "output_type": "stream",
     "text": [
      "chunk:   0%|          | 28/90722 [44:17<1:32:12, 16.39it/s, now=None]"
     ]
    },
    {
     "name": "stdout",
     "output_type": "stream",
     "text": [
      "MoviePy - Writing audio in D:\\OneDrive - Habib University\\acedemics\\semester5\\DL\\project\\dataset\\Theory of Automata in Urdu_Audio\\lec_28.mp3\n"
     ]
    },
    {
     "name": "stderr",
     "output_type": "stream",
     "text": [
      "chunk:   0%|          | 28/90722 [46:42<1:32:12, 16.39it/s, now=None]"
     ]
    },
    {
     "name": "stdout",
     "output_type": "stream",
     "text": [
      "MoviePy - Done.\n",
      "D:\\OneDrive - Habib University\\acedemics\\semester5\\DL\\project\\dataset\\Theory of Automata in Urdu\\lec_29.mp4\n",
      "D:\\OneDrive - Habib University\\acedemics\\semester5\\DL\\project\\dataset\\Theory of Automata in Urdu_Audio\n",
      "D:\\OneDrive - Habib University\\acedemics\\semester5\\DL\\project\\dataset\\Theory of Automata in Urdu_Audio\\lec_29.mp3\n"
     ]
    },
    {
     "name": "stderr",
     "output_type": "stream",
     "text": [
      "chunk:   0%|          | 28/90722 [46:44<1:32:12, 16.39it/s, now=None]"
     ]
    },
    {
     "name": "stdout",
     "output_type": "stream",
     "text": [
      "MoviePy - Writing audio in D:\\OneDrive - Habib University\\acedemics\\semester5\\DL\\project\\dataset\\Theory of Automata in Urdu_Audio\\lec_29.mp3\n"
     ]
    },
    {
     "name": "stderr",
     "output_type": "stream",
     "text": [
      "chunk:   0%|          | 28/90722 [49:15<1:32:12, 16.39it/s, now=None]"
     ]
    },
    {
     "name": "stdout",
     "output_type": "stream",
     "text": [
      "MoviePy - Done.\n",
      "D:\\OneDrive - Habib University\\acedemics\\semester5\\DL\\project\\dataset\\Theory of Automata in Urdu\\lec_30.mp4\n",
      "D:\\OneDrive - Habib University\\acedemics\\semester5\\DL\\project\\dataset\\Theory of Automata in Urdu_Audio\n",
      "D:\\OneDrive - Habib University\\acedemics\\semester5\\DL\\project\\dataset\\Theory of Automata in Urdu_Audio\\lec_30.mp3\n"
     ]
    },
    {
     "name": "stderr",
     "output_type": "stream",
     "text": [
      "chunk:   0%|          | 28/90722 [49:16<1:32:12, 16.39it/s, now=None]"
     ]
    },
    {
     "name": "stdout",
     "output_type": "stream",
     "text": [
      "MoviePy - Writing audio in D:\\OneDrive - Habib University\\acedemics\\semester5\\DL\\project\\dataset\\Theory of Automata in Urdu_Audio\\lec_30.mp3\n"
     ]
    },
    {
     "name": "stderr",
     "output_type": "stream",
     "text": [
      "chunk:   0%|          | 28/90722 [51:32<1:32:12, 16.39it/s, now=None]"
     ]
    },
    {
     "name": "stdout",
     "output_type": "stream",
     "text": [
      "MoviePy - Done.\n",
      "D:\\OneDrive - Habib University\\acedemics\\semester5\\DL\\project\\dataset\\Theory of Automata in Urdu\\lec_31.mp4\n",
      "D:\\OneDrive - Habib University\\acedemics\\semester5\\DL\\project\\dataset\\Theory of Automata in Urdu_Audio\n",
      "D:\\OneDrive - Habib University\\acedemics\\semester5\\DL\\project\\dataset\\Theory of Automata in Urdu_Audio\\lec_31.mp3\n"
     ]
    },
    {
     "name": "stderr",
     "output_type": "stream",
     "text": [
      "chunk:   0%|          | 28/90722 [51:33<1:32:12, 16.39it/s, now=None]"
     ]
    },
    {
     "name": "stdout",
     "output_type": "stream",
     "text": [
      "MoviePy - Writing audio in D:\\OneDrive - Habib University\\acedemics\\semester5\\DL\\project\\dataset\\Theory of Automata in Urdu_Audio\\lec_31.mp3\n"
     ]
    },
    {
     "name": "stderr",
     "output_type": "stream",
     "text": [
      "chunk:   0%|          | 28/90722 [53:37<1:32:12, 16.39it/s, now=None]"
     ]
    },
    {
     "name": "stdout",
     "output_type": "stream",
     "text": [
      "MoviePy - Done.\n",
      "D:\\OneDrive - Habib University\\acedemics\\semester5\\DL\\project\\dataset\\Theory of Automata in Urdu\\lec_32.mp4\n",
      "D:\\OneDrive - Habib University\\acedemics\\semester5\\DL\\project\\dataset\\Theory of Automata in Urdu_Audio\n",
      "D:\\OneDrive - Habib University\\acedemics\\semester5\\DL\\project\\dataset\\Theory of Automata in Urdu_Audio\\lec_32.mp3\n"
     ]
    },
    {
     "name": "stderr",
     "output_type": "stream",
     "text": [
      "chunk:   0%|          | 28/90722 [53:37<1:32:12, 16.39it/s, now=None]"
     ]
    },
    {
     "name": "stdout",
     "output_type": "stream",
     "text": [
      "MoviePy - Writing audio in D:\\OneDrive - Habib University\\acedemics\\semester5\\DL\\project\\dataset\\Theory of Automata in Urdu_Audio\\lec_32.mp3\n"
     ]
    },
    {
     "name": "stderr",
     "output_type": "stream",
     "text": [
      "chunk:   0%|          | 28/90722 [55:08<1:32:12, 16.39it/s, now=None]"
     ]
    },
    {
     "name": "stdout",
     "output_type": "stream",
     "text": [
      "MoviePy - Done.\n"
     ]
    }
   ],
   "source": [
    "vid_folder = r\"D:\\OneDrive - Habib University\\acedemics\\semester5\\DL\\project\\dataset\\Theory of Automata in Urdu\"\n",
    "destination_folder = r\"D:\\OneDrive - Habib University\\acedemics\\semester5\\DL\\project\\dataset\\Theory of Automata in Urdu_Audio\"\n",
    "for file in os.listdir(vid_folder):\n",
    "    vid_file = os.path.join(vid_folder,file)\n",
    "    print(vid_file)\n",
    "    print(destination_folder)\n",
    "    audio_file = os.path.join(destination_folder,file[0:6]+\".mp3\")\n",
    "    print(audio_file)\n",
    "    video2audio(vid_file,audio_file)"
   ]
  },
  {
   "cell_type": "code",
   "execution_count": null,
   "metadata": {},
   "outputs": [],
   "source": []
  }
 ],
 "metadata": {
  "kernelspec": {
   "display_name": "Python 3.9.1 64-bit",
   "language": "python",
   "name": "python3"
  },
  "language_info": {
   "codemirror_mode": {
    "name": "ipython",
    "version": 3
   },
   "file_extension": ".py",
   "mimetype": "text/x-python",
   "name": "python",
   "nbconvert_exporter": "python",
   "pygments_lexer": "ipython3",
   "version": "3.9.1"
  },
  "orig_nbformat": 3,
  "vscode": {
   "interpreter": {
    "hash": "df489fb1e130da9f6ba5d7b964fc8c0a95ac36686e5462b4af8e73863edb035e"
   }
  }
 },
 "nbformat": 4,
 "nbformat_minor": 2
}
