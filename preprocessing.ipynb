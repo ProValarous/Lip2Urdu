{
 "cells": [
  {
   "cell_type": "code",
   "execution_count": 1,
   "metadata": {},
   "outputs": [],
   "source": [
    "import os\n",
    "import cv2\n",
    "import numpy as np\n",
    "import PIL\n",
    "import matplotlib.pyplot as plt\n",
    "import datetime\n",
    "import moviepy.editor"
   ]
  },
  {
   "cell_type": "markdown",
   "metadata": {},
   "source": [
    "### Video Segmenter"
   ]
  },
  {
   "cell_type": "code",
   "execution_count": 2,
   "metadata": {},
   "outputs": [],
   "source": [
    "# frame_lst = []\n",
    "# parent_dir = \"D:/OneDrive - Habib University/acedemics/semester5/DL/project/Lip2Urdu/test_data/data/\"\n",
    "def video2frames(video_file, output_path):\n",
    "  if not os.path.exists(output_path):\n",
    "        os.makedirs(output_path)\n",
    "  # cap = cv2.VideoCapture(os.path.join(\"test_data\",\"lec_01.mp4\"))\n",
    "  cap = cv2.VideoCapture(video_file)\n",
    "  parent_dir = output_path\n",
    "  success,image = cap.read()\n",
    "  image = image[130:260,450:600]\n",
    "  count = 0\n",
    "  while success:\n",
    "    seg_dir = os.path.join(parent_dir,\"seg_%d\" %count)\n",
    "    os.mkdir(seg_dir)\n",
    "    print(seg_dir)\n",
    "    for i in range(75):\n",
    "      im = os.path.join(seg_dir,\"frame%d.jpg\" % i)\n",
    "      cv2.imwrite(im, image)         \n",
    "      success, image = cap.read()\n",
    "      if success:\n",
    "        image = image[130:260,450:600]\n",
    "      else:\n",
    "        break\n",
    "    count += 1"
   ]
  },
  {
   "cell_type": "code",
   "execution_count": 3,
   "metadata": {},
   "outputs": [],
   "source": [
    "def multiple_video2frames( video_path, output_path ):\n",
    "    list_videos = os.listdir(video_path)\n",
    "    temp = list_videos[0]\n",
    "    count = 1\n",
    "    for video in [temp]:\n",
    "        input_file = os.path.join(video_path,video)\n",
    "        #print(input_file)\n",
    "        video2frames(input_file, output_path)\n",
    "        count+=1\n",
    "    "
   ]
  },
  {
   "cell_type": "code",
   "execution_count": 4,
   "metadata": {},
   "outputs": [
    {
     "name": "stdout",
     "output_type": "stream",
     "text": [
      "D:\\OneDrive - Habib University\\acedemics\\semester5\\DL\\project\\project_files\\dataset\\Theory of Automata in Urdu\\lec_01_segmented_bruh\\seg_0\n",
      "D:\\OneDrive - Habib University\\acedemics\\semester5\\DL\\project\\project_files\\dataset\\Theory of Automata in Urdu\\lec_01_segmented_bruh\\seg_1\n",
      "D:\\OneDrive - Habib University\\acedemics\\semester5\\DL\\project\\project_files\\dataset\\Theory of Automata in Urdu\\lec_01_segmented_bruh\\seg_2\n",
      "D:\\OneDrive - Habib University\\acedemics\\semester5\\DL\\project\\project_files\\dataset\\Theory of Automata in Urdu\\lec_01_segmented_bruh\\seg_3\n",
      "D:\\OneDrive - Habib University\\acedemics\\semester5\\DL\\project\\project_files\\dataset\\Theory of Automata in Urdu\\lec_01_segmented_bruh\\seg_4\n",
      "D:\\OneDrive - Habib University\\acedemics\\semester5\\DL\\project\\project_files\\dataset\\Theory of Automata in Urdu\\lec_01_segmented_bruh\\seg_5\n",
      "D:\\OneDrive - Habib University\\acedemics\\semester5\\DL\\project\\project_files\\dataset\\Theory of Automata in Urdu\\lec_01_segmented_bruh\\seg_6\n",
      "D:\\OneDrive - Habib University\\acedemics\\semester5\\DL\\project\\project_files\\dataset\\Theory of Automata in Urdu\\lec_01_segmented_bruh\\seg_7\n",
      "D:\\OneDrive - Habib University\\acedemics\\semester5\\DL\\project\\project_files\\dataset\\Theory of Automata in Urdu\\lec_01_segmented_bruh\\seg_8\n",
      "D:\\OneDrive - Habib University\\acedemics\\semester5\\DL\\project\\project_files\\dataset\\Theory of Automata in Urdu\\lec_01_segmented_bruh\\seg_9\n",
      "D:\\OneDrive - Habib University\\acedemics\\semester5\\DL\\project\\project_files\\dataset\\Theory of Automata in Urdu\\lec_01_segmented_bruh\\seg_10\n",
      "D:\\OneDrive - Habib University\\acedemics\\semester5\\DL\\project\\project_files\\dataset\\Theory of Automata in Urdu\\lec_01_segmented_bruh\\seg_11\n",
      "D:\\OneDrive - Habib University\\acedemics\\semester5\\DL\\project\\project_files\\dataset\\Theory of Automata in Urdu\\lec_01_segmented_bruh\\seg_12\n",
      "D:\\OneDrive - Habib University\\acedemics\\semester5\\DL\\project\\project_files\\dataset\\Theory of Automata in Urdu\\lec_01_segmented_bruh\\seg_13\n",
      "D:\\OneDrive - Habib University\\acedemics\\semester5\\DL\\project\\project_files\\dataset\\Theory of Automata in Urdu\\lec_01_segmented_bruh\\seg_14\n",
      "D:\\OneDrive - Habib University\\acedemics\\semester5\\DL\\project\\project_files\\dataset\\Theory of Automata in Urdu\\lec_01_segmented_bruh\\seg_15\n",
      "D:\\OneDrive - Habib University\\acedemics\\semester5\\DL\\project\\project_files\\dataset\\Theory of Automata in Urdu\\lec_01_segmented_bruh\\seg_16\n",
      "D:\\OneDrive - Habib University\\acedemics\\semester5\\DL\\project\\project_files\\dataset\\Theory of Automata in Urdu\\lec_01_segmented_bruh\\seg_17\n",
      "D:\\OneDrive - Habib University\\acedemics\\semester5\\DL\\project\\project_files\\dataset\\Theory of Automata in Urdu\\lec_01_segmented_bruh\\seg_18\n",
      "D:\\OneDrive - Habib University\\acedemics\\semester5\\DL\\project\\project_files\\dataset\\Theory of Automata in Urdu\\lec_01_segmented_bruh\\seg_19\n",
      "D:\\OneDrive - Habib University\\acedemics\\semester5\\DL\\project\\project_files\\dataset\\Theory of Automata in Urdu\\lec_01_segmented_bruh\\seg_20\n",
      "D:\\OneDrive - Habib University\\acedemics\\semester5\\DL\\project\\project_files\\dataset\\Theory of Automata in Urdu\\lec_01_segmented_bruh\\seg_21\n",
      "D:\\OneDrive - Habib University\\acedemics\\semester5\\DL\\project\\project_files\\dataset\\Theory of Automata in Urdu\\lec_01_segmented_bruh\\seg_22\n",
      "D:\\OneDrive - Habib University\\acedemics\\semester5\\DL\\project\\project_files\\dataset\\Theory of Automata in Urdu\\lec_01_segmented_bruh\\seg_23\n",
      "D:\\OneDrive - Habib University\\acedemics\\semester5\\DL\\project\\project_files\\dataset\\Theory of Automata in Urdu\\lec_01_segmented_bruh\\seg_24\n",
      "D:\\OneDrive - Habib University\\acedemics\\semester5\\DL\\project\\project_files\\dataset\\Theory of Automata in Urdu\\lec_01_segmented_bruh\\seg_25\n",
      "D:\\OneDrive - Habib University\\acedemics\\semester5\\DL\\project\\project_files\\dataset\\Theory of Automata in Urdu\\lec_01_segmented_bruh\\seg_26\n",
      "D:\\OneDrive - Habib University\\acedemics\\semester5\\DL\\project\\project_files\\dataset\\Theory of Automata in Urdu\\lec_01_segmented_bruh\\seg_27\n",
      "D:\\OneDrive - Habib University\\acedemics\\semester5\\DL\\project\\project_files\\dataset\\Theory of Automata in Urdu\\lec_01_segmented_bruh\\seg_28\n",
      "D:\\OneDrive - Habib University\\acedemics\\semester5\\DL\\project\\project_files\\dataset\\Theory of Automata in Urdu\\lec_01_segmented_bruh\\seg_29\n",
      "D:\\OneDrive - Habib University\\acedemics\\semester5\\DL\\project\\project_files\\dataset\\Theory of Automata in Urdu\\lec_01_segmented_bruh\\seg_30\n",
      "D:\\OneDrive - Habib University\\acedemics\\semester5\\DL\\project\\project_files\\dataset\\Theory of Automata in Urdu\\lec_01_segmented_bruh\\seg_31\n",
      "D:\\OneDrive - Habib University\\acedemics\\semester5\\DL\\project\\project_files\\dataset\\Theory of Automata in Urdu\\lec_01_segmented_bruh\\seg_32\n",
      "D:\\OneDrive - Habib University\\acedemics\\semester5\\DL\\project\\project_files\\dataset\\Theory of Automata in Urdu\\lec_01_segmented_bruh\\seg_33\n",
      "D:\\OneDrive - Habib University\\acedemics\\semester5\\DL\\project\\project_files\\dataset\\Theory of Automata in Urdu\\lec_01_segmented_bruh\\seg_34\n",
      "D:\\OneDrive - Habib University\\acedemics\\semester5\\DL\\project\\project_files\\dataset\\Theory of Automata in Urdu\\lec_01_segmented_bruh\\seg_35\n",
      "D:\\OneDrive - Habib University\\acedemics\\semester5\\DL\\project\\project_files\\dataset\\Theory of Automata in Urdu\\lec_01_segmented_bruh\\seg_36\n",
      "D:\\OneDrive - Habib University\\acedemics\\semester5\\DL\\project\\project_files\\dataset\\Theory of Automata in Urdu\\lec_01_segmented_bruh\\seg_37\n",
      "D:\\OneDrive - Habib University\\acedemics\\semester5\\DL\\project\\project_files\\dataset\\Theory of Automata in Urdu\\lec_01_segmented_bruh\\seg_38\n",
      "D:\\OneDrive - Habib University\\acedemics\\semester5\\DL\\project\\project_files\\dataset\\Theory of Automata in Urdu\\lec_01_segmented_bruh\\seg_39\n",
      "D:\\OneDrive - Habib University\\acedemics\\semester5\\DL\\project\\project_files\\dataset\\Theory of Automata in Urdu\\lec_01_segmented_bruh\\seg_40\n",
      "D:\\OneDrive - Habib University\\acedemics\\semester5\\DL\\project\\project_files\\dataset\\Theory of Automata in Urdu\\lec_01_segmented_bruh\\seg_41\n",
      "D:\\OneDrive - Habib University\\acedemics\\semester5\\DL\\project\\project_files\\dataset\\Theory of Automata in Urdu\\lec_01_segmented_bruh\\seg_42\n",
      "D:\\OneDrive - Habib University\\acedemics\\semester5\\DL\\project\\project_files\\dataset\\Theory of Automata in Urdu\\lec_01_segmented_bruh\\seg_43\n",
      "D:\\OneDrive - Habib University\\acedemics\\semester5\\DL\\project\\project_files\\dataset\\Theory of Automata in Urdu\\lec_01_segmented_bruh\\seg_44\n",
      "D:\\OneDrive - Habib University\\acedemics\\semester5\\DL\\project\\project_files\\dataset\\Theory of Automata in Urdu\\lec_01_segmented_bruh\\seg_45\n",
      "D:\\OneDrive - Habib University\\acedemics\\semester5\\DL\\project\\project_files\\dataset\\Theory of Automata in Urdu\\lec_01_segmented_bruh\\seg_46\n",
      "D:\\OneDrive - Habib University\\acedemics\\semester5\\DL\\project\\project_files\\dataset\\Theory of Automata in Urdu\\lec_01_segmented_bruh\\seg_47\n",
      "D:\\OneDrive - Habib University\\acedemics\\semester5\\DL\\project\\project_files\\dataset\\Theory of Automata in Urdu\\lec_01_segmented_bruh\\seg_48\n",
      "D:\\OneDrive - Habib University\\acedemics\\semester5\\DL\\project\\project_files\\dataset\\Theory of Automata in Urdu\\lec_01_segmented_bruh\\seg_49\n",
      "D:\\OneDrive - Habib University\\acedemics\\semester5\\DL\\project\\project_files\\dataset\\Theory of Automata in Urdu\\lec_01_segmented_bruh\\seg_50\n",
      "D:\\OneDrive - Habib University\\acedemics\\semester5\\DL\\project\\project_files\\dataset\\Theory of Automata in Urdu\\lec_01_segmented_bruh\\seg_51\n",
      "D:\\OneDrive - Habib University\\acedemics\\semester5\\DL\\project\\project_files\\dataset\\Theory of Automata in Urdu\\lec_01_segmented_bruh\\seg_52\n",
      "D:\\OneDrive - Habib University\\acedemics\\semester5\\DL\\project\\project_files\\dataset\\Theory of Automata in Urdu\\lec_01_segmented_bruh\\seg_53\n",
      "D:\\OneDrive - Habib University\\acedemics\\semester5\\DL\\project\\project_files\\dataset\\Theory of Automata in Urdu\\lec_01_segmented_bruh\\seg_54\n",
      "D:\\OneDrive - Habib University\\acedemics\\semester5\\DL\\project\\project_files\\dataset\\Theory of Automata in Urdu\\lec_01_segmented_bruh\\seg_55\n",
      "D:\\OneDrive - Habib University\\acedemics\\semester5\\DL\\project\\project_files\\dataset\\Theory of Automata in Urdu\\lec_01_segmented_bruh\\seg_56\n",
      "D:\\OneDrive - Habib University\\acedemics\\semester5\\DL\\project\\project_files\\dataset\\Theory of Automata in Urdu\\lec_01_segmented_bruh\\seg_57\n",
      "D:\\OneDrive - Habib University\\acedemics\\semester5\\DL\\project\\project_files\\dataset\\Theory of Automata in Urdu\\lec_01_segmented_bruh\\seg_58\n",
      "D:\\OneDrive - Habib University\\acedemics\\semester5\\DL\\project\\project_files\\dataset\\Theory of Automata in Urdu\\lec_01_segmented_bruh\\seg_59\n",
      "D:\\OneDrive - Habib University\\acedemics\\semester5\\DL\\project\\project_files\\dataset\\Theory of Automata in Urdu\\lec_01_segmented_bruh\\seg_60\n",
      "D:\\OneDrive - Habib University\\acedemics\\semester5\\DL\\project\\project_files\\dataset\\Theory of Automata in Urdu\\lec_01_segmented_bruh\\seg_61\n",
      "D:\\OneDrive - Habib University\\acedemics\\semester5\\DL\\project\\project_files\\dataset\\Theory of Automata in Urdu\\lec_01_segmented_bruh\\seg_62\n",
      "D:\\OneDrive - Habib University\\acedemics\\semester5\\DL\\project\\project_files\\dataset\\Theory of Automata in Urdu\\lec_01_segmented_bruh\\seg_63\n",
      "D:\\OneDrive - Habib University\\acedemics\\semester5\\DL\\project\\project_files\\dataset\\Theory of Automata in Urdu\\lec_01_segmented_bruh\\seg_64\n",
      "D:\\OneDrive - Habib University\\acedemics\\semester5\\DL\\project\\project_files\\dataset\\Theory of Automata in Urdu\\lec_01_segmented_bruh\\seg_65\n",
      "D:\\OneDrive - Habib University\\acedemics\\semester5\\DL\\project\\project_files\\dataset\\Theory of Automata in Urdu\\lec_01_segmented_bruh\\seg_66\n",
      "D:\\OneDrive - Habib University\\acedemics\\semester5\\DL\\project\\project_files\\dataset\\Theory of Automata in Urdu\\lec_01_segmented_bruh\\seg_67\n",
      "D:\\OneDrive - Habib University\\acedemics\\semester5\\DL\\project\\project_files\\dataset\\Theory of Automata in Urdu\\lec_01_segmented_bruh\\seg_68\n",
      "D:\\OneDrive - Habib University\\acedemics\\semester5\\DL\\project\\project_files\\dataset\\Theory of Automata in Urdu\\lec_01_segmented_bruh\\seg_69\n",
      "D:\\OneDrive - Habib University\\acedemics\\semester5\\DL\\project\\project_files\\dataset\\Theory of Automata in Urdu\\lec_01_segmented_bruh\\seg_70\n",
      "D:\\OneDrive - Habib University\\acedemics\\semester5\\DL\\project\\project_files\\dataset\\Theory of Automata in Urdu\\lec_01_segmented_bruh\\seg_71\n",
      "D:\\OneDrive - Habib University\\acedemics\\semester5\\DL\\project\\project_files\\dataset\\Theory of Automata in Urdu\\lec_01_segmented_bruh\\seg_72\n",
      "D:\\OneDrive - Habib University\\acedemics\\semester5\\DL\\project\\project_files\\dataset\\Theory of Automata in Urdu\\lec_01_segmented_bruh\\seg_73\n",
      "D:\\OneDrive - Habib University\\acedemics\\semester5\\DL\\project\\project_files\\dataset\\Theory of Automata in Urdu\\lec_01_segmented_bruh\\seg_74\n",
      "D:\\OneDrive - Habib University\\acedemics\\semester5\\DL\\project\\project_files\\dataset\\Theory of Automata in Urdu\\lec_01_segmented_bruh\\seg_75\n",
      "D:\\OneDrive - Habib University\\acedemics\\semester5\\DL\\project\\project_files\\dataset\\Theory of Automata in Urdu\\lec_01_segmented_bruh\\seg_76\n",
      "D:\\OneDrive - Habib University\\acedemics\\semester5\\DL\\project\\project_files\\dataset\\Theory of Automata in Urdu\\lec_01_segmented_bruh\\seg_77\n",
      "D:\\OneDrive - Habib University\\acedemics\\semester5\\DL\\project\\project_files\\dataset\\Theory of Automata in Urdu\\lec_01_segmented_bruh\\seg_78\n",
      "D:\\OneDrive - Habib University\\acedemics\\semester5\\DL\\project\\project_files\\dataset\\Theory of Automata in Urdu\\lec_01_segmented_bruh\\seg_79\n",
      "D:\\OneDrive - Habib University\\acedemics\\semester5\\DL\\project\\project_files\\dataset\\Theory of Automata in Urdu\\lec_01_segmented_bruh\\seg_80\n",
      "D:\\OneDrive - Habib University\\acedemics\\semester5\\DL\\project\\project_files\\dataset\\Theory of Automata in Urdu\\lec_01_segmented_bruh\\seg_81\n",
      "D:\\OneDrive - Habib University\\acedemics\\semester5\\DL\\project\\project_files\\dataset\\Theory of Automata in Urdu\\lec_01_segmented_bruh\\seg_82\n",
      "D:\\OneDrive - Habib University\\acedemics\\semester5\\DL\\project\\project_files\\dataset\\Theory of Automata in Urdu\\lec_01_segmented_bruh\\seg_83\n",
      "D:\\OneDrive - Habib University\\acedemics\\semester5\\DL\\project\\project_files\\dataset\\Theory of Automata in Urdu\\lec_01_segmented_bruh\\seg_84\n",
      "D:\\OneDrive - Habib University\\acedemics\\semester5\\DL\\project\\project_files\\dataset\\Theory of Automata in Urdu\\lec_01_segmented_bruh\\seg_85\n",
      "D:\\OneDrive - Habib University\\acedemics\\semester5\\DL\\project\\project_files\\dataset\\Theory of Automata in Urdu\\lec_01_segmented_bruh\\seg_86\n",
      "D:\\OneDrive - Habib University\\acedemics\\semester5\\DL\\project\\project_files\\dataset\\Theory of Automata in Urdu\\lec_01_segmented_bruh\\seg_87\n",
      "D:\\OneDrive - Habib University\\acedemics\\semester5\\DL\\project\\project_files\\dataset\\Theory of Automata in Urdu\\lec_01_segmented_bruh\\seg_88\n",
      "D:\\OneDrive - Habib University\\acedemics\\semester5\\DL\\project\\project_files\\dataset\\Theory of Automata in Urdu\\lec_01_segmented_bruh\\seg_89\n",
      "D:\\OneDrive - Habib University\\acedemics\\semester5\\DL\\project\\project_files\\dataset\\Theory of Automata in Urdu\\lec_01_segmented_bruh\\seg_90\n",
      "D:\\OneDrive - Habib University\\acedemics\\semester5\\DL\\project\\project_files\\dataset\\Theory of Automata in Urdu\\lec_01_segmented_bruh\\seg_91\n",
      "D:\\OneDrive - Habib University\\acedemics\\semester5\\DL\\project\\project_files\\dataset\\Theory of Automata in Urdu\\lec_01_segmented_bruh\\seg_92\n",
      "D:\\OneDrive - Habib University\\acedemics\\semester5\\DL\\project\\project_files\\dataset\\Theory of Automata in Urdu\\lec_01_segmented_bruh\\seg_93\n",
      "D:\\OneDrive - Habib University\\acedemics\\semester5\\DL\\project\\project_files\\dataset\\Theory of Automata in Urdu\\lec_01_segmented_bruh\\seg_94\n",
      "D:\\OneDrive - Habib University\\acedemics\\semester5\\DL\\project\\project_files\\dataset\\Theory of Automata in Urdu\\lec_01_segmented_bruh\\seg_95\n",
      "D:\\OneDrive - Habib University\\acedemics\\semester5\\DL\\project\\project_files\\dataset\\Theory of Automata in Urdu\\lec_01_segmented_bruh\\seg_96\n",
      "D:\\OneDrive - Habib University\\acedemics\\semester5\\DL\\project\\project_files\\dataset\\Theory of Automata in Urdu\\lec_01_segmented_bruh\\seg_97\n",
      "D:\\OneDrive - Habib University\\acedemics\\semester5\\DL\\project\\project_files\\dataset\\Theory of Automata in Urdu\\lec_01_segmented_bruh\\seg_98\n",
      "D:\\OneDrive - Habib University\\acedemics\\semester5\\DL\\project\\project_files\\dataset\\Theory of Automata in Urdu\\lec_01_segmented_bruh\\seg_99\n",
      "D:\\OneDrive - Habib University\\acedemics\\semester5\\DL\\project\\project_files\\dataset\\Theory of Automata in Urdu\\lec_01_segmented_bruh\\seg_100\n",
      "D:\\OneDrive - Habib University\\acedemics\\semester5\\DL\\project\\project_files\\dataset\\Theory of Automata in Urdu\\lec_01_segmented_bruh\\seg_101\n",
      "D:\\OneDrive - Habib University\\acedemics\\semester5\\DL\\project\\project_files\\dataset\\Theory of Automata in Urdu\\lec_01_segmented_bruh\\seg_102\n",
      "D:\\OneDrive - Habib University\\acedemics\\semester5\\DL\\project\\project_files\\dataset\\Theory of Automata in Urdu\\lec_01_segmented_bruh\\seg_103\n",
      "D:\\OneDrive - Habib University\\acedemics\\semester5\\DL\\project\\project_files\\dataset\\Theory of Automata in Urdu\\lec_01_segmented_bruh\\seg_104\n",
      "D:\\OneDrive - Habib University\\acedemics\\semester5\\DL\\project\\project_files\\dataset\\Theory of Automata in Urdu\\lec_01_segmented_bruh\\seg_105\n",
      "D:\\OneDrive - Habib University\\acedemics\\semester5\\DL\\project\\project_files\\dataset\\Theory of Automata in Urdu\\lec_01_segmented_bruh\\seg_106\n",
      "D:\\OneDrive - Habib University\\acedemics\\semester5\\DL\\project\\project_files\\dataset\\Theory of Automata in Urdu\\lec_01_segmented_bruh\\seg_107\n",
      "D:\\OneDrive - Habib University\\acedemics\\semester5\\DL\\project\\project_files\\dataset\\Theory of Automata in Urdu\\lec_01_segmented_bruh\\seg_108\n",
      "D:\\OneDrive - Habib University\\acedemics\\semester5\\DL\\project\\project_files\\dataset\\Theory of Automata in Urdu\\lec_01_segmented_bruh\\seg_109\n",
      "D:\\OneDrive - Habib University\\acedemics\\semester5\\DL\\project\\project_files\\dataset\\Theory of Automata in Urdu\\lec_01_segmented_bruh\\seg_110\n",
      "D:\\OneDrive - Habib University\\acedemics\\semester5\\DL\\project\\project_files\\dataset\\Theory of Automata in Urdu\\lec_01_segmented_bruh\\seg_111\n",
      "D:\\OneDrive - Habib University\\acedemics\\semester5\\DL\\project\\project_files\\dataset\\Theory of Automata in Urdu\\lec_01_segmented_bruh\\seg_112\n",
      "D:\\OneDrive - Habib University\\acedemics\\semester5\\DL\\project\\project_files\\dataset\\Theory of Automata in Urdu\\lec_01_segmented_bruh\\seg_113\n",
      "D:\\OneDrive - Habib University\\acedemics\\semester5\\DL\\project\\project_files\\dataset\\Theory of Automata in Urdu\\lec_01_segmented_bruh\\seg_114\n",
      "D:\\OneDrive - Habib University\\acedemics\\semester5\\DL\\project\\project_files\\dataset\\Theory of Automata in Urdu\\lec_01_segmented_bruh\\seg_115\n",
      "D:\\OneDrive - Habib University\\acedemics\\semester5\\DL\\project\\project_files\\dataset\\Theory of Automata in Urdu\\lec_01_segmented_bruh\\seg_116\n",
      "D:\\OneDrive - Habib University\\acedemics\\semester5\\DL\\project\\project_files\\dataset\\Theory of Automata in Urdu\\lec_01_segmented_bruh\\seg_117\n",
      "D:\\OneDrive - Habib University\\acedemics\\semester5\\DL\\project\\project_files\\dataset\\Theory of Automata in Urdu\\lec_01_segmented_bruh\\seg_118\n",
      "D:\\OneDrive - Habib University\\acedemics\\semester5\\DL\\project\\project_files\\dataset\\Theory of Automata in Urdu\\lec_01_segmented_bruh\\seg_119\n",
      "D:\\OneDrive - Habib University\\acedemics\\semester5\\DL\\project\\project_files\\dataset\\Theory of Automata in Urdu\\lec_01_segmented_bruh\\seg_120\n",
      "D:\\OneDrive - Habib University\\acedemics\\semester5\\DL\\project\\project_files\\dataset\\Theory of Automata in Urdu\\lec_01_segmented_bruh\\seg_121\n",
      "D:\\OneDrive - Habib University\\acedemics\\semester5\\DL\\project\\project_files\\dataset\\Theory of Automata in Urdu\\lec_01_segmented_bruh\\seg_122\n",
      "D:\\OneDrive - Habib University\\acedemics\\semester5\\DL\\project\\project_files\\dataset\\Theory of Automata in Urdu\\lec_01_segmented_bruh\\seg_123\n",
      "D:\\OneDrive - Habib University\\acedemics\\semester5\\DL\\project\\project_files\\dataset\\Theory of Automata in Urdu\\lec_01_segmented_bruh\\seg_124\n",
      "D:\\OneDrive - Habib University\\acedemics\\semester5\\DL\\project\\project_files\\dataset\\Theory of Automata in Urdu\\lec_01_segmented_bruh\\seg_125\n",
      "D:\\OneDrive - Habib University\\acedemics\\semester5\\DL\\project\\project_files\\dataset\\Theory of Automata in Urdu\\lec_01_segmented_bruh\\seg_126\n",
      "D:\\OneDrive - Habib University\\acedemics\\semester5\\DL\\project\\project_files\\dataset\\Theory of Automata in Urdu\\lec_01_segmented_bruh\\seg_127\n",
      "D:\\OneDrive - Habib University\\acedemics\\semester5\\DL\\project\\project_files\\dataset\\Theory of Automata in Urdu\\lec_01_segmented_bruh\\seg_128\n",
      "D:\\OneDrive - Habib University\\acedemics\\semester5\\DL\\project\\project_files\\dataset\\Theory of Automata in Urdu\\lec_01_segmented_bruh\\seg_129\n",
      "D:\\OneDrive - Habib University\\acedemics\\semester5\\DL\\project\\project_files\\dataset\\Theory of Automata in Urdu\\lec_01_segmented_bruh\\seg_130\n",
      "D:\\OneDrive - Habib University\\acedemics\\semester5\\DL\\project\\project_files\\dataset\\Theory of Automata in Urdu\\lec_01_segmented_bruh\\seg_131\n",
      "D:\\OneDrive - Habib University\\acedemics\\semester5\\DL\\project\\project_files\\dataset\\Theory of Automata in Urdu\\lec_01_segmented_bruh\\seg_132\n",
      "D:\\OneDrive - Habib University\\acedemics\\semester5\\DL\\project\\project_files\\dataset\\Theory of Automata in Urdu\\lec_01_segmented_bruh\\seg_133\n",
      "D:\\OneDrive - Habib University\\acedemics\\semester5\\DL\\project\\project_files\\dataset\\Theory of Automata in Urdu\\lec_01_segmented_bruh\\seg_134\n",
      "D:\\OneDrive - Habib University\\acedemics\\semester5\\DL\\project\\project_files\\dataset\\Theory of Automata in Urdu\\lec_01_segmented_bruh\\seg_135\n",
      "D:\\OneDrive - Habib University\\acedemics\\semester5\\DL\\project\\project_files\\dataset\\Theory of Automata in Urdu\\lec_01_segmented_bruh\\seg_136\n",
      "D:\\OneDrive - Habib University\\acedemics\\semester5\\DL\\project\\project_files\\dataset\\Theory of Automata in Urdu\\lec_01_segmented_bruh\\seg_137\n",
      "D:\\OneDrive - Habib University\\acedemics\\semester5\\DL\\project\\project_files\\dataset\\Theory of Automata in Urdu\\lec_01_segmented_bruh\\seg_138\n",
      "D:\\OneDrive - Habib University\\acedemics\\semester5\\DL\\project\\project_files\\dataset\\Theory of Automata in Urdu\\lec_01_segmented_bruh\\seg_139\n",
      "D:\\OneDrive - Habib University\\acedemics\\semester5\\DL\\project\\project_files\\dataset\\Theory of Automata in Urdu\\lec_01_segmented_bruh\\seg_140\n",
      "D:\\OneDrive - Habib University\\acedemics\\semester5\\DL\\project\\project_files\\dataset\\Theory of Automata in Urdu\\lec_01_segmented_bruh\\seg_141\n",
      "D:\\OneDrive - Habib University\\acedemics\\semester5\\DL\\project\\project_files\\dataset\\Theory of Automata in Urdu\\lec_01_segmented_bruh\\seg_142\n",
      "D:\\OneDrive - Habib University\\acedemics\\semester5\\DL\\project\\project_files\\dataset\\Theory of Automata in Urdu\\lec_01_segmented_bruh\\seg_143\n",
      "D:\\OneDrive - Habib University\\acedemics\\semester5\\DL\\project\\project_files\\dataset\\Theory of Automata in Urdu\\lec_01_segmented_bruh\\seg_144\n",
      "D:\\OneDrive - Habib University\\acedemics\\semester5\\DL\\project\\project_files\\dataset\\Theory of Automata in Urdu\\lec_01_segmented_bruh\\seg_145\n",
      "D:\\OneDrive - Habib University\\acedemics\\semester5\\DL\\project\\project_files\\dataset\\Theory of Automata in Urdu\\lec_01_segmented_bruh\\seg_146\n",
      "D:\\OneDrive - Habib University\\acedemics\\semester5\\DL\\project\\project_files\\dataset\\Theory of Automata in Urdu\\lec_01_segmented_bruh\\seg_147\n",
      "D:\\OneDrive - Habib University\\acedemics\\semester5\\DL\\project\\project_files\\dataset\\Theory of Automata in Urdu\\lec_01_segmented_bruh\\seg_148\n",
      "D:\\OneDrive - Habib University\\acedemics\\semester5\\DL\\project\\project_files\\dataset\\Theory of Automata in Urdu\\lec_01_segmented_bruh\\seg_149\n",
      "D:\\OneDrive - Habib University\\acedemics\\semester5\\DL\\project\\project_files\\dataset\\Theory of Automata in Urdu\\lec_01_segmented_bruh\\seg_150\n",
      "D:\\OneDrive - Habib University\\acedemics\\semester5\\DL\\project\\project_files\\dataset\\Theory of Automata in Urdu\\lec_01_segmented_bruh\\seg_151\n",
      "D:\\OneDrive - Habib University\\acedemics\\semester5\\DL\\project\\project_files\\dataset\\Theory of Automata in Urdu\\lec_01_segmented_bruh\\seg_152\n",
      "D:\\OneDrive - Habib University\\acedemics\\semester5\\DL\\project\\project_files\\dataset\\Theory of Automata in Urdu\\lec_01_segmented_bruh\\seg_153\n",
      "D:\\OneDrive - Habib University\\acedemics\\semester5\\DL\\project\\project_files\\dataset\\Theory of Automata in Urdu\\lec_01_segmented_bruh\\seg_154\n",
      "D:\\OneDrive - Habib University\\acedemics\\semester5\\DL\\project\\project_files\\dataset\\Theory of Automata in Urdu\\lec_01_segmented_bruh\\seg_155\n",
      "D:\\OneDrive - Habib University\\acedemics\\semester5\\DL\\project\\project_files\\dataset\\Theory of Automata in Urdu\\lec_01_segmented_bruh\\seg_156\n",
      "D:\\OneDrive - Habib University\\acedemics\\semester5\\DL\\project\\project_files\\dataset\\Theory of Automata in Urdu\\lec_01_segmented_bruh\\seg_157\n",
      "D:\\OneDrive - Habib University\\acedemics\\semester5\\DL\\project\\project_files\\dataset\\Theory of Automata in Urdu\\lec_01_segmented_bruh\\seg_158\n",
      "D:\\OneDrive - Habib University\\acedemics\\semester5\\DL\\project\\project_files\\dataset\\Theory of Automata in Urdu\\lec_01_segmented_bruh\\seg_159\n",
      "D:\\OneDrive - Habib University\\acedemics\\semester5\\DL\\project\\project_files\\dataset\\Theory of Automata in Urdu\\lec_01_segmented_bruh\\seg_160\n",
      "D:\\OneDrive - Habib University\\acedemics\\semester5\\DL\\project\\project_files\\dataset\\Theory of Automata in Urdu\\lec_01_segmented_bruh\\seg_161\n",
      "D:\\OneDrive - Habib University\\acedemics\\semester5\\DL\\project\\project_files\\dataset\\Theory of Automata in Urdu\\lec_01_segmented_bruh\\seg_162\n",
      "D:\\OneDrive - Habib University\\acedemics\\semester5\\DL\\project\\project_files\\dataset\\Theory of Automata in Urdu\\lec_01_segmented_bruh\\seg_163\n",
      "D:\\OneDrive - Habib University\\acedemics\\semester5\\DL\\project\\project_files\\dataset\\Theory of Automata in Urdu\\lec_01_segmented_bruh\\seg_164\n",
      "D:\\OneDrive - Habib University\\acedemics\\semester5\\DL\\project\\project_files\\dataset\\Theory of Automata in Urdu\\lec_01_segmented_bruh\\seg_165\n",
      "D:\\OneDrive - Habib University\\acedemics\\semester5\\DL\\project\\project_files\\dataset\\Theory of Automata in Urdu\\lec_01_segmented_bruh\\seg_166\n",
      "D:\\OneDrive - Habib University\\acedemics\\semester5\\DL\\project\\project_files\\dataset\\Theory of Automata in Urdu\\lec_01_segmented_bruh\\seg_167\n",
      "D:\\OneDrive - Habib University\\acedemics\\semester5\\DL\\project\\project_files\\dataset\\Theory of Automata in Urdu\\lec_01_segmented_bruh\\seg_168\n",
      "D:\\OneDrive - Habib University\\acedemics\\semester5\\DL\\project\\project_files\\dataset\\Theory of Automata in Urdu\\lec_01_segmented_bruh\\seg_169\n",
      "D:\\OneDrive - Habib University\\acedemics\\semester5\\DL\\project\\project_files\\dataset\\Theory of Automata in Urdu\\lec_01_segmented_bruh\\seg_170\n",
      "D:\\OneDrive - Habib University\\acedemics\\semester5\\DL\\project\\project_files\\dataset\\Theory of Automata in Urdu\\lec_01_segmented_bruh\\seg_171\n",
      "D:\\OneDrive - Habib University\\acedemics\\semester5\\DL\\project\\project_files\\dataset\\Theory of Automata in Urdu\\lec_01_segmented_bruh\\seg_172\n",
      "D:\\OneDrive - Habib University\\acedemics\\semester5\\DL\\project\\project_files\\dataset\\Theory of Automata in Urdu\\lec_01_segmented_bruh\\seg_173\n",
      "D:\\OneDrive - Habib University\\acedemics\\semester5\\DL\\project\\project_files\\dataset\\Theory of Automata in Urdu\\lec_01_segmented_bruh\\seg_174\n",
      "D:\\OneDrive - Habib University\\acedemics\\semester5\\DL\\project\\project_files\\dataset\\Theory of Automata in Urdu\\lec_01_segmented_bruh\\seg_175\n",
      "D:\\OneDrive - Habib University\\acedemics\\semester5\\DL\\project\\project_files\\dataset\\Theory of Automata in Urdu\\lec_01_segmented_bruh\\seg_176\n",
      "D:\\OneDrive - Habib University\\acedemics\\semester5\\DL\\project\\project_files\\dataset\\Theory of Automata in Urdu\\lec_01_segmented_bruh\\seg_177\n",
      "D:\\OneDrive - Habib University\\acedemics\\semester5\\DL\\project\\project_files\\dataset\\Theory of Automata in Urdu\\lec_01_segmented_bruh\\seg_178\n",
      "D:\\OneDrive - Habib University\\acedemics\\semester5\\DL\\project\\project_files\\dataset\\Theory of Automata in Urdu\\lec_01_segmented_bruh\\seg_179\n",
      "D:\\OneDrive - Habib University\\acedemics\\semester5\\DL\\project\\project_files\\dataset\\Theory of Automata in Urdu\\lec_01_segmented_bruh\\seg_180\n",
      "D:\\OneDrive - Habib University\\acedemics\\semester5\\DL\\project\\project_files\\dataset\\Theory of Automata in Urdu\\lec_01_segmented_bruh\\seg_181\n",
      "D:\\OneDrive - Habib University\\acedemics\\semester5\\DL\\project\\project_files\\dataset\\Theory of Automata in Urdu\\lec_01_segmented_bruh\\seg_182\n",
      "D:\\OneDrive - Habib University\\acedemics\\semester5\\DL\\project\\project_files\\dataset\\Theory of Automata in Urdu\\lec_01_segmented_bruh\\seg_183\n",
      "D:\\OneDrive - Habib University\\acedemics\\semester5\\DL\\project\\project_files\\dataset\\Theory of Automata in Urdu\\lec_01_segmented_bruh\\seg_184\n",
      "D:\\OneDrive - Habib University\\acedemics\\semester5\\DL\\project\\project_files\\dataset\\Theory of Automata in Urdu\\lec_01_segmented_bruh\\seg_185\n",
      "D:\\OneDrive - Habib University\\acedemics\\semester5\\DL\\project\\project_files\\dataset\\Theory of Automata in Urdu\\lec_01_segmented_bruh\\seg_186\n",
      "D:\\OneDrive - Habib University\\acedemics\\semester5\\DL\\project\\project_files\\dataset\\Theory of Automata in Urdu\\lec_01_segmented_bruh\\seg_187\n",
      "D:\\OneDrive - Habib University\\acedemics\\semester5\\DL\\project\\project_files\\dataset\\Theory of Automata in Urdu\\lec_01_segmented_bruh\\seg_188\n",
      "D:\\OneDrive - Habib University\\acedemics\\semester5\\DL\\project\\project_files\\dataset\\Theory of Automata in Urdu\\lec_01_segmented_bruh\\seg_189\n",
      "D:\\OneDrive - Habib University\\acedemics\\semester5\\DL\\project\\project_files\\dataset\\Theory of Automata in Urdu\\lec_01_segmented_bruh\\seg_190\n",
      "D:\\OneDrive - Habib University\\acedemics\\semester5\\DL\\project\\project_files\\dataset\\Theory of Automata in Urdu\\lec_01_segmented_bruh\\seg_191\n",
      "D:\\OneDrive - Habib University\\acedemics\\semester5\\DL\\project\\project_files\\dataset\\Theory of Automata in Urdu\\lec_01_segmented_bruh\\seg_192\n",
      "D:\\OneDrive - Habib University\\acedemics\\semester5\\DL\\project\\project_files\\dataset\\Theory of Automata in Urdu\\lec_01_segmented_bruh\\seg_193\n",
      "D:\\OneDrive - Habib University\\acedemics\\semester5\\DL\\project\\project_files\\dataset\\Theory of Automata in Urdu\\lec_01_segmented_bruh\\seg_194\n",
      "D:\\OneDrive - Habib University\\acedemics\\semester5\\DL\\project\\project_files\\dataset\\Theory of Automata in Urdu\\lec_01_segmented_bruh\\seg_195\n",
      "D:\\OneDrive - Habib University\\acedemics\\semester5\\DL\\project\\project_files\\dataset\\Theory of Automata in Urdu\\lec_01_segmented_bruh\\seg_196\n",
      "D:\\OneDrive - Habib University\\acedemics\\semester5\\DL\\project\\project_files\\dataset\\Theory of Automata in Urdu\\lec_01_segmented_bruh\\seg_197\n",
      "D:\\OneDrive - Habib University\\acedemics\\semester5\\DL\\project\\project_files\\dataset\\Theory of Automata in Urdu\\lec_01_segmented_bruh\\seg_198\n",
      "D:\\OneDrive - Habib University\\acedemics\\semester5\\DL\\project\\project_files\\dataset\\Theory of Automata in Urdu\\lec_01_segmented_bruh\\seg_199\n",
      "D:\\OneDrive - Habib University\\acedemics\\semester5\\DL\\project\\project_files\\dataset\\Theory of Automata in Urdu\\lec_01_segmented_bruh\\seg_200\n",
      "D:\\OneDrive - Habib University\\acedemics\\semester5\\DL\\project\\project_files\\dataset\\Theory of Automata in Urdu\\lec_01_segmented_bruh\\seg_201\n",
      "D:\\OneDrive - Habib University\\acedemics\\semester5\\DL\\project\\project_files\\dataset\\Theory of Automata in Urdu\\lec_01_segmented_bruh\\seg_202\n",
      "D:\\OneDrive - Habib University\\acedemics\\semester5\\DL\\project\\project_files\\dataset\\Theory of Automata in Urdu\\lec_01_segmented_bruh\\seg_203\n",
      "D:\\OneDrive - Habib University\\acedemics\\semester5\\DL\\project\\project_files\\dataset\\Theory of Automata in Urdu\\lec_01_segmented_bruh\\seg_204\n",
      "D:\\OneDrive - Habib University\\acedemics\\semester5\\DL\\project\\project_files\\dataset\\Theory of Automata in Urdu\\lec_01_segmented_bruh\\seg_205\n",
      "D:\\OneDrive - Habib University\\acedemics\\semester5\\DL\\project\\project_files\\dataset\\Theory of Automata in Urdu\\lec_01_segmented_bruh\\seg_206\n",
      "D:\\OneDrive - Habib University\\acedemics\\semester5\\DL\\project\\project_files\\dataset\\Theory of Automata in Urdu\\lec_01_segmented_bruh\\seg_207\n",
      "D:\\OneDrive - Habib University\\acedemics\\semester5\\DL\\project\\project_files\\dataset\\Theory of Automata in Urdu\\lec_01_segmented_bruh\\seg_208\n",
      "D:\\OneDrive - Habib University\\acedemics\\semester5\\DL\\project\\project_files\\dataset\\Theory of Automata in Urdu\\lec_01_segmented_bruh\\seg_209\n",
      "D:\\OneDrive - Habib University\\acedemics\\semester5\\DL\\project\\project_files\\dataset\\Theory of Automata in Urdu\\lec_01_segmented_bruh\\seg_210\n",
      "D:\\OneDrive - Habib University\\acedemics\\semester5\\DL\\project\\project_files\\dataset\\Theory of Automata in Urdu\\lec_01_segmented_bruh\\seg_211\n",
      "D:\\OneDrive - Habib University\\acedemics\\semester5\\DL\\project\\project_files\\dataset\\Theory of Automata in Urdu\\lec_01_segmented_bruh\\seg_212\n",
      "D:\\OneDrive - Habib University\\acedemics\\semester5\\DL\\project\\project_files\\dataset\\Theory of Automata in Urdu\\lec_01_segmented_bruh\\seg_213\n",
      "D:\\OneDrive - Habib University\\acedemics\\semester5\\DL\\project\\project_files\\dataset\\Theory of Automata in Urdu\\lec_01_segmented_bruh\\seg_214\n",
      "D:\\OneDrive - Habib University\\acedemics\\semester5\\DL\\project\\project_files\\dataset\\Theory of Automata in Urdu\\lec_01_segmented_bruh\\seg_215\n",
      "D:\\OneDrive - Habib University\\acedemics\\semester5\\DL\\project\\project_files\\dataset\\Theory of Automata in Urdu\\lec_01_segmented_bruh\\seg_216\n",
      "D:\\OneDrive - Habib University\\acedemics\\semester5\\DL\\project\\project_files\\dataset\\Theory of Automata in Urdu\\lec_01_segmented_bruh\\seg_217\n",
      "D:\\OneDrive - Habib University\\acedemics\\semester5\\DL\\project\\project_files\\dataset\\Theory of Automata in Urdu\\lec_01_segmented_bruh\\seg_218\n",
      "D:\\OneDrive - Habib University\\acedemics\\semester5\\DL\\project\\project_files\\dataset\\Theory of Automata in Urdu\\lec_01_segmented_bruh\\seg_219\n",
      "D:\\OneDrive - Habib University\\acedemics\\semester5\\DL\\project\\project_files\\dataset\\Theory of Automata in Urdu\\lec_01_segmented_bruh\\seg_220\n",
      "D:\\OneDrive - Habib University\\acedemics\\semester5\\DL\\project\\project_files\\dataset\\Theory of Automata in Urdu\\lec_01_segmented_bruh\\seg_221\n",
      "D:\\OneDrive - Habib University\\acedemics\\semester5\\DL\\project\\project_files\\dataset\\Theory of Automata in Urdu\\lec_01_segmented_bruh\\seg_222\n",
      "D:\\OneDrive - Habib University\\acedemics\\semester5\\DL\\project\\project_files\\dataset\\Theory of Automata in Urdu\\lec_01_segmented_bruh\\seg_223\n",
      "D:\\OneDrive - Habib University\\acedemics\\semester5\\DL\\project\\project_files\\dataset\\Theory of Automata in Urdu\\lec_01_segmented_bruh\\seg_224\n",
      "D:\\OneDrive - Habib University\\acedemics\\semester5\\DL\\project\\project_files\\dataset\\Theory of Automata in Urdu\\lec_01_segmented_bruh\\seg_225\n",
      "D:\\OneDrive - Habib University\\acedemics\\semester5\\DL\\project\\project_files\\dataset\\Theory of Automata in Urdu\\lec_01_segmented_bruh\\seg_226\n",
      "D:\\OneDrive - Habib University\\acedemics\\semester5\\DL\\project\\project_files\\dataset\\Theory of Automata in Urdu\\lec_01_segmented_bruh\\seg_227\n",
      "D:\\OneDrive - Habib University\\acedemics\\semester5\\DL\\project\\project_files\\dataset\\Theory of Automata in Urdu\\lec_01_segmented_bruh\\seg_228\n",
      "D:\\OneDrive - Habib University\\acedemics\\semester5\\DL\\project\\project_files\\dataset\\Theory of Automata in Urdu\\lec_01_segmented_bruh\\seg_229\n",
      "D:\\OneDrive - Habib University\\acedemics\\semester5\\DL\\project\\project_files\\dataset\\Theory of Automata in Urdu\\lec_01_segmented_bruh\\seg_230\n",
      "D:\\OneDrive - Habib University\\acedemics\\semester5\\DL\\project\\project_files\\dataset\\Theory of Automata in Urdu\\lec_01_segmented_bruh\\seg_231\n",
      "D:\\OneDrive - Habib University\\acedemics\\semester5\\DL\\project\\project_files\\dataset\\Theory of Automata in Urdu\\lec_01_segmented_bruh\\seg_232\n",
      "D:\\OneDrive - Habib University\\acedemics\\semester5\\DL\\project\\project_files\\dataset\\Theory of Automata in Urdu\\lec_01_segmented_bruh\\seg_233\n",
      "D:\\OneDrive - Habib University\\acedemics\\semester5\\DL\\project\\project_files\\dataset\\Theory of Automata in Urdu\\lec_01_segmented_bruh\\seg_234\n",
      "D:\\OneDrive - Habib University\\acedemics\\semester5\\DL\\project\\project_files\\dataset\\Theory of Automata in Urdu\\lec_01_segmented_bruh\\seg_235\n",
      "D:\\OneDrive - Habib University\\acedemics\\semester5\\DL\\project\\project_files\\dataset\\Theory of Automata in Urdu\\lec_01_segmented_bruh\\seg_236\n",
      "D:\\OneDrive - Habib University\\acedemics\\semester5\\DL\\project\\project_files\\dataset\\Theory of Automata in Urdu\\lec_01_segmented_bruh\\seg_237\n",
      "D:\\OneDrive - Habib University\\acedemics\\semester5\\DL\\project\\project_files\\dataset\\Theory of Automata in Urdu\\lec_01_segmented_bruh\\seg_238\n",
      "D:\\OneDrive - Habib University\\acedemics\\semester5\\DL\\project\\project_files\\dataset\\Theory of Automata in Urdu\\lec_01_segmented_bruh\\seg_239\n",
      "D:\\OneDrive - Habib University\\acedemics\\semester5\\DL\\project\\project_files\\dataset\\Theory of Automata in Urdu\\lec_01_segmented_bruh\\seg_240\n",
      "D:\\OneDrive - Habib University\\acedemics\\semester5\\DL\\project\\project_files\\dataset\\Theory of Automata in Urdu\\lec_01_segmented_bruh\\seg_241\n",
      "D:\\OneDrive - Habib University\\acedemics\\semester5\\DL\\project\\project_files\\dataset\\Theory of Automata in Urdu\\lec_01_segmented_bruh\\seg_242\n",
      "D:\\OneDrive - Habib University\\acedemics\\semester5\\DL\\project\\project_files\\dataset\\Theory of Automata in Urdu\\lec_01_segmented_bruh\\seg_243\n",
      "D:\\OneDrive - Habib University\\acedemics\\semester5\\DL\\project\\project_files\\dataset\\Theory of Automata in Urdu\\lec_01_segmented_bruh\\seg_244\n",
      "D:\\OneDrive - Habib University\\acedemics\\semester5\\DL\\project\\project_files\\dataset\\Theory of Automata in Urdu\\lec_01_segmented_bruh\\seg_245\n",
      "D:\\OneDrive - Habib University\\acedemics\\semester5\\DL\\project\\project_files\\dataset\\Theory of Automata in Urdu\\lec_01_segmented_bruh\\seg_246\n",
      "D:\\OneDrive - Habib University\\acedemics\\semester5\\DL\\project\\project_files\\dataset\\Theory of Automata in Urdu\\lec_01_segmented_bruh\\seg_247\n",
      "D:\\OneDrive - Habib University\\acedemics\\semester5\\DL\\project\\project_files\\dataset\\Theory of Automata in Urdu\\lec_01_segmented_bruh\\seg_248\n",
      "D:\\OneDrive - Habib University\\acedemics\\semester5\\DL\\project\\project_files\\dataset\\Theory of Automata in Urdu\\lec_01_segmented_bruh\\seg_249\n",
      "D:\\OneDrive - Habib University\\acedemics\\semester5\\DL\\project\\project_files\\dataset\\Theory of Automata in Urdu\\lec_01_segmented_bruh\\seg_250\n",
      "D:\\OneDrive - Habib University\\acedemics\\semester5\\DL\\project\\project_files\\dataset\\Theory of Automata in Urdu\\lec_01_segmented_bruh\\seg_251\n",
      "D:\\OneDrive - Habib University\\acedemics\\semester5\\DL\\project\\project_files\\dataset\\Theory of Automata in Urdu\\lec_01_segmented_bruh\\seg_252\n",
      "D:\\OneDrive - Habib University\\acedemics\\semester5\\DL\\project\\project_files\\dataset\\Theory of Automata in Urdu\\lec_01_segmented_bruh\\seg_253\n",
      "D:\\OneDrive - Habib University\\acedemics\\semester5\\DL\\project\\project_files\\dataset\\Theory of Automata in Urdu\\lec_01_segmented_bruh\\seg_254\n",
      "D:\\OneDrive - Habib University\\acedemics\\semester5\\DL\\project\\project_files\\dataset\\Theory of Automata in Urdu\\lec_01_segmented_bruh\\seg_255\n",
      "D:\\OneDrive - Habib University\\acedemics\\semester5\\DL\\project\\project_files\\dataset\\Theory of Automata in Urdu\\lec_01_segmented_bruh\\seg_256\n",
      "D:\\OneDrive - Habib University\\acedemics\\semester5\\DL\\project\\project_files\\dataset\\Theory of Automata in Urdu\\lec_01_segmented_bruh\\seg_257\n",
      "D:\\OneDrive - Habib University\\acedemics\\semester5\\DL\\project\\project_files\\dataset\\Theory of Automata in Urdu\\lec_01_segmented_bruh\\seg_258\n",
      "D:\\OneDrive - Habib University\\acedemics\\semester5\\DL\\project\\project_files\\dataset\\Theory of Automata in Urdu\\lec_01_segmented_bruh\\seg_259\n",
      "D:\\OneDrive - Habib University\\acedemics\\semester5\\DL\\project\\project_files\\dataset\\Theory of Automata in Urdu\\lec_01_segmented_bruh\\seg_260\n",
      "D:\\OneDrive - Habib University\\acedemics\\semester5\\DL\\project\\project_files\\dataset\\Theory of Automata in Urdu\\lec_01_segmented_bruh\\seg_261\n",
      "D:\\OneDrive - Habib University\\acedemics\\semester5\\DL\\project\\project_files\\dataset\\Theory of Automata in Urdu\\lec_01_segmented_bruh\\seg_262\n",
      "D:\\OneDrive - Habib University\\acedemics\\semester5\\DL\\project\\project_files\\dataset\\Theory of Automata in Urdu\\lec_01_segmented_bruh\\seg_263\n",
      "D:\\OneDrive - Habib University\\acedemics\\semester5\\DL\\project\\project_files\\dataset\\Theory of Automata in Urdu\\lec_01_segmented_bruh\\seg_264\n",
      "D:\\OneDrive - Habib University\\acedemics\\semester5\\DL\\project\\project_files\\dataset\\Theory of Automata in Urdu\\lec_01_segmented_bruh\\seg_265\n",
      "D:\\OneDrive - Habib University\\acedemics\\semester5\\DL\\project\\project_files\\dataset\\Theory of Automata in Urdu\\lec_01_segmented_bruh\\seg_266\n",
      "D:\\OneDrive - Habib University\\acedemics\\semester5\\DL\\project\\project_files\\dataset\\Theory of Automata in Urdu\\lec_01_segmented_bruh\\seg_267\n",
      "D:\\OneDrive - Habib University\\acedemics\\semester5\\DL\\project\\project_files\\dataset\\Theory of Automata in Urdu\\lec_01_segmented_bruh\\seg_268\n",
      "D:\\OneDrive - Habib University\\acedemics\\semester5\\DL\\project\\project_files\\dataset\\Theory of Automata in Urdu\\lec_01_segmented_bruh\\seg_269\n",
      "D:\\OneDrive - Habib University\\acedemics\\semester5\\DL\\project\\project_files\\dataset\\Theory of Automata in Urdu\\lec_01_segmented_bruh\\seg_270\n",
      "D:\\OneDrive - Habib University\\acedemics\\semester5\\DL\\project\\project_files\\dataset\\Theory of Automata in Urdu\\lec_01_segmented_bruh\\seg_271\n",
      "D:\\OneDrive - Habib University\\acedemics\\semester5\\DL\\project\\project_files\\dataset\\Theory of Automata in Urdu\\lec_01_segmented_bruh\\seg_272\n",
      "D:\\OneDrive - Habib University\\acedemics\\semester5\\DL\\project\\project_files\\dataset\\Theory of Automata in Urdu\\lec_01_segmented_bruh\\seg_273\n",
      "D:\\OneDrive - Habib University\\acedemics\\semester5\\DL\\project\\project_files\\dataset\\Theory of Automata in Urdu\\lec_01_segmented_bruh\\seg_274\n",
      "D:\\OneDrive - Habib University\\acedemics\\semester5\\DL\\project\\project_files\\dataset\\Theory of Automata in Urdu\\lec_01_segmented_bruh\\seg_275\n",
      "D:\\OneDrive - Habib University\\acedemics\\semester5\\DL\\project\\project_files\\dataset\\Theory of Automata in Urdu\\lec_01_segmented_bruh\\seg_276\n",
      "D:\\OneDrive - Habib University\\acedemics\\semester5\\DL\\project\\project_files\\dataset\\Theory of Automata in Urdu\\lec_01_segmented_bruh\\seg_277\n",
      "D:\\OneDrive - Habib University\\acedemics\\semester5\\DL\\project\\project_files\\dataset\\Theory of Automata in Urdu\\lec_01_segmented_bruh\\seg_278\n",
      "D:\\OneDrive - Habib University\\acedemics\\semester5\\DL\\project\\project_files\\dataset\\Theory of Automata in Urdu\\lec_01_segmented_bruh\\seg_279\n",
      "D:\\OneDrive - Habib University\\acedemics\\semester5\\DL\\project\\project_files\\dataset\\Theory of Automata in Urdu\\lec_01_segmented_bruh\\seg_280\n",
      "D:\\OneDrive - Habib University\\acedemics\\semester5\\DL\\project\\project_files\\dataset\\Theory of Automata in Urdu\\lec_01_segmented_bruh\\seg_281\n",
      "D:\\OneDrive - Habib University\\acedemics\\semester5\\DL\\project\\project_files\\dataset\\Theory of Automata in Urdu\\lec_01_segmented_bruh\\seg_282\n",
      "D:\\OneDrive - Habib University\\acedemics\\semester5\\DL\\project\\project_files\\dataset\\Theory of Automata in Urdu\\lec_01_segmented_bruh\\seg_283\n",
      "D:\\OneDrive - Habib University\\acedemics\\semester5\\DL\\project\\project_files\\dataset\\Theory of Automata in Urdu\\lec_01_segmented_bruh\\seg_284\n",
      "D:\\OneDrive - Habib University\\acedemics\\semester5\\DL\\project\\project_files\\dataset\\Theory of Automata in Urdu\\lec_01_segmented_bruh\\seg_285\n",
      "D:\\OneDrive - Habib University\\acedemics\\semester5\\DL\\project\\project_files\\dataset\\Theory of Automata in Urdu\\lec_01_segmented_bruh\\seg_286\n",
      "D:\\OneDrive - Habib University\\acedemics\\semester5\\DL\\project\\project_files\\dataset\\Theory of Automata in Urdu\\lec_01_segmented_bruh\\seg_287\n",
      "D:\\OneDrive - Habib University\\acedemics\\semester5\\DL\\project\\project_files\\dataset\\Theory of Automata in Urdu\\lec_01_segmented_bruh\\seg_288\n",
      "D:\\OneDrive - Habib University\\acedemics\\semester5\\DL\\project\\project_files\\dataset\\Theory of Automata in Urdu\\lec_01_segmented_bruh\\seg_289\n",
      "D:\\OneDrive - Habib University\\acedemics\\semester5\\DL\\project\\project_files\\dataset\\Theory of Automata in Urdu\\lec_01_segmented_bruh\\seg_290\n",
      "D:\\OneDrive - Habib University\\acedemics\\semester5\\DL\\project\\project_files\\dataset\\Theory of Automata in Urdu\\lec_01_segmented_bruh\\seg_291\n",
      "D:\\OneDrive - Habib University\\acedemics\\semester5\\DL\\project\\project_files\\dataset\\Theory of Automata in Urdu\\lec_01_segmented_bruh\\seg_292\n",
      "D:\\OneDrive - Habib University\\acedemics\\semester5\\DL\\project\\project_files\\dataset\\Theory of Automata in Urdu\\lec_01_segmented_bruh\\seg_293\n",
      "D:\\OneDrive - Habib University\\acedemics\\semester5\\DL\\project\\project_files\\dataset\\Theory of Automata in Urdu\\lec_01_segmented_bruh\\seg_294\n",
      "D:\\OneDrive - Habib University\\acedemics\\semester5\\DL\\project\\project_files\\dataset\\Theory of Automata in Urdu\\lec_01_segmented_bruh\\seg_295\n",
      "D:\\OneDrive - Habib University\\acedemics\\semester5\\DL\\project\\project_files\\dataset\\Theory of Automata in Urdu\\lec_01_segmented_bruh\\seg_296\n",
      "D:\\OneDrive - Habib University\\acedemics\\semester5\\DL\\project\\project_files\\dataset\\Theory of Automata in Urdu\\lec_01_segmented_bruh\\seg_297\n",
      "D:\\OneDrive - Habib University\\acedemics\\semester5\\DL\\project\\project_files\\dataset\\Theory of Automata in Urdu\\lec_01_segmented_bruh\\seg_298\n",
      "D:\\OneDrive - Habib University\\acedemics\\semester5\\DL\\project\\project_files\\dataset\\Theory of Automata in Urdu\\lec_01_segmented_bruh\\seg_299\n",
      "D:\\OneDrive - Habib University\\acedemics\\semester5\\DL\\project\\project_files\\dataset\\Theory of Automata in Urdu\\lec_01_segmented_bruh\\seg_300\n",
      "D:\\OneDrive - Habib University\\acedemics\\semester5\\DL\\project\\project_files\\dataset\\Theory of Automata in Urdu\\lec_01_segmented_bruh\\seg_301\n",
      "D:\\OneDrive - Habib University\\acedemics\\semester5\\DL\\project\\project_files\\dataset\\Theory of Automata in Urdu\\lec_01_segmented_bruh\\seg_302\n",
      "D:\\OneDrive - Habib University\\acedemics\\semester5\\DL\\project\\project_files\\dataset\\Theory of Automata in Urdu\\lec_01_segmented_bruh\\seg_303\n",
      "D:\\OneDrive - Habib University\\acedemics\\semester5\\DL\\project\\project_files\\dataset\\Theory of Automata in Urdu\\lec_01_segmented_bruh\\seg_304\n",
      "D:\\OneDrive - Habib University\\acedemics\\semester5\\DL\\project\\project_files\\dataset\\Theory of Automata in Urdu\\lec_01_segmented_bruh\\seg_305\n",
      "D:\\OneDrive - Habib University\\acedemics\\semester5\\DL\\project\\project_files\\dataset\\Theory of Automata in Urdu\\lec_01_segmented_bruh\\seg_306\n",
      "D:\\OneDrive - Habib University\\acedemics\\semester5\\DL\\project\\project_files\\dataset\\Theory of Automata in Urdu\\lec_01_segmented_bruh\\seg_307\n",
      "D:\\OneDrive - Habib University\\acedemics\\semester5\\DL\\project\\project_files\\dataset\\Theory of Automata in Urdu\\lec_01_segmented_bruh\\seg_308\n",
      "D:\\OneDrive - Habib University\\acedemics\\semester5\\DL\\project\\project_files\\dataset\\Theory of Automata in Urdu\\lec_01_segmented_bruh\\seg_309\n",
      "D:\\OneDrive - Habib University\\acedemics\\semester5\\DL\\project\\project_files\\dataset\\Theory of Automata in Urdu\\lec_01_segmented_bruh\\seg_310\n",
      "D:\\OneDrive - Habib University\\acedemics\\semester5\\DL\\project\\project_files\\dataset\\Theory of Automata in Urdu\\lec_01_segmented_bruh\\seg_311\n",
      "D:\\OneDrive - Habib University\\acedemics\\semester5\\DL\\project\\project_files\\dataset\\Theory of Automata in Urdu\\lec_01_segmented_bruh\\seg_312\n",
      "D:\\OneDrive - Habib University\\acedemics\\semester5\\DL\\project\\project_files\\dataset\\Theory of Automata in Urdu\\lec_01_segmented_bruh\\seg_313\n",
      "D:\\OneDrive - Habib University\\acedemics\\semester5\\DL\\project\\project_files\\dataset\\Theory of Automata in Urdu\\lec_01_segmented_bruh\\seg_314\n",
      "D:\\OneDrive - Habib University\\acedemics\\semester5\\DL\\project\\project_files\\dataset\\Theory of Automata in Urdu\\lec_01_segmented_bruh\\seg_315\n",
      "D:\\OneDrive - Habib University\\acedemics\\semester5\\DL\\project\\project_files\\dataset\\Theory of Automata in Urdu\\lec_01_segmented_bruh\\seg_316\n",
      "D:\\OneDrive - Habib University\\acedemics\\semester5\\DL\\project\\project_files\\dataset\\Theory of Automata in Urdu\\lec_01_segmented_bruh\\seg_317\n",
      "D:\\OneDrive - Habib University\\acedemics\\semester5\\DL\\project\\project_files\\dataset\\Theory of Automata in Urdu\\lec_01_segmented_bruh\\seg_318\n",
      "D:\\OneDrive - Habib University\\acedemics\\semester5\\DL\\project\\project_files\\dataset\\Theory of Automata in Urdu\\lec_01_segmented_bruh\\seg_319\n",
      "D:\\OneDrive - Habib University\\acedemics\\semester5\\DL\\project\\project_files\\dataset\\Theory of Automata in Urdu\\lec_01_segmented_bruh\\seg_320\n",
      "D:\\OneDrive - Habib University\\acedemics\\semester5\\DL\\project\\project_files\\dataset\\Theory of Automata in Urdu\\lec_01_segmented_bruh\\seg_321\n",
      "D:\\OneDrive - Habib University\\acedemics\\semester5\\DL\\project\\project_files\\dataset\\Theory of Automata in Urdu\\lec_01_segmented_bruh\\seg_322\n",
      "D:\\OneDrive - Habib University\\acedemics\\semester5\\DL\\project\\project_files\\dataset\\Theory of Automata in Urdu\\lec_01_segmented_bruh\\seg_323\n",
      "D:\\OneDrive - Habib University\\acedemics\\semester5\\DL\\project\\project_files\\dataset\\Theory of Automata in Urdu\\lec_01_segmented_bruh\\seg_324\n",
      "D:\\OneDrive - Habib University\\acedemics\\semester5\\DL\\project\\project_files\\dataset\\Theory of Automata in Urdu\\lec_01_segmented_bruh\\seg_325\n",
      "D:\\OneDrive - Habib University\\acedemics\\semester5\\DL\\project\\project_files\\dataset\\Theory of Automata in Urdu\\lec_01_segmented_bruh\\seg_326\n",
      "D:\\OneDrive - Habib University\\acedemics\\semester5\\DL\\project\\project_files\\dataset\\Theory of Automata in Urdu\\lec_01_segmented_bruh\\seg_327\n",
      "D:\\OneDrive - Habib University\\acedemics\\semester5\\DL\\project\\project_files\\dataset\\Theory of Automata in Urdu\\lec_01_segmented_bruh\\seg_328\n",
      "D:\\OneDrive - Habib University\\acedemics\\semester5\\DL\\project\\project_files\\dataset\\Theory of Automata in Urdu\\lec_01_segmented_bruh\\seg_329\n",
      "D:\\OneDrive - Habib University\\acedemics\\semester5\\DL\\project\\project_files\\dataset\\Theory of Automata in Urdu\\lec_01_segmented_bruh\\seg_330\n",
      "D:\\OneDrive - Habib University\\acedemics\\semester5\\DL\\project\\project_files\\dataset\\Theory of Automata in Urdu\\lec_01_segmented_bruh\\seg_331\n",
      "D:\\OneDrive - Habib University\\acedemics\\semester5\\DL\\project\\project_files\\dataset\\Theory of Automata in Urdu\\lec_01_segmented_bruh\\seg_332\n",
      "D:\\OneDrive - Habib University\\acedemics\\semester5\\DL\\project\\project_files\\dataset\\Theory of Automata in Urdu\\lec_01_segmented_bruh\\seg_333\n",
      "D:\\OneDrive - Habib University\\acedemics\\semester5\\DL\\project\\project_files\\dataset\\Theory of Automata in Urdu\\lec_01_segmented_bruh\\seg_334\n",
      "D:\\OneDrive - Habib University\\acedemics\\semester5\\DL\\project\\project_files\\dataset\\Theory of Automata in Urdu\\lec_01_segmented_bruh\\seg_335\n",
      "D:\\OneDrive - Habib University\\acedemics\\semester5\\DL\\project\\project_files\\dataset\\Theory of Automata in Urdu\\lec_01_segmented_bruh\\seg_336\n",
      "D:\\OneDrive - Habib University\\acedemics\\semester5\\DL\\project\\project_files\\dataset\\Theory of Automata in Urdu\\lec_01_segmented_bruh\\seg_337\n",
      "D:\\OneDrive - Habib University\\acedemics\\semester5\\DL\\project\\project_files\\dataset\\Theory of Automata in Urdu\\lec_01_segmented_bruh\\seg_338\n",
      "D:\\OneDrive - Habib University\\acedemics\\semester5\\DL\\project\\project_files\\dataset\\Theory of Automata in Urdu\\lec_01_segmented_bruh\\seg_339\n",
      "D:\\OneDrive - Habib University\\acedemics\\semester5\\DL\\project\\project_files\\dataset\\Theory of Automata in Urdu\\lec_01_segmented_bruh\\seg_340\n",
      "D:\\OneDrive - Habib University\\acedemics\\semester5\\DL\\project\\project_files\\dataset\\Theory of Automata in Urdu\\lec_01_segmented_bruh\\seg_341\n",
      "D:\\OneDrive - Habib University\\acedemics\\semester5\\DL\\project\\project_files\\dataset\\Theory of Automata in Urdu\\lec_01_segmented_bruh\\seg_342\n",
      "D:\\OneDrive - Habib University\\acedemics\\semester5\\DL\\project\\project_files\\dataset\\Theory of Automata in Urdu\\lec_01_segmented_bruh\\seg_343\n",
      "D:\\OneDrive - Habib University\\acedemics\\semester5\\DL\\project\\project_files\\dataset\\Theory of Automata in Urdu\\lec_01_segmented_bruh\\seg_344\n",
      "D:\\OneDrive - Habib University\\acedemics\\semester5\\DL\\project\\project_files\\dataset\\Theory of Automata in Urdu\\lec_01_segmented_bruh\\seg_345\n",
      "D:\\OneDrive - Habib University\\acedemics\\semester5\\DL\\project\\project_files\\dataset\\Theory of Automata in Urdu\\lec_01_segmented_bruh\\seg_346\n",
      "D:\\OneDrive - Habib University\\acedemics\\semester5\\DL\\project\\project_files\\dataset\\Theory of Automata in Urdu\\lec_01_segmented_bruh\\seg_347\n",
      "D:\\OneDrive - Habib University\\acedemics\\semester5\\DL\\project\\project_files\\dataset\\Theory of Automata in Urdu\\lec_01_segmented_bruh\\seg_348\n",
      "D:\\OneDrive - Habib University\\acedemics\\semester5\\DL\\project\\project_files\\dataset\\Theory of Automata in Urdu\\lec_01_segmented_bruh\\seg_349\n",
      "D:\\OneDrive - Habib University\\acedemics\\semester5\\DL\\project\\project_files\\dataset\\Theory of Automata in Urdu\\lec_01_segmented_bruh\\seg_350\n",
      "D:\\OneDrive - Habib University\\acedemics\\semester5\\DL\\project\\project_files\\dataset\\Theory of Automata in Urdu\\lec_01_segmented_bruh\\seg_351\n",
      "D:\\OneDrive - Habib University\\acedemics\\semester5\\DL\\project\\project_files\\dataset\\Theory of Automata in Urdu\\lec_01_segmented_bruh\\seg_352\n",
      "D:\\OneDrive - Habib University\\acedemics\\semester5\\DL\\project\\project_files\\dataset\\Theory of Automata in Urdu\\lec_01_segmented_bruh\\seg_353\n",
      "D:\\OneDrive - Habib University\\acedemics\\semester5\\DL\\project\\project_files\\dataset\\Theory of Automata in Urdu\\lec_01_segmented_bruh\\seg_354\n",
      "D:\\OneDrive - Habib University\\acedemics\\semester5\\DL\\project\\project_files\\dataset\\Theory of Automata in Urdu\\lec_01_segmented_bruh\\seg_355\n",
      "D:\\OneDrive - Habib University\\acedemics\\semester5\\DL\\project\\project_files\\dataset\\Theory of Automata in Urdu\\lec_01_segmented_bruh\\seg_356\n",
      "D:\\OneDrive - Habib University\\acedemics\\semester5\\DL\\project\\project_files\\dataset\\Theory of Automata in Urdu\\lec_01_segmented_bruh\\seg_357\n",
      "D:\\OneDrive - Habib University\\acedemics\\semester5\\DL\\project\\project_files\\dataset\\Theory of Automata in Urdu\\lec_01_segmented_bruh\\seg_358\n",
      "D:\\OneDrive - Habib University\\acedemics\\semester5\\DL\\project\\project_files\\dataset\\Theory of Automata in Urdu\\lec_01_segmented_bruh\\seg_359\n",
      "D:\\OneDrive - Habib University\\acedemics\\semester5\\DL\\project\\project_files\\dataset\\Theory of Automata in Urdu\\lec_01_segmented_bruh\\seg_360\n",
      "D:\\OneDrive - Habib University\\acedemics\\semester5\\DL\\project\\project_files\\dataset\\Theory of Automata in Urdu\\lec_01_segmented_bruh\\seg_361\n",
      "D:\\OneDrive - Habib University\\acedemics\\semester5\\DL\\project\\project_files\\dataset\\Theory of Automata in Urdu\\lec_01_segmented_bruh\\seg_362\n",
      "D:\\OneDrive - Habib University\\acedemics\\semester5\\DL\\project\\project_files\\dataset\\Theory of Automata in Urdu\\lec_01_segmented_bruh\\seg_363\n",
      "D:\\OneDrive - Habib University\\acedemics\\semester5\\DL\\project\\project_files\\dataset\\Theory of Automata in Urdu\\lec_01_segmented_bruh\\seg_364\n",
      "D:\\OneDrive - Habib University\\acedemics\\semester5\\DL\\project\\project_files\\dataset\\Theory of Automata in Urdu\\lec_01_segmented_bruh\\seg_365\n",
      "D:\\OneDrive - Habib University\\acedemics\\semester5\\DL\\project\\project_files\\dataset\\Theory of Automata in Urdu\\lec_01_segmented_bruh\\seg_366\n",
      "D:\\OneDrive - Habib University\\acedemics\\semester5\\DL\\project\\project_files\\dataset\\Theory of Automata in Urdu\\lec_01_segmented_bruh\\seg_367\n",
      "D:\\OneDrive - Habib University\\acedemics\\semester5\\DL\\project\\project_files\\dataset\\Theory of Automata in Urdu\\lec_01_segmented_bruh\\seg_368\n",
      "D:\\OneDrive - Habib University\\acedemics\\semester5\\DL\\project\\project_files\\dataset\\Theory of Automata in Urdu\\lec_01_segmented_bruh\\seg_369\n",
      "D:\\OneDrive - Habib University\\acedemics\\semester5\\DL\\project\\project_files\\dataset\\Theory of Automata in Urdu\\lec_01_segmented_bruh\\seg_370\n",
      "D:\\OneDrive - Habib University\\acedemics\\semester5\\DL\\project\\project_files\\dataset\\Theory of Automata in Urdu\\lec_01_segmented_bruh\\seg_371\n",
      "D:\\OneDrive - Habib University\\acedemics\\semester5\\DL\\project\\project_files\\dataset\\Theory of Automata in Urdu\\lec_01_segmented_bruh\\seg_372\n",
      "D:\\OneDrive - Habib University\\acedemics\\semester5\\DL\\project\\project_files\\dataset\\Theory of Automata in Urdu\\lec_01_segmented_bruh\\seg_373\n",
      "D:\\OneDrive - Habib University\\acedemics\\semester5\\DL\\project\\project_files\\dataset\\Theory of Automata in Urdu\\lec_01_segmented_bruh\\seg_374\n",
      "D:\\OneDrive - Habib University\\acedemics\\semester5\\DL\\project\\project_files\\dataset\\Theory of Automata in Urdu\\lec_01_segmented_bruh\\seg_375\n",
      "D:\\OneDrive - Habib University\\acedemics\\semester5\\DL\\project\\project_files\\dataset\\Theory of Automata in Urdu\\lec_01_segmented_bruh\\seg_376\n",
      "D:\\OneDrive - Habib University\\acedemics\\semester5\\DL\\project\\project_files\\dataset\\Theory of Automata in Urdu\\lec_01_segmented_bruh\\seg_377\n",
      "D:\\OneDrive - Habib University\\acedemics\\semester5\\DL\\project\\project_files\\dataset\\Theory of Automata in Urdu\\lec_01_segmented_bruh\\seg_378\n",
      "D:\\OneDrive - Habib University\\acedemics\\semester5\\DL\\project\\project_files\\dataset\\Theory of Automata in Urdu\\lec_01_segmented_bruh\\seg_379\n",
      "D:\\OneDrive - Habib University\\acedemics\\semester5\\DL\\project\\project_files\\dataset\\Theory of Automata in Urdu\\lec_01_segmented_bruh\\seg_380\n",
      "D:\\OneDrive - Habib University\\acedemics\\semester5\\DL\\project\\project_files\\dataset\\Theory of Automata in Urdu\\lec_01_segmented_bruh\\seg_381\n",
      "D:\\OneDrive - Habib University\\acedemics\\semester5\\DL\\project\\project_files\\dataset\\Theory of Automata in Urdu\\lec_01_segmented_bruh\\seg_382\n",
      "D:\\OneDrive - Habib University\\acedemics\\semester5\\DL\\project\\project_files\\dataset\\Theory of Automata in Urdu\\lec_01_segmented_bruh\\seg_383\n",
      "D:\\OneDrive - Habib University\\acedemics\\semester5\\DL\\project\\project_files\\dataset\\Theory of Automata in Urdu\\lec_01_segmented_bruh\\seg_384\n",
      "D:\\OneDrive - Habib University\\acedemics\\semester5\\DL\\project\\project_files\\dataset\\Theory of Automata in Urdu\\lec_01_segmented_bruh\\seg_385\n",
      "D:\\OneDrive - Habib University\\acedemics\\semester5\\DL\\project\\project_files\\dataset\\Theory of Automata in Urdu\\lec_01_segmented_bruh\\seg_386\n",
      "D:\\OneDrive - Habib University\\acedemics\\semester5\\DL\\project\\project_files\\dataset\\Theory of Automata in Urdu\\lec_01_segmented_bruh\\seg_387\n",
      "D:\\OneDrive - Habib University\\acedemics\\semester5\\DL\\project\\project_files\\dataset\\Theory of Automata in Urdu\\lec_01_segmented_bruh\\seg_388\n",
      "D:\\OneDrive - Habib University\\acedemics\\semester5\\DL\\project\\project_files\\dataset\\Theory of Automata in Urdu\\lec_01_segmented_bruh\\seg_389\n",
      "D:\\OneDrive - Habib University\\acedemics\\semester5\\DL\\project\\project_files\\dataset\\Theory of Automata in Urdu\\lec_01_segmented_bruh\\seg_390\n",
      "D:\\OneDrive - Habib University\\acedemics\\semester5\\DL\\project\\project_files\\dataset\\Theory of Automata in Urdu\\lec_01_segmented_bruh\\seg_391\n",
      "D:\\OneDrive - Habib University\\acedemics\\semester5\\DL\\project\\project_files\\dataset\\Theory of Automata in Urdu\\lec_01_segmented_bruh\\seg_392\n",
      "D:\\OneDrive - Habib University\\acedemics\\semester5\\DL\\project\\project_files\\dataset\\Theory of Automata in Urdu\\lec_01_segmented_bruh\\seg_393\n",
      "D:\\OneDrive - Habib University\\acedemics\\semester5\\DL\\project\\project_files\\dataset\\Theory of Automata in Urdu\\lec_01_segmented_bruh\\seg_394\n",
      "D:\\OneDrive - Habib University\\acedemics\\semester5\\DL\\project\\project_files\\dataset\\Theory of Automata in Urdu\\lec_01_segmented_bruh\\seg_395\n",
      "D:\\OneDrive - Habib University\\acedemics\\semester5\\DL\\project\\project_files\\dataset\\Theory of Automata in Urdu\\lec_01_segmented_bruh\\seg_396\n",
      "D:\\OneDrive - Habib University\\acedemics\\semester5\\DL\\project\\project_files\\dataset\\Theory of Automata in Urdu\\lec_01_segmented_bruh\\seg_397\n",
      "D:\\OneDrive - Habib University\\acedemics\\semester5\\DL\\project\\project_files\\dataset\\Theory of Automata in Urdu\\lec_01_segmented_bruh\\seg_398\n",
      "D:\\OneDrive - Habib University\\acedemics\\semester5\\DL\\project\\project_files\\dataset\\Theory of Automata in Urdu\\lec_01_segmented_bruh\\seg_399\n",
      "D:\\OneDrive - Habib University\\acedemics\\semester5\\DL\\project\\project_files\\dataset\\Theory of Automata in Urdu\\lec_01_segmented_bruh\\seg_400\n",
      "D:\\OneDrive - Habib University\\acedemics\\semester5\\DL\\project\\project_files\\dataset\\Theory of Automata in Urdu\\lec_01_segmented_bruh\\seg_401\n",
      "D:\\OneDrive - Habib University\\acedemics\\semester5\\DL\\project\\project_files\\dataset\\Theory of Automata in Urdu\\lec_01_segmented_bruh\\seg_402\n",
      "D:\\OneDrive - Habib University\\acedemics\\semester5\\DL\\project\\project_files\\dataset\\Theory of Automata in Urdu\\lec_01_segmented_bruh\\seg_403\n",
      "D:\\OneDrive - Habib University\\acedemics\\semester5\\DL\\project\\project_files\\dataset\\Theory of Automata in Urdu\\lec_01_segmented_bruh\\seg_404\n",
      "D:\\OneDrive - Habib University\\acedemics\\semester5\\DL\\project\\project_files\\dataset\\Theory of Automata in Urdu\\lec_01_segmented_bruh\\seg_405\n",
      "D:\\OneDrive - Habib University\\acedemics\\semester5\\DL\\project\\project_files\\dataset\\Theory of Automata in Urdu\\lec_01_segmented_bruh\\seg_406\n",
      "D:\\OneDrive - Habib University\\acedemics\\semester5\\DL\\project\\project_files\\dataset\\Theory of Automata in Urdu\\lec_01_segmented_bruh\\seg_407\n",
      "D:\\OneDrive - Habib University\\acedemics\\semester5\\DL\\project\\project_files\\dataset\\Theory of Automata in Urdu\\lec_01_segmented_bruh\\seg_408\n",
      "D:\\OneDrive - Habib University\\acedemics\\semester5\\DL\\project\\project_files\\dataset\\Theory of Automata in Urdu\\lec_01_segmented_bruh\\seg_409\n",
      "D:\\OneDrive - Habib University\\acedemics\\semester5\\DL\\project\\project_files\\dataset\\Theory of Automata in Urdu\\lec_01_segmented_bruh\\seg_410\n",
      "D:\\OneDrive - Habib University\\acedemics\\semester5\\DL\\project\\project_files\\dataset\\Theory of Automata in Urdu\\lec_01_segmented_bruh\\seg_411\n",
      "D:\\OneDrive - Habib University\\acedemics\\semester5\\DL\\project\\project_files\\dataset\\Theory of Automata in Urdu\\lec_01_segmented_bruh\\seg_412\n",
      "D:\\OneDrive - Habib University\\acedemics\\semester5\\DL\\project\\project_files\\dataset\\Theory of Automata in Urdu\\lec_01_segmented_bruh\\seg_413\n",
      "D:\\OneDrive - Habib University\\acedemics\\semester5\\DL\\project\\project_files\\dataset\\Theory of Automata in Urdu\\lec_01_segmented_bruh\\seg_414\n",
      "D:\\OneDrive - Habib University\\acedemics\\semester5\\DL\\project\\project_files\\dataset\\Theory of Automata in Urdu\\lec_01_segmented_bruh\\seg_415\n",
      "D:\\OneDrive - Habib University\\acedemics\\semester5\\DL\\project\\project_files\\dataset\\Theory of Automata in Urdu\\lec_01_segmented_bruh\\seg_416\n",
      "D:\\OneDrive - Habib University\\acedemics\\semester5\\DL\\project\\project_files\\dataset\\Theory of Automata in Urdu\\lec_01_segmented_bruh\\seg_417\n",
      "D:\\OneDrive - Habib University\\acedemics\\semester5\\DL\\project\\project_files\\dataset\\Theory of Automata in Urdu\\lec_01_segmented_bruh\\seg_418\n",
      "D:\\OneDrive - Habib University\\acedemics\\semester5\\DL\\project\\project_files\\dataset\\Theory of Automata in Urdu\\lec_01_segmented_bruh\\seg_419\n",
      "D:\\OneDrive - Habib University\\acedemics\\semester5\\DL\\project\\project_files\\dataset\\Theory of Automata in Urdu\\lec_01_segmented_bruh\\seg_420\n",
      "D:\\OneDrive - Habib University\\acedemics\\semester5\\DL\\project\\project_files\\dataset\\Theory of Automata in Urdu\\lec_01_segmented_bruh\\seg_421\n",
      "D:\\OneDrive - Habib University\\acedemics\\semester5\\DL\\project\\project_files\\dataset\\Theory of Automata in Urdu\\lec_01_segmented_bruh\\seg_422\n",
      "D:\\OneDrive - Habib University\\acedemics\\semester5\\DL\\project\\project_files\\dataset\\Theory of Automata in Urdu\\lec_01_segmented_bruh\\seg_423\n",
      "D:\\OneDrive - Habib University\\acedemics\\semester5\\DL\\project\\project_files\\dataset\\Theory of Automata in Urdu\\lec_01_segmented_bruh\\seg_424\n",
      "D:\\OneDrive - Habib University\\acedemics\\semester5\\DL\\project\\project_files\\dataset\\Theory of Automata in Urdu\\lec_01_segmented_bruh\\seg_425\n",
      "D:\\OneDrive - Habib University\\acedemics\\semester5\\DL\\project\\project_files\\dataset\\Theory of Automata in Urdu\\lec_01_segmented_bruh\\seg_426\n",
      "D:\\OneDrive - Habib University\\acedemics\\semester5\\DL\\project\\project_files\\dataset\\Theory of Automata in Urdu\\lec_01_segmented_bruh\\seg_427\n",
      "D:\\OneDrive - Habib University\\acedemics\\semester5\\DL\\project\\project_files\\dataset\\Theory of Automata in Urdu\\lec_01_segmented_bruh\\seg_428\n",
      "D:\\OneDrive - Habib University\\acedemics\\semester5\\DL\\project\\project_files\\dataset\\Theory of Automata in Urdu\\lec_01_segmented_bruh\\seg_429\n",
      "D:\\OneDrive - Habib University\\acedemics\\semester5\\DL\\project\\project_files\\dataset\\Theory of Automata in Urdu\\lec_01_segmented_bruh\\seg_430\n",
      "D:\\OneDrive - Habib University\\acedemics\\semester5\\DL\\project\\project_files\\dataset\\Theory of Automata in Urdu\\lec_01_segmented_bruh\\seg_431\n",
      "D:\\OneDrive - Habib University\\acedemics\\semester5\\DL\\project\\project_files\\dataset\\Theory of Automata in Urdu\\lec_01_segmented_bruh\\seg_432\n",
      "D:\\OneDrive - Habib University\\acedemics\\semester5\\DL\\project\\project_files\\dataset\\Theory of Automata in Urdu\\lec_01_segmented_bruh\\seg_433\n",
      "D:\\OneDrive - Habib University\\acedemics\\semester5\\DL\\project\\project_files\\dataset\\Theory of Automata in Urdu\\lec_01_segmented_bruh\\seg_434\n",
      "D:\\OneDrive - Habib University\\acedemics\\semester5\\DL\\project\\project_files\\dataset\\Theory of Automata in Urdu\\lec_01_segmented_bruh\\seg_435\n",
      "D:\\OneDrive - Habib University\\acedemics\\semester5\\DL\\project\\project_files\\dataset\\Theory of Automata in Urdu\\lec_01_segmented_bruh\\seg_436\n",
      "D:\\OneDrive - Habib University\\acedemics\\semester5\\DL\\project\\project_files\\dataset\\Theory of Automata in Urdu\\lec_01_segmented_bruh\\seg_437\n",
      "D:\\OneDrive - Habib University\\acedemics\\semester5\\DL\\project\\project_files\\dataset\\Theory of Automata in Urdu\\lec_01_segmented_bruh\\seg_438\n",
      "D:\\OneDrive - Habib University\\acedemics\\semester5\\DL\\project\\project_files\\dataset\\Theory of Automata in Urdu\\lec_01_segmented_bruh\\seg_439\n",
      "D:\\OneDrive - Habib University\\acedemics\\semester5\\DL\\project\\project_files\\dataset\\Theory of Automata in Urdu\\lec_01_segmented_bruh\\seg_440\n",
      "D:\\OneDrive - Habib University\\acedemics\\semester5\\DL\\project\\project_files\\dataset\\Theory of Automata in Urdu\\lec_01_segmented_bruh\\seg_441\n",
      "D:\\OneDrive - Habib University\\acedemics\\semester5\\DL\\project\\project_files\\dataset\\Theory of Automata in Urdu\\lec_01_segmented_bruh\\seg_442\n",
      "D:\\OneDrive - Habib University\\acedemics\\semester5\\DL\\project\\project_files\\dataset\\Theory of Automata in Urdu\\lec_01_segmented_bruh\\seg_443\n",
      "D:\\OneDrive - Habib University\\acedemics\\semester5\\DL\\project\\project_files\\dataset\\Theory of Automata in Urdu\\lec_01_segmented_bruh\\seg_444\n",
      "D:\\OneDrive - Habib University\\acedemics\\semester5\\DL\\project\\project_files\\dataset\\Theory of Automata in Urdu\\lec_01_segmented_bruh\\seg_445\n",
      "D:\\OneDrive - Habib University\\acedemics\\semester5\\DL\\project\\project_files\\dataset\\Theory of Automata in Urdu\\lec_01_segmented_bruh\\seg_446\n",
      "D:\\OneDrive - Habib University\\acedemics\\semester5\\DL\\project\\project_files\\dataset\\Theory of Automata in Urdu\\lec_01_segmented_bruh\\seg_447\n",
      "D:\\OneDrive - Habib University\\acedemics\\semester5\\DL\\project\\project_files\\dataset\\Theory of Automata in Urdu\\lec_01_segmented_bruh\\seg_448\n",
      "D:\\OneDrive - Habib University\\acedemics\\semester5\\DL\\project\\project_files\\dataset\\Theory of Automata in Urdu\\lec_01_segmented_bruh\\seg_449\n",
      "D:\\OneDrive - Habib University\\acedemics\\semester5\\DL\\project\\project_files\\dataset\\Theory of Automata in Urdu\\lec_01_segmented_bruh\\seg_450\n",
      "D:\\OneDrive - Habib University\\acedemics\\semester5\\DL\\project\\project_files\\dataset\\Theory of Automata in Urdu\\lec_01_segmented_bruh\\seg_451\n",
      "D:\\OneDrive - Habib University\\acedemics\\semester5\\DL\\project\\project_files\\dataset\\Theory of Automata in Urdu\\lec_01_segmented_bruh\\seg_452\n",
      "D:\\OneDrive - Habib University\\acedemics\\semester5\\DL\\project\\project_files\\dataset\\Theory of Automata in Urdu\\lec_01_segmented_bruh\\seg_453\n",
      "D:\\OneDrive - Habib University\\acedemics\\semester5\\DL\\project\\project_files\\dataset\\Theory of Automata in Urdu\\lec_01_segmented_bruh\\seg_454\n",
      "D:\\OneDrive - Habib University\\acedemics\\semester5\\DL\\project\\project_files\\dataset\\Theory of Automata in Urdu\\lec_01_segmented_bruh\\seg_455\n",
      "D:\\OneDrive - Habib University\\acedemics\\semester5\\DL\\project\\project_files\\dataset\\Theory of Automata in Urdu\\lec_01_segmented_bruh\\seg_456\n",
      "D:\\OneDrive - Habib University\\acedemics\\semester5\\DL\\project\\project_files\\dataset\\Theory of Automata in Urdu\\lec_01_segmented_bruh\\seg_457\n",
      "D:\\OneDrive - Habib University\\acedemics\\semester5\\DL\\project\\project_files\\dataset\\Theory of Automata in Urdu\\lec_01_segmented_bruh\\seg_458\n",
      "D:\\OneDrive - Habib University\\acedemics\\semester5\\DL\\project\\project_files\\dataset\\Theory of Automata in Urdu\\lec_01_segmented_bruh\\seg_459\n",
      "D:\\OneDrive - Habib University\\acedemics\\semester5\\DL\\project\\project_files\\dataset\\Theory of Automata in Urdu\\lec_01_segmented_bruh\\seg_460\n",
      "D:\\OneDrive - Habib University\\acedemics\\semester5\\DL\\project\\project_files\\dataset\\Theory of Automata in Urdu\\lec_01_segmented_bruh\\seg_461\n",
      "D:\\OneDrive - Habib University\\acedemics\\semester5\\DL\\project\\project_files\\dataset\\Theory of Automata in Urdu\\lec_01_segmented_bruh\\seg_462\n",
      "D:\\OneDrive - Habib University\\acedemics\\semester5\\DL\\project\\project_files\\dataset\\Theory of Automata in Urdu\\lec_01_segmented_bruh\\seg_463\n",
      "D:\\OneDrive - Habib University\\acedemics\\semester5\\DL\\project\\project_files\\dataset\\Theory of Automata in Urdu\\lec_01_segmented_bruh\\seg_464\n",
      "D:\\OneDrive - Habib University\\acedemics\\semester5\\DL\\project\\project_files\\dataset\\Theory of Automata in Urdu\\lec_01_segmented_bruh\\seg_465\n",
      "D:\\OneDrive - Habib University\\acedemics\\semester5\\DL\\project\\project_files\\dataset\\Theory of Automata in Urdu\\lec_01_segmented_bruh\\seg_466\n",
      "D:\\OneDrive - Habib University\\acedemics\\semester5\\DL\\project\\project_files\\dataset\\Theory of Automata in Urdu\\lec_01_segmented_bruh\\seg_467\n",
      "D:\\OneDrive - Habib University\\acedemics\\semester5\\DL\\project\\project_files\\dataset\\Theory of Automata in Urdu\\lec_01_segmented_bruh\\seg_468\n",
      "D:\\OneDrive - Habib University\\acedemics\\semester5\\DL\\project\\project_files\\dataset\\Theory of Automata in Urdu\\lec_01_segmented_bruh\\seg_469\n",
      "D:\\OneDrive - Habib University\\acedemics\\semester5\\DL\\project\\project_files\\dataset\\Theory of Automata in Urdu\\lec_01_segmented_bruh\\seg_470\n",
      "D:\\OneDrive - Habib University\\acedemics\\semester5\\DL\\project\\project_files\\dataset\\Theory of Automata in Urdu\\lec_01_segmented_bruh\\seg_471\n",
      "D:\\OneDrive - Habib University\\acedemics\\semester5\\DL\\project\\project_files\\dataset\\Theory of Automata in Urdu\\lec_01_segmented_bruh\\seg_472\n",
      "D:\\OneDrive - Habib University\\acedemics\\semester5\\DL\\project\\project_files\\dataset\\Theory of Automata in Urdu\\lec_01_segmented_bruh\\seg_473\n",
      "D:\\OneDrive - Habib University\\acedemics\\semester5\\DL\\project\\project_files\\dataset\\Theory of Automata in Urdu\\lec_01_segmented_bruh\\seg_474\n",
      "D:\\OneDrive - Habib University\\acedemics\\semester5\\DL\\project\\project_files\\dataset\\Theory of Automata in Urdu\\lec_01_segmented_bruh\\seg_475\n",
      "D:\\OneDrive - Habib University\\acedemics\\semester5\\DL\\project\\project_files\\dataset\\Theory of Automata in Urdu\\lec_01_segmented_bruh\\seg_476\n",
      "D:\\OneDrive - Habib University\\acedemics\\semester5\\DL\\project\\project_files\\dataset\\Theory of Automata in Urdu\\lec_01_segmented_bruh\\seg_477\n",
      "D:\\OneDrive - Habib University\\acedemics\\semester5\\DL\\project\\project_files\\dataset\\Theory of Automata in Urdu\\lec_01_segmented_bruh\\seg_478\n",
      "D:\\OneDrive - Habib University\\acedemics\\semester5\\DL\\project\\project_files\\dataset\\Theory of Automata in Urdu\\lec_01_segmented_bruh\\seg_479\n",
      "D:\\OneDrive - Habib University\\acedemics\\semester5\\DL\\project\\project_files\\dataset\\Theory of Automata in Urdu\\lec_01_segmented_bruh\\seg_480\n",
      "D:\\OneDrive - Habib University\\acedemics\\semester5\\DL\\project\\project_files\\dataset\\Theory of Automata in Urdu\\lec_01_segmented_bruh\\seg_481\n",
      "D:\\OneDrive - Habib University\\acedemics\\semester5\\DL\\project\\project_files\\dataset\\Theory of Automata in Urdu\\lec_01_segmented_bruh\\seg_482\n",
      "D:\\OneDrive - Habib University\\acedemics\\semester5\\DL\\project\\project_files\\dataset\\Theory of Automata in Urdu\\lec_01_segmented_bruh\\seg_483\n",
      "D:\\OneDrive - Habib University\\acedemics\\semester5\\DL\\project\\project_files\\dataset\\Theory of Automata in Urdu\\lec_01_segmented_bruh\\seg_484\n",
      "D:\\OneDrive - Habib University\\acedemics\\semester5\\DL\\project\\project_files\\dataset\\Theory of Automata in Urdu\\lec_01_segmented_bruh\\seg_485\n",
      "D:\\OneDrive - Habib University\\acedemics\\semester5\\DL\\project\\project_files\\dataset\\Theory of Automata in Urdu\\lec_01_segmented_bruh\\seg_486\n",
      "D:\\OneDrive - Habib University\\acedemics\\semester5\\DL\\project\\project_files\\dataset\\Theory of Automata in Urdu\\lec_01_segmented_bruh\\seg_487\n",
      "D:\\OneDrive - Habib University\\acedemics\\semester5\\DL\\project\\project_files\\dataset\\Theory of Automata in Urdu\\lec_01_segmented_bruh\\seg_488\n",
      "D:\\OneDrive - Habib University\\acedemics\\semester5\\DL\\project\\project_files\\dataset\\Theory of Automata in Urdu\\lec_01_segmented_bruh\\seg_489\n",
      "D:\\OneDrive - Habib University\\acedemics\\semester5\\DL\\project\\project_files\\dataset\\Theory of Automata in Urdu\\lec_01_segmented_bruh\\seg_490\n",
      "D:\\OneDrive - Habib University\\acedemics\\semester5\\DL\\project\\project_files\\dataset\\Theory of Automata in Urdu\\lec_01_segmented_bruh\\seg_491\n",
      "D:\\OneDrive - Habib University\\acedemics\\semester5\\DL\\project\\project_files\\dataset\\Theory of Automata in Urdu\\lec_01_segmented_bruh\\seg_492\n",
      "D:\\OneDrive - Habib University\\acedemics\\semester5\\DL\\project\\project_files\\dataset\\Theory of Automata in Urdu\\lec_01_segmented_bruh\\seg_493\n",
      "D:\\OneDrive - Habib University\\acedemics\\semester5\\DL\\project\\project_files\\dataset\\Theory of Automata in Urdu\\lec_01_segmented_bruh\\seg_494\n",
      "D:\\OneDrive - Habib University\\acedemics\\semester5\\DL\\project\\project_files\\dataset\\Theory of Automata in Urdu\\lec_01_segmented_bruh\\seg_495\n",
      "D:\\OneDrive - Habib University\\acedemics\\semester5\\DL\\project\\project_files\\dataset\\Theory of Automata in Urdu\\lec_01_segmented_bruh\\seg_496\n",
      "D:\\OneDrive - Habib University\\acedemics\\semester5\\DL\\project\\project_files\\dataset\\Theory of Automata in Urdu\\lec_01_segmented_bruh\\seg_497\n",
      "D:\\OneDrive - Habib University\\acedemics\\semester5\\DL\\project\\project_files\\dataset\\Theory of Automata in Urdu\\lec_01_segmented_bruh\\seg_498\n",
      "D:\\OneDrive - Habib University\\acedemics\\semester5\\DL\\project\\project_files\\dataset\\Theory of Automata in Urdu\\lec_01_segmented_bruh\\seg_499\n",
      "D:\\OneDrive - Habib University\\acedemics\\semester5\\DL\\project\\project_files\\dataset\\Theory of Automata in Urdu\\lec_01_segmented_bruh\\seg_500\n",
      "D:\\OneDrive - Habib University\\acedemics\\semester5\\DL\\project\\project_files\\dataset\\Theory of Automata in Urdu\\lec_01_segmented_bruh\\seg_501\n",
      "D:\\OneDrive - Habib University\\acedemics\\semester5\\DL\\project\\project_files\\dataset\\Theory of Automata in Urdu\\lec_01_segmented_bruh\\seg_502\n",
      "D:\\OneDrive - Habib University\\acedemics\\semester5\\DL\\project\\project_files\\dataset\\Theory of Automata in Urdu\\lec_01_segmented_bruh\\seg_503\n",
      "D:\\OneDrive - Habib University\\acedemics\\semester5\\DL\\project\\project_files\\dataset\\Theory of Automata in Urdu\\lec_01_segmented_bruh\\seg_504\n",
      "D:\\OneDrive - Habib University\\acedemics\\semester5\\DL\\project\\project_files\\dataset\\Theory of Automata in Urdu\\lec_01_segmented_bruh\\seg_505\n",
      "D:\\OneDrive - Habib University\\acedemics\\semester5\\DL\\project\\project_files\\dataset\\Theory of Automata in Urdu\\lec_01_segmented_bruh\\seg_506\n",
      "D:\\OneDrive - Habib University\\acedemics\\semester5\\DL\\project\\project_files\\dataset\\Theory of Automata in Urdu\\lec_01_segmented_bruh\\seg_507\n",
      "D:\\OneDrive - Habib University\\acedemics\\semester5\\DL\\project\\project_files\\dataset\\Theory of Automata in Urdu\\lec_01_segmented_bruh\\seg_508\n",
      "D:\\OneDrive - Habib University\\acedemics\\semester5\\DL\\project\\project_files\\dataset\\Theory of Automata in Urdu\\lec_01_segmented_bruh\\seg_509\n",
      "D:\\OneDrive - Habib University\\acedemics\\semester5\\DL\\project\\project_files\\dataset\\Theory of Automata in Urdu\\lec_01_segmented_bruh\\seg_510\n",
      "D:\\OneDrive - Habib University\\acedemics\\semester5\\DL\\project\\project_files\\dataset\\Theory of Automata in Urdu\\lec_01_segmented_bruh\\seg_511\n",
      "D:\\OneDrive - Habib University\\acedemics\\semester5\\DL\\project\\project_files\\dataset\\Theory of Automata in Urdu\\lec_01_segmented_bruh\\seg_512\n",
      "D:\\OneDrive - Habib University\\acedemics\\semester5\\DL\\project\\project_files\\dataset\\Theory of Automata in Urdu\\lec_01_segmented_bruh\\seg_513\n",
      "D:\\OneDrive - Habib University\\acedemics\\semester5\\DL\\project\\project_files\\dataset\\Theory of Automata in Urdu\\lec_01_segmented_bruh\\seg_514\n",
      "D:\\OneDrive - Habib University\\acedemics\\semester5\\DL\\project\\project_files\\dataset\\Theory of Automata in Urdu\\lec_01_segmented_bruh\\seg_515\n",
      "D:\\OneDrive - Habib University\\acedemics\\semester5\\DL\\project\\project_files\\dataset\\Theory of Automata in Urdu\\lec_01_segmented_bruh\\seg_516\n",
      "D:\\OneDrive - Habib University\\acedemics\\semester5\\DL\\project\\project_files\\dataset\\Theory of Automata in Urdu\\lec_01_segmented_bruh\\seg_517\n",
      "D:\\OneDrive - Habib University\\acedemics\\semester5\\DL\\project\\project_files\\dataset\\Theory of Automata in Urdu\\lec_01_segmented_bruh\\seg_518\n",
      "D:\\OneDrive - Habib University\\acedemics\\semester5\\DL\\project\\project_files\\dataset\\Theory of Automata in Urdu\\lec_01_segmented_bruh\\seg_519\n",
      "D:\\OneDrive - Habib University\\acedemics\\semester5\\DL\\project\\project_files\\dataset\\Theory of Automata in Urdu\\lec_01_segmented_bruh\\seg_520\n",
      "D:\\OneDrive - Habib University\\acedemics\\semester5\\DL\\project\\project_files\\dataset\\Theory of Automata in Urdu\\lec_01_segmented_bruh\\seg_521\n",
      "D:\\OneDrive - Habib University\\acedemics\\semester5\\DL\\project\\project_files\\dataset\\Theory of Automata in Urdu\\lec_01_segmented_bruh\\seg_522\n",
      "D:\\OneDrive - Habib University\\acedemics\\semester5\\DL\\project\\project_files\\dataset\\Theory of Automata in Urdu\\lec_01_segmented_bruh\\seg_523\n",
      "D:\\OneDrive - Habib University\\acedemics\\semester5\\DL\\project\\project_files\\dataset\\Theory of Automata in Urdu\\lec_01_segmented_bruh\\seg_524\n",
      "D:\\OneDrive - Habib University\\acedemics\\semester5\\DL\\project\\project_files\\dataset\\Theory of Automata in Urdu\\lec_01_segmented_bruh\\seg_525\n",
      "D:\\OneDrive - Habib University\\acedemics\\semester5\\DL\\project\\project_files\\dataset\\Theory of Automata in Urdu\\lec_01_segmented_bruh\\seg_526\n",
      "D:\\OneDrive - Habib University\\acedemics\\semester5\\DL\\project\\project_files\\dataset\\Theory of Automata in Urdu\\lec_01_segmented_bruh\\seg_527\n",
      "D:\\OneDrive - Habib University\\acedemics\\semester5\\DL\\project\\project_files\\dataset\\Theory of Automata in Urdu\\lec_01_segmented_bruh\\seg_528\n",
      "D:\\OneDrive - Habib University\\acedemics\\semester5\\DL\\project\\project_files\\dataset\\Theory of Automata in Urdu\\lec_01_segmented_bruh\\seg_529\n",
      "D:\\OneDrive - Habib University\\acedemics\\semester5\\DL\\project\\project_files\\dataset\\Theory of Automata in Urdu\\lec_01_segmented_bruh\\seg_530\n",
      "D:\\OneDrive - Habib University\\acedemics\\semester5\\DL\\project\\project_files\\dataset\\Theory of Automata in Urdu\\lec_01_segmented_bruh\\seg_531\n",
      "D:\\OneDrive - Habib University\\acedemics\\semester5\\DL\\project\\project_files\\dataset\\Theory of Automata in Urdu\\lec_01_segmented_bruh\\seg_532\n",
      "D:\\OneDrive - Habib University\\acedemics\\semester5\\DL\\project\\project_files\\dataset\\Theory of Automata in Urdu\\lec_01_segmented_bruh\\seg_533\n",
      "D:\\OneDrive - Habib University\\acedemics\\semester5\\DL\\project\\project_files\\dataset\\Theory of Automata in Urdu\\lec_01_segmented_bruh\\seg_534\n",
      "D:\\OneDrive - Habib University\\acedemics\\semester5\\DL\\project\\project_files\\dataset\\Theory of Automata in Urdu\\lec_01_segmented_bruh\\seg_535\n",
      "D:\\OneDrive - Habib University\\acedemics\\semester5\\DL\\project\\project_files\\dataset\\Theory of Automata in Urdu\\lec_01_segmented_bruh\\seg_536\n",
      "D:\\OneDrive - Habib University\\acedemics\\semester5\\DL\\project\\project_files\\dataset\\Theory of Automata in Urdu\\lec_01_segmented_bruh\\seg_537\n",
      "D:\\OneDrive - Habib University\\acedemics\\semester5\\DL\\project\\project_files\\dataset\\Theory of Automata in Urdu\\lec_01_segmented_bruh\\seg_538\n",
      "D:\\OneDrive - Habib University\\acedemics\\semester5\\DL\\project\\project_files\\dataset\\Theory of Automata in Urdu\\lec_01_segmented_bruh\\seg_539\n",
      "D:\\OneDrive - Habib University\\acedemics\\semester5\\DL\\project\\project_files\\dataset\\Theory of Automata in Urdu\\lec_01_segmented_bruh\\seg_540\n",
      "D:\\OneDrive - Habib University\\acedemics\\semester5\\DL\\project\\project_files\\dataset\\Theory of Automata in Urdu\\lec_01_segmented_bruh\\seg_541\n",
      "D:\\OneDrive - Habib University\\acedemics\\semester5\\DL\\project\\project_files\\dataset\\Theory of Automata in Urdu\\lec_01_segmented_bruh\\seg_542\n",
      "D:\\OneDrive - Habib University\\acedemics\\semester5\\DL\\project\\project_files\\dataset\\Theory of Automata in Urdu\\lec_01_segmented_bruh\\seg_543\n",
      "D:\\OneDrive - Habib University\\acedemics\\semester5\\DL\\project\\project_files\\dataset\\Theory of Automata in Urdu\\lec_01_segmented_bruh\\seg_544\n",
      "D:\\OneDrive - Habib University\\acedemics\\semester5\\DL\\project\\project_files\\dataset\\Theory of Automata in Urdu\\lec_01_segmented_bruh\\seg_545\n",
      "D:\\OneDrive - Habib University\\acedemics\\semester5\\DL\\project\\project_files\\dataset\\Theory of Automata in Urdu\\lec_01_segmented_bruh\\seg_546\n",
      "D:\\OneDrive - Habib University\\acedemics\\semester5\\DL\\project\\project_files\\dataset\\Theory of Automata in Urdu\\lec_01_segmented_bruh\\seg_547\n",
      "D:\\OneDrive - Habib University\\acedemics\\semester5\\DL\\project\\project_files\\dataset\\Theory of Automata in Urdu\\lec_01_segmented_bruh\\seg_548\n",
      "D:\\OneDrive - Habib University\\acedemics\\semester5\\DL\\project\\project_files\\dataset\\Theory of Automata in Urdu\\lec_01_segmented_bruh\\seg_549\n",
      "D:\\OneDrive - Habib University\\acedemics\\semester5\\DL\\project\\project_files\\dataset\\Theory of Automata in Urdu\\lec_01_segmented_bruh\\seg_550\n",
      "D:\\OneDrive - Habib University\\acedemics\\semester5\\DL\\project\\project_files\\dataset\\Theory of Automata in Urdu\\lec_01_segmented_bruh\\seg_551\n",
      "D:\\OneDrive - Habib University\\acedemics\\semester5\\DL\\project\\project_files\\dataset\\Theory of Automata in Urdu\\lec_01_segmented_bruh\\seg_552\n",
      "D:\\OneDrive - Habib University\\acedemics\\semester5\\DL\\project\\project_files\\dataset\\Theory of Automata in Urdu\\lec_01_segmented_bruh\\seg_553\n",
      "D:\\OneDrive - Habib University\\acedemics\\semester5\\DL\\project\\project_files\\dataset\\Theory of Automata in Urdu\\lec_01_segmented_bruh\\seg_554\n",
      "D:\\OneDrive - Habib University\\acedemics\\semester5\\DL\\project\\project_files\\dataset\\Theory of Automata in Urdu\\lec_01_segmented_bruh\\seg_555\n",
      "D:\\OneDrive - Habib University\\acedemics\\semester5\\DL\\project\\project_files\\dataset\\Theory of Automata in Urdu\\lec_01_segmented_bruh\\seg_556\n",
      "D:\\OneDrive - Habib University\\acedemics\\semester5\\DL\\project\\project_files\\dataset\\Theory of Automata in Urdu\\lec_01_segmented_bruh\\seg_557\n",
      "D:\\OneDrive - Habib University\\acedemics\\semester5\\DL\\project\\project_files\\dataset\\Theory of Automata in Urdu\\lec_01_segmented_bruh\\seg_558\n",
      "D:\\OneDrive - Habib University\\acedemics\\semester5\\DL\\project\\project_files\\dataset\\Theory of Automata in Urdu\\lec_01_segmented_bruh\\seg_559\n",
      "D:\\OneDrive - Habib University\\acedemics\\semester5\\DL\\project\\project_files\\dataset\\Theory of Automata in Urdu\\lec_01_segmented_bruh\\seg_560\n",
      "D:\\OneDrive - Habib University\\acedemics\\semester5\\DL\\project\\project_files\\dataset\\Theory of Automata in Urdu\\lec_01_segmented_bruh\\seg_561\n",
      "D:\\OneDrive - Habib University\\acedemics\\semester5\\DL\\project\\project_files\\dataset\\Theory of Automata in Urdu\\lec_01_segmented_bruh\\seg_562\n",
      "D:\\OneDrive - Habib University\\acedemics\\semester5\\DL\\project\\project_files\\dataset\\Theory of Automata in Urdu\\lec_01_segmented_bruh\\seg_563\n",
      "D:\\OneDrive - Habib University\\acedemics\\semester5\\DL\\project\\project_files\\dataset\\Theory of Automata in Urdu\\lec_01_segmented_bruh\\seg_564\n",
      "D:\\OneDrive - Habib University\\acedemics\\semester5\\DL\\project\\project_files\\dataset\\Theory of Automata in Urdu\\lec_01_segmented_bruh\\seg_565\n",
      "D:\\OneDrive - Habib University\\acedemics\\semester5\\DL\\project\\project_files\\dataset\\Theory of Automata in Urdu\\lec_01_segmented_bruh\\seg_566\n",
      "D:\\OneDrive - Habib University\\acedemics\\semester5\\DL\\project\\project_files\\dataset\\Theory of Automata in Urdu\\lec_01_segmented_bruh\\seg_567\n",
      "D:\\OneDrive - Habib University\\acedemics\\semester5\\DL\\project\\project_files\\dataset\\Theory of Automata in Urdu\\lec_01_segmented_bruh\\seg_568\n",
      "D:\\OneDrive - Habib University\\acedemics\\semester5\\DL\\project\\project_files\\dataset\\Theory of Automata in Urdu\\lec_01_segmented_bruh\\seg_569\n",
      "D:\\OneDrive - Habib University\\acedemics\\semester5\\DL\\project\\project_files\\dataset\\Theory of Automata in Urdu\\lec_01_segmented_bruh\\seg_570\n",
      "D:\\OneDrive - Habib University\\acedemics\\semester5\\DL\\project\\project_files\\dataset\\Theory of Automata in Urdu\\lec_01_segmented_bruh\\seg_571\n",
      "D:\\OneDrive - Habib University\\acedemics\\semester5\\DL\\project\\project_files\\dataset\\Theory of Automata in Urdu\\lec_01_segmented_bruh\\seg_572\n",
      "D:\\OneDrive - Habib University\\acedemics\\semester5\\DL\\project\\project_files\\dataset\\Theory of Automata in Urdu\\lec_01_segmented_bruh\\seg_573\n",
      "D:\\OneDrive - Habib University\\acedemics\\semester5\\DL\\project\\project_files\\dataset\\Theory of Automata in Urdu\\lec_01_segmented_bruh\\seg_574\n",
      "D:\\OneDrive - Habib University\\acedemics\\semester5\\DL\\project\\project_files\\dataset\\Theory of Automata in Urdu\\lec_01_segmented_bruh\\seg_575\n",
      "D:\\OneDrive - Habib University\\acedemics\\semester5\\DL\\project\\project_files\\dataset\\Theory of Automata in Urdu\\lec_01_segmented_bruh\\seg_576\n",
      "D:\\OneDrive - Habib University\\acedemics\\semester5\\DL\\project\\project_files\\dataset\\Theory of Automata in Urdu\\lec_01_segmented_bruh\\seg_577\n",
      "D:\\OneDrive - Habib University\\acedemics\\semester5\\DL\\project\\project_files\\dataset\\Theory of Automata in Urdu\\lec_01_segmented_bruh\\seg_578\n",
      "D:\\OneDrive - Habib University\\acedemics\\semester5\\DL\\project\\project_files\\dataset\\Theory of Automata in Urdu\\lec_01_segmented_bruh\\seg_579\n",
      "D:\\OneDrive - Habib University\\acedemics\\semester5\\DL\\project\\project_files\\dataset\\Theory of Automata in Urdu\\lec_01_segmented_bruh\\seg_580\n",
      "D:\\OneDrive - Habib University\\acedemics\\semester5\\DL\\project\\project_files\\dataset\\Theory of Automata in Urdu\\lec_01_segmented_bruh\\seg_581\n",
      "D:\\OneDrive - Habib University\\acedemics\\semester5\\DL\\project\\project_files\\dataset\\Theory of Automata in Urdu\\lec_01_segmented_bruh\\seg_582\n",
      "D:\\OneDrive - Habib University\\acedemics\\semester5\\DL\\project\\project_files\\dataset\\Theory of Automata in Urdu\\lec_01_segmented_bruh\\seg_583\n",
      "D:\\OneDrive - Habib University\\acedemics\\semester5\\DL\\project\\project_files\\dataset\\Theory of Automata in Urdu\\lec_01_segmented_bruh\\seg_584\n",
      "D:\\OneDrive - Habib University\\acedemics\\semester5\\DL\\project\\project_files\\dataset\\Theory of Automata in Urdu\\lec_01_segmented_bruh\\seg_585\n",
      "D:\\OneDrive - Habib University\\acedemics\\semester5\\DL\\project\\project_files\\dataset\\Theory of Automata in Urdu\\lec_01_segmented_bruh\\seg_586\n",
      "D:\\OneDrive - Habib University\\acedemics\\semester5\\DL\\project\\project_files\\dataset\\Theory of Automata in Urdu\\lec_01_segmented_bruh\\seg_587\n",
      "D:\\OneDrive - Habib University\\acedemics\\semester5\\DL\\project\\project_files\\dataset\\Theory of Automata in Urdu\\lec_01_segmented_bruh\\seg_588\n",
      "D:\\OneDrive - Habib University\\acedemics\\semester5\\DL\\project\\project_files\\dataset\\Theory of Automata in Urdu\\lec_01_segmented_bruh\\seg_589\n",
      "D:\\OneDrive - Habib University\\acedemics\\semester5\\DL\\project\\project_files\\dataset\\Theory of Automata in Urdu\\lec_01_segmented_bruh\\seg_590\n",
      "D:\\OneDrive - Habib University\\acedemics\\semester5\\DL\\project\\project_files\\dataset\\Theory of Automata in Urdu\\lec_01_segmented_bruh\\seg_591\n",
      "D:\\OneDrive - Habib University\\acedemics\\semester5\\DL\\project\\project_files\\dataset\\Theory of Automata in Urdu\\lec_01_segmented_bruh\\seg_592\n",
      "D:\\OneDrive - Habib University\\acedemics\\semester5\\DL\\project\\project_files\\dataset\\Theory of Automata in Urdu\\lec_01_segmented_bruh\\seg_593\n",
      "D:\\OneDrive - Habib University\\acedemics\\semester5\\DL\\project\\project_files\\dataset\\Theory of Automata in Urdu\\lec_01_segmented_bruh\\seg_594\n",
      "D:\\OneDrive - Habib University\\acedemics\\semester5\\DL\\project\\project_files\\dataset\\Theory of Automata in Urdu\\lec_01_segmented_bruh\\seg_595\n",
      "D:\\OneDrive - Habib University\\acedemics\\semester5\\DL\\project\\project_files\\dataset\\Theory of Automata in Urdu\\lec_01_segmented_bruh\\seg_596\n",
      "D:\\OneDrive - Habib University\\acedemics\\semester5\\DL\\project\\project_files\\dataset\\Theory of Automata in Urdu\\lec_01_segmented_bruh\\seg_597\n",
      "D:\\OneDrive - Habib University\\acedemics\\semester5\\DL\\project\\project_files\\dataset\\Theory of Automata in Urdu\\lec_01_segmented_bruh\\seg_598\n",
      "D:\\OneDrive - Habib University\\acedemics\\semester5\\DL\\project\\project_files\\dataset\\Theory of Automata in Urdu\\lec_01_segmented_bruh\\seg_599\n",
      "D:\\OneDrive - Habib University\\acedemics\\semester5\\DL\\project\\project_files\\dataset\\Theory of Automata in Urdu\\lec_01_segmented_bruh\\seg_600\n",
      "D:\\OneDrive - Habib University\\acedemics\\semester5\\DL\\project\\project_files\\dataset\\Theory of Automata in Urdu\\lec_01_segmented_bruh\\seg_601\n",
      "D:\\OneDrive - Habib University\\acedemics\\semester5\\DL\\project\\project_files\\dataset\\Theory of Automata in Urdu\\lec_01_segmented_bruh\\seg_602\n",
      "D:\\OneDrive - Habib University\\acedemics\\semester5\\DL\\project\\project_files\\dataset\\Theory of Automata in Urdu\\lec_01_segmented_bruh\\seg_603\n",
      "D:\\OneDrive - Habib University\\acedemics\\semester5\\DL\\project\\project_files\\dataset\\Theory of Automata in Urdu\\lec_01_segmented_bruh\\seg_604\n",
      "D:\\OneDrive - Habib University\\acedemics\\semester5\\DL\\project\\project_files\\dataset\\Theory of Automata in Urdu\\lec_01_segmented_bruh\\seg_605\n",
      "D:\\OneDrive - Habib University\\acedemics\\semester5\\DL\\project\\project_files\\dataset\\Theory of Automata in Urdu\\lec_01_segmented_bruh\\seg_606\n",
      "D:\\OneDrive - Habib University\\acedemics\\semester5\\DL\\project\\project_files\\dataset\\Theory of Automata in Urdu\\lec_01_segmented_bruh\\seg_607\n",
      "D:\\OneDrive - Habib University\\acedemics\\semester5\\DL\\project\\project_files\\dataset\\Theory of Automata in Urdu\\lec_01_segmented_bruh\\seg_608\n",
      "D:\\OneDrive - Habib University\\acedemics\\semester5\\DL\\project\\project_files\\dataset\\Theory of Automata in Urdu\\lec_01_segmented_bruh\\seg_609\n",
      "D:\\OneDrive - Habib University\\acedemics\\semester5\\DL\\project\\project_files\\dataset\\Theory of Automata in Urdu\\lec_01_segmented_bruh\\seg_610\n",
      "D:\\OneDrive - Habib University\\acedemics\\semester5\\DL\\project\\project_files\\dataset\\Theory of Automata in Urdu\\lec_01_segmented_bruh\\seg_611\n",
      "D:\\OneDrive - Habib University\\acedemics\\semester5\\DL\\project\\project_files\\dataset\\Theory of Automata in Urdu\\lec_01_segmented_bruh\\seg_612\n",
      "D:\\OneDrive - Habib University\\acedemics\\semester5\\DL\\project\\project_files\\dataset\\Theory of Automata in Urdu\\lec_01_segmented_bruh\\seg_613\n",
      "D:\\OneDrive - Habib University\\acedemics\\semester5\\DL\\project\\project_files\\dataset\\Theory of Automata in Urdu\\lec_01_segmented_bruh\\seg_614\n",
      "D:\\OneDrive - Habib University\\acedemics\\semester5\\DL\\project\\project_files\\dataset\\Theory of Automata in Urdu\\lec_01_segmented_bruh\\seg_615\n",
      "D:\\OneDrive - Habib University\\acedemics\\semester5\\DL\\project\\project_files\\dataset\\Theory of Automata in Urdu\\lec_01_segmented_bruh\\seg_616\n",
      "D:\\OneDrive - Habib University\\acedemics\\semester5\\DL\\project\\project_files\\dataset\\Theory of Automata in Urdu\\lec_01_segmented_bruh\\seg_617\n",
      "D:\\OneDrive - Habib University\\acedemics\\semester5\\DL\\project\\project_files\\dataset\\Theory of Automata in Urdu\\lec_01_segmented_bruh\\seg_618\n",
      "D:\\OneDrive - Habib University\\acedemics\\semester5\\DL\\project\\project_files\\dataset\\Theory of Automata in Urdu\\lec_01_segmented_bruh\\seg_619\n",
      "D:\\OneDrive - Habib University\\acedemics\\semester5\\DL\\project\\project_files\\dataset\\Theory of Automata in Urdu\\lec_01_segmented_bruh\\seg_620\n",
      "D:\\OneDrive - Habib University\\acedemics\\semester5\\DL\\project\\project_files\\dataset\\Theory of Automata in Urdu\\lec_01_segmented_bruh\\seg_621\n",
      "D:\\OneDrive - Habib University\\acedemics\\semester5\\DL\\project\\project_files\\dataset\\Theory of Automata in Urdu\\lec_01_segmented_bruh\\seg_622\n",
      "D:\\OneDrive - Habib University\\acedemics\\semester5\\DL\\project\\project_files\\dataset\\Theory of Automata in Urdu\\lec_01_segmented_bruh\\seg_623\n",
      "D:\\OneDrive - Habib University\\acedemics\\semester5\\DL\\project\\project_files\\dataset\\Theory of Automata in Urdu\\lec_01_segmented_bruh\\seg_624\n",
      "D:\\OneDrive - Habib University\\acedemics\\semester5\\DL\\project\\project_files\\dataset\\Theory of Automata in Urdu\\lec_01_segmented_bruh\\seg_625\n",
      "D:\\OneDrive - Habib University\\acedemics\\semester5\\DL\\project\\project_files\\dataset\\Theory of Automata in Urdu\\lec_01_segmented_bruh\\seg_626\n",
      "D:\\OneDrive - Habib University\\acedemics\\semester5\\DL\\project\\project_files\\dataset\\Theory of Automata in Urdu\\lec_01_segmented_bruh\\seg_627\n",
      "D:\\OneDrive - Habib University\\acedemics\\semester5\\DL\\project\\project_files\\dataset\\Theory of Automata in Urdu\\lec_01_segmented_bruh\\seg_628\n",
      "D:\\OneDrive - Habib University\\acedemics\\semester5\\DL\\project\\project_files\\dataset\\Theory of Automata in Urdu\\lec_01_segmented_bruh\\seg_629\n",
      "D:\\OneDrive - Habib University\\acedemics\\semester5\\DL\\project\\project_files\\dataset\\Theory of Automata in Urdu\\lec_01_segmented_bruh\\seg_630\n",
      "D:\\OneDrive - Habib University\\acedemics\\semester5\\DL\\project\\project_files\\dataset\\Theory of Automata in Urdu\\lec_01_segmented_bruh\\seg_631\n",
      "D:\\OneDrive - Habib University\\acedemics\\semester5\\DL\\project\\project_files\\dataset\\Theory of Automata in Urdu\\lec_01_segmented_bruh\\seg_632\n",
      "D:\\OneDrive - Habib University\\acedemics\\semester5\\DL\\project\\project_files\\dataset\\Theory of Automata in Urdu\\lec_01_segmented_bruh\\seg_633\n",
      "D:\\OneDrive - Habib University\\acedemics\\semester5\\DL\\project\\project_files\\dataset\\Theory of Automata in Urdu\\lec_01_segmented_bruh\\seg_634\n",
      "D:\\OneDrive - Habib University\\acedemics\\semester5\\DL\\project\\project_files\\dataset\\Theory of Automata in Urdu\\lec_01_segmented_bruh\\seg_635\n",
      "D:\\OneDrive - Habib University\\acedemics\\semester5\\DL\\project\\project_files\\dataset\\Theory of Automata in Urdu\\lec_01_segmented_bruh\\seg_636\n",
      "D:\\OneDrive - Habib University\\acedemics\\semester5\\DL\\project\\project_files\\dataset\\Theory of Automata in Urdu\\lec_01_segmented_bruh\\seg_637\n",
      "D:\\OneDrive - Habib University\\acedemics\\semester5\\DL\\project\\project_files\\dataset\\Theory of Automata in Urdu\\lec_01_segmented_bruh\\seg_638\n",
      "D:\\OneDrive - Habib University\\acedemics\\semester5\\DL\\project\\project_files\\dataset\\Theory of Automata in Urdu\\lec_01_segmented_bruh\\seg_639\n",
      "D:\\OneDrive - Habib University\\acedemics\\semester5\\DL\\project\\project_files\\dataset\\Theory of Automata in Urdu\\lec_01_segmented_bruh\\seg_640\n",
      "D:\\OneDrive - Habib University\\acedemics\\semester5\\DL\\project\\project_files\\dataset\\Theory of Automata in Urdu\\lec_01_segmented_bruh\\seg_641\n",
      "D:\\OneDrive - Habib University\\acedemics\\semester5\\DL\\project\\project_files\\dataset\\Theory of Automata in Urdu\\lec_01_segmented_bruh\\seg_642\n",
      "D:\\OneDrive - Habib University\\acedemics\\semester5\\DL\\project\\project_files\\dataset\\Theory of Automata in Urdu\\lec_01_segmented_bruh\\seg_643\n",
      "D:\\OneDrive - Habib University\\acedemics\\semester5\\DL\\project\\project_files\\dataset\\Theory of Automata in Urdu\\lec_01_segmented_bruh\\seg_644\n",
      "D:\\OneDrive - Habib University\\acedemics\\semester5\\DL\\project\\project_files\\dataset\\Theory of Automata in Urdu\\lec_01_segmented_bruh\\seg_645\n",
      "D:\\OneDrive - Habib University\\acedemics\\semester5\\DL\\project\\project_files\\dataset\\Theory of Automata in Urdu\\lec_01_segmented_bruh\\seg_646\n",
      "D:\\OneDrive - Habib University\\acedemics\\semester5\\DL\\project\\project_files\\dataset\\Theory of Automata in Urdu\\lec_01_segmented_bruh\\seg_647\n",
      "D:\\OneDrive - Habib University\\acedemics\\semester5\\DL\\project\\project_files\\dataset\\Theory of Automata in Urdu\\lec_01_segmented_bruh\\seg_648\n",
      "D:\\OneDrive - Habib University\\acedemics\\semester5\\DL\\project\\project_files\\dataset\\Theory of Automata in Urdu\\lec_01_segmented_bruh\\seg_649\n",
      "D:\\OneDrive - Habib University\\acedemics\\semester5\\DL\\project\\project_files\\dataset\\Theory of Automata in Urdu\\lec_01_segmented_bruh\\seg_650\n",
      "D:\\OneDrive - Habib University\\acedemics\\semester5\\DL\\project\\project_files\\dataset\\Theory of Automata in Urdu\\lec_01_segmented_bruh\\seg_651\n",
      "D:\\OneDrive - Habib University\\acedemics\\semester5\\DL\\project\\project_files\\dataset\\Theory of Automata in Urdu\\lec_01_segmented_bruh\\seg_652\n",
      "D:\\OneDrive - Habib University\\acedemics\\semester5\\DL\\project\\project_files\\dataset\\Theory of Automata in Urdu\\lec_01_segmented_bruh\\seg_653\n",
      "D:\\OneDrive - Habib University\\acedemics\\semester5\\DL\\project\\project_files\\dataset\\Theory of Automata in Urdu\\lec_01_segmented_bruh\\seg_654\n",
      "D:\\OneDrive - Habib University\\acedemics\\semester5\\DL\\project\\project_files\\dataset\\Theory of Automata in Urdu\\lec_01_segmented_bruh\\seg_655\n",
      "D:\\OneDrive - Habib University\\acedemics\\semester5\\DL\\project\\project_files\\dataset\\Theory of Automata in Urdu\\lec_01_segmented_bruh\\seg_656\n",
      "D:\\OneDrive - Habib University\\acedemics\\semester5\\DL\\project\\project_files\\dataset\\Theory of Automata in Urdu\\lec_01_segmented_bruh\\seg_657\n",
      "D:\\OneDrive - Habib University\\acedemics\\semester5\\DL\\project\\project_files\\dataset\\Theory of Automata in Urdu\\lec_01_segmented_bruh\\seg_658\n",
      "D:\\OneDrive - Habib University\\acedemics\\semester5\\DL\\project\\project_files\\dataset\\Theory of Automata in Urdu\\lec_01_segmented_bruh\\seg_659\n",
      "D:\\OneDrive - Habib University\\acedemics\\semester5\\DL\\project\\project_files\\dataset\\Theory of Automata in Urdu\\lec_01_segmented_bruh\\seg_660\n",
      "D:\\OneDrive - Habib University\\acedemics\\semester5\\DL\\project\\project_files\\dataset\\Theory of Automata in Urdu\\lec_01_segmented_bruh\\seg_661\n",
      "D:\\OneDrive - Habib University\\acedemics\\semester5\\DL\\project\\project_files\\dataset\\Theory of Automata in Urdu\\lec_01_segmented_bruh\\seg_662\n",
      "D:\\OneDrive - Habib University\\acedemics\\semester5\\DL\\project\\project_files\\dataset\\Theory of Automata in Urdu\\lec_01_segmented_bruh\\seg_663\n",
      "D:\\OneDrive - Habib University\\acedemics\\semester5\\DL\\project\\project_files\\dataset\\Theory of Automata in Urdu\\lec_01_segmented_bruh\\seg_664\n",
      "D:\\OneDrive - Habib University\\acedemics\\semester5\\DL\\project\\project_files\\dataset\\Theory of Automata in Urdu\\lec_01_segmented_bruh\\seg_665\n",
      "D:\\OneDrive - Habib University\\acedemics\\semester5\\DL\\project\\project_files\\dataset\\Theory of Automata in Urdu\\lec_01_segmented_bruh\\seg_666\n",
      "D:\\OneDrive - Habib University\\acedemics\\semester5\\DL\\project\\project_files\\dataset\\Theory of Automata in Urdu\\lec_01_segmented_bruh\\seg_667\n",
      "D:\\OneDrive - Habib University\\acedemics\\semester5\\DL\\project\\project_files\\dataset\\Theory of Automata in Urdu\\lec_01_segmented_bruh\\seg_668\n",
      "D:\\OneDrive - Habib University\\acedemics\\semester5\\DL\\project\\project_files\\dataset\\Theory of Automata in Urdu\\lec_01_segmented_bruh\\seg_669\n",
      "D:\\OneDrive - Habib University\\acedemics\\semester5\\DL\\project\\project_files\\dataset\\Theory of Automata in Urdu\\lec_01_segmented_bruh\\seg_670\n",
      "D:\\OneDrive - Habib University\\acedemics\\semester5\\DL\\project\\project_files\\dataset\\Theory of Automata in Urdu\\lec_01_segmented_bruh\\seg_671\n",
      "D:\\OneDrive - Habib University\\acedemics\\semester5\\DL\\project\\project_files\\dataset\\Theory of Automata in Urdu\\lec_01_segmented_bruh\\seg_672\n",
      "D:\\OneDrive - Habib University\\acedemics\\semester5\\DL\\project\\project_files\\dataset\\Theory of Automata in Urdu\\lec_01_segmented_bruh\\seg_673\n",
      "D:\\OneDrive - Habib University\\acedemics\\semester5\\DL\\project\\project_files\\dataset\\Theory of Automata in Urdu\\lec_01_segmented_bruh\\seg_674\n",
      "D:\\OneDrive - Habib University\\acedemics\\semester5\\DL\\project\\project_files\\dataset\\Theory of Automata in Urdu\\lec_01_segmented_bruh\\seg_675\n",
      "D:\\OneDrive - Habib University\\acedemics\\semester5\\DL\\project\\project_files\\dataset\\Theory of Automata in Urdu\\lec_01_segmented_bruh\\seg_676\n",
      "D:\\OneDrive - Habib University\\acedemics\\semester5\\DL\\project\\project_files\\dataset\\Theory of Automata in Urdu\\lec_01_segmented_bruh\\seg_677\n",
      "D:\\OneDrive - Habib University\\acedemics\\semester5\\DL\\project\\project_files\\dataset\\Theory of Automata in Urdu\\lec_01_segmented_bruh\\seg_678\n",
      "D:\\OneDrive - Habib University\\acedemics\\semester5\\DL\\project\\project_files\\dataset\\Theory of Automata in Urdu\\lec_01_segmented_bruh\\seg_679\n",
      "D:\\OneDrive - Habib University\\acedemics\\semester5\\DL\\project\\project_files\\dataset\\Theory of Automata in Urdu\\lec_01_segmented_bruh\\seg_680\n",
      "D:\\OneDrive - Habib University\\acedemics\\semester5\\DL\\project\\project_files\\dataset\\Theory of Automata in Urdu\\lec_01_segmented_bruh\\seg_681\n",
      "D:\\OneDrive - Habib University\\acedemics\\semester5\\DL\\project\\project_files\\dataset\\Theory of Automata in Urdu\\lec_01_segmented_bruh\\seg_682\n",
      "D:\\OneDrive - Habib University\\acedemics\\semester5\\DL\\project\\project_files\\dataset\\Theory of Automata in Urdu\\lec_01_segmented_bruh\\seg_683\n",
      "D:\\OneDrive - Habib University\\acedemics\\semester5\\DL\\project\\project_files\\dataset\\Theory of Automata in Urdu\\lec_01_segmented_bruh\\seg_684\n",
      "D:\\OneDrive - Habib University\\acedemics\\semester5\\DL\\project\\project_files\\dataset\\Theory of Automata in Urdu\\lec_01_segmented_bruh\\seg_685\n",
      "D:\\OneDrive - Habib University\\acedemics\\semester5\\DL\\project\\project_files\\dataset\\Theory of Automata in Urdu\\lec_01_segmented_bruh\\seg_686\n",
      "D:\\OneDrive - Habib University\\acedemics\\semester5\\DL\\project\\project_files\\dataset\\Theory of Automata in Urdu\\lec_01_segmented_bruh\\seg_687\n",
      "D:\\OneDrive - Habib University\\acedemics\\semester5\\DL\\project\\project_files\\dataset\\Theory of Automata in Urdu\\lec_01_segmented_bruh\\seg_688\n",
      "D:\\OneDrive - Habib University\\acedemics\\semester5\\DL\\project\\project_files\\dataset\\Theory of Automata in Urdu\\lec_01_segmented_bruh\\seg_689\n",
      "D:\\OneDrive - Habib University\\acedemics\\semester5\\DL\\project\\project_files\\dataset\\Theory of Automata in Urdu\\lec_01_segmented_bruh\\seg_690\n",
      "D:\\OneDrive - Habib University\\acedemics\\semester5\\DL\\project\\project_files\\dataset\\Theory of Automata in Urdu\\lec_01_segmented_bruh\\seg_691\n",
      "D:\\OneDrive - Habib University\\acedemics\\semester5\\DL\\project\\project_files\\dataset\\Theory of Automata in Urdu\\lec_01_segmented_bruh\\seg_692\n",
      "D:\\OneDrive - Habib University\\acedemics\\semester5\\DL\\project\\project_files\\dataset\\Theory of Automata in Urdu\\lec_01_segmented_bruh\\seg_693\n",
      "D:\\OneDrive - Habib University\\acedemics\\semester5\\DL\\project\\project_files\\dataset\\Theory of Automata in Urdu\\lec_01_segmented_bruh\\seg_694\n",
      "D:\\OneDrive - Habib University\\acedemics\\semester5\\DL\\project\\project_files\\dataset\\Theory of Automata in Urdu\\lec_01_segmented_bruh\\seg_695\n",
      "D:\\OneDrive - Habib University\\acedemics\\semester5\\DL\\project\\project_files\\dataset\\Theory of Automata in Urdu\\lec_01_segmented_bruh\\seg_696\n",
      "D:\\OneDrive - Habib University\\acedemics\\semester5\\DL\\project\\project_files\\dataset\\Theory of Automata in Urdu\\lec_01_segmented_bruh\\seg_697\n",
      "D:\\OneDrive - Habib University\\acedemics\\semester5\\DL\\project\\project_files\\dataset\\Theory of Automata in Urdu\\lec_01_segmented_bruh\\seg_698\n",
      "D:\\OneDrive - Habib University\\acedemics\\semester5\\DL\\project\\project_files\\dataset\\Theory of Automata in Urdu\\lec_01_segmented_bruh\\seg_699\n",
      "D:\\OneDrive - Habib University\\acedemics\\semester5\\DL\\project\\project_files\\dataset\\Theory of Automata in Urdu\\lec_01_segmented_bruh\\seg_700\n",
      "D:\\OneDrive - Habib University\\acedemics\\semester5\\DL\\project\\project_files\\dataset\\Theory of Automata in Urdu\\lec_01_segmented_bruh\\seg_701\n",
      "D:\\OneDrive - Habib University\\acedemics\\semester5\\DL\\project\\project_files\\dataset\\Theory of Automata in Urdu\\lec_01_segmented_bruh\\seg_702\n",
      "D:\\OneDrive - Habib University\\acedemics\\semester5\\DL\\project\\project_files\\dataset\\Theory of Automata in Urdu\\lec_01_segmented_bruh\\seg_703\n",
      "D:\\OneDrive - Habib University\\acedemics\\semester5\\DL\\project\\project_files\\dataset\\Theory of Automata in Urdu\\lec_01_segmented_bruh\\seg_704\n",
      "D:\\OneDrive - Habib University\\acedemics\\semester5\\DL\\project\\project_files\\dataset\\Theory of Automata in Urdu\\lec_01_segmented_bruh\\seg_705\n",
      "D:\\OneDrive - Habib University\\acedemics\\semester5\\DL\\project\\project_files\\dataset\\Theory of Automata in Urdu\\lec_01_segmented_bruh\\seg_706\n",
      "D:\\OneDrive - Habib University\\acedemics\\semester5\\DL\\project\\project_files\\dataset\\Theory of Automata in Urdu\\lec_01_segmented_bruh\\seg_707\n",
      "D:\\OneDrive - Habib University\\acedemics\\semester5\\DL\\project\\project_files\\dataset\\Theory of Automata in Urdu\\lec_01_segmented_bruh\\seg_708\n",
      "D:\\OneDrive - Habib University\\acedemics\\semester5\\DL\\project\\project_files\\dataset\\Theory of Automata in Urdu\\lec_01_segmented_bruh\\seg_709\n",
      "D:\\OneDrive - Habib University\\acedemics\\semester5\\DL\\project\\project_files\\dataset\\Theory of Automata in Urdu\\lec_01_segmented_bruh\\seg_710\n",
      "D:\\OneDrive - Habib University\\acedemics\\semester5\\DL\\project\\project_files\\dataset\\Theory of Automata in Urdu\\lec_01_segmented_bruh\\seg_711\n",
      "D:\\OneDrive - Habib University\\acedemics\\semester5\\DL\\project\\project_files\\dataset\\Theory of Automata in Urdu\\lec_01_segmented_bruh\\seg_712\n",
      "D:\\OneDrive - Habib University\\acedemics\\semester5\\DL\\project\\project_files\\dataset\\Theory of Automata in Urdu\\lec_01_segmented_bruh\\seg_713\n",
      "D:\\OneDrive - Habib University\\acedemics\\semester5\\DL\\project\\project_files\\dataset\\Theory of Automata in Urdu\\lec_01_segmented_bruh\\seg_714\n",
      "D:\\OneDrive - Habib University\\acedemics\\semester5\\DL\\project\\project_files\\dataset\\Theory of Automata in Urdu\\lec_01_segmented_bruh\\seg_715\n",
      "D:\\OneDrive - Habib University\\acedemics\\semester5\\DL\\project\\project_files\\dataset\\Theory of Automata in Urdu\\lec_01_segmented_bruh\\seg_716\n",
      "D:\\OneDrive - Habib University\\acedemics\\semester5\\DL\\project\\project_files\\dataset\\Theory of Automata in Urdu\\lec_01_segmented_bruh\\seg_717\n",
      "D:\\OneDrive - Habib University\\acedemics\\semester5\\DL\\project\\project_files\\dataset\\Theory of Automata in Urdu\\lec_01_segmented_bruh\\seg_718\n",
      "D:\\OneDrive - Habib University\\acedemics\\semester5\\DL\\project\\project_files\\dataset\\Theory of Automata in Urdu\\lec_01_segmented_bruh\\seg_719\n",
      "D:\\OneDrive - Habib University\\acedemics\\semester5\\DL\\project\\project_files\\dataset\\Theory of Automata in Urdu\\lec_01_segmented_bruh\\seg_720\n",
      "D:\\OneDrive - Habib University\\acedemics\\semester5\\DL\\project\\project_files\\dataset\\Theory of Automata in Urdu\\lec_01_segmented_bruh\\seg_721\n",
      "D:\\OneDrive - Habib University\\acedemics\\semester5\\DL\\project\\project_files\\dataset\\Theory of Automata in Urdu\\lec_01_segmented_bruh\\seg_722\n",
      "D:\\OneDrive - Habib University\\acedemics\\semester5\\DL\\project\\project_files\\dataset\\Theory of Automata in Urdu\\lec_01_segmented_bruh\\seg_723\n",
      "D:\\OneDrive - Habib University\\acedemics\\semester5\\DL\\project\\project_files\\dataset\\Theory of Automata in Urdu\\lec_01_segmented_bruh\\seg_724\n",
      "D:\\OneDrive - Habib University\\acedemics\\semester5\\DL\\project\\project_files\\dataset\\Theory of Automata in Urdu\\lec_01_segmented_bruh\\seg_725\n",
      "D:\\OneDrive - Habib University\\acedemics\\semester5\\DL\\project\\project_files\\dataset\\Theory of Automata in Urdu\\lec_01_segmented_bruh\\seg_726\n",
      "D:\\OneDrive - Habib University\\acedemics\\semester5\\DL\\project\\project_files\\dataset\\Theory of Automata in Urdu\\lec_01_segmented_bruh\\seg_727\n",
      "D:\\OneDrive - Habib University\\acedemics\\semester5\\DL\\project\\project_files\\dataset\\Theory of Automata in Urdu\\lec_01_segmented_bruh\\seg_728\n",
      "D:\\OneDrive - Habib University\\acedemics\\semester5\\DL\\project\\project_files\\dataset\\Theory of Automata in Urdu\\lec_01_segmented_bruh\\seg_729\n",
      "D:\\OneDrive - Habib University\\acedemics\\semester5\\DL\\project\\project_files\\dataset\\Theory of Automata in Urdu\\lec_01_segmented_bruh\\seg_730\n",
      "D:\\OneDrive - Habib University\\acedemics\\semester5\\DL\\project\\project_files\\dataset\\Theory of Automata in Urdu\\lec_01_segmented_bruh\\seg_731\n",
      "D:\\OneDrive - Habib University\\acedemics\\semester5\\DL\\project\\project_files\\dataset\\Theory of Automata in Urdu\\lec_01_segmented_bruh\\seg_732\n",
      "D:\\OneDrive - Habib University\\acedemics\\semester5\\DL\\project\\project_files\\dataset\\Theory of Automata in Urdu\\lec_01_segmented_bruh\\seg_733\n",
      "D:\\OneDrive - Habib University\\acedemics\\semester5\\DL\\project\\project_files\\dataset\\Theory of Automata in Urdu\\lec_01_segmented_bruh\\seg_734\n",
      "D:\\OneDrive - Habib University\\acedemics\\semester5\\DL\\project\\project_files\\dataset\\Theory of Automata in Urdu\\lec_01_segmented_bruh\\seg_735\n",
      "D:\\OneDrive - Habib University\\acedemics\\semester5\\DL\\project\\project_files\\dataset\\Theory of Automata in Urdu\\lec_01_segmented_bruh\\seg_736\n",
      "D:\\OneDrive - Habib University\\acedemics\\semester5\\DL\\project\\project_files\\dataset\\Theory of Automata in Urdu\\lec_01_segmented_bruh\\seg_737\n",
      "D:\\OneDrive - Habib University\\acedemics\\semester5\\DL\\project\\project_files\\dataset\\Theory of Automata in Urdu\\lec_01_segmented_bruh\\seg_738\n",
      "D:\\OneDrive - Habib University\\acedemics\\semester5\\DL\\project\\project_files\\dataset\\Theory of Automata in Urdu\\lec_01_segmented_bruh\\seg_739\n",
      "D:\\OneDrive - Habib University\\acedemics\\semester5\\DL\\project\\project_files\\dataset\\Theory of Automata in Urdu\\lec_01_segmented_bruh\\seg_740\n",
      "D:\\OneDrive - Habib University\\acedemics\\semester5\\DL\\project\\project_files\\dataset\\Theory of Automata in Urdu\\lec_01_segmented_bruh\\seg_741\n",
      "D:\\OneDrive - Habib University\\acedemics\\semester5\\DL\\project\\project_files\\dataset\\Theory of Automata in Urdu\\lec_01_segmented_bruh\\seg_742\n",
      "D:\\OneDrive - Habib University\\acedemics\\semester5\\DL\\project\\project_files\\dataset\\Theory of Automata in Urdu\\lec_01_segmented_bruh\\seg_743\n",
      "D:\\OneDrive - Habib University\\acedemics\\semester5\\DL\\project\\project_files\\dataset\\Theory of Automata in Urdu\\lec_01_segmented_bruh\\seg_744\n",
      "D:\\OneDrive - Habib University\\acedemics\\semester5\\DL\\project\\project_files\\dataset\\Theory of Automata in Urdu\\lec_01_segmented_bruh\\seg_745\n",
      "D:\\OneDrive - Habib University\\acedemics\\semester5\\DL\\project\\project_files\\dataset\\Theory of Automata in Urdu\\lec_01_segmented_bruh\\seg_746\n",
      "D:\\OneDrive - Habib University\\acedemics\\semester5\\DL\\project\\project_files\\dataset\\Theory of Automata in Urdu\\lec_01_segmented_bruh\\seg_747\n",
      "D:\\OneDrive - Habib University\\acedemics\\semester5\\DL\\project\\project_files\\dataset\\Theory of Automata in Urdu\\lec_01_segmented_bruh\\seg_748\n",
      "D:\\OneDrive - Habib University\\acedemics\\semester5\\DL\\project\\project_files\\dataset\\Theory of Automata in Urdu\\lec_01_segmented_bruh\\seg_749\n",
      "D:\\OneDrive - Habib University\\acedemics\\semester5\\DL\\project\\project_files\\dataset\\Theory of Automata in Urdu\\lec_01_segmented_bruh\\seg_750\n",
      "D:\\OneDrive - Habib University\\acedemics\\semester5\\DL\\project\\project_files\\dataset\\Theory of Automata in Urdu\\lec_01_segmented_bruh\\seg_751\n",
      "D:\\OneDrive - Habib University\\acedemics\\semester5\\DL\\project\\project_files\\dataset\\Theory of Automata in Urdu\\lec_01_segmented_bruh\\seg_752\n",
      "D:\\OneDrive - Habib University\\acedemics\\semester5\\DL\\project\\project_files\\dataset\\Theory of Automata in Urdu\\lec_01_segmented_bruh\\seg_753\n",
      "D:\\OneDrive - Habib University\\acedemics\\semester5\\DL\\project\\project_files\\dataset\\Theory of Automata in Urdu\\lec_01_segmented_bruh\\seg_754\n",
      "D:\\OneDrive - Habib University\\acedemics\\semester5\\DL\\project\\project_files\\dataset\\Theory of Automata in Urdu\\lec_01_segmented_bruh\\seg_755\n",
      "D:\\OneDrive - Habib University\\acedemics\\semester5\\DL\\project\\project_files\\dataset\\Theory of Automata in Urdu\\lec_01_segmented_bruh\\seg_756\n",
      "D:\\OneDrive - Habib University\\acedemics\\semester5\\DL\\project\\project_files\\dataset\\Theory of Automata in Urdu\\lec_01_segmented_bruh\\seg_757\n",
      "D:\\OneDrive - Habib University\\acedemics\\semester5\\DL\\project\\project_files\\dataset\\Theory of Automata in Urdu\\lec_01_segmented_bruh\\seg_758\n",
      "D:\\OneDrive - Habib University\\acedemics\\semester5\\DL\\project\\project_files\\dataset\\Theory of Automata in Urdu\\lec_01_segmented_bruh\\seg_759\n",
      "D:\\OneDrive - Habib University\\acedemics\\semester5\\DL\\project\\project_files\\dataset\\Theory of Automata in Urdu\\lec_01_segmented_bruh\\seg_760\n",
      "D:\\OneDrive - Habib University\\acedemics\\semester5\\DL\\project\\project_files\\dataset\\Theory of Automata in Urdu\\lec_01_segmented_bruh\\seg_761\n",
      "D:\\OneDrive - Habib University\\acedemics\\semester5\\DL\\project\\project_files\\dataset\\Theory of Automata in Urdu\\lec_01_segmented_bruh\\seg_762\n",
      "D:\\OneDrive - Habib University\\acedemics\\semester5\\DL\\project\\project_files\\dataset\\Theory of Automata in Urdu\\lec_01_segmented_bruh\\seg_763\n",
      "D:\\OneDrive - Habib University\\acedemics\\semester5\\DL\\project\\project_files\\dataset\\Theory of Automata in Urdu\\lec_01_segmented_bruh\\seg_764\n",
      "D:\\OneDrive - Habib University\\acedemics\\semester5\\DL\\project\\project_files\\dataset\\Theory of Automata in Urdu\\lec_01_segmented_bruh\\seg_765\n",
      "D:\\OneDrive - Habib University\\acedemics\\semester5\\DL\\project\\project_files\\dataset\\Theory of Automata in Urdu\\lec_01_segmented_bruh\\seg_766\n",
      "D:\\OneDrive - Habib University\\acedemics\\semester5\\DL\\project\\project_files\\dataset\\Theory of Automata in Urdu\\lec_01_segmented_bruh\\seg_767\n",
      "D:\\OneDrive - Habib University\\acedemics\\semester5\\DL\\project\\project_files\\dataset\\Theory of Automata in Urdu\\lec_01_segmented_bruh\\seg_768\n",
      "D:\\OneDrive - Habib University\\acedemics\\semester5\\DL\\project\\project_files\\dataset\\Theory of Automata in Urdu\\lec_01_segmented_bruh\\seg_769\n",
      "D:\\OneDrive - Habib University\\acedemics\\semester5\\DL\\project\\project_files\\dataset\\Theory of Automata in Urdu\\lec_01_segmented_bruh\\seg_770\n",
      "D:\\OneDrive - Habib University\\acedemics\\semester5\\DL\\project\\project_files\\dataset\\Theory of Automata in Urdu\\lec_01_segmented_bruh\\seg_771\n",
      "D:\\OneDrive - Habib University\\acedemics\\semester5\\DL\\project\\project_files\\dataset\\Theory of Automata in Urdu\\lec_01_segmented_bruh\\seg_772\n",
      "D:\\OneDrive - Habib University\\acedemics\\semester5\\DL\\project\\project_files\\dataset\\Theory of Automata in Urdu\\lec_01_segmented_bruh\\seg_773\n",
      "D:\\OneDrive - Habib University\\acedemics\\semester5\\DL\\project\\project_files\\dataset\\Theory of Automata in Urdu\\lec_01_segmented_bruh\\seg_774\n",
      "D:\\OneDrive - Habib University\\acedemics\\semester5\\DL\\project\\project_files\\dataset\\Theory of Automata in Urdu\\lec_01_segmented_bruh\\seg_775\n",
      "D:\\OneDrive - Habib University\\acedemics\\semester5\\DL\\project\\project_files\\dataset\\Theory of Automata in Urdu\\lec_01_segmented_bruh\\seg_776\n",
      "D:\\OneDrive - Habib University\\acedemics\\semester5\\DL\\project\\project_files\\dataset\\Theory of Automata in Urdu\\lec_01_segmented_bruh\\seg_777\n",
      "D:\\OneDrive - Habib University\\acedemics\\semester5\\DL\\project\\project_files\\dataset\\Theory of Automata in Urdu\\lec_01_segmented_bruh\\seg_778\n",
      "D:\\OneDrive - Habib University\\acedemics\\semester5\\DL\\project\\project_files\\dataset\\Theory of Automata in Urdu\\lec_01_segmented_bruh\\seg_779\n",
      "D:\\OneDrive - Habib University\\acedemics\\semester5\\DL\\project\\project_files\\dataset\\Theory of Automata in Urdu\\lec_01_segmented_bruh\\seg_780\n",
      "D:\\OneDrive - Habib University\\acedemics\\semester5\\DL\\project\\project_files\\dataset\\Theory of Automata in Urdu\\lec_01_segmented_bruh\\seg_781\n",
      "D:\\OneDrive - Habib University\\acedemics\\semester5\\DL\\project\\project_files\\dataset\\Theory of Automata in Urdu\\lec_01_segmented_bruh\\seg_782\n",
      "D:\\OneDrive - Habib University\\acedemics\\semester5\\DL\\project\\project_files\\dataset\\Theory of Automata in Urdu\\lec_01_segmented_bruh\\seg_783\n",
      "D:\\OneDrive - Habib University\\acedemics\\semester5\\DL\\project\\project_files\\dataset\\Theory of Automata in Urdu\\lec_01_segmented_bruh\\seg_784\n",
      "D:\\OneDrive - Habib University\\acedemics\\semester5\\DL\\project\\project_files\\dataset\\Theory of Automata in Urdu\\lec_01_segmented_bruh\\seg_785\n",
      "D:\\OneDrive - Habib University\\acedemics\\semester5\\DL\\project\\project_files\\dataset\\Theory of Automata in Urdu\\lec_01_segmented_bruh\\seg_786\n",
      "D:\\OneDrive - Habib University\\acedemics\\semester5\\DL\\project\\project_files\\dataset\\Theory of Automata in Urdu\\lec_01_segmented_bruh\\seg_787\n",
      "D:\\OneDrive - Habib University\\acedemics\\semester5\\DL\\project\\project_files\\dataset\\Theory of Automata in Urdu\\lec_01_segmented_bruh\\seg_788\n",
      "D:\\OneDrive - Habib University\\acedemics\\semester5\\DL\\project\\project_files\\dataset\\Theory of Automata in Urdu\\lec_01_segmented_bruh\\seg_789\n",
      "D:\\OneDrive - Habib University\\acedemics\\semester5\\DL\\project\\project_files\\dataset\\Theory of Automata in Urdu\\lec_01_segmented_bruh\\seg_790\n",
      "D:\\OneDrive - Habib University\\acedemics\\semester5\\DL\\project\\project_files\\dataset\\Theory of Automata in Urdu\\lec_01_segmented_bruh\\seg_791\n",
      "D:\\OneDrive - Habib University\\acedemics\\semester5\\DL\\project\\project_files\\dataset\\Theory of Automata in Urdu\\lec_01_segmented_bruh\\seg_792\n",
      "D:\\OneDrive - Habib University\\acedemics\\semester5\\DL\\project\\project_files\\dataset\\Theory of Automata in Urdu\\lec_01_segmented_bruh\\seg_793\n",
      "D:\\OneDrive - Habib University\\acedemics\\semester5\\DL\\project\\project_files\\dataset\\Theory of Automata in Urdu\\lec_01_segmented_bruh\\seg_794\n",
      "D:\\OneDrive - Habib University\\acedemics\\semester5\\DL\\project\\project_files\\dataset\\Theory of Automata in Urdu\\lec_01_segmented_bruh\\seg_795\n",
      "D:\\OneDrive - Habib University\\acedemics\\semester5\\DL\\project\\project_files\\dataset\\Theory of Automata in Urdu\\lec_01_segmented_bruh\\seg_796\n",
      "D:\\OneDrive - Habib University\\acedemics\\semester5\\DL\\project\\project_files\\dataset\\Theory of Automata in Urdu\\lec_01_segmented_bruh\\seg_797\n",
      "D:\\OneDrive - Habib University\\acedemics\\semester5\\DL\\project\\project_files\\dataset\\Theory of Automata in Urdu\\lec_01_segmented_bruh\\seg_798\n",
      "D:\\OneDrive - Habib University\\acedemics\\semester5\\DL\\project\\project_files\\dataset\\Theory of Automata in Urdu\\lec_01_segmented_bruh\\seg_799\n",
      "D:\\OneDrive - Habib University\\acedemics\\semester5\\DL\\project\\project_files\\dataset\\Theory of Automata in Urdu\\lec_01_segmented_bruh\\seg_800\n",
      "D:\\OneDrive - Habib University\\acedemics\\semester5\\DL\\project\\project_files\\dataset\\Theory of Automata in Urdu\\lec_01_segmented_bruh\\seg_801\n",
      "D:\\OneDrive - Habib University\\acedemics\\semester5\\DL\\project\\project_files\\dataset\\Theory of Automata in Urdu\\lec_01_segmented_bruh\\seg_802\n",
      "D:\\OneDrive - Habib University\\acedemics\\semester5\\DL\\project\\project_files\\dataset\\Theory of Automata in Urdu\\lec_01_segmented_bruh\\seg_803\n",
      "D:\\OneDrive - Habib University\\acedemics\\semester5\\DL\\project\\project_files\\dataset\\Theory of Automata in Urdu\\lec_01_segmented_bruh\\seg_804\n",
      "D:\\OneDrive - Habib University\\acedemics\\semester5\\DL\\project\\project_files\\dataset\\Theory of Automata in Urdu\\lec_01_segmented_bruh\\seg_805\n",
      "D:\\OneDrive - Habib University\\acedemics\\semester5\\DL\\project\\project_files\\dataset\\Theory of Automata in Urdu\\lec_01_segmented_bruh\\seg_806\n",
      "D:\\OneDrive - Habib University\\acedemics\\semester5\\DL\\project\\project_files\\dataset\\Theory of Automata in Urdu\\lec_01_segmented_bruh\\seg_807\n",
      "D:\\OneDrive - Habib University\\acedemics\\semester5\\DL\\project\\project_files\\dataset\\Theory of Automata in Urdu\\lec_01_segmented_bruh\\seg_808\n",
      "D:\\OneDrive - Habib University\\acedemics\\semester5\\DL\\project\\project_files\\dataset\\Theory of Automata in Urdu\\lec_01_segmented_bruh\\seg_809\n",
      "D:\\OneDrive - Habib University\\acedemics\\semester5\\DL\\project\\project_files\\dataset\\Theory of Automata in Urdu\\lec_01_segmented_bruh\\seg_810\n",
      "D:\\OneDrive - Habib University\\acedemics\\semester5\\DL\\project\\project_files\\dataset\\Theory of Automata in Urdu\\lec_01_segmented_bruh\\seg_811\n",
      "D:\\OneDrive - Habib University\\acedemics\\semester5\\DL\\project\\project_files\\dataset\\Theory of Automata in Urdu\\lec_01_segmented_bruh\\seg_812\n",
      "D:\\OneDrive - Habib University\\acedemics\\semester5\\DL\\project\\project_files\\dataset\\Theory of Automata in Urdu\\lec_01_segmented_bruh\\seg_813\n",
      "D:\\OneDrive - Habib University\\acedemics\\semester5\\DL\\project\\project_files\\dataset\\Theory of Automata in Urdu\\lec_01_segmented_bruh\\seg_814\n",
      "D:\\OneDrive - Habib University\\acedemics\\semester5\\DL\\project\\project_files\\dataset\\Theory of Automata in Urdu\\lec_01_segmented_bruh\\seg_815\n",
      "D:\\OneDrive - Habib University\\acedemics\\semester5\\DL\\project\\project_files\\dataset\\Theory of Automata in Urdu\\lec_01_segmented_bruh\\seg_816\n",
      "D:\\OneDrive - Habib University\\acedemics\\semester5\\DL\\project\\project_files\\dataset\\Theory of Automata in Urdu\\lec_01_segmented_bruh\\seg_817\n",
      "D:\\OneDrive - Habib University\\acedemics\\semester5\\DL\\project\\project_files\\dataset\\Theory of Automata in Urdu\\lec_01_segmented_bruh\\seg_818\n",
      "D:\\OneDrive - Habib University\\acedemics\\semester5\\DL\\project\\project_files\\dataset\\Theory of Automata in Urdu\\lec_01_segmented_bruh\\seg_819\n",
      "D:\\OneDrive - Habib University\\acedemics\\semester5\\DL\\project\\project_files\\dataset\\Theory of Automata in Urdu\\lec_01_segmented_bruh\\seg_820\n",
      "D:\\OneDrive - Habib University\\acedemics\\semester5\\DL\\project\\project_files\\dataset\\Theory of Automata in Urdu\\lec_01_segmented_bruh\\seg_821\n",
      "D:\\OneDrive - Habib University\\acedemics\\semester5\\DL\\project\\project_files\\dataset\\Theory of Automata in Urdu\\lec_01_segmented_bruh\\seg_822\n",
      "D:\\OneDrive - Habib University\\acedemics\\semester5\\DL\\project\\project_files\\dataset\\Theory of Automata in Urdu\\lec_01_segmented_bruh\\seg_823\n",
      "D:\\OneDrive - Habib University\\acedemics\\semester5\\DL\\project\\project_files\\dataset\\Theory of Automata in Urdu\\lec_01_segmented_bruh\\seg_824\n",
      "D:\\OneDrive - Habib University\\acedemics\\semester5\\DL\\project\\project_files\\dataset\\Theory of Automata in Urdu\\lec_01_segmented_bruh\\seg_825\n",
      "D:\\OneDrive - Habib University\\acedemics\\semester5\\DL\\project\\project_files\\dataset\\Theory of Automata in Urdu\\lec_01_segmented_bruh\\seg_826\n",
      "D:\\OneDrive - Habib University\\acedemics\\semester5\\DL\\project\\project_files\\dataset\\Theory of Automata in Urdu\\lec_01_segmented_bruh\\seg_827\n",
      "D:\\OneDrive - Habib University\\acedemics\\semester5\\DL\\project\\project_files\\dataset\\Theory of Automata in Urdu\\lec_01_segmented_bruh\\seg_828\n",
      "D:\\OneDrive - Habib University\\acedemics\\semester5\\DL\\project\\project_files\\dataset\\Theory of Automata in Urdu\\lec_01_segmented_bruh\\seg_829\n",
      "D:\\OneDrive - Habib University\\acedemics\\semester5\\DL\\project\\project_files\\dataset\\Theory of Automata in Urdu\\lec_01_segmented_bruh\\seg_830\n",
      "D:\\OneDrive - Habib University\\acedemics\\semester5\\DL\\project\\project_files\\dataset\\Theory of Automata in Urdu\\lec_01_segmented_bruh\\seg_831\n",
      "D:\\OneDrive - Habib University\\acedemics\\semester5\\DL\\project\\project_files\\dataset\\Theory of Automata in Urdu\\lec_01_segmented_bruh\\seg_832\n",
      "D:\\OneDrive - Habib University\\acedemics\\semester5\\DL\\project\\project_files\\dataset\\Theory of Automata in Urdu\\lec_01_segmented_bruh\\seg_833\n",
      "D:\\OneDrive - Habib University\\acedemics\\semester5\\DL\\project\\project_files\\dataset\\Theory of Automata in Urdu\\lec_01_segmented_bruh\\seg_834\n",
      "D:\\OneDrive - Habib University\\acedemics\\semester5\\DL\\project\\project_files\\dataset\\Theory of Automata in Urdu\\lec_01_segmented_bruh\\seg_835\n",
      "D:\\OneDrive - Habib University\\acedemics\\semester5\\DL\\project\\project_files\\dataset\\Theory of Automata in Urdu\\lec_01_segmented_bruh\\seg_836\n",
      "D:\\OneDrive - Habib University\\acedemics\\semester5\\DL\\project\\project_files\\dataset\\Theory of Automata in Urdu\\lec_01_segmented_bruh\\seg_837\n",
      "D:\\OneDrive - Habib University\\acedemics\\semester5\\DL\\project\\project_files\\dataset\\Theory of Automata in Urdu\\lec_01_segmented_bruh\\seg_838\n",
      "D:\\OneDrive - Habib University\\acedemics\\semester5\\DL\\project\\project_files\\dataset\\Theory of Automata in Urdu\\lec_01_segmented_bruh\\seg_839\n",
      "D:\\OneDrive - Habib University\\acedemics\\semester5\\DL\\project\\project_files\\dataset\\Theory of Automata in Urdu\\lec_01_segmented_bruh\\seg_840\n",
      "D:\\OneDrive - Habib University\\acedemics\\semester5\\DL\\project\\project_files\\dataset\\Theory of Automata in Urdu\\lec_01_segmented_bruh\\seg_841\n",
      "D:\\OneDrive - Habib University\\acedemics\\semester5\\DL\\project\\project_files\\dataset\\Theory of Automata in Urdu\\lec_01_segmented_bruh\\seg_842\n",
      "D:\\OneDrive - Habib University\\acedemics\\semester5\\DL\\project\\project_files\\dataset\\Theory of Automata in Urdu\\lec_01_segmented_bruh\\seg_843\n",
      "D:\\OneDrive - Habib University\\acedemics\\semester5\\DL\\project\\project_files\\dataset\\Theory of Automata in Urdu\\lec_01_segmented_bruh\\seg_844\n",
      "D:\\OneDrive - Habib University\\acedemics\\semester5\\DL\\project\\project_files\\dataset\\Theory of Automata in Urdu\\lec_01_segmented_bruh\\seg_845\n",
      "D:\\OneDrive - Habib University\\acedemics\\semester5\\DL\\project\\project_files\\dataset\\Theory of Automata in Urdu\\lec_01_segmented_bruh\\seg_846\n",
      "D:\\OneDrive - Habib University\\acedemics\\semester5\\DL\\project\\project_files\\dataset\\Theory of Automata in Urdu\\lec_01_segmented_bruh\\seg_847\n",
      "D:\\OneDrive - Habib University\\acedemics\\semester5\\DL\\project\\project_files\\dataset\\Theory of Automata in Urdu\\lec_01_segmented_bruh\\seg_848\n",
      "D:\\OneDrive - Habib University\\acedemics\\semester5\\DL\\project\\project_files\\dataset\\Theory of Automata in Urdu\\lec_01_segmented_bruh\\seg_849\n",
      "D:\\OneDrive - Habib University\\acedemics\\semester5\\DL\\project\\project_files\\dataset\\Theory of Automata in Urdu\\lec_01_segmented_bruh\\seg_850\n",
      "D:\\OneDrive - Habib University\\acedemics\\semester5\\DL\\project\\project_files\\dataset\\Theory of Automata in Urdu\\lec_01_segmented_bruh\\seg_851\n",
      "D:\\OneDrive - Habib University\\acedemics\\semester5\\DL\\project\\project_files\\dataset\\Theory of Automata in Urdu\\lec_01_segmented_bruh\\seg_852\n",
      "D:\\OneDrive - Habib University\\acedemics\\semester5\\DL\\project\\project_files\\dataset\\Theory of Automata in Urdu\\lec_01_segmented_bruh\\seg_853\n",
      "D:\\OneDrive - Habib University\\acedemics\\semester5\\DL\\project\\project_files\\dataset\\Theory of Automata in Urdu\\lec_01_segmented_bruh\\seg_854\n",
      "D:\\OneDrive - Habib University\\acedemics\\semester5\\DL\\project\\project_files\\dataset\\Theory of Automata in Urdu\\lec_01_segmented_bruh\\seg_855\n",
      "D:\\OneDrive - Habib University\\acedemics\\semester5\\DL\\project\\project_files\\dataset\\Theory of Automata in Urdu\\lec_01_segmented_bruh\\seg_856\n",
      "D:\\OneDrive - Habib University\\acedemics\\semester5\\DL\\project\\project_files\\dataset\\Theory of Automata in Urdu\\lec_01_segmented_bruh\\seg_857\n",
      "D:\\OneDrive - Habib University\\acedemics\\semester5\\DL\\project\\project_files\\dataset\\Theory of Automata in Urdu\\lec_01_segmented_bruh\\seg_858\n",
      "D:\\OneDrive - Habib University\\acedemics\\semester5\\DL\\project\\project_files\\dataset\\Theory of Automata in Urdu\\lec_01_segmented_bruh\\seg_859\n",
      "D:\\OneDrive - Habib University\\acedemics\\semester5\\DL\\project\\project_files\\dataset\\Theory of Automata in Urdu\\lec_01_segmented_bruh\\seg_860\n",
      "D:\\OneDrive - Habib University\\acedemics\\semester5\\DL\\project\\project_files\\dataset\\Theory of Automata in Urdu\\lec_01_segmented_bruh\\seg_861\n",
      "D:\\OneDrive - Habib University\\acedemics\\semester5\\DL\\project\\project_files\\dataset\\Theory of Automata in Urdu\\lec_01_segmented_bruh\\seg_862\n",
      "D:\\OneDrive - Habib University\\acedemics\\semester5\\DL\\project\\project_files\\dataset\\Theory of Automata in Urdu\\lec_01_segmented_bruh\\seg_863\n",
      "D:\\OneDrive - Habib University\\acedemics\\semester5\\DL\\project\\project_files\\dataset\\Theory of Automata in Urdu\\lec_01_segmented_bruh\\seg_864\n",
      "D:\\OneDrive - Habib University\\acedemics\\semester5\\DL\\project\\project_files\\dataset\\Theory of Automata in Urdu\\lec_01_segmented_bruh\\seg_865\n",
      "D:\\OneDrive - Habib University\\acedemics\\semester5\\DL\\project\\project_files\\dataset\\Theory of Automata in Urdu\\lec_01_segmented_bruh\\seg_866\n",
      "D:\\OneDrive - Habib University\\acedemics\\semester5\\DL\\project\\project_files\\dataset\\Theory of Automata in Urdu\\lec_01_segmented_bruh\\seg_867\n",
      "D:\\OneDrive - Habib University\\acedemics\\semester5\\DL\\project\\project_files\\dataset\\Theory of Automata in Urdu\\lec_01_segmented_bruh\\seg_868\n",
      "D:\\OneDrive - Habib University\\acedemics\\semester5\\DL\\project\\project_files\\dataset\\Theory of Automata in Urdu\\lec_01_segmented_bruh\\seg_869\n",
      "D:\\OneDrive - Habib University\\acedemics\\semester5\\DL\\project\\project_files\\dataset\\Theory of Automata in Urdu\\lec_01_segmented_bruh\\seg_870\n",
      "D:\\OneDrive - Habib University\\acedemics\\semester5\\DL\\project\\project_files\\dataset\\Theory of Automata in Urdu\\lec_01_segmented_bruh\\seg_871\n",
      "D:\\OneDrive - Habib University\\acedemics\\semester5\\DL\\project\\project_files\\dataset\\Theory of Automata in Urdu\\lec_01_segmented_bruh\\seg_872\n",
      "D:\\OneDrive - Habib University\\acedemics\\semester5\\DL\\project\\project_files\\dataset\\Theory of Automata in Urdu\\lec_01_segmented_bruh\\seg_873\n",
      "D:\\OneDrive - Habib University\\acedemics\\semester5\\DL\\project\\project_files\\dataset\\Theory of Automata in Urdu\\lec_01_segmented_bruh\\seg_874\n",
      "D:\\OneDrive - Habib University\\acedemics\\semester5\\DL\\project\\project_files\\dataset\\Theory of Automata in Urdu\\lec_01_segmented_bruh\\seg_875\n",
      "D:\\OneDrive - Habib University\\acedemics\\semester5\\DL\\project\\project_files\\dataset\\Theory of Automata in Urdu\\lec_01_segmented_bruh\\seg_876\n",
      "D:\\OneDrive - Habib University\\acedemics\\semester5\\DL\\project\\project_files\\dataset\\Theory of Automata in Urdu\\lec_01_segmented_bruh\\seg_877\n",
      "D:\\OneDrive - Habib University\\acedemics\\semester5\\DL\\project\\project_files\\dataset\\Theory of Automata in Urdu\\lec_01_segmented_bruh\\seg_878\n",
      "D:\\OneDrive - Habib University\\acedemics\\semester5\\DL\\project\\project_files\\dataset\\Theory of Automata in Urdu\\lec_01_segmented_bruh\\seg_879\n",
      "D:\\OneDrive - Habib University\\acedemics\\semester5\\DL\\project\\project_files\\dataset\\Theory of Automata in Urdu\\lec_01_segmented_bruh\\seg_880\n",
      "D:\\OneDrive - Habib University\\acedemics\\semester5\\DL\\project\\project_files\\dataset\\Theory of Automata in Urdu\\lec_01_segmented_bruh\\seg_881\n",
      "D:\\OneDrive - Habib University\\acedemics\\semester5\\DL\\project\\project_files\\dataset\\Theory of Automata in Urdu\\lec_01_segmented_bruh\\seg_882\n",
      "D:\\OneDrive - Habib University\\acedemics\\semester5\\DL\\project\\project_files\\dataset\\Theory of Automata in Urdu\\lec_01_segmented_bruh\\seg_883\n",
      "D:\\OneDrive - Habib University\\acedemics\\semester5\\DL\\project\\project_files\\dataset\\Theory of Automata in Urdu\\lec_01_segmented_bruh\\seg_884\n",
      "D:\\OneDrive - Habib University\\acedemics\\semester5\\DL\\project\\project_files\\dataset\\Theory of Automata in Urdu\\lec_01_segmented_bruh\\seg_885\n",
      "D:\\OneDrive - Habib University\\acedemics\\semester5\\DL\\project\\project_files\\dataset\\Theory of Automata in Urdu\\lec_01_segmented_bruh\\seg_886\n",
      "D:\\OneDrive - Habib University\\acedemics\\semester5\\DL\\project\\project_files\\dataset\\Theory of Automata in Urdu\\lec_01_segmented_bruh\\seg_887\n",
      "D:\\OneDrive - Habib University\\acedemics\\semester5\\DL\\project\\project_files\\dataset\\Theory of Automata in Urdu\\lec_01_segmented_bruh\\seg_888\n",
      "D:\\OneDrive - Habib University\\acedemics\\semester5\\DL\\project\\project_files\\dataset\\Theory of Automata in Urdu\\lec_01_segmented_bruh\\seg_889\n",
      "D:\\OneDrive - Habib University\\acedemics\\semester5\\DL\\project\\project_files\\dataset\\Theory of Automata in Urdu\\lec_01_segmented_bruh\\seg_890\n",
      "D:\\OneDrive - Habib University\\acedemics\\semester5\\DL\\project\\project_files\\dataset\\Theory of Automata in Urdu\\lec_01_segmented_bruh\\seg_891\n",
      "D:\\OneDrive - Habib University\\acedemics\\semester5\\DL\\project\\project_files\\dataset\\Theory of Automata in Urdu\\lec_01_segmented_bruh\\seg_892\n",
      "D:\\OneDrive - Habib University\\acedemics\\semester5\\DL\\project\\project_files\\dataset\\Theory of Automata in Urdu\\lec_01_segmented_bruh\\seg_893\n",
      "D:\\OneDrive - Habib University\\acedemics\\semester5\\DL\\project\\project_files\\dataset\\Theory of Automata in Urdu\\lec_01_segmented_bruh\\seg_894\n",
      "D:\\OneDrive - Habib University\\acedemics\\semester5\\DL\\project\\project_files\\dataset\\Theory of Automata in Urdu\\lec_01_segmented_bruh\\seg_895\n",
      "D:\\OneDrive - Habib University\\acedemics\\semester5\\DL\\project\\project_files\\dataset\\Theory of Automata in Urdu\\lec_01_segmented_bruh\\seg_896\n",
      "D:\\OneDrive - Habib University\\acedemics\\semester5\\DL\\project\\project_files\\dataset\\Theory of Automata in Urdu\\lec_01_segmented_bruh\\seg_897\n",
      "D:\\OneDrive - Habib University\\acedemics\\semester5\\DL\\project\\project_files\\dataset\\Theory of Automata in Urdu\\lec_01_segmented_bruh\\seg_898\n",
      "D:\\OneDrive - Habib University\\acedemics\\semester5\\DL\\project\\project_files\\dataset\\Theory of Automata in Urdu\\lec_01_segmented_bruh\\seg_899\n",
      "D:\\OneDrive - Habib University\\acedemics\\semester5\\DL\\project\\project_files\\dataset\\Theory of Automata in Urdu\\lec_01_segmented_bruh\\seg_900\n",
      "D:\\OneDrive - Habib University\\acedemics\\semester5\\DL\\project\\project_files\\dataset\\Theory of Automata in Urdu\\lec_01_segmented_bruh\\seg_901\n",
      "D:\\OneDrive - Habib University\\acedemics\\semester5\\DL\\project\\project_files\\dataset\\Theory of Automata in Urdu\\lec_01_segmented_bruh\\seg_902\n",
      "D:\\OneDrive - Habib University\\acedemics\\semester5\\DL\\project\\project_files\\dataset\\Theory of Automata in Urdu\\lec_01_segmented_bruh\\seg_903\n",
      "D:\\OneDrive - Habib University\\acedemics\\semester5\\DL\\project\\project_files\\dataset\\Theory of Automata in Urdu\\lec_01_segmented_bruh\\seg_904\n",
      "D:\\OneDrive - Habib University\\acedemics\\semester5\\DL\\project\\project_files\\dataset\\Theory of Automata in Urdu\\lec_01_segmented_bruh\\seg_905\n",
      "D:\\OneDrive - Habib University\\acedemics\\semester5\\DL\\project\\project_files\\dataset\\Theory of Automata in Urdu\\lec_01_segmented_bruh\\seg_906\n",
      "D:\\OneDrive - Habib University\\acedemics\\semester5\\DL\\project\\project_files\\dataset\\Theory of Automata in Urdu\\lec_01_segmented_bruh\\seg_907\n",
      "D:\\OneDrive - Habib University\\acedemics\\semester5\\DL\\project\\project_files\\dataset\\Theory of Automata in Urdu\\lec_01_segmented_bruh\\seg_908\n",
      "D:\\OneDrive - Habib University\\acedemics\\semester5\\DL\\project\\project_files\\dataset\\Theory of Automata in Urdu\\lec_01_segmented_bruh\\seg_909\n",
      "D:\\OneDrive - Habib University\\acedemics\\semester5\\DL\\project\\project_files\\dataset\\Theory of Automata in Urdu\\lec_01_segmented_bruh\\seg_910\n",
      "D:\\OneDrive - Habib University\\acedemics\\semester5\\DL\\project\\project_files\\dataset\\Theory of Automata in Urdu\\lec_01_segmented_bruh\\seg_911\n",
      "D:\\OneDrive - Habib University\\acedemics\\semester5\\DL\\project\\project_files\\dataset\\Theory of Automata in Urdu\\lec_01_segmented_bruh\\seg_912\n",
      "D:\\OneDrive - Habib University\\acedemics\\semester5\\DL\\project\\project_files\\dataset\\Theory of Automata in Urdu\\lec_01_segmented_bruh\\seg_913\n",
      "D:\\OneDrive - Habib University\\acedemics\\semester5\\DL\\project\\project_files\\dataset\\Theory of Automata in Urdu\\lec_01_segmented_bruh\\seg_914\n",
      "D:\\OneDrive - Habib University\\acedemics\\semester5\\DL\\project\\project_files\\dataset\\Theory of Automata in Urdu\\lec_01_segmented_bruh\\seg_915\n",
      "D:\\OneDrive - Habib University\\acedemics\\semester5\\DL\\project\\project_files\\dataset\\Theory of Automata in Urdu\\lec_01_segmented_bruh\\seg_916\n",
      "D:\\OneDrive - Habib University\\acedemics\\semester5\\DL\\project\\project_files\\dataset\\Theory of Automata in Urdu\\lec_01_segmented_bruh\\seg_917\n",
      "D:\\OneDrive - Habib University\\acedemics\\semester5\\DL\\project\\project_files\\dataset\\Theory of Automata in Urdu\\lec_01_segmented_bruh\\seg_918\n",
      "D:\\OneDrive - Habib University\\acedemics\\semester5\\DL\\project\\project_files\\dataset\\Theory of Automata in Urdu\\lec_01_segmented_bruh\\seg_919\n",
      "D:\\OneDrive - Habib University\\acedemics\\semester5\\DL\\project\\project_files\\dataset\\Theory of Automata in Urdu\\lec_01_segmented_bruh\\seg_920\n",
      "D:\\OneDrive - Habib University\\acedemics\\semester5\\DL\\project\\project_files\\dataset\\Theory of Automata in Urdu\\lec_01_segmented_bruh\\seg_921\n",
      "D:\\OneDrive - Habib University\\acedemics\\semester5\\DL\\project\\project_files\\dataset\\Theory of Automata in Urdu\\lec_01_segmented_bruh\\seg_922\n",
      "D:\\OneDrive - Habib University\\acedemics\\semester5\\DL\\project\\project_files\\dataset\\Theory of Automata in Urdu\\lec_01_segmented_bruh\\seg_923\n",
      "D:\\OneDrive - Habib University\\acedemics\\semester5\\DL\\project\\project_files\\dataset\\Theory of Automata in Urdu\\lec_01_segmented_bruh\\seg_924\n",
      "D:\\OneDrive - Habib University\\acedemics\\semester5\\DL\\project\\project_files\\dataset\\Theory of Automata in Urdu\\lec_01_segmented_bruh\\seg_925\n",
      "D:\\OneDrive - Habib University\\acedemics\\semester5\\DL\\project\\project_files\\dataset\\Theory of Automata in Urdu\\lec_01_segmented_bruh\\seg_926\n",
      "D:\\OneDrive - Habib University\\acedemics\\semester5\\DL\\project\\project_files\\dataset\\Theory of Automata in Urdu\\lec_01_segmented_bruh\\seg_927\n",
      "D:\\OneDrive - Habib University\\acedemics\\semester5\\DL\\project\\project_files\\dataset\\Theory of Automata in Urdu\\lec_01_segmented_bruh\\seg_928\n",
      "D:\\OneDrive - Habib University\\acedemics\\semester5\\DL\\project\\project_files\\dataset\\Theory of Automata in Urdu\\lec_01_segmented_bruh\\seg_929\n",
      "D:\\OneDrive - Habib University\\acedemics\\semester5\\DL\\project\\project_files\\dataset\\Theory of Automata in Urdu\\lec_01_segmented_bruh\\seg_930\n",
      "D:\\OneDrive - Habib University\\acedemics\\semester5\\DL\\project\\project_files\\dataset\\Theory of Automata in Urdu\\lec_01_segmented_bruh\\seg_931\n",
      "D:\\OneDrive - Habib University\\acedemics\\semester5\\DL\\project\\project_files\\dataset\\Theory of Automata in Urdu\\lec_01_segmented_bruh\\seg_932\n",
      "D:\\OneDrive - Habib University\\acedemics\\semester5\\DL\\project\\project_files\\dataset\\Theory of Automata in Urdu\\lec_01_segmented_bruh\\seg_933\n",
      "D:\\OneDrive - Habib University\\acedemics\\semester5\\DL\\project\\project_files\\dataset\\Theory of Automata in Urdu\\lec_01_segmented_bruh\\seg_934\n",
      "D:\\OneDrive - Habib University\\acedemics\\semester5\\DL\\project\\project_files\\dataset\\Theory of Automata in Urdu\\lec_01_segmented_bruh\\seg_935\n",
      "D:\\OneDrive - Habib University\\acedemics\\semester5\\DL\\project\\project_files\\dataset\\Theory of Automata in Urdu\\lec_01_segmented_bruh\\seg_936\n",
      "D:\\OneDrive - Habib University\\acedemics\\semester5\\DL\\project\\project_files\\dataset\\Theory of Automata in Urdu\\lec_01_segmented_bruh\\seg_937\n",
      "D:\\OneDrive - Habib University\\acedemics\\semester5\\DL\\project\\project_files\\dataset\\Theory of Automata in Urdu\\lec_01_segmented_bruh\\seg_938\n",
      "D:\\OneDrive - Habib University\\acedemics\\semester5\\DL\\project\\project_files\\dataset\\Theory of Automata in Urdu\\lec_01_segmented_bruh\\seg_939\n",
      "D:\\OneDrive - Habib University\\acedemics\\semester5\\DL\\project\\project_files\\dataset\\Theory of Automata in Urdu\\lec_01_segmented_bruh\\seg_940\n",
      "D:\\OneDrive - Habib University\\acedemics\\semester5\\DL\\project\\project_files\\dataset\\Theory of Automata in Urdu\\lec_01_segmented_bruh\\seg_941\n",
      "D:\\OneDrive - Habib University\\acedemics\\semester5\\DL\\project\\project_files\\dataset\\Theory of Automata in Urdu\\lec_01_segmented_bruh\\seg_942\n",
      "D:\\OneDrive - Habib University\\acedemics\\semester5\\DL\\project\\project_files\\dataset\\Theory of Automata in Urdu\\lec_01_segmented_bruh\\seg_943\n",
      "D:\\OneDrive - Habib University\\acedemics\\semester5\\DL\\project\\project_files\\dataset\\Theory of Automata in Urdu\\lec_01_segmented_bruh\\seg_944\n",
      "D:\\OneDrive - Habib University\\acedemics\\semester5\\DL\\project\\project_files\\dataset\\Theory of Automata in Urdu\\lec_01_segmented_bruh\\seg_945\n",
      "D:\\OneDrive - Habib University\\acedemics\\semester5\\DL\\project\\project_files\\dataset\\Theory of Automata in Urdu\\lec_01_segmented_bruh\\seg_946\n",
      "D:\\OneDrive - Habib University\\acedemics\\semester5\\DL\\project\\project_files\\dataset\\Theory of Automata in Urdu\\lec_01_segmented_bruh\\seg_947\n",
      "D:\\OneDrive - Habib University\\acedemics\\semester5\\DL\\project\\project_files\\dataset\\Theory of Automata in Urdu\\lec_01_segmented_bruh\\seg_948\n",
      "D:\\OneDrive - Habib University\\acedemics\\semester5\\DL\\project\\project_files\\dataset\\Theory of Automata in Urdu\\lec_01_segmented_bruh\\seg_949\n",
      "D:\\OneDrive - Habib University\\acedemics\\semester5\\DL\\project\\project_files\\dataset\\Theory of Automata in Urdu\\lec_01_segmented_bruh\\seg_950\n",
      "D:\\OneDrive - Habib University\\acedemics\\semester5\\DL\\project\\project_files\\dataset\\Theory of Automata in Urdu\\lec_01_segmented_bruh\\seg_951\n",
      "D:\\OneDrive - Habib University\\acedemics\\semester5\\DL\\project\\project_files\\dataset\\Theory of Automata in Urdu\\lec_01_segmented_bruh\\seg_952\n",
      "D:\\OneDrive - Habib University\\acedemics\\semester5\\DL\\project\\project_files\\dataset\\Theory of Automata in Urdu\\lec_01_segmented_bruh\\seg_953\n",
      "D:\\OneDrive - Habib University\\acedemics\\semester5\\DL\\project\\project_files\\dataset\\Theory of Automata in Urdu\\lec_01_segmented_bruh\\seg_954\n",
      "D:\\OneDrive - Habib University\\acedemics\\semester5\\DL\\project\\project_files\\dataset\\Theory of Automata in Urdu\\lec_01_segmented_bruh\\seg_955\n",
      "D:\\OneDrive - Habib University\\acedemics\\semester5\\DL\\project\\project_files\\dataset\\Theory of Automata in Urdu\\lec_01_segmented_bruh\\seg_956\n",
      "D:\\OneDrive - Habib University\\acedemics\\semester5\\DL\\project\\project_files\\dataset\\Theory of Automata in Urdu\\lec_01_segmented_bruh\\seg_957\n",
      "D:\\OneDrive - Habib University\\acedemics\\semester5\\DL\\project\\project_files\\dataset\\Theory of Automata in Urdu\\lec_01_segmented_bruh\\seg_958\n",
      "D:\\OneDrive - Habib University\\acedemics\\semester5\\DL\\project\\project_files\\dataset\\Theory of Automata in Urdu\\lec_01_segmented_bruh\\seg_959\n",
      "D:\\OneDrive - Habib University\\acedemics\\semester5\\DL\\project\\project_files\\dataset\\Theory of Automata in Urdu\\lec_01_segmented_bruh\\seg_960\n",
      "D:\\OneDrive - Habib University\\acedemics\\semester5\\DL\\project\\project_files\\dataset\\Theory of Automata in Urdu\\lec_01_segmented_bruh\\seg_961\n",
      "D:\\OneDrive - Habib University\\acedemics\\semester5\\DL\\project\\project_files\\dataset\\Theory of Automata in Urdu\\lec_01_segmented_bruh\\seg_962\n",
      "D:\\OneDrive - Habib University\\acedemics\\semester5\\DL\\project\\project_files\\dataset\\Theory of Automata in Urdu\\lec_01_segmented_bruh\\seg_963\n",
      "D:\\OneDrive - Habib University\\acedemics\\semester5\\DL\\project\\project_files\\dataset\\Theory of Automata in Urdu\\lec_01_segmented_bruh\\seg_964\n",
      "D:\\OneDrive - Habib University\\acedemics\\semester5\\DL\\project\\project_files\\dataset\\Theory of Automata in Urdu\\lec_01_segmented_bruh\\seg_965\n",
      "D:\\OneDrive - Habib University\\acedemics\\semester5\\DL\\project\\project_files\\dataset\\Theory of Automata in Urdu\\lec_01_segmented_bruh\\seg_966\n",
      "D:\\OneDrive - Habib University\\acedemics\\semester5\\DL\\project\\project_files\\dataset\\Theory of Automata in Urdu\\lec_01_segmented_bruh\\seg_967\n",
      "D:\\OneDrive - Habib University\\acedemics\\semester5\\DL\\project\\project_files\\dataset\\Theory of Automata in Urdu\\lec_01_segmented_bruh\\seg_968\n",
      "D:\\OneDrive - Habib University\\acedemics\\semester5\\DL\\project\\project_files\\dataset\\Theory of Automata in Urdu\\lec_01_segmented_bruh\\seg_969\n",
      "D:\\OneDrive - Habib University\\acedemics\\semester5\\DL\\project\\project_files\\dataset\\Theory of Automata in Urdu\\lec_01_segmented_bruh\\seg_970\n",
      "D:\\OneDrive - Habib University\\acedemics\\semester5\\DL\\project\\project_files\\dataset\\Theory of Automata in Urdu\\lec_01_segmented_bruh\\seg_971\n",
      "D:\\OneDrive - Habib University\\acedemics\\semester5\\DL\\project\\project_files\\dataset\\Theory of Automata in Urdu\\lec_01_segmented_bruh\\seg_972\n",
      "D:\\OneDrive - Habib University\\acedemics\\semester5\\DL\\project\\project_files\\dataset\\Theory of Automata in Urdu\\lec_01_segmented_bruh\\seg_973\n",
      "D:\\OneDrive - Habib University\\acedemics\\semester5\\DL\\project\\project_files\\dataset\\Theory of Automata in Urdu\\lec_01_segmented_bruh\\seg_974\n",
      "D:\\OneDrive - Habib University\\acedemics\\semester5\\DL\\project\\project_files\\dataset\\Theory of Automata in Urdu\\lec_01_segmented_bruh\\seg_975\n",
      "D:\\OneDrive - Habib University\\acedemics\\semester5\\DL\\project\\project_files\\dataset\\Theory of Automata in Urdu\\lec_01_segmented_bruh\\seg_976\n",
      "D:\\OneDrive - Habib University\\acedemics\\semester5\\DL\\project\\project_files\\dataset\\Theory of Automata in Urdu\\lec_01_segmented_bruh\\seg_977\n",
      "D:\\OneDrive - Habib University\\acedemics\\semester5\\DL\\project\\project_files\\dataset\\Theory of Automata in Urdu\\lec_01_segmented_bruh\\seg_978\n",
      "D:\\OneDrive - Habib University\\acedemics\\semester5\\DL\\project\\project_files\\dataset\\Theory of Automata in Urdu\\lec_01_segmented_bruh\\seg_979\n",
      "D:\\OneDrive - Habib University\\acedemics\\semester5\\DL\\project\\project_files\\dataset\\Theory of Automata in Urdu\\lec_01_segmented_bruh\\seg_980\n",
      "D:\\OneDrive - Habib University\\acedemics\\semester5\\DL\\project\\project_files\\dataset\\Theory of Automata in Urdu\\lec_01_segmented_bruh\\seg_981\n",
      "D:\\OneDrive - Habib University\\acedemics\\semester5\\DL\\project\\project_files\\dataset\\Theory of Automata in Urdu\\lec_01_segmented_bruh\\seg_982\n",
      "D:\\OneDrive - Habib University\\acedemics\\semester5\\DL\\project\\project_files\\dataset\\Theory of Automata in Urdu\\lec_01_segmented_bruh\\seg_983\n",
      "D:\\OneDrive - Habib University\\acedemics\\semester5\\DL\\project\\project_files\\dataset\\Theory of Automata in Urdu\\lec_01_segmented_bruh\\seg_984\n",
      "D:\\OneDrive - Habib University\\acedemics\\semester5\\DL\\project\\project_files\\dataset\\Theory of Automata in Urdu\\lec_01_segmented_bruh\\seg_985\n",
      "D:\\OneDrive - Habib University\\acedemics\\semester5\\DL\\project\\project_files\\dataset\\Theory of Automata in Urdu\\lec_01_segmented_bruh\\seg_986\n",
      "D:\\OneDrive - Habib University\\acedemics\\semester5\\DL\\project\\project_files\\dataset\\Theory of Automata in Urdu\\lec_01_segmented_bruh\\seg_987\n",
      "D:\\OneDrive - Habib University\\acedemics\\semester5\\DL\\project\\project_files\\dataset\\Theory of Automata in Urdu\\lec_01_segmented_bruh\\seg_988\n",
      "D:\\OneDrive - Habib University\\acedemics\\semester5\\DL\\project\\project_files\\dataset\\Theory of Automata in Urdu\\lec_01_segmented_bruh\\seg_989\n",
      "D:\\OneDrive - Habib University\\acedemics\\semester5\\DL\\project\\project_files\\dataset\\Theory of Automata in Urdu\\lec_01_segmented_bruh\\seg_990\n",
      "D:\\OneDrive - Habib University\\acedemics\\semester5\\DL\\project\\project_files\\dataset\\Theory of Automata in Urdu\\lec_01_segmented_bruh\\seg_991\n",
      "D:\\OneDrive - Habib University\\acedemics\\semester5\\DL\\project\\project_files\\dataset\\Theory of Automata in Urdu\\lec_01_segmented_bruh\\seg_992\n",
      "D:\\OneDrive - Habib University\\acedemics\\semester5\\DL\\project\\project_files\\dataset\\Theory of Automata in Urdu\\lec_01_segmented_bruh\\seg_993\n",
      "D:\\OneDrive - Habib University\\acedemics\\semester5\\DL\\project\\project_files\\dataset\\Theory of Automata in Urdu\\lec_01_segmented_bruh\\seg_994\n",
      "D:\\OneDrive - Habib University\\acedemics\\semester5\\DL\\project\\project_files\\dataset\\Theory of Automata in Urdu\\lec_01_segmented_bruh\\seg_995\n",
      "D:\\OneDrive - Habib University\\acedemics\\semester5\\DL\\project\\project_files\\dataset\\Theory of Automata in Urdu\\lec_01_segmented_bruh\\seg_996\n",
      "D:\\OneDrive - Habib University\\acedemics\\semester5\\DL\\project\\project_files\\dataset\\Theory of Automata in Urdu\\lec_01_segmented_bruh\\seg_997\n",
      "D:\\OneDrive - Habib University\\acedemics\\semester5\\DL\\project\\project_files\\dataset\\Theory of Automata in Urdu\\lec_01_segmented_bruh\\seg_998\n",
      "D:\\OneDrive - Habib University\\acedemics\\semester5\\DL\\project\\project_files\\dataset\\Theory of Automata in Urdu\\lec_01_segmented_bruh\\seg_999\n",
      "D:\\OneDrive - Habib University\\acedemics\\semester5\\DL\\project\\project_files\\dataset\\Theory of Automata in Urdu\\lec_01_segmented_bruh\\seg_1000\n",
      "D:\\OneDrive - Habib University\\acedemics\\semester5\\DL\\project\\project_files\\dataset\\Theory of Automata in Urdu\\lec_01_segmented_bruh\\seg_1001\n",
      "D:\\OneDrive - Habib University\\acedemics\\semester5\\DL\\project\\project_files\\dataset\\Theory of Automata in Urdu\\lec_01_segmented_bruh\\seg_1002\n",
      "D:\\OneDrive - Habib University\\acedemics\\semester5\\DL\\project\\project_files\\dataset\\Theory of Automata in Urdu\\lec_01_segmented_bruh\\seg_1003\n",
      "D:\\OneDrive - Habib University\\acedemics\\semester5\\DL\\project\\project_files\\dataset\\Theory of Automata in Urdu\\lec_01_segmented_bruh\\seg_1004\n",
      "D:\\OneDrive - Habib University\\acedemics\\semester5\\DL\\project\\project_files\\dataset\\Theory of Automata in Urdu\\lec_01_segmented_bruh\\seg_1005\n",
      "D:\\OneDrive - Habib University\\acedemics\\semester5\\DL\\project\\project_files\\dataset\\Theory of Automata in Urdu\\lec_01_segmented_bruh\\seg_1006\n",
      "D:\\OneDrive - Habib University\\acedemics\\semester5\\DL\\project\\project_files\\dataset\\Theory of Automata in Urdu\\lec_01_segmented_bruh\\seg_1007\n",
      "D:\\OneDrive - Habib University\\acedemics\\semester5\\DL\\project\\project_files\\dataset\\Theory of Automata in Urdu\\lec_01_segmented_bruh\\seg_1008\n",
      "D:\\OneDrive - Habib University\\acedemics\\semester5\\DL\\project\\project_files\\dataset\\Theory of Automata in Urdu\\lec_01_segmented_bruh\\seg_1009\n",
      "D:\\OneDrive - Habib University\\acedemics\\semester5\\DL\\project\\project_files\\dataset\\Theory of Automata in Urdu\\lec_01_segmented_bruh\\seg_1010\n",
      "D:\\OneDrive - Habib University\\acedemics\\semester5\\DL\\project\\project_files\\dataset\\Theory of Automata in Urdu\\lec_01_segmented_bruh\\seg_1011\n",
      "D:\\OneDrive - Habib University\\acedemics\\semester5\\DL\\project\\project_files\\dataset\\Theory of Automata in Urdu\\lec_01_segmented_bruh\\seg_1012\n",
      "D:\\OneDrive - Habib University\\acedemics\\semester5\\DL\\project\\project_files\\dataset\\Theory of Automata in Urdu\\lec_01_segmented_bruh\\seg_1013\n",
      "D:\\OneDrive - Habib University\\acedemics\\semester5\\DL\\project\\project_files\\dataset\\Theory of Automata in Urdu\\lec_01_segmented_bruh\\seg_1014\n",
      "D:\\OneDrive - Habib University\\acedemics\\semester5\\DL\\project\\project_files\\dataset\\Theory of Automata in Urdu\\lec_01_segmented_bruh\\seg_1015\n",
      "D:\\OneDrive - Habib University\\acedemics\\semester5\\DL\\project\\project_files\\dataset\\Theory of Automata in Urdu\\lec_01_segmented_bruh\\seg_1016\n",
      "D:\\OneDrive - Habib University\\acedemics\\semester5\\DL\\project\\project_files\\dataset\\Theory of Automata in Urdu\\lec_01_segmented_bruh\\seg_1017\n",
      "D:\\OneDrive - Habib University\\acedemics\\semester5\\DL\\project\\project_files\\dataset\\Theory of Automata in Urdu\\lec_01_segmented_bruh\\seg_1018\n",
      "D:\\OneDrive - Habib University\\acedemics\\semester5\\DL\\project\\project_files\\dataset\\Theory of Automata in Urdu\\lec_01_segmented_bruh\\seg_1019\n",
      "D:\\OneDrive - Habib University\\acedemics\\semester5\\DL\\project\\project_files\\dataset\\Theory of Automata in Urdu\\lec_01_segmented_bruh\\seg_1020\n",
      "D:\\OneDrive - Habib University\\acedemics\\semester5\\DL\\project\\project_files\\dataset\\Theory of Automata in Urdu\\lec_01_segmented_bruh\\seg_1021\n",
      "D:\\OneDrive - Habib University\\acedemics\\semester5\\DL\\project\\project_files\\dataset\\Theory of Automata in Urdu\\lec_01_segmented_bruh\\seg_1022\n",
      "D:\\OneDrive - Habib University\\acedemics\\semester5\\DL\\project\\project_files\\dataset\\Theory of Automata in Urdu\\lec_01_segmented_bruh\\seg_1023\n",
      "D:\\OneDrive - Habib University\\acedemics\\semester5\\DL\\project\\project_files\\dataset\\Theory of Automata in Urdu\\lec_01_segmented_bruh\\seg_1024\n",
      "D:\\OneDrive - Habib University\\acedemics\\semester5\\DL\\project\\project_files\\dataset\\Theory of Automata in Urdu\\lec_01_segmented_bruh\\seg_1025\n",
      "D:\\OneDrive - Habib University\\acedemics\\semester5\\DL\\project\\project_files\\dataset\\Theory of Automata in Urdu\\lec_01_segmented_bruh\\seg_1026\n",
      "D:\\OneDrive - Habib University\\acedemics\\semester5\\DL\\project\\project_files\\dataset\\Theory of Automata in Urdu\\lec_01_segmented_bruh\\seg_1027\n",
      "D:\\OneDrive - Habib University\\acedemics\\semester5\\DL\\project\\project_files\\dataset\\Theory of Automata in Urdu\\lec_01_segmented_bruh\\seg_1028\n",
      "D:\\OneDrive - Habib University\\acedemics\\semester5\\DL\\project\\project_files\\dataset\\Theory of Automata in Urdu\\lec_01_segmented_bruh\\seg_1029\n",
      "D:\\OneDrive - Habib University\\acedemics\\semester5\\DL\\project\\project_files\\dataset\\Theory of Automata in Urdu\\lec_01_segmented_bruh\\seg_1030\n",
      "D:\\OneDrive - Habib University\\acedemics\\semester5\\DL\\project\\project_files\\dataset\\Theory of Automata in Urdu\\lec_01_segmented_bruh\\seg_1031\n",
      "D:\\OneDrive - Habib University\\acedemics\\semester5\\DL\\project\\project_files\\dataset\\Theory of Automata in Urdu\\lec_01_segmented_bruh\\seg_1032\n",
      "D:\\OneDrive - Habib University\\acedemics\\semester5\\DL\\project\\project_files\\dataset\\Theory of Automata in Urdu\\lec_01_segmented_bruh\\seg_1033\n",
      "D:\\OneDrive - Habib University\\acedemics\\semester5\\DL\\project\\project_files\\dataset\\Theory of Automata in Urdu\\lec_01_segmented_bruh\\seg_1034\n",
      "D:\\OneDrive - Habib University\\acedemics\\semester5\\DL\\project\\project_files\\dataset\\Theory of Automata in Urdu\\lec_01_segmented_bruh\\seg_1035\n",
      "D:\\OneDrive - Habib University\\acedemics\\semester5\\DL\\project\\project_files\\dataset\\Theory of Automata in Urdu\\lec_01_segmented_bruh\\seg_1036\n",
      "D:\\OneDrive - Habib University\\acedemics\\semester5\\DL\\project\\project_files\\dataset\\Theory of Automata in Urdu\\lec_01_segmented_bruh\\seg_1037\n",
      "D:\\OneDrive - Habib University\\acedemics\\semester5\\DL\\project\\project_files\\dataset\\Theory of Automata in Urdu\\lec_01_segmented_bruh\\seg_1038\n",
      "D:\\OneDrive - Habib University\\acedemics\\semester5\\DL\\project\\project_files\\dataset\\Theory of Automata in Urdu\\lec_01_segmented_bruh\\seg_1039\n",
      "D:\\OneDrive - Habib University\\acedemics\\semester5\\DL\\project\\project_files\\dataset\\Theory of Automata in Urdu\\lec_01_segmented_bruh\\seg_1040\n",
      "D:\\OneDrive - Habib University\\acedemics\\semester5\\DL\\project\\project_files\\dataset\\Theory of Automata in Urdu\\lec_01_segmented_bruh\\seg_1041\n",
      "D:\\OneDrive - Habib University\\acedemics\\semester5\\DL\\project\\project_files\\dataset\\Theory of Automata in Urdu\\lec_01_segmented_bruh\\seg_1042\n",
      "D:\\OneDrive - Habib University\\acedemics\\semester5\\DL\\project\\project_files\\dataset\\Theory of Automata in Urdu\\lec_01_segmented_bruh\\seg_1043\n",
      "D:\\OneDrive - Habib University\\acedemics\\semester5\\DL\\project\\project_files\\dataset\\Theory of Automata in Urdu\\lec_01_segmented_bruh\\seg_1044\n",
      "D:\\OneDrive - Habib University\\acedemics\\semester5\\DL\\project\\project_files\\dataset\\Theory of Automata in Urdu\\lec_01_segmented_bruh\\seg_1045\n",
      "D:\\OneDrive - Habib University\\acedemics\\semester5\\DL\\project\\project_files\\dataset\\Theory of Automata in Urdu\\lec_01_segmented_bruh\\seg_1046\n",
      "D:\\OneDrive - Habib University\\acedemics\\semester5\\DL\\project\\project_files\\dataset\\Theory of Automata in Urdu\\lec_01_segmented_bruh\\seg_1047\n",
      "D:\\OneDrive - Habib University\\acedemics\\semester5\\DL\\project\\project_files\\dataset\\Theory of Automata in Urdu\\lec_01_segmented_bruh\\seg_1048\n",
      "D:\\OneDrive - Habib University\\acedemics\\semester5\\DL\\project\\project_files\\dataset\\Theory of Automata in Urdu\\lec_01_segmented_bruh\\seg_1049\n",
      "D:\\OneDrive - Habib University\\acedemics\\semester5\\DL\\project\\project_files\\dataset\\Theory of Automata in Urdu\\lec_01_segmented_bruh\\seg_1050\n",
      "D:\\OneDrive - Habib University\\acedemics\\semester5\\DL\\project\\project_files\\dataset\\Theory of Automata in Urdu\\lec_01_segmented_bruh\\seg_1051\n",
      "D:\\OneDrive - Habib University\\acedemics\\semester5\\DL\\project\\project_files\\dataset\\Theory of Automata in Urdu\\lec_01_segmented_bruh\\seg_1052\n",
      "D:\\OneDrive - Habib University\\acedemics\\semester5\\DL\\project\\project_files\\dataset\\Theory of Automata in Urdu\\lec_01_segmented_bruh\\seg_1053\n",
      "D:\\OneDrive - Habib University\\acedemics\\semester5\\DL\\project\\project_files\\dataset\\Theory of Automata in Urdu\\lec_01_segmented_bruh\\seg_1054\n",
      "D:\\OneDrive - Habib University\\acedemics\\semester5\\DL\\project\\project_files\\dataset\\Theory of Automata in Urdu\\lec_01_segmented_bruh\\seg_1055\n",
      "D:\\OneDrive - Habib University\\acedemics\\semester5\\DL\\project\\project_files\\dataset\\Theory of Automata in Urdu\\lec_01_segmented_bruh\\seg_1056\n",
      "D:\\OneDrive - Habib University\\acedemics\\semester5\\DL\\project\\project_files\\dataset\\Theory of Automata in Urdu\\lec_01_segmented_bruh\\seg_1057\n",
      "D:\\OneDrive - Habib University\\acedemics\\semester5\\DL\\project\\project_files\\dataset\\Theory of Automata in Urdu\\lec_01_segmented_bruh\\seg_1058\n",
      "D:\\OneDrive - Habib University\\acedemics\\semester5\\DL\\project\\project_files\\dataset\\Theory of Automata in Urdu\\lec_01_segmented_bruh\\seg_1059\n",
      "D:\\OneDrive - Habib University\\acedemics\\semester5\\DL\\project\\project_files\\dataset\\Theory of Automata in Urdu\\lec_01_segmented_bruh\\seg_1060\n",
      "D:\\OneDrive - Habib University\\acedemics\\semester5\\DL\\project\\project_files\\dataset\\Theory of Automata in Urdu\\lec_01_segmented_bruh\\seg_1061\n",
      "D:\\OneDrive - Habib University\\acedemics\\semester5\\DL\\project\\project_files\\dataset\\Theory of Automata in Urdu\\lec_01_segmented_bruh\\seg_1062\n",
      "D:\\OneDrive - Habib University\\acedemics\\semester5\\DL\\project\\project_files\\dataset\\Theory of Automata in Urdu\\lec_01_segmented_bruh\\seg_1063\n",
      "D:\\OneDrive - Habib University\\acedemics\\semester5\\DL\\project\\project_files\\dataset\\Theory of Automata in Urdu\\lec_01_segmented_bruh\\seg_1064\n",
      "D:\\OneDrive - Habib University\\acedemics\\semester5\\DL\\project\\project_files\\dataset\\Theory of Automata in Urdu\\lec_01_segmented_bruh\\seg_1065\n",
      "D:\\OneDrive - Habib University\\acedemics\\semester5\\DL\\project\\project_files\\dataset\\Theory of Automata in Urdu\\lec_01_segmented_bruh\\seg_1066\n",
      "D:\\OneDrive - Habib University\\acedemics\\semester5\\DL\\project\\project_files\\dataset\\Theory of Automata in Urdu\\lec_01_segmented_bruh\\seg_1067\n",
      "D:\\OneDrive - Habib University\\acedemics\\semester5\\DL\\project\\project_files\\dataset\\Theory of Automata in Urdu\\lec_01_segmented_bruh\\seg_1068\n",
      "D:\\OneDrive - Habib University\\acedemics\\semester5\\DL\\project\\project_files\\dataset\\Theory of Automata in Urdu\\lec_01_segmented_bruh\\seg_1069\n",
      "D:\\OneDrive - Habib University\\acedemics\\semester5\\DL\\project\\project_files\\dataset\\Theory of Automata in Urdu\\lec_01_segmented_bruh\\seg_1070\n",
      "D:\\OneDrive - Habib University\\acedemics\\semester5\\DL\\project\\project_files\\dataset\\Theory of Automata in Urdu\\lec_01_segmented_bruh\\seg_1071\n",
      "D:\\OneDrive - Habib University\\acedemics\\semester5\\DL\\project\\project_files\\dataset\\Theory of Automata in Urdu\\lec_01_segmented_bruh\\seg_1072\n",
      "D:\\OneDrive - Habib University\\acedemics\\semester5\\DL\\project\\project_files\\dataset\\Theory of Automata in Urdu\\lec_01_segmented_bruh\\seg_1073\n",
      "D:\\OneDrive - Habib University\\acedemics\\semester5\\DL\\project\\project_files\\dataset\\Theory of Automata in Urdu\\lec_01_segmented_bruh\\seg_1074\n",
      "D:\\OneDrive - Habib University\\acedemics\\semester5\\DL\\project\\project_files\\dataset\\Theory of Automata in Urdu\\lec_01_segmented_bruh\\seg_1075\n",
      "D:\\OneDrive - Habib University\\acedemics\\semester5\\DL\\project\\project_files\\dataset\\Theory of Automata in Urdu\\lec_01_segmented_bruh\\seg_1076\n",
      "D:\\OneDrive - Habib University\\acedemics\\semester5\\DL\\project\\project_files\\dataset\\Theory of Automata in Urdu\\lec_01_segmented_bruh\\seg_1077\n",
      "D:\\OneDrive - Habib University\\acedemics\\semester5\\DL\\project\\project_files\\dataset\\Theory of Automata in Urdu\\lec_01_segmented_bruh\\seg_1078\n",
      "D:\\OneDrive - Habib University\\acedemics\\semester5\\DL\\project\\project_files\\dataset\\Theory of Automata in Urdu\\lec_01_segmented_bruh\\seg_1079\n",
      "D:\\OneDrive - Habib University\\acedemics\\semester5\\DL\\project\\project_files\\dataset\\Theory of Automata in Urdu\\lec_01_segmented_bruh\\seg_1080\n",
      "D:\\OneDrive - Habib University\\acedemics\\semester5\\DL\\project\\project_files\\dataset\\Theory of Automata in Urdu\\lec_01_segmented_bruh\\seg_1081\n",
      "D:\\OneDrive - Habib University\\acedemics\\semester5\\DL\\project\\project_files\\dataset\\Theory of Automata in Urdu\\lec_01_segmented_bruh\\seg_1082\n",
      "D:\\OneDrive - Habib University\\acedemics\\semester5\\DL\\project\\project_files\\dataset\\Theory of Automata in Urdu\\lec_01_segmented_bruh\\seg_1083\n",
      "D:\\OneDrive - Habib University\\acedemics\\semester5\\DL\\project\\project_files\\dataset\\Theory of Automata in Urdu\\lec_01_segmented_bruh\\seg_1084\n",
      "D:\\OneDrive - Habib University\\acedemics\\semester5\\DL\\project\\project_files\\dataset\\Theory of Automata in Urdu\\lec_01_segmented_bruh\\seg_1085\n",
      "D:\\OneDrive - Habib University\\acedemics\\semester5\\DL\\project\\project_files\\dataset\\Theory of Automata in Urdu\\lec_01_segmented_bruh\\seg_1086\n",
      "D:\\OneDrive - Habib University\\acedemics\\semester5\\DL\\project\\project_files\\dataset\\Theory of Automata in Urdu\\lec_01_segmented_bruh\\seg_1087\n",
      "D:\\OneDrive - Habib University\\acedemics\\semester5\\DL\\project\\project_files\\dataset\\Theory of Automata in Urdu\\lec_01_segmented_bruh\\seg_1088\n",
      "D:\\OneDrive - Habib University\\acedemics\\semester5\\DL\\project\\project_files\\dataset\\Theory of Automata in Urdu\\lec_01_segmented_bruh\\seg_1089\n",
      "D:\\OneDrive - Habib University\\acedemics\\semester5\\DL\\project\\project_files\\dataset\\Theory of Automata in Urdu\\lec_01_segmented_bruh\\seg_1090\n",
      "D:\\OneDrive - Habib University\\acedemics\\semester5\\DL\\project\\project_files\\dataset\\Theory of Automata in Urdu\\lec_01_segmented_bruh\\seg_1091\n",
      "D:\\OneDrive - Habib University\\acedemics\\semester5\\DL\\project\\project_files\\dataset\\Theory of Automata in Urdu\\lec_01_segmented_bruh\\seg_1092\n",
      "D:\\OneDrive - Habib University\\acedemics\\semester5\\DL\\project\\project_files\\dataset\\Theory of Automata in Urdu\\lec_01_segmented_bruh\\seg_1093\n",
      "D:\\OneDrive - Habib University\\acedemics\\semester5\\DL\\project\\project_files\\dataset\\Theory of Automata in Urdu\\lec_01_segmented_bruh\\seg_1094\n",
      "D:\\OneDrive - Habib University\\acedemics\\semester5\\DL\\project\\project_files\\dataset\\Theory of Automata in Urdu\\lec_01_segmented_bruh\\seg_1095\n",
      "D:\\OneDrive - Habib University\\acedemics\\semester5\\DL\\project\\project_files\\dataset\\Theory of Automata in Urdu\\lec_01_segmented_bruh\\seg_1096\n",
      "D:\\OneDrive - Habib University\\acedemics\\semester5\\DL\\project\\project_files\\dataset\\Theory of Automata in Urdu\\lec_01_segmented_bruh\\seg_1097\n",
      "D:\\OneDrive - Habib University\\acedemics\\semester5\\DL\\project\\project_files\\dataset\\Theory of Automata in Urdu\\lec_01_segmented_bruh\\seg_1098\n",
      "D:\\OneDrive - Habib University\\acedemics\\semester5\\DL\\project\\project_files\\dataset\\Theory of Automata in Urdu\\lec_01_segmented_bruh\\seg_1099\n",
      "D:\\OneDrive - Habib University\\acedemics\\semester5\\DL\\project\\project_files\\dataset\\Theory of Automata in Urdu\\lec_01_segmented_bruh\\seg_1100\n",
      "D:\\OneDrive - Habib University\\acedemics\\semester5\\DL\\project\\project_files\\dataset\\Theory of Automata in Urdu\\lec_01_segmented_bruh\\seg_1101\n",
      "D:\\OneDrive - Habib University\\acedemics\\semester5\\DL\\project\\project_files\\dataset\\Theory of Automata in Urdu\\lec_01_segmented_bruh\\seg_1102\n",
      "D:\\OneDrive - Habib University\\acedemics\\semester5\\DL\\project\\project_files\\dataset\\Theory of Automata in Urdu\\lec_01_segmented_bruh\\seg_1103\n",
      "D:\\OneDrive - Habib University\\acedemics\\semester5\\DL\\project\\project_files\\dataset\\Theory of Automata in Urdu\\lec_01_segmented_bruh\\seg_1104\n",
      "D:\\OneDrive - Habib University\\acedemics\\semester5\\DL\\project\\project_files\\dataset\\Theory of Automata in Urdu\\lec_01_segmented_bruh\\seg_1105\n",
      "D:\\OneDrive - Habib University\\acedemics\\semester5\\DL\\project\\project_files\\dataset\\Theory of Automata in Urdu\\lec_01_segmented_bruh\\seg_1106\n",
      "D:\\OneDrive - Habib University\\acedemics\\semester5\\DL\\project\\project_files\\dataset\\Theory of Automata in Urdu\\lec_01_segmented_bruh\\seg_1107\n",
      "D:\\OneDrive - Habib University\\acedemics\\semester5\\DL\\project\\project_files\\dataset\\Theory of Automata in Urdu\\lec_01_segmented_bruh\\seg_1108\n",
      "D:\\OneDrive - Habib University\\acedemics\\semester5\\DL\\project\\project_files\\dataset\\Theory of Automata in Urdu\\lec_01_segmented_bruh\\seg_1109\n",
      "D:\\OneDrive - Habib University\\acedemics\\semester5\\DL\\project\\project_files\\dataset\\Theory of Automata in Urdu\\lec_01_segmented_bruh\\seg_1110\n",
      "D:\\OneDrive - Habib University\\acedemics\\semester5\\DL\\project\\project_files\\dataset\\Theory of Automata in Urdu\\lec_01_segmented_bruh\\seg_1111\n",
      "D:\\OneDrive - Habib University\\acedemics\\semester5\\DL\\project\\project_files\\dataset\\Theory of Automata in Urdu\\lec_01_segmented_bruh\\seg_1112\n",
      "D:\\OneDrive - Habib University\\acedemics\\semester5\\DL\\project\\project_files\\dataset\\Theory of Automata in Urdu\\lec_01_segmented_bruh\\seg_1113\n",
      "D:\\OneDrive - Habib University\\acedemics\\semester5\\DL\\project\\project_files\\dataset\\Theory of Automata in Urdu\\lec_01_segmented_bruh\\seg_1114\n",
      "D:\\OneDrive - Habib University\\acedemics\\semester5\\DL\\project\\project_files\\dataset\\Theory of Automata in Urdu\\lec_01_segmented_bruh\\seg_1115\n",
      "D:\\OneDrive - Habib University\\acedemics\\semester5\\DL\\project\\project_files\\dataset\\Theory of Automata in Urdu\\lec_01_segmented_bruh\\seg_1116\n",
      "D:\\OneDrive - Habib University\\acedemics\\semester5\\DL\\project\\project_files\\dataset\\Theory of Automata in Urdu\\lec_01_segmented_bruh\\seg_1117\n",
      "D:\\OneDrive - Habib University\\acedemics\\semester5\\DL\\project\\project_files\\dataset\\Theory of Automata in Urdu\\lec_01_segmented_bruh\\seg_1118\n",
      "D:\\OneDrive - Habib University\\acedemics\\semester5\\DL\\project\\project_files\\dataset\\Theory of Automata in Urdu\\lec_01_segmented_bruh\\seg_1119\n",
      "D:\\OneDrive - Habib University\\acedemics\\semester5\\DL\\project\\project_files\\dataset\\Theory of Automata in Urdu\\lec_01_segmented_bruh\\seg_1120\n",
      "D:\\OneDrive - Habib University\\acedemics\\semester5\\DL\\project\\project_files\\dataset\\Theory of Automata in Urdu\\lec_01_segmented_bruh\\seg_1121\n",
      "D:\\OneDrive - Habib University\\acedemics\\semester5\\DL\\project\\project_files\\dataset\\Theory of Automata in Urdu\\lec_01_segmented_bruh\\seg_1122\n",
      "D:\\OneDrive - Habib University\\acedemics\\semester5\\DL\\project\\project_files\\dataset\\Theory of Automata in Urdu\\lec_01_segmented_bruh\\seg_1123\n",
      "D:\\OneDrive - Habib University\\acedemics\\semester5\\DL\\project\\project_files\\dataset\\Theory of Automata in Urdu\\lec_01_segmented_bruh\\seg_1124\n",
      "D:\\OneDrive - Habib University\\acedemics\\semester5\\DL\\project\\project_files\\dataset\\Theory of Automata in Urdu\\lec_01_segmented_bruh\\seg_1125\n",
      "D:\\OneDrive - Habib University\\acedemics\\semester5\\DL\\project\\project_files\\dataset\\Theory of Automata in Urdu\\lec_01_segmented_bruh\\seg_1126\n",
      "D:\\OneDrive - Habib University\\acedemics\\semester5\\DL\\project\\project_files\\dataset\\Theory of Automata in Urdu\\lec_01_segmented_bruh\\seg_1127\n",
      "D:\\OneDrive - Habib University\\acedemics\\semester5\\DL\\project\\project_files\\dataset\\Theory of Automata in Urdu\\lec_01_segmented_bruh\\seg_1128\n",
      "D:\\OneDrive - Habib University\\acedemics\\semester5\\DL\\project\\project_files\\dataset\\Theory of Automata in Urdu\\lec_01_segmented_bruh\\seg_1129\n",
      "D:\\OneDrive - Habib University\\acedemics\\semester5\\DL\\project\\project_files\\dataset\\Theory of Automata in Urdu\\lec_01_segmented_bruh\\seg_1130\n",
      "D:\\OneDrive - Habib University\\acedemics\\semester5\\DL\\project\\project_files\\dataset\\Theory of Automata in Urdu\\lec_01_segmented_bruh\\seg_1131\n",
      "D:\\OneDrive - Habib University\\acedemics\\semester5\\DL\\project\\project_files\\dataset\\Theory of Automata in Urdu\\lec_01_segmented_bruh\\seg_1132\n",
      "D:\\OneDrive - Habib University\\acedemics\\semester5\\DL\\project\\project_files\\dataset\\Theory of Automata in Urdu\\lec_01_segmented_bruh\\seg_1133\n",
      "D:\\OneDrive - Habib University\\acedemics\\semester5\\DL\\project\\project_files\\dataset\\Theory of Automata in Urdu\\lec_01_segmented_bruh\\seg_1134\n",
      "D:\\OneDrive - Habib University\\acedemics\\semester5\\DL\\project\\project_files\\dataset\\Theory of Automata in Urdu\\lec_01_segmented_bruh\\seg_1135\n",
      "D:\\OneDrive - Habib University\\acedemics\\semester5\\DL\\project\\project_files\\dataset\\Theory of Automata in Urdu\\lec_01_segmented_bruh\\seg_1136\n",
      "D:\\OneDrive - Habib University\\acedemics\\semester5\\DL\\project\\project_files\\dataset\\Theory of Automata in Urdu\\lec_01_segmented_bruh\\seg_1137\n",
      "D:\\OneDrive - Habib University\\acedemics\\semester5\\DL\\project\\project_files\\dataset\\Theory of Automata in Urdu\\lec_01_segmented_bruh\\seg_1138\n",
      "D:\\OneDrive - Habib University\\acedemics\\semester5\\DL\\project\\project_files\\dataset\\Theory of Automata in Urdu\\lec_01_segmented_bruh\\seg_1139\n",
      "D:\\OneDrive - Habib University\\acedemics\\semester5\\DL\\project\\project_files\\dataset\\Theory of Automata in Urdu\\lec_01_segmented_bruh\\seg_1140\n",
      "D:\\OneDrive - Habib University\\acedemics\\semester5\\DL\\project\\project_files\\dataset\\Theory of Automata in Urdu\\lec_01_segmented_bruh\\seg_1141\n",
      "D:\\OneDrive - Habib University\\acedemics\\semester5\\DL\\project\\project_files\\dataset\\Theory of Automata in Urdu\\lec_01_segmented_bruh\\seg_1142\n",
      "D:\\OneDrive - Habib University\\acedemics\\semester5\\DL\\project\\project_files\\dataset\\Theory of Automata in Urdu\\lec_01_segmented_bruh\\seg_1143\n",
      "D:\\OneDrive - Habib University\\acedemics\\semester5\\DL\\project\\project_files\\dataset\\Theory of Automata in Urdu\\lec_01_segmented_bruh\\seg_1144\n",
      "D:\\OneDrive - Habib University\\acedemics\\semester5\\DL\\project\\project_files\\dataset\\Theory of Automata in Urdu\\lec_01_segmented_bruh\\seg_1145\n",
      "D:\\OneDrive - Habib University\\acedemics\\semester5\\DL\\project\\project_files\\dataset\\Theory of Automata in Urdu\\lec_01_segmented_bruh\\seg_1146\n",
      "D:\\OneDrive - Habib University\\acedemics\\semester5\\DL\\project\\project_files\\dataset\\Theory of Automata in Urdu\\lec_01_segmented_bruh\\seg_1147\n",
      "D:\\OneDrive - Habib University\\acedemics\\semester5\\DL\\project\\project_files\\dataset\\Theory of Automata in Urdu\\lec_01_segmented_bruh\\seg_1148\n",
      "D:\\OneDrive - Habib University\\acedemics\\semester5\\DL\\project\\project_files\\dataset\\Theory of Automata in Urdu\\lec_01_segmented_bruh\\seg_1149\n",
      "D:\\OneDrive - Habib University\\acedemics\\semester5\\DL\\project\\project_files\\dataset\\Theory of Automata in Urdu\\lec_01_segmented_bruh\\seg_1150\n",
      "D:\\OneDrive - Habib University\\acedemics\\semester5\\DL\\project\\project_files\\dataset\\Theory of Automata in Urdu\\lec_01_segmented_bruh\\seg_1151\n",
      "D:\\OneDrive - Habib University\\acedemics\\semester5\\DL\\project\\project_files\\dataset\\Theory of Automata in Urdu\\lec_01_segmented_bruh\\seg_1152\n",
      "D:\\OneDrive - Habib University\\acedemics\\semester5\\DL\\project\\project_files\\dataset\\Theory of Automata in Urdu\\lec_01_segmented_bruh\\seg_1153\n",
      "D:\\OneDrive - Habib University\\acedemics\\semester5\\DL\\project\\project_files\\dataset\\Theory of Automata in Urdu\\lec_01_segmented_bruh\\seg_1154\n",
      "D:\\OneDrive - Habib University\\acedemics\\semester5\\DL\\project\\project_files\\dataset\\Theory of Automata in Urdu\\lec_01_segmented_bruh\\seg_1155\n",
      "D:\\OneDrive - Habib University\\acedemics\\semester5\\DL\\project\\project_files\\dataset\\Theory of Automata in Urdu\\lec_01_segmented_bruh\\seg_1156\n",
      "D:\\OneDrive - Habib University\\acedemics\\semester5\\DL\\project\\project_files\\dataset\\Theory of Automata in Urdu\\lec_01_segmented_bruh\\seg_1157\n",
      "D:\\OneDrive - Habib University\\acedemics\\semester5\\DL\\project\\project_files\\dataset\\Theory of Automata in Urdu\\lec_01_segmented_bruh\\seg_1158\n",
      "D:\\OneDrive - Habib University\\acedemics\\semester5\\DL\\project\\project_files\\dataset\\Theory of Automata in Urdu\\lec_01_segmented_bruh\\seg_1159\n",
      "D:\\OneDrive - Habib University\\acedemics\\semester5\\DL\\project\\project_files\\dataset\\Theory of Automata in Urdu\\lec_01_segmented_bruh\\seg_1160\n",
      "D:\\OneDrive - Habib University\\acedemics\\semester5\\DL\\project\\project_files\\dataset\\Theory of Automata in Urdu\\lec_01_segmented_bruh\\seg_1161\n",
      "D:\\OneDrive - Habib University\\acedemics\\semester5\\DL\\project\\project_files\\dataset\\Theory of Automata in Urdu\\lec_01_segmented_bruh\\seg_1162\n",
      "D:\\OneDrive - Habib University\\acedemics\\semester5\\DL\\project\\project_files\\dataset\\Theory of Automata in Urdu\\lec_01_segmented_bruh\\seg_1163\n",
      "D:\\OneDrive - Habib University\\acedemics\\semester5\\DL\\project\\project_files\\dataset\\Theory of Automata in Urdu\\lec_01_segmented_bruh\\seg_1164\n",
      "D:\\OneDrive - Habib University\\acedemics\\semester5\\DL\\project\\project_files\\dataset\\Theory of Automata in Urdu\\lec_01_segmented_bruh\\seg_1165\n",
      "D:\\OneDrive - Habib University\\acedemics\\semester5\\DL\\project\\project_files\\dataset\\Theory of Automata in Urdu\\lec_01_segmented_bruh\\seg_1166\n",
      "D:\\OneDrive - Habib University\\acedemics\\semester5\\DL\\project\\project_files\\dataset\\Theory of Automata in Urdu\\lec_01_segmented_bruh\\seg_1167\n",
      "D:\\OneDrive - Habib University\\acedemics\\semester5\\DL\\project\\project_files\\dataset\\Theory of Automata in Urdu\\lec_01_segmented_bruh\\seg_1168\n",
      "D:\\OneDrive - Habib University\\acedemics\\semester5\\DL\\project\\project_files\\dataset\\Theory of Automata in Urdu\\lec_01_segmented_bruh\\seg_1169\n",
      "D:\\OneDrive - Habib University\\acedemics\\semester5\\DL\\project\\project_files\\dataset\\Theory of Automata in Urdu\\lec_01_segmented_bruh\\seg_1170\n",
      "D:\\OneDrive - Habib University\\acedemics\\semester5\\DL\\project\\project_files\\dataset\\Theory of Automata in Urdu\\lec_01_segmented_bruh\\seg_1171\n",
      "D:\\OneDrive - Habib University\\acedemics\\semester5\\DL\\project\\project_files\\dataset\\Theory of Automata in Urdu\\lec_01_segmented_bruh\\seg_1172\n",
      "D:\\OneDrive - Habib University\\acedemics\\semester5\\DL\\project\\project_files\\dataset\\Theory of Automata in Urdu\\lec_01_segmented_bruh\\seg_1173\n",
      "D:\\OneDrive - Habib University\\acedemics\\semester5\\DL\\project\\project_files\\dataset\\Theory of Automata in Urdu\\lec_01_segmented_bruh\\seg_1174\n",
      "D:\\OneDrive - Habib University\\acedemics\\semester5\\DL\\project\\project_files\\dataset\\Theory of Automata in Urdu\\lec_01_segmented_bruh\\seg_1175\n",
      "D:\\OneDrive - Habib University\\acedemics\\semester5\\DL\\project\\project_files\\dataset\\Theory of Automata in Urdu\\lec_01_segmented_bruh\\seg_1176\n",
      "D:\\OneDrive - Habib University\\acedemics\\semester5\\DL\\project\\project_files\\dataset\\Theory of Automata in Urdu\\lec_01_segmented_bruh\\seg_1177\n",
      "D:\\OneDrive - Habib University\\acedemics\\semester5\\DL\\project\\project_files\\dataset\\Theory of Automata in Urdu\\lec_01_segmented_bruh\\seg_1178\n",
      "D:\\OneDrive - Habib University\\acedemics\\semester5\\DL\\project\\project_files\\dataset\\Theory of Automata in Urdu\\lec_01_segmented_bruh\\seg_1179\n",
      "D:\\OneDrive - Habib University\\acedemics\\semester5\\DL\\project\\project_files\\dataset\\Theory of Automata in Urdu\\lec_01_segmented_bruh\\seg_1180\n",
      "D:\\OneDrive - Habib University\\acedemics\\semester5\\DL\\project\\project_files\\dataset\\Theory of Automata in Urdu\\lec_01_segmented_bruh\\seg_1181\n",
      "D:\\OneDrive - Habib University\\acedemics\\semester5\\DL\\project\\project_files\\dataset\\Theory of Automata in Urdu\\lec_01_segmented_bruh\\seg_1182\n",
      "D:\\OneDrive - Habib University\\acedemics\\semester5\\DL\\project\\project_files\\dataset\\Theory of Automata in Urdu\\lec_01_segmented_bruh\\seg_1183\n",
      "D:\\OneDrive - Habib University\\acedemics\\semester5\\DL\\project\\project_files\\dataset\\Theory of Automata in Urdu\\lec_01_segmented_bruh\\seg_1184\n",
      "D:\\OneDrive - Habib University\\acedemics\\semester5\\DL\\project\\project_files\\dataset\\Theory of Automata in Urdu\\lec_01_segmented_bruh\\seg_1185\n",
      "D:\\OneDrive - Habib University\\acedemics\\semester5\\DL\\project\\project_files\\dataset\\Theory of Automata in Urdu\\lec_01_segmented_bruh\\seg_1186\n",
      "D:\\OneDrive - Habib University\\acedemics\\semester5\\DL\\project\\project_files\\dataset\\Theory of Automata in Urdu\\lec_01_segmented_bruh\\seg_1187\n",
      "D:\\OneDrive - Habib University\\acedemics\\semester5\\DL\\project\\project_files\\dataset\\Theory of Automata in Urdu\\lec_01_segmented_bruh\\seg_1188\n",
      "D:\\OneDrive - Habib University\\acedemics\\semester5\\DL\\project\\project_files\\dataset\\Theory of Automata in Urdu\\lec_01_segmented_bruh\\seg_1189\n",
      "D:\\OneDrive - Habib University\\acedemics\\semester5\\DL\\project\\project_files\\dataset\\Theory of Automata in Urdu\\lec_01_segmented_bruh\\seg_1190\n",
      "D:\\OneDrive - Habib University\\acedemics\\semester5\\DL\\project\\project_files\\dataset\\Theory of Automata in Urdu\\lec_01_segmented_bruh\\seg_1191\n",
      "D:\\OneDrive - Habib University\\acedemics\\semester5\\DL\\project\\project_files\\dataset\\Theory of Automata in Urdu\\lec_01_segmented_bruh\\seg_1192\n",
      "D:\\OneDrive - Habib University\\acedemics\\semester5\\DL\\project\\project_files\\dataset\\Theory of Automata in Urdu\\lec_01_segmented_bruh\\seg_1193\n",
      "D:\\OneDrive - Habib University\\acedemics\\semester5\\DL\\project\\project_files\\dataset\\Theory of Automata in Urdu\\lec_01_segmented_bruh\\seg_1194\n",
      "D:\\OneDrive - Habib University\\acedemics\\semester5\\DL\\project\\project_files\\dataset\\Theory of Automata in Urdu\\lec_01_segmented_bruh\\seg_1195\n",
      "D:\\OneDrive - Habib University\\acedemics\\semester5\\DL\\project\\project_files\\dataset\\Theory of Automata in Urdu\\lec_01_segmented_bruh\\seg_1196\n",
      "D:\\OneDrive - Habib University\\acedemics\\semester5\\DL\\project\\project_files\\dataset\\Theory of Automata in Urdu\\lec_01_segmented_bruh\\seg_1197\n",
      "D:\\OneDrive - Habib University\\acedemics\\semester5\\DL\\project\\project_files\\dataset\\Theory of Automata in Urdu\\lec_01_segmented_bruh\\seg_1198\n",
      "D:\\OneDrive - Habib University\\acedemics\\semester5\\DL\\project\\project_files\\dataset\\Theory of Automata in Urdu\\lec_01_segmented_bruh\\seg_1199\n",
      "D:\\OneDrive - Habib University\\acedemics\\semester5\\DL\\project\\project_files\\dataset\\Theory of Automata in Urdu\\lec_01_segmented_bruh\\seg_1200\n",
      "D:\\OneDrive - Habib University\\acedemics\\semester5\\DL\\project\\project_files\\dataset\\Theory of Automata in Urdu\\lec_01_segmented_bruh\\seg_1201\n",
      "D:\\OneDrive - Habib University\\acedemics\\semester5\\DL\\project\\project_files\\dataset\\Theory of Automata in Urdu\\lec_01_segmented_bruh\\seg_1202\n",
      "D:\\OneDrive - Habib University\\acedemics\\semester5\\DL\\project\\project_files\\dataset\\Theory of Automata in Urdu\\lec_01_segmented_bruh\\seg_1203\n",
      "D:\\OneDrive - Habib University\\acedemics\\semester5\\DL\\project\\project_files\\dataset\\Theory of Automata in Urdu\\lec_01_segmented_bruh\\seg_1204\n",
      "D:\\OneDrive - Habib University\\acedemics\\semester5\\DL\\project\\project_files\\dataset\\Theory of Automata in Urdu\\lec_01_segmented_bruh\\seg_1205\n",
      "D:\\OneDrive - Habib University\\acedemics\\semester5\\DL\\project\\project_files\\dataset\\Theory of Automata in Urdu\\lec_01_segmented_bruh\\seg_1206\n",
      "D:\\OneDrive - Habib University\\acedemics\\semester5\\DL\\project\\project_files\\dataset\\Theory of Automata in Urdu\\lec_01_segmented_bruh\\seg_1207\n",
      "D:\\OneDrive - Habib University\\acedemics\\semester5\\DL\\project\\project_files\\dataset\\Theory of Automata in Urdu\\lec_01_segmented_bruh\\seg_1208\n",
      "D:\\OneDrive - Habib University\\acedemics\\semester5\\DL\\project\\project_files\\dataset\\Theory of Automata in Urdu\\lec_01_segmented_bruh\\seg_1209\n",
      "D:\\OneDrive - Habib University\\acedemics\\semester5\\DL\\project\\project_files\\dataset\\Theory of Automata in Urdu\\lec_01_segmented_bruh\\seg_1210\n",
      "D:\\OneDrive - Habib University\\acedemics\\semester5\\DL\\project\\project_files\\dataset\\Theory of Automata in Urdu\\lec_01_segmented_bruh\\seg_1211\n",
      "D:\\OneDrive - Habib University\\acedemics\\semester5\\DL\\project\\project_files\\dataset\\Theory of Automata in Urdu\\lec_01_segmented_bruh\\seg_1212\n",
      "D:\\OneDrive - Habib University\\acedemics\\semester5\\DL\\project\\project_files\\dataset\\Theory of Automata in Urdu\\lec_01_segmented_bruh\\seg_1213\n",
      "D:\\OneDrive - Habib University\\acedemics\\semester5\\DL\\project\\project_files\\dataset\\Theory of Automata in Urdu\\lec_01_segmented_bruh\\seg_1214\n",
      "D:\\OneDrive - Habib University\\acedemics\\semester5\\DL\\project\\project_files\\dataset\\Theory of Automata in Urdu\\lec_01_segmented_bruh\\seg_1215\n",
      "D:\\OneDrive - Habib University\\acedemics\\semester5\\DL\\project\\project_files\\dataset\\Theory of Automata in Urdu\\lec_01_segmented_bruh\\seg_1216\n",
      "D:\\OneDrive - Habib University\\acedemics\\semester5\\DL\\project\\project_files\\dataset\\Theory of Automata in Urdu\\lec_01_segmented_bruh\\seg_1217\n",
      "D:\\OneDrive - Habib University\\acedemics\\semester5\\DL\\project\\project_files\\dataset\\Theory of Automata in Urdu\\lec_01_segmented_bruh\\seg_1218\n",
      "D:\\OneDrive - Habib University\\acedemics\\semester5\\DL\\project\\project_files\\dataset\\Theory of Automata in Urdu\\lec_01_segmented_bruh\\seg_1219\n",
      "D:\\OneDrive - Habib University\\acedemics\\semester5\\DL\\project\\project_files\\dataset\\Theory of Automata in Urdu\\lec_01_segmented_bruh\\seg_1220\n",
      "D:\\OneDrive - Habib University\\acedemics\\semester5\\DL\\project\\project_files\\dataset\\Theory of Automata in Urdu\\lec_01_segmented_bruh\\seg_1221\n",
      "D:\\OneDrive - Habib University\\acedemics\\semester5\\DL\\project\\project_files\\dataset\\Theory of Automata in Urdu\\lec_01_segmented_bruh\\seg_1222\n",
      "D:\\OneDrive - Habib University\\acedemics\\semester5\\DL\\project\\project_files\\dataset\\Theory of Automata in Urdu\\lec_01_segmented_bruh\\seg_1223\n",
      "D:\\OneDrive - Habib University\\acedemics\\semester5\\DL\\project\\project_files\\dataset\\Theory of Automata in Urdu\\lec_01_segmented_bruh\\seg_1224\n",
      "D:\\OneDrive - Habib University\\acedemics\\semester5\\DL\\project\\project_files\\dataset\\Theory of Automata in Urdu\\lec_01_segmented_bruh\\seg_1225\n",
      "D:\\OneDrive - Habib University\\acedemics\\semester5\\DL\\project\\project_files\\dataset\\Theory of Automata in Urdu\\lec_01_segmented_bruh\\seg_1226\n",
      "D:\\OneDrive - Habib University\\acedemics\\semester5\\DL\\project\\project_files\\dataset\\Theory of Automata in Urdu\\lec_01_segmented_bruh\\seg_1227\n",
      "D:\\OneDrive - Habib University\\acedemics\\semester5\\DL\\project\\project_files\\dataset\\Theory of Automata in Urdu\\lec_01_segmented_bruh\\seg_1228\n",
      "D:\\OneDrive - Habib University\\acedemics\\semester5\\DL\\project\\project_files\\dataset\\Theory of Automata in Urdu\\lec_01_segmented_bruh\\seg_1229\n",
      "D:\\OneDrive - Habib University\\acedemics\\semester5\\DL\\project\\project_files\\dataset\\Theory of Automata in Urdu\\lec_01_segmented_bruh\\seg_1230\n",
      "D:\\OneDrive - Habib University\\acedemics\\semester5\\DL\\project\\project_files\\dataset\\Theory of Automata in Urdu\\lec_01_segmented_bruh\\seg_1231\n",
      "D:\\OneDrive - Habib University\\acedemics\\semester5\\DL\\project\\project_files\\dataset\\Theory of Automata in Urdu\\lec_01_segmented_bruh\\seg_1232\n",
      "D:\\OneDrive - Habib University\\acedemics\\semester5\\DL\\project\\project_files\\dataset\\Theory of Automata in Urdu\\lec_01_segmented_bruh\\seg_1233\n",
      "D:\\OneDrive - Habib University\\acedemics\\semester5\\DL\\project\\project_files\\dataset\\Theory of Automata in Urdu\\lec_01_segmented_bruh\\seg_1234\n",
      "D:\\OneDrive - Habib University\\acedemics\\semester5\\DL\\project\\project_files\\dataset\\Theory of Automata in Urdu\\lec_01_segmented_bruh\\seg_1235\n",
      "D:\\OneDrive - Habib University\\acedemics\\semester5\\DL\\project\\project_files\\dataset\\Theory of Automata in Urdu\\lec_01_segmented_bruh\\seg_1236\n",
      "D:\\OneDrive - Habib University\\acedemics\\semester5\\DL\\project\\project_files\\dataset\\Theory of Automata in Urdu\\lec_01_segmented_bruh\\seg_1237\n",
      "D:\\OneDrive - Habib University\\acedemics\\semester5\\DL\\project\\project_files\\dataset\\Theory of Automata in Urdu\\lec_01_segmented_bruh\\seg_1238\n",
      "D:\\OneDrive - Habib University\\acedemics\\semester5\\DL\\project\\project_files\\dataset\\Theory of Automata in Urdu\\lec_01_segmented_bruh\\seg_1239\n",
      "D:\\OneDrive - Habib University\\acedemics\\semester5\\DL\\project\\project_files\\dataset\\Theory of Automata in Urdu\\lec_01_segmented_bruh\\seg_1240\n",
      "D:\\OneDrive - Habib University\\acedemics\\semester5\\DL\\project\\project_files\\dataset\\Theory of Automata in Urdu\\lec_01_segmented_bruh\\seg_1241\n",
      "D:\\OneDrive - Habib University\\acedemics\\semester5\\DL\\project\\project_files\\dataset\\Theory of Automata in Urdu\\lec_01_segmented_bruh\\seg_1242\n",
      "D:\\OneDrive - Habib University\\acedemics\\semester5\\DL\\project\\project_files\\dataset\\Theory of Automata in Urdu\\lec_01_segmented_bruh\\seg_1243\n",
      "D:\\OneDrive - Habib University\\acedemics\\semester5\\DL\\project\\project_files\\dataset\\Theory of Automata in Urdu\\lec_01_segmented_bruh\\seg_1244\n",
      "D:\\OneDrive - Habib University\\acedemics\\semester5\\DL\\project\\project_files\\dataset\\Theory of Automata in Urdu\\lec_01_segmented_bruh\\seg_1245\n",
      "D:\\OneDrive - Habib University\\acedemics\\semester5\\DL\\project\\project_files\\dataset\\Theory of Automata in Urdu\\lec_01_segmented_bruh\\seg_1246\n",
      "D:\\OneDrive - Habib University\\acedemics\\semester5\\DL\\project\\project_files\\dataset\\Theory of Automata in Urdu\\lec_01_segmented_bruh\\seg_1247\n",
      "D:\\OneDrive - Habib University\\acedemics\\semester5\\DL\\project\\project_files\\dataset\\Theory of Automata in Urdu\\lec_01_segmented_bruh\\seg_1248\n",
      "D:\\OneDrive - Habib University\\acedemics\\semester5\\DL\\project\\project_files\\dataset\\Theory of Automata in Urdu\\lec_01_segmented_bruh\\seg_1249\n",
      "D:\\OneDrive - Habib University\\acedemics\\semester5\\DL\\project\\project_files\\dataset\\Theory of Automata in Urdu\\lec_01_segmented_bruh\\seg_1250\n",
      "D:\\OneDrive - Habib University\\acedemics\\semester5\\DL\\project\\project_files\\dataset\\Theory of Automata in Urdu\\lec_01_segmented_bruh\\seg_1251\n",
      "D:\\OneDrive - Habib University\\acedemics\\semester5\\DL\\project\\project_files\\dataset\\Theory of Automata in Urdu\\lec_01_segmented_bruh\\seg_1252\n",
      "D:\\OneDrive - Habib University\\acedemics\\semester5\\DL\\project\\project_files\\dataset\\Theory of Automata in Urdu\\lec_01_segmented_bruh\\seg_1253\n",
      "D:\\OneDrive - Habib University\\acedemics\\semester5\\DL\\project\\project_files\\dataset\\Theory of Automata in Urdu\\lec_01_segmented_bruh\\seg_1254\n",
      "D:\\OneDrive - Habib University\\acedemics\\semester5\\DL\\project\\project_files\\dataset\\Theory of Automata in Urdu\\lec_01_segmented_bruh\\seg_1255\n",
      "D:\\OneDrive - Habib University\\acedemics\\semester5\\DL\\project\\project_files\\dataset\\Theory of Automata in Urdu\\lec_01_segmented_bruh\\seg_1256\n",
      "D:\\OneDrive - Habib University\\acedemics\\semester5\\DL\\project\\project_files\\dataset\\Theory of Automata in Urdu\\lec_01_segmented_bruh\\seg_1257\n",
      "D:\\OneDrive - Habib University\\acedemics\\semester5\\DL\\project\\project_files\\dataset\\Theory of Automata in Urdu\\lec_01_segmented_bruh\\seg_1258\n",
      "D:\\OneDrive - Habib University\\acedemics\\semester5\\DL\\project\\project_files\\dataset\\Theory of Automata in Urdu\\lec_01_segmented_bruh\\seg_1259\n",
      "D:\\OneDrive - Habib University\\acedemics\\semester5\\DL\\project\\project_files\\dataset\\Theory of Automata in Urdu\\lec_01_segmented_bruh\\seg_1260\n",
      "D:\\OneDrive - Habib University\\acedemics\\semester5\\DL\\project\\project_files\\dataset\\Theory of Automata in Urdu\\lec_01_segmented_bruh\\seg_1261\n",
      "D:\\OneDrive - Habib University\\acedemics\\semester5\\DL\\project\\project_files\\dataset\\Theory of Automata in Urdu\\lec_01_segmented_bruh\\seg_1262\n",
      "D:\\OneDrive - Habib University\\acedemics\\semester5\\DL\\project\\project_files\\dataset\\Theory of Automata in Urdu\\lec_01_segmented_bruh\\seg_1263\n",
      "D:\\OneDrive - Habib University\\acedemics\\semester5\\DL\\project\\project_files\\dataset\\Theory of Automata in Urdu\\lec_01_segmented_bruh\\seg_1264\n",
      "D:\\OneDrive - Habib University\\acedemics\\semester5\\DL\\project\\project_files\\dataset\\Theory of Automata in Urdu\\lec_01_segmented_bruh\\seg_1265\n",
      "D:\\OneDrive - Habib University\\acedemics\\semester5\\DL\\project\\project_files\\dataset\\Theory of Automata in Urdu\\lec_01_segmented_bruh\\seg_1266\n",
      "D:\\OneDrive - Habib University\\acedemics\\semester5\\DL\\project\\project_files\\dataset\\Theory of Automata in Urdu\\lec_01_segmented_bruh\\seg_1267\n",
      "D:\\OneDrive - Habib University\\acedemics\\semester5\\DL\\project\\project_files\\dataset\\Theory of Automata in Urdu\\lec_01_segmented_bruh\\seg_1268\n",
      "D:\\OneDrive - Habib University\\acedemics\\semester5\\DL\\project\\project_files\\dataset\\Theory of Automata in Urdu\\lec_01_segmented_bruh\\seg_1269\n",
      "D:\\OneDrive - Habib University\\acedemics\\semester5\\DL\\project\\project_files\\dataset\\Theory of Automata in Urdu\\lec_01_segmented_bruh\\seg_1270\n",
      "D:\\OneDrive - Habib University\\acedemics\\semester5\\DL\\project\\project_files\\dataset\\Theory of Automata in Urdu\\lec_01_segmented_bruh\\seg_1271\n",
      "D:\\OneDrive - Habib University\\acedemics\\semester5\\DL\\project\\project_files\\dataset\\Theory of Automata in Urdu\\lec_01_segmented_bruh\\seg_1272\n",
      "D:\\OneDrive - Habib University\\acedemics\\semester5\\DL\\project\\project_files\\dataset\\Theory of Automata in Urdu\\lec_01_segmented_bruh\\seg_1273\n",
      "D:\\OneDrive - Habib University\\acedemics\\semester5\\DL\\project\\project_files\\dataset\\Theory of Automata in Urdu\\lec_01_segmented_bruh\\seg_1274\n",
      "D:\\OneDrive - Habib University\\acedemics\\semester5\\DL\\project\\project_files\\dataset\\Theory of Automata in Urdu\\lec_01_segmented_bruh\\seg_1275\n",
      "D:\\OneDrive - Habib University\\acedemics\\semester5\\DL\\project\\project_files\\dataset\\Theory of Automata in Urdu\\lec_01_segmented_bruh\\seg_1276\n",
      "D:\\OneDrive - Habib University\\acedemics\\semester5\\DL\\project\\project_files\\dataset\\Theory of Automata in Urdu\\lec_01_segmented_bruh\\seg_1277\n",
      "D:\\OneDrive - Habib University\\acedemics\\semester5\\DL\\project\\project_files\\dataset\\Theory of Automata in Urdu\\lec_01_segmented_bruh\\seg_1278\n",
      "D:\\OneDrive - Habib University\\acedemics\\semester5\\DL\\project\\project_files\\dataset\\Theory of Automata in Urdu\\lec_01_segmented_bruh\\seg_1279\n",
      "D:\\OneDrive - Habib University\\acedemics\\semester5\\DL\\project\\project_files\\dataset\\Theory of Automata in Urdu\\lec_01_segmented_bruh\\seg_1280\n",
      "D:\\OneDrive - Habib University\\acedemics\\semester5\\DL\\project\\project_files\\dataset\\Theory of Automata in Urdu\\lec_01_segmented_bruh\\seg_1281\n",
      "D:\\OneDrive - Habib University\\acedemics\\semester5\\DL\\project\\project_files\\dataset\\Theory of Automata in Urdu\\lec_01_segmented_bruh\\seg_1282\n",
      "D:\\OneDrive - Habib University\\acedemics\\semester5\\DL\\project\\project_files\\dataset\\Theory of Automata in Urdu\\lec_01_segmented_bruh\\seg_1283\n",
      "D:\\OneDrive - Habib University\\acedemics\\semester5\\DL\\project\\project_files\\dataset\\Theory of Automata in Urdu\\lec_01_segmented_bruh\\seg_1284\n",
      "D:\\OneDrive - Habib University\\acedemics\\semester5\\DL\\project\\project_files\\dataset\\Theory of Automata in Urdu\\lec_01_segmented_bruh\\seg_1285\n",
      "D:\\OneDrive - Habib University\\acedemics\\semester5\\DL\\project\\project_files\\dataset\\Theory of Automata in Urdu\\lec_01_segmented_bruh\\seg_1286\n",
      "D:\\OneDrive - Habib University\\acedemics\\semester5\\DL\\project\\project_files\\dataset\\Theory of Automata in Urdu\\lec_01_segmented_bruh\\seg_1287\n",
      "D:\\OneDrive - Habib University\\acedemics\\semester5\\DL\\project\\project_files\\dataset\\Theory of Automata in Urdu\\lec_01_segmented_bruh\\seg_1288\n",
      "D:\\OneDrive - Habib University\\acedemics\\semester5\\DL\\project\\project_files\\dataset\\Theory of Automata in Urdu\\lec_01_segmented_bruh\\seg_1289\n",
      "D:\\OneDrive - Habib University\\acedemics\\semester5\\DL\\project\\project_files\\dataset\\Theory of Automata in Urdu\\lec_01_segmented_bruh\\seg_1290\n",
      "D:\\OneDrive - Habib University\\acedemics\\semester5\\DL\\project\\project_files\\dataset\\Theory of Automata in Urdu\\lec_01_segmented_bruh\\seg_1291\n",
      "D:\\OneDrive - Habib University\\acedemics\\semester5\\DL\\project\\project_files\\dataset\\Theory of Automata in Urdu\\lec_01_segmented_bruh\\seg_1292\n",
      "D:\\OneDrive - Habib University\\acedemics\\semester5\\DL\\project\\project_files\\dataset\\Theory of Automata in Urdu\\lec_01_segmented_bruh\\seg_1293\n",
      "D:\\OneDrive - Habib University\\acedemics\\semester5\\DL\\project\\project_files\\dataset\\Theory of Automata in Urdu\\lec_01_segmented_bruh\\seg_1294\n",
      "D:\\OneDrive - Habib University\\acedemics\\semester5\\DL\\project\\project_files\\dataset\\Theory of Automata in Urdu\\lec_01_segmented_bruh\\seg_1295\n",
      "D:\\OneDrive - Habib University\\acedemics\\semester5\\DL\\project\\project_files\\dataset\\Theory of Automata in Urdu\\lec_01_segmented_bruh\\seg_1296\n",
      "D:\\OneDrive - Habib University\\acedemics\\semester5\\DL\\project\\project_files\\dataset\\Theory of Automata in Urdu\\lec_01_segmented_bruh\\seg_1297\n",
      "D:\\OneDrive - Habib University\\acedemics\\semester5\\DL\\project\\project_files\\dataset\\Theory of Automata in Urdu\\lec_01_segmented_bruh\\seg_1298\n",
      "D:\\OneDrive - Habib University\\acedemics\\semester5\\DL\\project\\project_files\\dataset\\Theory of Automata in Urdu\\lec_01_segmented_bruh\\seg_1299\n",
      "D:\\OneDrive - Habib University\\acedemics\\semester5\\DL\\project\\project_files\\dataset\\Theory of Automata in Urdu\\lec_01_segmented_bruh\\seg_1300\n",
      "D:\\OneDrive - Habib University\\acedemics\\semester5\\DL\\project\\project_files\\dataset\\Theory of Automata in Urdu\\lec_01_segmented_bruh\\seg_1301\n",
      "D:\\OneDrive - Habib University\\acedemics\\semester5\\DL\\project\\project_files\\dataset\\Theory of Automata in Urdu\\lec_01_segmented_bruh\\seg_1302\n",
      "D:\\OneDrive - Habib University\\acedemics\\semester5\\DL\\project\\project_files\\dataset\\Theory of Automata in Urdu\\lec_01_segmented_bruh\\seg_1303\n",
      "D:\\OneDrive - Habib University\\acedemics\\semester5\\DL\\project\\project_files\\dataset\\Theory of Automata in Urdu\\lec_01_segmented_bruh\\seg_1304\n",
      "D:\\OneDrive - Habib University\\acedemics\\semester5\\DL\\project\\project_files\\dataset\\Theory of Automata in Urdu\\lec_01_segmented_bruh\\seg_1305\n",
      "D:\\OneDrive - Habib University\\acedemics\\semester5\\DL\\project\\project_files\\dataset\\Theory of Automata in Urdu\\lec_01_segmented_bruh\\seg_1306\n",
      "D:\\OneDrive - Habib University\\acedemics\\semester5\\DL\\project\\project_files\\dataset\\Theory of Automata in Urdu\\lec_01_segmented_bruh\\seg_1307\n",
      "D:\\OneDrive - Habib University\\acedemics\\semester5\\DL\\project\\project_files\\dataset\\Theory of Automata in Urdu\\lec_01_segmented_bruh\\seg_1308\n",
      "D:\\OneDrive - Habib University\\acedemics\\semester5\\DL\\project\\project_files\\dataset\\Theory of Automata in Urdu\\lec_01_segmented_bruh\\seg_1309\n",
      "D:\\OneDrive - Habib University\\acedemics\\semester5\\DL\\project\\project_files\\dataset\\Theory of Automata in Urdu\\lec_01_segmented_bruh\\seg_1310\n",
      "D:\\OneDrive - Habib University\\acedemics\\semester5\\DL\\project\\project_files\\dataset\\Theory of Automata in Urdu\\lec_01_segmented_bruh\\seg_1311\n",
      "D:\\OneDrive - Habib University\\acedemics\\semester5\\DL\\project\\project_files\\dataset\\Theory of Automata in Urdu\\lec_01_segmented_bruh\\seg_1312\n",
      "D:\\OneDrive - Habib University\\acedemics\\semester5\\DL\\project\\project_files\\dataset\\Theory of Automata in Urdu\\lec_01_segmented_bruh\\seg_1313\n",
      "D:\\OneDrive - Habib University\\acedemics\\semester5\\DL\\project\\project_files\\dataset\\Theory of Automata in Urdu\\lec_01_segmented_bruh\\seg_1314\n",
      "D:\\OneDrive - Habib University\\acedemics\\semester5\\DL\\project\\project_files\\dataset\\Theory of Automata in Urdu\\lec_01_segmented_bruh\\seg_1315\n",
      "D:\\OneDrive - Habib University\\acedemics\\semester5\\DL\\project\\project_files\\dataset\\Theory of Automata in Urdu\\lec_01_segmented_bruh\\seg_1316\n",
      "D:\\OneDrive - Habib University\\acedemics\\semester5\\DL\\project\\project_files\\dataset\\Theory of Automata in Urdu\\lec_01_segmented_bruh\\seg_1317\n",
      "D:\\OneDrive - Habib University\\acedemics\\semester5\\DL\\project\\project_files\\dataset\\Theory of Automata in Urdu\\lec_01_segmented_bruh\\seg_1318\n",
      "D:\\OneDrive - Habib University\\acedemics\\semester5\\DL\\project\\project_files\\dataset\\Theory of Automata in Urdu\\lec_01_segmented_bruh\\seg_1319\n",
      "D:\\OneDrive - Habib University\\acedemics\\semester5\\DL\\project\\project_files\\dataset\\Theory of Automata in Urdu\\lec_01_segmented_bruh\\seg_1320\n",
      "D:\\OneDrive - Habib University\\acedemics\\semester5\\DL\\project\\project_files\\dataset\\Theory of Automata in Urdu\\lec_01_segmented_bruh\\seg_1321\n",
      "D:\\OneDrive - Habib University\\acedemics\\semester5\\DL\\project\\project_files\\dataset\\Theory of Automata in Urdu\\lec_01_segmented_bruh\\seg_1322\n",
      "D:\\OneDrive - Habib University\\acedemics\\semester5\\DL\\project\\project_files\\dataset\\Theory of Automata in Urdu\\lec_01_segmented_bruh\\seg_1323\n",
      "D:\\OneDrive - Habib University\\acedemics\\semester5\\DL\\project\\project_files\\dataset\\Theory of Automata in Urdu\\lec_01_segmented_bruh\\seg_1324\n",
      "D:\\OneDrive - Habib University\\acedemics\\semester5\\DL\\project\\project_files\\dataset\\Theory of Automata in Urdu\\lec_01_segmented_bruh\\seg_1325\n",
      "D:\\OneDrive - Habib University\\acedemics\\semester5\\DL\\project\\project_files\\dataset\\Theory of Automata in Urdu\\lec_01_segmented_bruh\\seg_1326\n",
      "D:\\OneDrive - Habib University\\acedemics\\semester5\\DL\\project\\project_files\\dataset\\Theory of Automata in Urdu\\lec_01_segmented_bruh\\seg_1327\n",
      "D:\\OneDrive - Habib University\\acedemics\\semester5\\DL\\project\\project_files\\dataset\\Theory of Automata in Urdu\\lec_01_segmented_bruh\\seg_1328\n",
      "D:\\OneDrive - Habib University\\acedemics\\semester5\\DL\\project\\project_files\\dataset\\Theory of Automata in Urdu\\lec_01_segmented_bruh\\seg_1329\n",
      "D:\\OneDrive - Habib University\\acedemics\\semester5\\DL\\project\\project_files\\dataset\\Theory of Automata in Urdu\\lec_01_segmented_bruh\\seg_1330\n",
      "D:\\OneDrive - Habib University\\acedemics\\semester5\\DL\\project\\project_files\\dataset\\Theory of Automata in Urdu\\lec_01_segmented_bruh\\seg_1331\n",
      "D:\\OneDrive - Habib University\\acedemics\\semester5\\DL\\project\\project_files\\dataset\\Theory of Automata in Urdu\\lec_01_segmented_bruh\\seg_1332\n",
      "D:\\OneDrive - Habib University\\acedemics\\semester5\\DL\\project\\project_files\\dataset\\Theory of Automata in Urdu\\lec_01_segmented_bruh\\seg_1333\n",
      "D:\\OneDrive - Habib University\\acedemics\\semester5\\DL\\project\\project_files\\dataset\\Theory of Automata in Urdu\\lec_01_segmented_bruh\\seg_1334\n",
      "D:\\OneDrive - Habib University\\acedemics\\semester5\\DL\\project\\project_files\\dataset\\Theory of Automata in Urdu\\lec_01_segmented_bruh\\seg_1335\n",
      "D:\\OneDrive - Habib University\\acedemics\\semester5\\DL\\project\\project_files\\dataset\\Theory of Automata in Urdu\\lec_01_segmented_bruh\\seg_1336\n",
      "D:\\OneDrive - Habib University\\acedemics\\semester5\\DL\\project\\project_files\\dataset\\Theory of Automata in Urdu\\lec_01_segmented_bruh\\seg_1337\n",
      "D:\\OneDrive - Habib University\\acedemics\\semester5\\DL\\project\\project_files\\dataset\\Theory of Automata in Urdu\\lec_01_segmented_bruh\\seg_1338\n",
      "D:\\OneDrive - Habib University\\acedemics\\semester5\\DL\\project\\project_files\\dataset\\Theory of Automata in Urdu\\lec_01_segmented_bruh\\seg_1339\n",
      "D:\\OneDrive - Habib University\\acedemics\\semester5\\DL\\project\\project_files\\dataset\\Theory of Automata in Urdu\\lec_01_segmented_bruh\\seg_1340\n",
      "D:\\OneDrive - Habib University\\acedemics\\semester5\\DL\\project\\project_files\\dataset\\Theory of Automata in Urdu\\lec_01_segmented_bruh\\seg_1341\n",
      "D:\\OneDrive - Habib University\\acedemics\\semester5\\DL\\project\\project_files\\dataset\\Theory of Automata in Urdu\\lec_01_segmented_bruh\\seg_1342\n",
      "D:\\OneDrive - Habib University\\acedemics\\semester5\\DL\\project\\project_files\\dataset\\Theory of Automata in Urdu\\lec_01_segmented_bruh\\seg_1343\n",
      "D:\\OneDrive - Habib University\\acedemics\\semester5\\DL\\project\\project_files\\dataset\\Theory of Automata in Urdu\\lec_01_segmented_bruh\\seg_1344\n",
      "D:\\OneDrive - Habib University\\acedemics\\semester5\\DL\\project\\project_files\\dataset\\Theory of Automata in Urdu\\lec_01_segmented_bruh\\seg_1345\n",
      "D:\\OneDrive - Habib University\\acedemics\\semester5\\DL\\project\\project_files\\dataset\\Theory of Automata in Urdu\\lec_01_segmented_bruh\\seg_1346\n",
      "D:\\OneDrive - Habib University\\acedemics\\semester5\\DL\\project\\project_files\\dataset\\Theory of Automata in Urdu\\lec_01_segmented_bruh\\seg_1347\n",
      "D:\\OneDrive - Habib University\\acedemics\\semester5\\DL\\project\\project_files\\dataset\\Theory of Automata in Urdu\\lec_01_segmented_bruh\\seg_1348\n",
      "D:\\OneDrive - Habib University\\acedemics\\semester5\\DL\\project\\project_files\\dataset\\Theory of Automata in Urdu\\lec_01_segmented_bruh\\seg_1349\n",
      "D:\\OneDrive - Habib University\\acedemics\\semester5\\DL\\project\\project_files\\dataset\\Theory of Automata in Urdu\\lec_01_segmented_bruh\\seg_1350\n",
      "D:\\OneDrive - Habib University\\acedemics\\semester5\\DL\\project\\project_files\\dataset\\Theory of Automata in Urdu\\lec_01_segmented_bruh\\seg_1351\n",
      "D:\\OneDrive - Habib University\\acedemics\\semester5\\DL\\project\\project_files\\dataset\\Theory of Automata in Urdu\\lec_01_segmented_bruh\\seg_1352\n",
      "D:\\OneDrive - Habib University\\acedemics\\semester5\\DL\\project\\project_files\\dataset\\Theory of Automata in Urdu\\lec_01_segmented_bruh\\seg_1353\n",
      "D:\\OneDrive - Habib University\\acedemics\\semester5\\DL\\project\\project_files\\dataset\\Theory of Automata in Urdu\\lec_01_segmented_bruh\\seg_1354\n",
      "D:\\OneDrive - Habib University\\acedemics\\semester5\\DL\\project\\project_files\\dataset\\Theory of Automata in Urdu\\lec_01_segmented_bruh\\seg_1355\n",
      "D:\\OneDrive - Habib University\\acedemics\\semester5\\DL\\project\\project_files\\dataset\\Theory of Automata in Urdu\\lec_01_segmented_bruh\\seg_1356\n",
      "D:\\OneDrive - Habib University\\acedemics\\semester5\\DL\\project\\project_files\\dataset\\Theory of Automata in Urdu\\lec_01_segmented_bruh\\seg_1357\n",
      "D:\\OneDrive - Habib University\\acedemics\\semester5\\DL\\project\\project_files\\dataset\\Theory of Automata in Urdu\\lec_01_segmented_bruh\\seg_1358\n",
      "D:\\OneDrive - Habib University\\acedemics\\semester5\\DL\\project\\project_files\\dataset\\Theory of Automata in Urdu\\lec_01_segmented_bruh\\seg_1359\n",
      "D:\\OneDrive - Habib University\\acedemics\\semester5\\DL\\project\\project_files\\dataset\\Theory of Automata in Urdu\\lec_01_segmented_bruh\\seg_1360\n",
      "D:\\OneDrive - Habib University\\acedemics\\semester5\\DL\\project\\project_files\\dataset\\Theory of Automata in Urdu\\lec_01_segmented_bruh\\seg_1361\n",
      "D:\\OneDrive - Habib University\\acedemics\\semester5\\DL\\project\\project_files\\dataset\\Theory of Automata in Urdu\\lec_01_segmented_bruh\\seg_1362\n",
      "D:\\OneDrive - Habib University\\acedemics\\semester5\\DL\\project\\project_files\\dataset\\Theory of Automata in Urdu\\lec_01_segmented_bruh\\seg_1363\n",
      "D:\\OneDrive - Habib University\\acedemics\\semester5\\DL\\project\\project_files\\dataset\\Theory of Automata in Urdu\\lec_01_segmented_bruh\\seg_1364\n",
      "D:\\OneDrive - Habib University\\acedemics\\semester5\\DL\\project\\project_files\\dataset\\Theory of Automata in Urdu\\lec_01_segmented_bruh\\seg_1365\n",
      "D:\\OneDrive - Habib University\\acedemics\\semester5\\DL\\project\\project_files\\dataset\\Theory of Automata in Urdu\\lec_01_segmented_bruh\\seg_1366\n",
      "D:\\OneDrive - Habib University\\acedemics\\semester5\\DL\\project\\project_files\\dataset\\Theory of Automata in Urdu\\lec_01_segmented_bruh\\seg_1367\n",
      "D:\\OneDrive - Habib University\\acedemics\\semester5\\DL\\project\\project_files\\dataset\\Theory of Automata in Urdu\\lec_01_segmented_bruh\\seg_1368\n",
      "D:\\OneDrive - Habib University\\acedemics\\semester5\\DL\\project\\project_files\\dataset\\Theory of Automata in Urdu\\lec_01_segmented_bruh\\seg_1369\n",
      "D:\\OneDrive - Habib University\\acedemics\\semester5\\DL\\project\\project_files\\dataset\\Theory of Automata in Urdu\\lec_01_segmented_bruh\\seg_1370\n",
      "D:\\OneDrive - Habib University\\acedemics\\semester5\\DL\\project\\project_files\\dataset\\Theory of Automata in Urdu\\lec_01_segmented_bruh\\seg_1371\n"
     ]
    }
   ],
   "source": [
    "video_path = r\"D:\\OneDrive - Habib University\\acedemics\\semester5\\DL\\project\\project_files\\dataset\\Theory of Automata in Urdu\\video\"\n",
    "output_path = r\"D:\\OneDrive - Habib University\\acedemics\\semester5\\DL\\project\\project_files\\dataset\\Theory of Automata in Urdu\\lec_01_segmented_bruh\"\n",
    "multiple_video2frames(video_path,output_path)"
   ]
  },
  {
   "cell_type": "markdown",
   "metadata": {},
   "source": [
    "### Audio Segmenter"
   ]
  },
  {
   "cell_type": "code",
   "execution_count": 39,
   "metadata": {},
   "outputs": [],
   "source": [
    "def video2audio(video_file, output_path):\n",
    "  video = moviepy.editor.VideoFileClip(video_file)\n",
    "  audio = video.audio\n",
    "  audio.write_audiofile(output_path)\n",
    "  "
   ]
  },
  {
   "cell_type": "code",
   "execution_count": 43,
   "metadata": {},
   "outputs": [
    {
     "name": "stdout",
     "output_type": "stream",
     "text": [
      "D:\\OneDrive - Habib University\\acedemics\\semester5\\DL\\project\\dataset\\Theory of Automata in Urdu\\lec_01.mp4\n",
      "D:\\OneDrive - Habib University\\acedemics\\semester5\\DL\\project\\dataset\\Theory of Automata in Urdu_Audio\n",
      "D:\\OneDrive - Habib University\\acedemics\\semester5\\DL\\project\\dataset\\Theory of Automata in Urdu_Audio\\lec_01.mp3\n"
     ]
    },
    {
     "name": "stderr",
     "output_type": "stream",
     "text": [
      "chunk:   0%|          | 28/90722 [00:47<1:32:12, 16.39it/s, now=None]"
     ]
    },
    {
     "name": "stdout",
     "output_type": "stream",
     "text": [
      "MoviePy - Writing audio in D:\\OneDrive - Habib University\\acedemics\\semester5\\DL\\project\\dataset\\Theory of Automata in Urdu_Audio\\lec_01.mp3\n"
     ]
    },
    {
     "name": "stderr",
     "output_type": "stream",
     "text": [
      "chunk:   0%|          | 28/90722 [02:32<1:32:12, 16.39it/s, now=None]"
     ]
    },
    {
     "name": "stdout",
     "output_type": "stream",
     "text": [
      "MoviePy - Done.\n",
      "D:\\OneDrive - Habib University\\acedemics\\semester5\\DL\\project\\dataset\\Theory of Automata in Urdu\\lec_02.mp4\n",
      "D:\\OneDrive - Habib University\\acedemics\\semester5\\DL\\project\\dataset\\Theory of Automata in Urdu_Audio\n",
      "D:\\OneDrive - Habib University\\acedemics\\semester5\\DL\\project\\dataset\\Theory of Automata in Urdu_Audio\\lec_02.mp3\n"
     ]
    },
    {
     "name": "stderr",
     "output_type": "stream",
     "text": [
      "chunk:   0%|          | 28/90722 [02:32<1:32:12, 16.39it/s, now=None]"
     ]
    },
    {
     "name": "stdout",
     "output_type": "stream",
     "text": [
      "MoviePy - Writing audio in D:\\OneDrive - Habib University\\acedemics\\semester5\\DL\\project\\dataset\\Theory of Automata in Urdu_Audio\\lec_02.mp3\n"
     ]
    },
    {
     "name": "stderr",
     "output_type": "stream",
     "text": [
      "chunk:   0%|          | 28/90722 [03:53<1:32:12, 16.39it/s, now=None]"
     ]
    },
    {
     "name": "stdout",
     "output_type": "stream",
     "text": [
      "MoviePy - Done.\n",
      "D:\\OneDrive - Habib University\\acedemics\\semester5\\DL\\project\\dataset\\Theory of Automata in Urdu\\lec_03.mp4\n",
      "D:\\OneDrive - Habib University\\acedemics\\semester5\\DL\\project\\dataset\\Theory of Automata in Urdu_Audio\n",
      "D:\\OneDrive - Habib University\\acedemics\\semester5\\DL\\project\\dataset\\Theory of Automata in Urdu_Audio\\lec_03.mp3\n"
     ]
    },
    {
     "name": "stderr",
     "output_type": "stream",
     "text": [
      "chunk:   0%|          | 28/90722 [03:54<1:32:12, 16.39it/s, now=None]"
     ]
    },
    {
     "name": "stdout",
     "output_type": "stream",
     "text": [
      "MoviePy - Writing audio in D:\\OneDrive - Habib University\\acedemics\\semester5\\DL\\project\\dataset\\Theory of Automata in Urdu_Audio\\lec_03.mp3\n"
     ]
    },
    {
     "name": "stderr",
     "output_type": "stream",
     "text": [
      "chunk:   0%|          | 28/90722 [05:26<1:32:12, 16.39it/s, now=None]"
     ]
    },
    {
     "name": "stdout",
     "output_type": "stream",
     "text": [
      "MoviePy - Done.\n",
      "D:\\OneDrive - Habib University\\acedemics\\semester5\\DL\\project\\dataset\\Theory of Automata in Urdu\\lec_04.mp4\n",
      "D:\\OneDrive - Habib University\\acedemics\\semester5\\DL\\project\\dataset\\Theory of Automata in Urdu_Audio\n",
      "D:\\OneDrive - Habib University\\acedemics\\semester5\\DL\\project\\dataset\\Theory of Automata in Urdu_Audio\\lec_04.mp3\n"
     ]
    },
    {
     "name": "stderr",
     "output_type": "stream",
     "text": [
      "chunk:   0%|          | 28/90722 [05:27<1:32:12, 16.39it/s, now=None]"
     ]
    },
    {
     "name": "stdout",
     "output_type": "stream",
     "text": [
      "MoviePy - Writing audio in D:\\OneDrive - Habib University\\acedemics\\semester5\\DL\\project\\dataset\\Theory of Automata in Urdu_Audio\\lec_04.mp3\n"
     ]
    },
    {
     "name": "stderr",
     "output_type": "stream",
     "text": [
      "chunk:   0%|          | 28/90722 [07:08<1:32:12, 16.39it/s, now=None]"
     ]
    },
    {
     "name": "stdout",
     "output_type": "stream",
     "text": [
      "MoviePy - Done.\n",
      "D:\\OneDrive - Habib University\\acedemics\\semester5\\DL\\project\\dataset\\Theory of Automata in Urdu\\lec_05.mp4\n",
      "D:\\OneDrive - Habib University\\acedemics\\semester5\\DL\\project\\dataset\\Theory of Automata in Urdu_Audio\n",
      "D:\\OneDrive - Habib University\\acedemics\\semester5\\DL\\project\\dataset\\Theory of Automata in Urdu_Audio\\lec_05.mp3\n"
     ]
    },
    {
     "name": "stderr",
     "output_type": "stream",
     "text": [
      "chunk:   0%|          | 28/90722 [07:09<1:32:12, 16.39it/s, now=None]"
     ]
    },
    {
     "name": "stdout",
     "output_type": "stream",
     "text": [
      "MoviePy - Writing audio in D:\\OneDrive - Habib University\\acedemics\\semester5\\DL\\project\\dataset\\Theory of Automata in Urdu_Audio\\lec_05.mp3\n"
     ]
    },
    {
     "name": "stderr",
     "output_type": "stream",
     "text": [
      "chunk:   0%|          | 28/90722 [08:43<1:32:12, 16.39it/s, now=None]"
     ]
    },
    {
     "name": "stdout",
     "output_type": "stream",
     "text": [
      "MoviePy - Done.\n",
      "D:\\OneDrive - Habib University\\acedemics\\semester5\\DL\\project\\dataset\\Theory of Automata in Urdu\\lec_06.mp4\n",
      "D:\\OneDrive - Habib University\\acedemics\\semester5\\DL\\project\\dataset\\Theory of Automata in Urdu_Audio\n",
      "D:\\OneDrive - Habib University\\acedemics\\semester5\\DL\\project\\dataset\\Theory of Automata in Urdu_Audio\\lec_06.mp3\n"
     ]
    },
    {
     "name": "stderr",
     "output_type": "stream",
     "text": [
      "chunk:   0%|          | 28/90722 [08:44<1:32:12, 16.39it/s, now=None]"
     ]
    },
    {
     "name": "stdout",
     "output_type": "stream",
     "text": [
      "MoviePy - Writing audio in D:\\OneDrive - Habib University\\acedemics\\semester5\\DL\\project\\dataset\\Theory of Automata in Urdu_Audio\\lec_06.mp3\n"
     ]
    },
    {
     "name": "stderr",
     "output_type": "stream",
     "text": [
      "chunk:   0%|          | 28/90722 [09:56<1:32:12, 16.39it/s, now=None]"
     ]
    },
    {
     "name": "stdout",
     "output_type": "stream",
     "text": [
      "MoviePy - Done.\n",
      "D:\\OneDrive - Habib University\\acedemics\\semester5\\DL\\project\\dataset\\Theory of Automata in Urdu\\lec_07.mp4\n",
      "D:\\OneDrive - Habib University\\acedemics\\semester5\\DL\\project\\dataset\\Theory of Automata in Urdu_Audio\n",
      "D:\\OneDrive - Habib University\\acedemics\\semester5\\DL\\project\\dataset\\Theory of Automata in Urdu_Audio\\lec_07.mp3\n"
     ]
    },
    {
     "name": "stderr",
     "output_type": "stream",
     "text": [
      "chunk:   0%|          | 28/90722 [09:57<1:32:12, 16.39it/s, now=None]"
     ]
    },
    {
     "name": "stdout",
     "output_type": "stream",
     "text": [
      "MoviePy - Writing audio in D:\\OneDrive - Habib University\\acedemics\\semester5\\DL\\project\\dataset\\Theory of Automata in Urdu_Audio\\lec_07.mp3\n"
     ]
    },
    {
     "name": "stderr",
     "output_type": "stream",
     "text": [
      "chunk:   0%|          | 28/90722 [11:33<1:32:12, 16.39it/s, now=None]"
     ]
    },
    {
     "name": "stdout",
     "output_type": "stream",
     "text": [
      "MoviePy - Done.\n",
      "D:\\OneDrive - Habib University\\acedemics\\semester5\\DL\\project\\dataset\\Theory of Automata in Urdu\\lec_08.mp4\n",
      "D:\\OneDrive - Habib University\\acedemics\\semester5\\DL\\project\\dataset\\Theory of Automata in Urdu_Audio\n",
      "D:\\OneDrive - Habib University\\acedemics\\semester5\\DL\\project\\dataset\\Theory of Automata in Urdu_Audio\\lec_08.mp3\n"
     ]
    },
    {
     "name": "stderr",
     "output_type": "stream",
     "text": [
      "chunk:   0%|          | 28/90722 [11:33<1:32:12, 16.39it/s, now=None]"
     ]
    },
    {
     "name": "stdout",
     "output_type": "stream",
     "text": [
      "MoviePy - Writing audio in D:\\OneDrive - Habib University\\acedemics\\semester5\\DL\\project\\dataset\\Theory of Automata in Urdu_Audio\\lec_08.mp3\n"
     ]
    },
    {
     "name": "stderr",
     "output_type": "stream",
     "text": [
      "chunk:   0%|          | 28/90722 [13:08<1:32:12, 16.39it/s, now=None]"
     ]
    },
    {
     "name": "stdout",
     "output_type": "stream",
     "text": [
      "MoviePy - Done.\n",
      "D:\\OneDrive - Habib University\\acedemics\\semester5\\DL\\project\\dataset\\Theory of Automata in Urdu\\lec_09.mp4\n",
      "D:\\OneDrive - Habib University\\acedemics\\semester5\\DL\\project\\dataset\\Theory of Automata in Urdu_Audio\n",
      "D:\\OneDrive - Habib University\\acedemics\\semester5\\DL\\project\\dataset\\Theory of Automata in Urdu_Audio\\lec_09.mp3\n"
     ]
    },
    {
     "name": "stderr",
     "output_type": "stream",
     "text": [
      "chunk:   0%|          | 28/90722 [13:09<1:32:12, 16.39it/s, now=None]"
     ]
    },
    {
     "name": "stdout",
     "output_type": "stream",
     "text": [
      "MoviePy - Writing audio in D:\\OneDrive - Habib University\\acedemics\\semester5\\DL\\project\\dataset\\Theory of Automata in Urdu_Audio\\lec_09.mp3\n"
     ]
    },
    {
     "name": "stderr",
     "output_type": "stream",
     "text": [
      "chunk:   0%|          | 28/90722 [14:39<1:32:12, 16.39it/s, now=None]"
     ]
    },
    {
     "name": "stdout",
     "output_type": "stream",
     "text": [
      "MoviePy - Done.\n",
      "D:\\OneDrive - Habib University\\acedemics\\semester5\\DL\\project\\dataset\\Theory of Automata in Urdu\\lec_10.mp4\n",
      "D:\\OneDrive - Habib University\\acedemics\\semester5\\DL\\project\\dataset\\Theory of Automata in Urdu_Audio\n",
      "D:\\OneDrive - Habib University\\acedemics\\semester5\\DL\\project\\dataset\\Theory of Automata in Urdu_Audio\\lec_10.mp3\n"
     ]
    },
    {
     "name": "stderr",
     "output_type": "stream",
     "text": [
      "chunk:   0%|          | 28/90722 [14:40<1:32:12, 16.39it/s, now=None]"
     ]
    },
    {
     "name": "stdout",
     "output_type": "stream",
     "text": [
      "MoviePy - Writing audio in D:\\OneDrive - Habib University\\acedemics\\semester5\\DL\\project\\dataset\\Theory of Automata in Urdu_Audio\\lec_10.mp3\n"
     ]
    },
    {
     "name": "stderr",
     "output_type": "stream",
     "text": [
      "chunk:   0%|          | 28/90722 [16:11<1:32:12, 16.39it/s, now=None]"
     ]
    },
    {
     "name": "stdout",
     "output_type": "stream",
     "text": [
      "MoviePy - Done.\n",
      "D:\\OneDrive - Habib University\\acedemics\\semester5\\DL\\project\\dataset\\Theory of Automata in Urdu\\lec_11.mp4\n",
      "D:\\OneDrive - Habib University\\acedemics\\semester5\\DL\\project\\dataset\\Theory of Automata in Urdu_Audio\n",
      "D:\\OneDrive - Habib University\\acedemics\\semester5\\DL\\project\\dataset\\Theory of Automata in Urdu_Audio\\lec_11.mp3\n"
     ]
    },
    {
     "name": "stderr",
     "output_type": "stream",
     "text": [
      "chunk:   0%|          | 28/90722 [16:12<1:32:12, 16.39it/s, now=None]"
     ]
    },
    {
     "name": "stdout",
     "output_type": "stream",
     "text": [
      "MoviePy - Writing audio in D:\\OneDrive - Habib University\\acedemics\\semester5\\DL\\project\\dataset\\Theory of Automata in Urdu_Audio\\lec_11.mp3\n"
     ]
    },
    {
     "name": "stderr",
     "output_type": "stream",
     "text": [
      "chunk:   0%|          | 28/90722 [17:27<1:32:12, 16.39it/s, now=None]"
     ]
    },
    {
     "name": "stdout",
     "output_type": "stream",
     "text": [
      "MoviePy - Done.\n",
      "D:\\OneDrive - Habib University\\acedemics\\semester5\\DL\\project\\dataset\\Theory of Automata in Urdu\\lec_12.mp4\n",
      "D:\\OneDrive - Habib University\\acedemics\\semester5\\DL\\project\\dataset\\Theory of Automata in Urdu_Audio\n",
      "D:\\OneDrive - Habib University\\acedemics\\semester5\\DL\\project\\dataset\\Theory of Automata in Urdu_Audio\\lec_12.mp3\n"
     ]
    },
    {
     "name": "stderr",
     "output_type": "stream",
     "text": [
      "chunk:   0%|          | 28/90722 [17:27<1:32:12, 16.39it/s, now=None]"
     ]
    },
    {
     "name": "stdout",
     "output_type": "stream",
     "text": [
      "MoviePy - Writing audio in D:\\OneDrive - Habib University\\acedemics\\semester5\\DL\\project\\dataset\\Theory of Automata in Urdu_Audio\\lec_12.mp3\n"
     ]
    },
    {
     "name": "stderr",
     "output_type": "stream",
     "text": [
      "chunk:   0%|          | 28/90722 [18:57<1:32:12, 16.39it/s, now=None]"
     ]
    },
    {
     "name": "stdout",
     "output_type": "stream",
     "text": [
      "MoviePy - Done.\n",
      "D:\\OneDrive - Habib University\\acedemics\\semester5\\DL\\project\\dataset\\Theory of Automata in Urdu\\lec_13.mp4\n",
      "D:\\OneDrive - Habib University\\acedemics\\semester5\\DL\\project\\dataset\\Theory of Automata in Urdu_Audio\n",
      "D:\\OneDrive - Habib University\\acedemics\\semester5\\DL\\project\\dataset\\Theory of Automata in Urdu_Audio\\lec_13.mp3\n"
     ]
    },
    {
     "name": "stderr",
     "output_type": "stream",
     "text": [
      "chunk:   0%|          | 28/90722 [18:58<1:32:12, 16.39it/s, now=None]"
     ]
    },
    {
     "name": "stdout",
     "output_type": "stream",
     "text": [
      "MoviePy - Writing audio in D:\\OneDrive - Habib University\\acedemics\\semester5\\DL\\project\\dataset\\Theory of Automata in Urdu_Audio\\lec_13.mp3\n"
     ]
    },
    {
     "name": "stderr",
     "output_type": "stream",
     "text": [
      "chunk:   0%|          | 28/90722 [20:28<1:32:12, 16.39it/s, now=None]"
     ]
    },
    {
     "name": "stdout",
     "output_type": "stream",
     "text": [
      "MoviePy - Done.\n",
      "D:\\OneDrive - Habib University\\acedemics\\semester5\\DL\\project\\dataset\\Theory of Automata in Urdu\\lec_14.mp4\n",
      "D:\\OneDrive - Habib University\\acedemics\\semester5\\DL\\project\\dataset\\Theory of Automata in Urdu_Audio\n",
      "D:\\OneDrive - Habib University\\acedemics\\semester5\\DL\\project\\dataset\\Theory of Automata in Urdu_Audio\\lec_14.mp3\n"
     ]
    },
    {
     "name": "stderr",
     "output_type": "stream",
     "text": [
      "chunk:   0%|          | 28/90722 [20:28<1:32:12, 16.39it/s, now=None]"
     ]
    },
    {
     "name": "stdout",
     "output_type": "stream",
     "text": [
      "MoviePy - Writing audio in D:\\OneDrive - Habib University\\acedemics\\semester5\\DL\\project\\dataset\\Theory of Automata in Urdu_Audio\\lec_14.mp3\n"
     ]
    },
    {
     "name": "stderr",
     "output_type": "stream",
     "text": [
      "chunk:   0%|          | 28/90722 [22:04<1:32:12, 16.39it/s, now=None]"
     ]
    },
    {
     "name": "stdout",
     "output_type": "stream",
     "text": [
      "MoviePy - Done.\n",
      "D:\\OneDrive - Habib University\\acedemics\\semester5\\DL\\project\\dataset\\Theory of Automata in Urdu\\lec_15.mp4\n",
      "D:\\OneDrive - Habib University\\acedemics\\semester5\\DL\\project\\dataset\\Theory of Automata in Urdu_Audio\n",
      "D:\\OneDrive - Habib University\\acedemics\\semester5\\DL\\project\\dataset\\Theory of Automata in Urdu_Audio\\lec_15.mp3\n"
     ]
    },
    {
     "name": "stderr",
     "output_type": "stream",
     "text": [
      "chunk:   0%|          | 28/90722 [22:05<1:32:12, 16.39it/s, now=None]"
     ]
    },
    {
     "name": "stdout",
     "output_type": "stream",
     "text": [
      "MoviePy - Writing audio in D:\\OneDrive - Habib University\\acedemics\\semester5\\DL\\project\\dataset\\Theory of Automata in Urdu_Audio\\lec_15.mp3\n"
     ]
    },
    {
     "name": "stderr",
     "output_type": "stream",
     "text": [
      "chunk:   0%|          | 28/90722 [23:43<1:32:12, 16.39it/s, now=None]"
     ]
    },
    {
     "name": "stdout",
     "output_type": "stream",
     "text": [
      "MoviePy - Done.\n",
      "D:\\OneDrive - Habib University\\acedemics\\semester5\\DL\\project\\dataset\\Theory of Automata in Urdu\\lec_16.mp4\n",
      "D:\\OneDrive - Habib University\\acedemics\\semester5\\DL\\project\\dataset\\Theory of Automata in Urdu_Audio\n",
      "D:\\OneDrive - Habib University\\acedemics\\semester5\\DL\\project\\dataset\\Theory of Automata in Urdu_Audio\\lec_16.mp3\n"
     ]
    },
    {
     "name": "stderr",
     "output_type": "stream",
     "text": [
      "chunk:   0%|          | 28/90722 [23:44<1:32:12, 16.39it/s, now=None]"
     ]
    },
    {
     "name": "stdout",
     "output_type": "stream",
     "text": [
      "MoviePy - Writing audio in D:\\OneDrive - Habib University\\acedemics\\semester5\\DL\\project\\dataset\\Theory of Automata in Urdu_Audio\\lec_16.mp3\n"
     ]
    },
    {
     "name": "stderr",
     "output_type": "stream",
     "text": [
      "chunk:   0%|          | 28/90722 [25:11<1:32:12, 16.39it/s, now=None]"
     ]
    },
    {
     "name": "stdout",
     "output_type": "stream",
     "text": [
      "MoviePy - Done.\n",
      "D:\\OneDrive - Habib University\\acedemics\\semester5\\DL\\project\\dataset\\Theory of Automata in Urdu\\lec_17.mp4\n",
      "D:\\OneDrive - Habib University\\acedemics\\semester5\\DL\\project\\dataset\\Theory of Automata in Urdu_Audio\n",
      "D:\\OneDrive - Habib University\\acedemics\\semester5\\DL\\project\\dataset\\Theory of Automata in Urdu_Audio\\lec_17.mp3\n"
     ]
    },
    {
     "name": "stderr",
     "output_type": "stream",
     "text": [
      "chunk:   0%|          | 28/90722 [25:12<1:32:12, 16.39it/s, now=None]"
     ]
    },
    {
     "name": "stdout",
     "output_type": "stream",
     "text": [
      "MoviePy - Writing audio in D:\\OneDrive - Habib University\\acedemics\\semester5\\DL\\project\\dataset\\Theory of Automata in Urdu_Audio\\lec_17.mp3\n"
     ]
    },
    {
     "name": "stderr",
     "output_type": "stream",
     "text": [
      "chunk:   0%|          | 28/90722 [26:45<1:32:12, 16.39it/s, now=None]"
     ]
    },
    {
     "name": "stdout",
     "output_type": "stream",
     "text": [
      "MoviePy - Done.\n",
      "D:\\OneDrive - Habib University\\acedemics\\semester5\\DL\\project\\dataset\\Theory of Automata in Urdu\\lec_18.mp4\n",
      "D:\\OneDrive - Habib University\\acedemics\\semester5\\DL\\project\\dataset\\Theory of Automata in Urdu_Audio\n",
      "D:\\OneDrive - Habib University\\acedemics\\semester5\\DL\\project\\dataset\\Theory of Automata in Urdu_Audio\\lec_18.mp3\n"
     ]
    },
    {
     "name": "stderr",
     "output_type": "stream",
     "text": [
      "chunk:   0%|          | 28/90722 [26:46<1:32:12, 16.39it/s, now=None]"
     ]
    },
    {
     "name": "stdout",
     "output_type": "stream",
     "text": [
      "MoviePy - Writing audio in D:\\OneDrive - Habib University\\acedemics\\semester5\\DL\\project\\dataset\\Theory of Automata in Urdu_Audio\\lec_18.mp3\n"
     ]
    },
    {
     "name": "stderr",
     "output_type": "stream",
     "text": [
      "chunk:   0%|          | 28/90722 [28:34<1:32:12, 16.39it/s, now=None]"
     ]
    },
    {
     "name": "stdout",
     "output_type": "stream",
     "text": [
      "MoviePy - Done.\n",
      "D:\\OneDrive - Habib University\\acedemics\\semester5\\DL\\project\\dataset\\Theory of Automata in Urdu\\lec_19.mp4\n",
      "D:\\OneDrive - Habib University\\acedemics\\semester5\\DL\\project\\dataset\\Theory of Automata in Urdu_Audio\n",
      "D:\\OneDrive - Habib University\\acedemics\\semester5\\DL\\project\\dataset\\Theory of Automata in Urdu_Audio\\lec_19.mp3\n"
     ]
    },
    {
     "name": "stderr",
     "output_type": "stream",
     "text": [
      "chunk:   0%|          | 28/90722 [28:34<1:32:12, 16.39it/s, now=None]"
     ]
    },
    {
     "name": "stdout",
     "output_type": "stream",
     "text": [
      "MoviePy - Writing audio in D:\\OneDrive - Habib University\\acedemics\\semester5\\DL\\project\\dataset\\Theory of Automata in Urdu_Audio\\lec_19.mp3\n"
     ]
    },
    {
     "name": "stderr",
     "output_type": "stream",
     "text": [
      "chunk:   0%|          | 28/90722 [30:18<1:32:12, 16.39it/s, now=None]"
     ]
    },
    {
     "name": "stdout",
     "output_type": "stream",
     "text": [
      "MoviePy - Done.\n",
      "D:\\OneDrive - Habib University\\acedemics\\semester5\\DL\\project\\dataset\\Theory of Automata in Urdu\\lec_20.mp4\n",
      "D:\\OneDrive - Habib University\\acedemics\\semester5\\DL\\project\\dataset\\Theory of Automata in Urdu_Audio\n",
      "D:\\OneDrive - Habib University\\acedemics\\semester5\\DL\\project\\dataset\\Theory of Automata in Urdu_Audio\\lec_20.mp3\n"
     ]
    },
    {
     "name": "stderr",
     "output_type": "stream",
     "text": [
      "chunk:   0%|          | 28/90722 [30:18<1:32:12, 16.39it/s, now=None]"
     ]
    },
    {
     "name": "stdout",
     "output_type": "stream",
     "text": [
      "MoviePy - Writing audio in D:\\OneDrive - Habib University\\acedemics\\semester5\\DL\\project\\dataset\\Theory of Automata in Urdu_Audio\\lec_20.mp3\n"
     ]
    },
    {
     "name": "stderr",
     "output_type": "stream",
     "text": [
      "chunk:   0%|          | 28/90722 [31:48<1:32:12, 16.39it/s, now=None]"
     ]
    },
    {
     "name": "stdout",
     "output_type": "stream",
     "text": [
      "MoviePy - Done.\n",
      "D:\\OneDrive - Habib University\\acedemics\\semester5\\DL\\project\\dataset\\Theory of Automata in Urdu\\lec_21.mp4\n",
      "D:\\OneDrive - Habib University\\acedemics\\semester5\\DL\\project\\dataset\\Theory of Automata in Urdu_Audio\n",
      "D:\\OneDrive - Habib University\\acedemics\\semester5\\DL\\project\\dataset\\Theory of Automata in Urdu_Audio\\lec_21.mp3\n"
     ]
    },
    {
     "name": "stderr",
     "output_type": "stream",
     "text": [
      "chunk:   0%|          | 28/90722 [31:49<1:32:12, 16.39it/s, now=None]"
     ]
    },
    {
     "name": "stdout",
     "output_type": "stream",
     "text": [
      "MoviePy - Writing audio in D:\\OneDrive - Habib University\\acedemics\\semester5\\DL\\project\\dataset\\Theory of Automata in Urdu_Audio\\lec_21.mp3\n"
     ]
    },
    {
     "name": "stderr",
     "output_type": "stream",
     "text": [
      "chunk:   0%|          | 28/90722 [33:17<1:32:12, 16.39it/s, now=None]"
     ]
    },
    {
     "name": "stdout",
     "output_type": "stream",
     "text": [
      "MoviePy - Done.\n",
      "D:\\OneDrive - Habib University\\acedemics\\semester5\\DL\\project\\dataset\\Theory of Automata in Urdu\\lec_22.mp4\n",
      "D:\\OneDrive - Habib University\\acedemics\\semester5\\DL\\project\\dataset\\Theory of Automata in Urdu_Audio\n",
      "D:\\OneDrive - Habib University\\acedemics\\semester5\\DL\\project\\dataset\\Theory of Automata in Urdu_Audio\\lec_22.mp3\n"
     ]
    },
    {
     "name": "stderr",
     "output_type": "stream",
     "text": [
      "chunk:   0%|          | 28/90722 [33:18<1:32:12, 16.39it/s, now=None]"
     ]
    },
    {
     "name": "stdout",
     "output_type": "stream",
     "text": [
      "MoviePy - Writing audio in D:\\OneDrive - Habib University\\acedemics\\semester5\\DL\\project\\dataset\\Theory of Automata in Urdu_Audio\\lec_22.mp3\n"
     ]
    },
    {
     "name": "stderr",
     "output_type": "stream",
     "text": [
      "chunk:   0%|          | 28/90722 [34:36<1:32:12, 16.39it/s, now=None]"
     ]
    },
    {
     "name": "stdout",
     "output_type": "stream",
     "text": [
      "MoviePy - Done.\n",
      "D:\\OneDrive - Habib University\\acedemics\\semester5\\DL\\project\\dataset\\Theory of Automata in Urdu\\lec_23.mp4\n",
      "D:\\OneDrive - Habib University\\acedemics\\semester5\\DL\\project\\dataset\\Theory of Automata in Urdu_Audio\n",
      "D:\\OneDrive - Habib University\\acedemics\\semester5\\DL\\project\\dataset\\Theory of Automata in Urdu_Audio\\lec_23.mp3\n"
     ]
    },
    {
     "name": "stderr",
     "output_type": "stream",
     "text": [
      "chunk:   0%|          | 28/90722 [34:37<1:32:12, 16.39it/s, now=None]"
     ]
    },
    {
     "name": "stdout",
     "output_type": "stream",
     "text": [
      "MoviePy - Writing audio in D:\\OneDrive - Habib University\\acedemics\\semester5\\DL\\project\\dataset\\Theory of Automata in Urdu_Audio\\lec_23.mp3\n"
     ]
    },
    {
     "name": "stderr",
     "output_type": "stream",
     "text": [
      "chunk:   0%|          | 28/90722 [35:52<1:32:12, 16.39it/s, now=None]"
     ]
    },
    {
     "name": "stdout",
     "output_type": "stream",
     "text": [
      "MoviePy - Done.\n",
      "D:\\OneDrive - Habib University\\acedemics\\semester5\\DL\\project\\dataset\\Theory of Automata in Urdu\\lec_24.mp4\n",
      "D:\\OneDrive - Habib University\\acedemics\\semester5\\DL\\project\\dataset\\Theory of Automata in Urdu_Audio\n",
      "D:\\OneDrive - Habib University\\acedemics\\semester5\\DL\\project\\dataset\\Theory of Automata in Urdu_Audio\\lec_24.mp3\n"
     ]
    },
    {
     "name": "stderr",
     "output_type": "stream",
     "text": [
      "chunk:   0%|          | 28/90722 [35:53<1:32:12, 16.39it/s, now=None]"
     ]
    },
    {
     "name": "stdout",
     "output_type": "stream",
     "text": [
      "MoviePy - Writing audio in D:\\OneDrive - Habib University\\acedemics\\semester5\\DL\\project\\dataset\\Theory of Automata in Urdu_Audio\\lec_24.mp3\n"
     ]
    },
    {
     "name": "stderr",
     "output_type": "stream",
     "text": [
      "chunk:   0%|          | 28/90722 [37:50<1:32:12, 16.39it/s, now=None]"
     ]
    },
    {
     "name": "stdout",
     "output_type": "stream",
     "text": [
      "MoviePy - Done.\n",
      "D:\\OneDrive - Habib University\\acedemics\\semester5\\DL\\project\\dataset\\Theory of Automata in Urdu\\lec_25.mp4\n",
      "D:\\OneDrive - Habib University\\acedemics\\semester5\\DL\\project\\dataset\\Theory of Automata in Urdu_Audio\n",
      "D:\\OneDrive - Habib University\\acedemics\\semester5\\DL\\project\\dataset\\Theory of Automata in Urdu_Audio\\lec_25.mp3\n"
     ]
    },
    {
     "name": "stderr",
     "output_type": "stream",
     "text": [
      "chunk:   0%|          | 28/90722 [37:50<1:32:12, 16.39it/s, now=None]"
     ]
    },
    {
     "name": "stdout",
     "output_type": "stream",
     "text": [
      "MoviePy - Writing audio in D:\\OneDrive - Habib University\\acedemics\\semester5\\DL\\project\\dataset\\Theory of Automata in Urdu_Audio\\lec_25.mp3\n"
     ]
    },
    {
     "name": "stderr",
     "output_type": "stream",
     "text": [
      "chunk:   0%|          | 28/90722 [40:00<1:32:12, 16.39it/s, now=None]"
     ]
    },
    {
     "name": "stdout",
     "output_type": "stream",
     "text": [
      "MoviePy - Done.\n",
      "D:\\OneDrive - Habib University\\acedemics\\semester5\\DL\\project\\dataset\\Theory of Automata in Urdu\\lec_26.mp4\n",
      "D:\\OneDrive - Habib University\\acedemics\\semester5\\DL\\project\\dataset\\Theory of Automata in Urdu_Audio\n",
      "D:\\OneDrive - Habib University\\acedemics\\semester5\\DL\\project\\dataset\\Theory of Automata in Urdu_Audio\\lec_26.mp3\n"
     ]
    },
    {
     "name": "stderr",
     "output_type": "stream",
     "text": [
      "chunk:   0%|          | 28/90722 [40:01<1:32:12, 16.39it/s, now=None]"
     ]
    },
    {
     "name": "stdout",
     "output_type": "stream",
     "text": [
      "MoviePy - Writing audio in D:\\OneDrive - Habib University\\acedemics\\semester5\\DL\\project\\dataset\\Theory of Automata in Urdu_Audio\\lec_26.mp3\n"
     ]
    },
    {
     "name": "stderr",
     "output_type": "stream",
     "text": [
      "chunk:   0%|          | 28/90722 [42:27<1:32:12, 16.39it/s, now=None]"
     ]
    },
    {
     "name": "stdout",
     "output_type": "stream",
     "text": [
      "MoviePy - Done.\n",
      "D:\\OneDrive - Habib University\\acedemics\\semester5\\DL\\project\\dataset\\Theory of Automata in Urdu\\lec_27.mp4\n",
      "D:\\OneDrive - Habib University\\acedemics\\semester5\\DL\\project\\dataset\\Theory of Automata in Urdu_Audio\n",
      "D:\\OneDrive - Habib University\\acedemics\\semester5\\DL\\project\\dataset\\Theory of Automata in Urdu_Audio\\lec_27.mp3\n"
     ]
    },
    {
     "name": "stderr",
     "output_type": "stream",
     "text": [
      "chunk:   0%|          | 28/90722 [42:28<1:32:12, 16.39it/s, now=None]"
     ]
    },
    {
     "name": "stdout",
     "output_type": "stream",
     "text": [
      "MoviePy - Writing audio in D:\\OneDrive - Habib University\\acedemics\\semester5\\DL\\project\\dataset\\Theory of Automata in Urdu_Audio\\lec_27.mp3\n"
     ]
    },
    {
     "name": "stderr",
     "output_type": "stream",
     "text": [
      "chunk:   0%|          | 28/90722 [44:16<1:32:12, 16.39it/s, now=None]"
     ]
    },
    {
     "name": "stdout",
     "output_type": "stream",
     "text": [
      "MoviePy - Done.\n",
      "D:\\OneDrive - Habib University\\acedemics\\semester5\\DL\\project\\dataset\\Theory of Automata in Urdu\\lec_28.mp4\n",
      "D:\\OneDrive - Habib University\\acedemics\\semester5\\DL\\project\\dataset\\Theory of Automata in Urdu_Audio\n",
      "D:\\OneDrive - Habib University\\acedemics\\semester5\\DL\\project\\dataset\\Theory of Automata in Urdu_Audio\\lec_28.mp3\n"
     ]
    },
    {
     "name": "stderr",
     "output_type": "stream",
     "text": [
      "chunk:   0%|          | 28/90722 [44:17<1:32:12, 16.39it/s, now=None]"
     ]
    },
    {
     "name": "stdout",
     "output_type": "stream",
     "text": [
      "MoviePy - Writing audio in D:\\OneDrive - Habib University\\acedemics\\semester5\\DL\\project\\dataset\\Theory of Automata in Urdu_Audio\\lec_28.mp3\n"
     ]
    },
    {
     "name": "stderr",
     "output_type": "stream",
     "text": [
      "chunk:   0%|          | 28/90722 [46:42<1:32:12, 16.39it/s, now=None]"
     ]
    },
    {
     "name": "stdout",
     "output_type": "stream",
     "text": [
      "MoviePy - Done.\n",
      "D:\\OneDrive - Habib University\\acedemics\\semester5\\DL\\project\\dataset\\Theory of Automata in Urdu\\lec_29.mp4\n",
      "D:\\OneDrive - Habib University\\acedemics\\semester5\\DL\\project\\dataset\\Theory of Automata in Urdu_Audio\n",
      "D:\\OneDrive - Habib University\\acedemics\\semester5\\DL\\project\\dataset\\Theory of Automata in Urdu_Audio\\lec_29.mp3\n"
     ]
    },
    {
     "name": "stderr",
     "output_type": "stream",
     "text": [
      "chunk:   0%|          | 28/90722 [46:44<1:32:12, 16.39it/s, now=None]"
     ]
    },
    {
     "name": "stdout",
     "output_type": "stream",
     "text": [
      "MoviePy - Writing audio in D:\\OneDrive - Habib University\\acedemics\\semester5\\DL\\project\\dataset\\Theory of Automata in Urdu_Audio\\lec_29.mp3\n"
     ]
    },
    {
     "name": "stderr",
     "output_type": "stream",
     "text": [
      "chunk:   0%|          | 28/90722 [49:15<1:32:12, 16.39it/s, now=None]"
     ]
    },
    {
     "name": "stdout",
     "output_type": "stream",
     "text": [
      "MoviePy - Done.\n",
      "D:\\OneDrive - Habib University\\acedemics\\semester5\\DL\\project\\dataset\\Theory of Automata in Urdu\\lec_30.mp4\n",
      "D:\\OneDrive - Habib University\\acedemics\\semester5\\DL\\project\\dataset\\Theory of Automata in Urdu_Audio\n",
      "D:\\OneDrive - Habib University\\acedemics\\semester5\\DL\\project\\dataset\\Theory of Automata in Urdu_Audio\\lec_30.mp3\n"
     ]
    },
    {
     "name": "stderr",
     "output_type": "stream",
     "text": [
      "chunk:   0%|          | 28/90722 [49:16<1:32:12, 16.39it/s, now=None]"
     ]
    },
    {
     "name": "stdout",
     "output_type": "stream",
     "text": [
      "MoviePy - Writing audio in D:\\OneDrive - Habib University\\acedemics\\semester5\\DL\\project\\dataset\\Theory of Automata in Urdu_Audio\\lec_30.mp3\n"
     ]
    },
    {
     "name": "stderr",
     "output_type": "stream",
     "text": [
      "chunk:   0%|          | 28/90722 [51:32<1:32:12, 16.39it/s, now=None]"
     ]
    },
    {
     "name": "stdout",
     "output_type": "stream",
     "text": [
      "MoviePy - Done.\n",
      "D:\\OneDrive - Habib University\\acedemics\\semester5\\DL\\project\\dataset\\Theory of Automata in Urdu\\lec_31.mp4\n",
      "D:\\OneDrive - Habib University\\acedemics\\semester5\\DL\\project\\dataset\\Theory of Automata in Urdu_Audio\n",
      "D:\\OneDrive - Habib University\\acedemics\\semester5\\DL\\project\\dataset\\Theory of Automata in Urdu_Audio\\lec_31.mp3\n"
     ]
    },
    {
     "name": "stderr",
     "output_type": "stream",
     "text": [
      "chunk:   0%|          | 28/90722 [51:33<1:32:12, 16.39it/s, now=None]"
     ]
    },
    {
     "name": "stdout",
     "output_type": "stream",
     "text": [
      "MoviePy - Writing audio in D:\\OneDrive - Habib University\\acedemics\\semester5\\DL\\project\\dataset\\Theory of Automata in Urdu_Audio\\lec_31.mp3\n"
     ]
    },
    {
     "name": "stderr",
     "output_type": "stream",
     "text": [
      "chunk:   0%|          | 28/90722 [53:37<1:32:12, 16.39it/s, now=None]"
     ]
    },
    {
     "name": "stdout",
     "output_type": "stream",
     "text": [
      "MoviePy - Done.\n",
      "D:\\OneDrive - Habib University\\acedemics\\semester5\\DL\\project\\dataset\\Theory of Automata in Urdu\\lec_32.mp4\n",
      "D:\\OneDrive - Habib University\\acedemics\\semester5\\DL\\project\\dataset\\Theory of Automata in Urdu_Audio\n",
      "D:\\OneDrive - Habib University\\acedemics\\semester5\\DL\\project\\dataset\\Theory of Automata in Urdu_Audio\\lec_32.mp3\n"
     ]
    },
    {
     "name": "stderr",
     "output_type": "stream",
     "text": [
      "chunk:   0%|          | 28/90722 [53:37<1:32:12, 16.39it/s, now=None]"
     ]
    },
    {
     "name": "stdout",
     "output_type": "stream",
     "text": [
      "MoviePy - Writing audio in D:\\OneDrive - Habib University\\acedemics\\semester5\\DL\\project\\dataset\\Theory of Automata in Urdu_Audio\\lec_32.mp3\n"
     ]
    },
    {
     "name": "stderr",
     "output_type": "stream",
     "text": [
      "chunk:   0%|          | 28/90722 [55:08<1:32:12, 16.39it/s, now=None]"
     ]
    },
    {
     "name": "stdout",
     "output_type": "stream",
     "text": [
      "MoviePy - Done.\n"
     ]
    }
   ],
   "source": [
    "vid_folder = r\"D:\\OneDrive - Habib University\\acedemics\\semester5\\DL\\project\\dataset\\Theory of Automata in Urdu\"\n",
    "destination_folder = r\"D:\\OneDrive - Habib University\\acedemics\\semester5\\DL\\project\\dataset\\Theory of Automata in Urdu_Audio\"\n",
    "for file in os.listdir(vid_folder):\n",
    "    vid_file = os.path.join(vid_folder,file)\n",
    "    print(vid_file)\n",
    "    print(destination_folder)\n",
    "    audio_file = os.path.join(destination_folder,file[0:6]+\".mp3\")\n",
    "    print(audio_file)\n",
    "    video2audio(vid_file,audio_file)"
   ]
  },
  {
   "cell_type": "code",
   "execution_count": null,
   "metadata": {},
   "outputs": [],
   "source": []
  }
 ],
 "metadata": {
  "kernelspec": {
   "display_name": "Python 3.9.1 64-bit",
   "language": "python",
   "name": "python3"
  },
  "language_info": {
   "codemirror_mode": {
    "name": "ipython",
    "version": 3
   },
   "file_extension": ".py",
   "mimetype": "text/x-python",
   "name": "python",
   "nbconvert_exporter": "python",
   "pygments_lexer": "ipython3",
   "version": "3.9.1"
  },
  "orig_nbformat": 3,
  "vscode": {
   "interpreter": {
    "hash": "df489fb1e130da9f6ba5d7b964fc8c0a95ac36686e5462b4af8e73863edb035e"
   }
  }
 },
 "nbformat": 4,
 "nbformat_minor": 2
}
