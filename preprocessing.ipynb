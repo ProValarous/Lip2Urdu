{
 "cells": [
  {
   "cell_type": "code",
   "execution_count": 1,
   "metadata": {},
   "outputs": [],
   "source": [
    "import os\n",
    "import cv2\n",
    "import numpy as np\n",
    "import PIL\n",
    "import matplotlib.pyplot as plt\n",
    "import datetime\n",
    "import moviepy.editor"
   ]
  },
  {
   "cell_type": "markdown",
   "metadata": {},
   "source": [
    "### Video Segmenter"
   ]
  },
  {
   "cell_type": "code",
   "execution_count": 3,
   "metadata": {},
   "outputs": [],
   "source": [
    "# frame_lst = []\n",
    "# parent_dir = \"D:/OneDrive - Habib University/acedemics/semester5/DL/project/Lip2Urdu/test_data/data/\"\n",
    "def video2frames(video_file, output_path):\n",
    "  if not os.path.exists(output_path):\n",
    "        os.makedirs(output_path)\n",
    "  # cap = cv2.VideoCapture(os.path.join(\"test_data\",\"lec_01.mp4\"))\n",
    "  cap = cv2.VideoCapture(video_file)\n",
    "  parent_dir = output_path\n",
    "  success,image = cap.read()\n",
    "  image = image[130:260,450:600]\n",
    "  count = 1\n",
    "  while success:\n",
    "    seg_dir = os.path.join(parent_dir,\"seg_%d\" %count)\n",
    "    os.mkdir(seg_dir)\n",
    "    print(seg_dir)\n",
    "    for i in range(75):\n",
    "      im = os.path.join(seg_dir,\"frame_%d.jpg\" % i)\n",
    "      cv2.imwrite(im, image)         \n",
    "      success, image = cap.read()\n",
    "      if success:\n",
    "        image = image[130:260,450:600]\n",
    "      else:\n",
    "        break\n",
    "    count += 1"
   ]
  },
  {
   "cell_type": "code",
   "execution_count": 4,
   "metadata": {},
   "outputs": [],
   "source": [
    "def multiple_video2frames( video_path, output_path ):\n",
    "    list_videos = os.listdir(video_path)\n",
    "    temp = list_videos[0]\n",
    "    count = 1\n",
    "    for video in [temp]:\n",
    "        input_file = os.path.join(video_path,video)\n",
    "        #print(input_file)\n",
    "        video2frames(input_file, output_path)\n",
    "        count+=1\n",
    "    "
   ]
  },
  {
   "cell_type": "code",
   "execution_count": 5,
   "metadata": {},
   "outputs": [
    {
     "name": "stdout",
     "output_type": "stream",
     "text": [
      "D:\\OneDrive - Habib University\\acedemics\\semester5\\DL\\project\\project_files\\dataset\\Theory of Automata in Urdu\\lec_01_segmented_frames\\seg_1\n",
      "D:\\OneDrive - Habib University\\acedemics\\semester5\\DL\\project\\project_files\\dataset\\Theory of Automata in Urdu\\lec_01_segmented_frames\\seg_2\n",
      "D:\\OneDrive - Habib University\\acedemics\\semester5\\DL\\project\\project_files\\dataset\\Theory of Automata in Urdu\\lec_01_segmented_frames\\seg_3\n",
      "D:\\OneDrive - Habib University\\acedemics\\semester5\\DL\\project\\project_files\\dataset\\Theory of Automata in Urdu\\lec_01_segmented_frames\\seg_4\n",
      "D:\\OneDrive - Habib University\\acedemics\\semester5\\DL\\project\\project_files\\dataset\\Theory of Automata in Urdu\\lec_01_segmented_frames\\seg_5\n",
      "D:\\OneDrive - Habib University\\acedemics\\semester5\\DL\\project\\project_files\\dataset\\Theory of Automata in Urdu\\lec_01_segmented_frames\\seg_6\n",
      "D:\\OneDrive - Habib University\\acedemics\\semester5\\DL\\project\\project_files\\dataset\\Theory of Automata in Urdu\\lec_01_segmented_frames\\seg_7\n",
      "D:\\OneDrive - Habib University\\acedemics\\semester5\\DL\\project\\project_files\\dataset\\Theory of Automata in Urdu\\lec_01_segmented_frames\\seg_8\n",
      "D:\\OneDrive - Habib University\\acedemics\\semester5\\DL\\project\\project_files\\dataset\\Theory of Automata in Urdu\\lec_01_segmented_frames\\seg_9\n",
      "D:\\OneDrive - Habib University\\acedemics\\semester5\\DL\\project\\project_files\\dataset\\Theory of Automata in Urdu\\lec_01_segmented_frames\\seg_10\n",
      "D:\\OneDrive - Habib University\\acedemics\\semester5\\DL\\project\\project_files\\dataset\\Theory of Automata in Urdu\\lec_01_segmented_frames\\seg_11\n",
      "D:\\OneDrive - Habib University\\acedemics\\semester5\\DL\\project\\project_files\\dataset\\Theory of Automata in Urdu\\lec_01_segmented_frames\\seg_12\n",
      "D:\\OneDrive - Habib University\\acedemics\\semester5\\DL\\project\\project_files\\dataset\\Theory of Automata in Urdu\\lec_01_segmented_frames\\seg_13\n",
      "D:\\OneDrive - Habib University\\acedemics\\semester5\\DL\\project\\project_files\\dataset\\Theory of Automata in Urdu\\lec_01_segmented_frames\\seg_14\n",
      "D:\\OneDrive - Habib University\\acedemics\\semester5\\DL\\project\\project_files\\dataset\\Theory of Automata in Urdu\\lec_01_segmented_frames\\seg_15\n",
      "D:\\OneDrive - Habib University\\acedemics\\semester5\\DL\\project\\project_files\\dataset\\Theory of Automata in Urdu\\lec_01_segmented_frames\\seg_16\n",
      "D:\\OneDrive - Habib University\\acedemics\\semester5\\DL\\project\\project_files\\dataset\\Theory of Automata in Urdu\\lec_01_segmented_frames\\seg_17\n",
      "D:\\OneDrive - Habib University\\acedemics\\semester5\\DL\\project\\project_files\\dataset\\Theory of Automata in Urdu\\lec_01_segmented_frames\\seg_18\n",
      "D:\\OneDrive - Habib University\\acedemics\\semester5\\DL\\project\\project_files\\dataset\\Theory of Automata in Urdu\\lec_01_segmented_frames\\seg_19\n",
      "D:\\OneDrive - Habib University\\acedemics\\semester5\\DL\\project\\project_files\\dataset\\Theory of Automata in Urdu\\lec_01_segmented_frames\\seg_20\n",
      "D:\\OneDrive - Habib University\\acedemics\\semester5\\DL\\project\\project_files\\dataset\\Theory of Automata in Urdu\\lec_01_segmented_frames\\seg_21\n",
      "D:\\OneDrive - Habib University\\acedemics\\semester5\\DL\\project\\project_files\\dataset\\Theory of Automata in Urdu\\lec_01_segmented_frames\\seg_22\n",
      "D:\\OneDrive - Habib University\\acedemics\\semester5\\DL\\project\\project_files\\dataset\\Theory of Automata in Urdu\\lec_01_segmented_frames\\seg_23\n",
      "D:\\OneDrive - Habib University\\acedemics\\semester5\\DL\\project\\project_files\\dataset\\Theory of Automata in Urdu\\lec_01_segmented_frames\\seg_24\n",
      "D:\\OneDrive - Habib University\\acedemics\\semester5\\DL\\project\\project_files\\dataset\\Theory of Automata in Urdu\\lec_01_segmented_frames\\seg_25\n",
      "D:\\OneDrive - Habib University\\acedemics\\semester5\\DL\\project\\project_files\\dataset\\Theory of Automata in Urdu\\lec_01_segmented_frames\\seg_26\n",
      "D:\\OneDrive - Habib University\\acedemics\\semester5\\DL\\project\\project_files\\dataset\\Theory of Automata in Urdu\\lec_01_segmented_frames\\seg_27\n",
      "D:\\OneDrive - Habib University\\acedemics\\semester5\\DL\\project\\project_files\\dataset\\Theory of Automata in Urdu\\lec_01_segmented_frames\\seg_28\n",
      "D:\\OneDrive - Habib University\\acedemics\\semester5\\DL\\project\\project_files\\dataset\\Theory of Automata in Urdu\\lec_01_segmented_frames\\seg_29\n",
      "D:\\OneDrive - Habib University\\acedemics\\semester5\\DL\\project\\project_files\\dataset\\Theory of Automata in Urdu\\lec_01_segmented_frames\\seg_30\n",
      "D:\\OneDrive - Habib University\\acedemics\\semester5\\DL\\project\\project_files\\dataset\\Theory of Automata in Urdu\\lec_01_segmented_frames\\seg_31\n",
      "D:\\OneDrive - Habib University\\acedemics\\semester5\\DL\\project\\project_files\\dataset\\Theory of Automata in Urdu\\lec_01_segmented_frames\\seg_32\n",
      "D:\\OneDrive - Habib University\\acedemics\\semester5\\DL\\project\\project_files\\dataset\\Theory of Automata in Urdu\\lec_01_segmented_frames\\seg_33\n",
      "D:\\OneDrive - Habib University\\acedemics\\semester5\\DL\\project\\project_files\\dataset\\Theory of Automata in Urdu\\lec_01_segmented_frames\\seg_34\n",
      "D:\\OneDrive - Habib University\\acedemics\\semester5\\DL\\project\\project_files\\dataset\\Theory of Automata in Urdu\\lec_01_segmented_frames\\seg_35\n",
      "D:\\OneDrive - Habib University\\acedemics\\semester5\\DL\\project\\project_files\\dataset\\Theory of Automata in Urdu\\lec_01_segmented_frames\\seg_36\n",
      "D:\\OneDrive - Habib University\\acedemics\\semester5\\DL\\project\\project_files\\dataset\\Theory of Automata in Urdu\\lec_01_segmented_frames\\seg_37\n",
      "D:\\OneDrive - Habib University\\acedemics\\semester5\\DL\\project\\project_files\\dataset\\Theory of Automata in Urdu\\lec_01_segmented_frames\\seg_38\n",
      "D:\\OneDrive - Habib University\\acedemics\\semester5\\DL\\project\\project_files\\dataset\\Theory of Automata in Urdu\\lec_01_segmented_frames\\seg_39\n",
      "D:\\OneDrive - Habib University\\acedemics\\semester5\\DL\\project\\project_files\\dataset\\Theory of Automata in Urdu\\lec_01_segmented_frames\\seg_40\n",
      "D:\\OneDrive - Habib University\\acedemics\\semester5\\DL\\project\\project_files\\dataset\\Theory of Automata in Urdu\\lec_01_segmented_frames\\seg_41\n",
      "D:\\OneDrive - Habib University\\acedemics\\semester5\\DL\\project\\project_files\\dataset\\Theory of Automata in Urdu\\lec_01_segmented_frames\\seg_42\n",
      "D:\\OneDrive - Habib University\\acedemics\\semester5\\DL\\project\\project_files\\dataset\\Theory of Automata in Urdu\\lec_01_segmented_frames\\seg_43\n",
      "D:\\OneDrive - Habib University\\acedemics\\semester5\\DL\\project\\project_files\\dataset\\Theory of Automata in Urdu\\lec_01_segmented_frames\\seg_44\n",
      "D:\\OneDrive - Habib University\\acedemics\\semester5\\DL\\project\\project_files\\dataset\\Theory of Automata in Urdu\\lec_01_segmented_frames\\seg_45\n",
      "D:\\OneDrive - Habib University\\acedemics\\semester5\\DL\\project\\project_files\\dataset\\Theory of Automata in Urdu\\lec_01_segmented_frames\\seg_46\n",
      "D:\\OneDrive - Habib University\\acedemics\\semester5\\DL\\project\\project_files\\dataset\\Theory of Automata in Urdu\\lec_01_segmented_frames\\seg_47\n",
      "D:\\OneDrive - Habib University\\acedemics\\semester5\\DL\\project\\project_files\\dataset\\Theory of Automata in Urdu\\lec_01_segmented_frames\\seg_48\n",
      "D:\\OneDrive - Habib University\\acedemics\\semester5\\DL\\project\\project_files\\dataset\\Theory of Automata in Urdu\\lec_01_segmented_frames\\seg_49\n",
      "D:\\OneDrive - Habib University\\acedemics\\semester5\\DL\\project\\project_files\\dataset\\Theory of Automata in Urdu\\lec_01_segmented_frames\\seg_50\n",
      "D:\\OneDrive - Habib University\\acedemics\\semester5\\DL\\project\\project_files\\dataset\\Theory of Automata in Urdu\\lec_01_segmented_frames\\seg_51\n",
      "D:\\OneDrive - Habib University\\acedemics\\semester5\\DL\\project\\project_files\\dataset\\Theory of Automata in Urdu\\lec_01_segmented_frames\\seg_52\n",
      "D:\\OneDrive - Habib University\\acedemics\\semester5\\DL\\project\\project_files\\dataset\\Theory of Automata in Urdu\\lec_01_segmented_frames\\seg_53\n",
      "D:\\OneDrive - Habib University\\acedemics\\semester5\\DL\\project\\project_files\\dataset\\Theory of Automata in Urdu\\lec_01_segmented_frames\\seg_54\n",
      "D:\\OneDrive - Habib University\\acedemics\\semester5\\DL\\project\\project_files\\dataset\\Theory of Automata in Urdu\\lec_01_segmented_frames\\seg_55\n",
      "D:\\OneDrive - Habib University\\acedemics\\semester5\\DL\\project\\project_files\\dataset\\Theory of Automata in Urdu\\lec_01_segmented_frames\\seg_56\n",
      "D:\\OneDrive - Habib University\\acedemics\\semester5\\DL\\project\\project_files\\dataset\\Theory of Automata in Urdu\\lec_01_segmented_frames\\seg_57\n",
      "D:\\OneDrive - Habib University\\acedemics\\semester5\\DL\\project\\project_files\\dataset\\Theory of Automata in Urdu\\lec_01_segmented_frames\\seg_58\n",
      "D:\\OneDrive - Habib University\\acedemics\\semester5\\DL\\project\\project_files\\dataset\\Theory of Automata in Urdu\\lec_01_segmented_frames\\seg_59\n",
      "D:\\OneDrive - Habib University\\acedemics\\semester5\\DL\\project\\project_files\\dataset\\Theory of Automata in Urdu\\lec_01_segmented_frames\\seg_60\n",
      "D:\\OneDrive - Habib University\\acedemics\\semester5\\DL\\project\\project_files\\dataset\\Theory of Automata in Urdu\\lec_01_segmented_frames\\seg_61\n",
      "D:\\OneDrive - Habib University\\acedemics\\semester5\\DL\\project\\project_files\\dataset\\Theory of Automata in Urdu\\lec_01_segmented_frames\\seg_62\n",
      "D:\\OneDrive - Habib University\\acedemics\\semester5\\DL\\project\\project_files\\dataset\\Theory of Automata in Urdu\\lec_01_segmented_frames\\seg_63\n",
      "D:\\OneDrive - Habib University\\acedemics\\semester5\\DL\\project\\project_files\\dataset\\Theory of Automata in Urdu\\lec_01_segmented_frames\\seg_64\n",
      "D:\\OneDrive - Habib University\\acedemics\\semester5\\DL\\project\\project_files\\dataset\\Theory of Automata in Urdu\\lec_01_segmented_frames\\seg_65\n",
      "D:\\OneDrive - Habib University\\acedemics\\semester5\\DL\\project\\project_files\\dataset\\Theory of Automata in Urdu\\lec_01_segmented_frames\\seg_66\n",
      "D:\\OneDrive - Habib University\\acedemics\\semester5\\DL\\project\\project_files\\dataset\\Theory of Automata in Urdu\\lec_01_segmented_frames\\seg_67\n",
      "D:\\OneDrive - Habib University\\acedemics\\semester5\\DL\\project\\project_files\\dataset\\Theory of Automata in Urdu\\lec_01_segmented_frames\\seg_68\n",
      "D:\\OneDrive - Habib University\\acedemics\\semester5\\DL\\project\\project_files\\dataset\\Theory of Automata in Urdu\\lec_01_segmented_frames\\seg_69\n",
      "D:\\OneDrive - Habib University\\acedemics\\semester5\\DL\\project\\project_files\\dataset\\Theory of Automata in Urdu\\lec_01_segmented_frames\\seg_70\n",
      "D:\\OneDrive - Habib University\\acedemics\\semester5\\DL\\project\\project_files\\dataset\\Theory of Automata in Urdu\\lec_01_segmented_frames\\seg_71\n",
      "D:\\OneDrive - Habib University\\acedemics\\semester5\\DL\\project\\project_files\\dataset\\Theory of Automata in Urdu\\lec_01_segmented_frames\\seg_72\n",
      "D:\\OneDrive - Habib University\\acedemics\\semester5\\DL\\project\\project_files\\dataset\\Theory of Automata in Urdu\\lec_01_segmented_frames\\seg_73\n",
      "D:\\OneDrive - Habib University\\acedemics\\semester5\\DL\\project\\project_files\\dataset\\Theory of Automata in Urdu\\lec_01_segmented_frames\\seg_74\n",
      "D:\\OneDrive - Habib University\\acedemics\\semester5\\DL\\project\\project_files\\dataset\\Theory of Automata in Urdu\\lec_01_segmented_frames\\seg_75\n",
      "D:\\OneDrive - Habib University\\acedemics\\semester5\\DL\\project\\project_files\\dataset\\Theory of Automata in Urdu\\lec_01_segmented_frames\\seg_76\n",
      "D:\\OneDrive - Habib University\\acedemics\\semester5\\DL\\project\\project_files\\dataset\\Theory of Automata in Urdu\\lec_01_segmented_frames\\seg_77\n",
      "D:\\OneDrive - Habib University\\acedemics\\semester5\\DL\\project\\project_files\\dataset\\Theory of Automata in Urdu\\lec_01_segmented_frames\\seg_78\n",
      "D:\\OneDrive - Habib University\\acedemics\\semester5\\DL\\project\\project_files\\dataset\\Theory of Automata in Urdu\\lec_01_segmented_frames\\seg_79\n",
      "D:\\OneDrive - Habib University\\acedemics\\semester5\\DL\\project\\project_files\\dataset\\Theory of Automata in Urdu\\lec_01_segmented_frames\\seg_80\n",
      "D:\\OneDrive - Habib University\\acedemics\\semester5\\DL\\project\\project_files\\dataset\\Theory of Automata in Urdu\\lec_01_segmented_frames\\seg_81\n",
      "D:\\OneDrive - Habib University\\acedemics\\semester5\\DL\\project\\project_files\\dataset\\Theory of Automata in Urdu\\lec_01_segmented_frames\\seg_82\n",
      "D:\\OneDrive - Habib University\\acedemics\\semester5\\DL\\project\\project_files\\dataset\\Theory of Automata in Urdu\\lec_01_segmented_frames\\seg_83\n",
      "D:\\OneDrive - Habib University\\acedemics\\semester5\\DL\\project\\project_files\\dataset\\Theory of Automata in Urdu\\lec_01_segmented_frames\\seg_84\n",
      "D:\\OneDrive - Habib University\\acedemics\\semester5\\DL\\project\\project_files\\dataset\\Theory of Automata in Urdu\\lec_01_segmented_frames\\seg_85\n",
      "D:\\OneDrive - Habib University\\acedemics\\semester5\\DL\\project\\project_files\\dataset\\Theory of Automata in Urdu\\lec_01_segmented_frames\\seg_86\n",
      "D:\\OneDrive - Habib University\\acedemics\\semester5\\DL\\project\\project_files\\dataset\\Theory of Automata in Urdu\\lec_01_segmented_frames\\seg_87\n",
      "D:\\OneDrive - Habib University\\acedemics\\semester5\\DL\\project\\project_files\\dataset\\Theory of Automata in Urdu\\lec_01_segmented_frames\\seg_88\n",
      "D:\\OneDrive - Habib University\\acedemics\\semester5\\DL\\project\\project_files\\dataset\\Theory of Automata in Urdu\\lec_01_segmented_frames\\seg_89\n",
      "D:\\OneDrive - Habib University\\acedemics\\semester5\\DL\\project\\project_files\\dataset\\Theory of Automata in Urdu\\lec_01_segmented_frames\\seg_90\n",
      "D:\\OneDrive - Habib University\\acedemics\\semester5\\DL\\project\\project_files\\dataset\\Theory of Automata in Urdu\\lec_01_segmented_frames\\seg_91\n",
      "D:\\OneDrive - Habib University\\acedemics\\semester5\\DL\\project\\project_files\\dataset\\Theory of Automata in Urdu\\lec_01_segmented_frames\\seg_92\n",
      "D:\\OneDrive - Habib University\\acedemics\\semester5\\DL\\project\\project_files\\dataset\\Theory of Automata in Urdu\\lec_01_segmented_frames\\seg_93\n",
      "D:\\OneDrive - Habib University\\acedemics\\semester5\\DL\\project\\project_files\\dataset\\Theory of Automata in Urdu\\lec_01_segmented_frames\\seg_94\n",
      "D:\\OneDrive - Habib University\\acedemics\\semester5\\DL\\project\\project_files\\dataset\\Theory of Automata in Urdu\\lec_01_segmented_frames\\seg_95\n",
      "D:\\OneDrive - Habib University\\acedemics\\semester5\\DL\\project\\project_files\\dataset\\Theory of Automata in Urdu\\lec_01_segmented_frames\\seg_96\n",
      "D:\\OneDrive - Habib University\\acedemics\\semester5\\DL\\project\\project_files\\dataset\\Theory of Automata in Urdu\\lec_01_segmented_frames\\seg_97\n",
      "D:\\OneDrive - Habib University\\acedemics\\semester5\\DL\\project\\project_files\\dataset\\Theory of Automata in Urdu\\lec_01_segmented_frames\\seg_98\n",
      "D:\\OneDrive - Habib University\\acedemics\\semester5\\DL\\project\\project_files\\dataset\\Theory of Automata in Urdu\\lec_01_segmented_frames\\seg_99\n",
      "D:\\OneDrive - Habib University\\acedemics\\semester5\\DL\\project\\project_files\\dataset\\Theory of Automata in Urdu\\lec_01_segmented_frames\\seg_100\n",
      "D:\\OneDrive - Habib University\\acedemics\\semester5\\DL\\project\\project_files\\dataset\\Theory of Automata in Urdu\\lec_01_segmented_frames\\seg_101\n",
      "D:\\OneDrive - Habib University\\acedemics\\semester5\\DL\\project\\project_files\\dataset\\Theory of Automata in Urdu\\lec_01_segmented_frames\\seg_102\n",
      "D:\\OneDrive - Habib University\\acedemics\\semester5\\DL\\project\\project_files\\dataset\\Theory of Automata in Urdu\\lec_01_segmented_frames\\seg_103\n",
      "D:\\OneDrive - Habib University\\acedemics\\semester5\\DL\\project\\project_files\\dataset\\Theory of Automata in Urdu\\lec_01_segmented_frames\\seg_104\n",
      "D:\\OneDrive - Habib University\\acedemics\\semester5\\DL\\project\\project_files\\dataset\\Theory of Automata in Urdu\\lec_01_segmented_frames\\seg_105\n",
      "D:\\OneDrive - Habib University\\acedemics\\semester5\\DL\\project\\project_files\\dataset\\Theory of Automata in Urdu\\lec_01_segmented_frames\\seg_106\n",
      "D:\\OneDrive - Habib University\\acedemics\\semester5\\DL\\project\\project_files\\dataset\\Theory of Automata in Urdu\\lec_01_segmented_frames\\seg_107\n",
      "D:\\OneDrive - Habib University\\acedemics\\semester5\\DL\\project\\project_files\\dataset\\Theory of Automata in Urdu\\lec_01_segmented_frames\\seg_108\n",
      "D:\\OneDrive - Habib University\\acedemics\\semester5\\DL\\project\\project_files\\dataset\\Theory of Automata in Urdu\\lec_01_segmented_frames\\seg_109\n",
      "D:\\OneDrive - Habib University\\acedemics\\semester5\\DL\\project\\project_files\\dataset\\Theory of Automata in Urdu\\lec_01_segmented_frames\\seg_110\n",
      "D:\\OneDrive - Habib University\\acedemics\\semester5\\DL\\project\\project_files\\dataset\\Theory of Automata in Urdu\\lec_01_segmented_frames\\seg_111\n",
      "D:\\OneDrive - Habib University\\acedemics\\semester5\\DL\\project\\project_files\\dataset\\Theory of Automata in Urdu\\lec_01_segmented_frames\\seg_112\n",
      "D:\\OneDrive - Habib University\\acedemics\\semester5\\DL\\project\\project_files\\dataset\\Theory of Automata in Urdu\\lec_01_segmented_frames\\seg_113\n",
      "D:\\OneDrive - Habib University\\acedemics\\semester5\\DL\\project\\project_files\\dataset\\Theory of Automata in Urdu\\lec_01_segmented_frames\\seg_114\n",
      "D:\\OneDrive - Habib University\\acedemics\\semester5\\DL\\project\\project_files\\dataset\\Theory of Automata in Urdu\\lec_01_segmented_frames\\seg_115\n",
      "D:\\OneDrive - Habib University\\acedemics\\semester5\\DL\\project\\project_files\\dataset\\Theory of Automata in Urdu\\lec_01_segmented_frames\\seg_116\n",
      "D:\\OneDrive - Habib University\\acedemics\\semester5\\DL\\project\\project_files\\dataset\\Theory of Automata in Urdu\\lec_01_segmented_frames\\seg_117\n",
      "D:\\OneDrive - Habib University\\acedemics\\semester5\\DL\\project\\project_files\\dataset\\Theory of Automata in Urdu\\lec_01_segmented_frames\\seg_118\n",
      "D:\\OneDrive - Habib University\\acedemics\\semester5\\DL\\project\\project_files\\dataset\\Theory of Automata in Urdu\\lec_01_segmented_frames\\seg_119\n",
      "D:\\OneDrive - Habib University\\acedemics\\semester5\\DL\\project\\project_files\\dataset\\Theory of Automata in Urdu\\lec_01_segmented_frames\\seg_120\n",
      "D:\\OneDrive - Habib University\\acedemics\\semester5\\DL\\project\\project_files\\dataset\\Theory of Automata in Urdu\\lec_01_segmented_frames\\seg_121\n",
      "D:\\OneDrive - Habib University\\acedemics\\semester5\\DL\\project\\project_files\\dataset\\Theory of Automata in Urdu\\lec_01_segmented_frames\\seg_122\n",
      "D:\\OneDrive - Habib University\\acedemics\\semester5\\DL\\project\\project_files\\dataset\\Theory of Automata in Urdu\\lec_01_segmented_frames\\seg_123\n",
      "D:\\OneDrive - Habib University\\acedemics\\semester5\\DL\\project\\project_files\\dataset\\Theory of Automata in Urdu\\lec_01_segmented_frames\\seg_124\n",
      "D:\\OneDrive - Habib University\\acedemics\\semester5\\DL\\project\\project_files\\dataset\\Theory of Automata in Urdu\\lec_01_segmented_frames\\seg_125\n",
      "D:\\OneDrive - Habib University\\acedemics\\semester5\\DL\\project\\project_files\\dataset\\Theory of Automata in Urdu\\lec_01_segmented_frames\\seg_126\n",
      "D:\\OneDrive - Habib University\\acedemics\\semester5\\DL\\project\\project_files\\dataset\\Theory of Automata in Urdu\\lec_01_segmented_frames\\seg_127\n",
      "D:\\OneDrive - Habib University\\acedemics\\semester5\\DL\\project\\project_files\\dataset\\Theory of Automata in Urdu\\lec_01_segmented_frames\\seg_128\n",
      "D:\\OneDrive - Habib University\\acedemics\\semester5\\DL\\project\\project_files\\dataset\\Theory of Automata in Urdu\\lec_01_segmented_frames\\seg_129\n",
      "D:\\OneDrive - Habib University\\acedemics\\semester5\\DL\\project\\project_files\\dataset\\Theory of Automata in Urdu\\lec_01_segmented_frames\\seg_130\n",
      "D:\\OneDrive - Habib University\\acedemics\\semester5\\DL\\project\\project_files\\dataset\\Theory of Automata in Urdu\\lec_01_segmented_frames\\seg_131\n",
      "D:\\OneDrive - Habib University\\acedemics\\semester5\\DL\\project\\project_files\\dataset\\Theory of Automata in Urdu\\lec_01_segmented_frames\\seg_132\n",
      "D:\\OneDrive - Habib University\\acedemics\\semester5\\DL\\project\\project_files\\dataset\\Theory of Automata in Urdu\\lec_01_segmented_frames\\seg_133\n",
      "D:\\OneDrive - Habib University\\acedemics\\semester5\\DL\\project\\project_files\\dataset\\Theory of Automata in Urdu\\lec_01_segmented_frames\\seg_134\n",
      "D:\\OneDrive - Habib University\\acedemics\\semester5\\DL\\project\\project_files\\dataset\\Theory of Automata in Urdu\\lec_01_segmented_frames\\seg_135\n",
      "D:\\OneDrive - Habib University\\acedemics\\semester5\\DL\\project\\project_files\\dataset\\Theory of Automata in Urdu\\lec_01_segmented_frames\\seg_136\n",
      "D:\\OneDrive - Habib University\\acedemics\\semester5\\DL\\project\\project_files\\dataset\\Theory of Automata in Urdu\\lec_01_segmented_frames\\seg_137\n",
      "D:\\OneDrive - Habib University\\acedemics\\semester5\\DL\\project\\project_files\\dataset\\Theory of Automata in Urdu\\lec_01_segmented_frames\\seg_138\n",
      "D:\\OneDrive - Habib University\\acedemics\\semester5\\DL\\project\\project_files\\dataset\\Theory of Automata in Urdu\\lec_01_segmented_frames\\seg_139\n",
      "D:\\OneDrive - Habib University\\acedemics\\semester5\\DL\\project\\project_files\\dataset\\Theory of Automata in Urdu\\lec_01_segmented_frames\\seg_140\n",
      "D:\\OneDrive - Habib University\\acedemics\\semester5\\DL\\project\\project_files\\dataset\\Theory of Automata in Urdu\\lec_01_segmented_frames\\seg_141\n",
      "D:\\OneDrive - Habib University\\acedemics\\semester5\\DL\\project\\project_files\\dataset\\Theory of Automata in Urdu\\lec_01_segmented_frames\\seg_142\n",
      "D:\\OneDrive - Habib University\\acedemics\\semester5\\DL\\project\\project_files\\dataset\\Theory of Automata in Urdu\\lec_01_segmented_frames\\seg_143\n",
      "D:\\OneDrive - Habib University\\acedemics\\semester5\\DL\\project\\project_files\\dataset\\Theory of Automata in Urdu\\lec_01_segmented_frames\\seg_144\n",
      "D:\\OneDrive - Habib University\\acedemics\\semester5\\DL\\project\\project_files\\dataset\\Theory of Automata in Urdu\\lec_01_segmented_frames\\seg_145\n",
      "D:\\OneDrive - Habib University\\acedemics\\semester5\\DL\\project\\project_files\\dataset\\Theory of Automata in Urdu\\lec_01_segmented_frames\\seg_146\n",
      "D:\\OneDrive - Habib University\\acedemics\\semester5\\DL\\project\\project_files\\dataset\\Theory of Automata in Urdu\\lec_01_segmented_frames\\seg_147\n",
      "D:\\OneDrive - Habib University\\acedemics\\semester5\\DL\\project\\project_files\\dataset\\Theory of Automata in Urdu\\lec_01_segmented_frames\\seg_148\n",
      "D:\\OneDrive - Habib University\\acedemics\\semester5\\DL\\project\\project_files\\dataset\\Theory of Automata in Urdu\\lec_01_segmented_frames\\seg_149\n",
      "D:\\OneDrive - Habib University\\acedemics\\semester5\\DL\\project\\project_files\\dataset\\Theory of Automata in Urdu\\lec_01_segmented_frames\\seg_150\n",
      "D:\\OneDrive - Habib University\\acedemics\\semester5\\DL\\project\\project_files\\dataset\\Theory of Automata in Urdu\\lec_01_segmented_frames\\seg_151\n",
      "D:\\OneDrive - Habib University\\acedemics\\semester5\\DL\\project\\project_files\\dataset\\Theory of Automata in Urdu\\lec_01_segmented_frames\\seg_152\n",
      "D:\\OneDrive - Habib University\\acedemics\\semester5\\DL\\project\\project_files\\dataset\\Theory of Automata in Urdu\\lec_01_segmented_frames\\seg_153\n",
      "D:\\OneDrive - Habib University\\acedemics\\semester5\\DL\\project\\project_files\\dataset\\Theory of Automata in Urdu\\lec_01_segmented_frames\\seg_154\n",
      "D:\\OneDrive - Habib University\\acedemics\\semester5\\DL\\project\\project_files\\dataset\\Theory of Automata in Urdu\\lec_01_segmented_frames\\seg_155\n",
      "D:\\OneDrive - Habib University\\acedemics\\semester5\\DL\\project\\project_files\\dataset\\Theory of Automata in Urdu\\lec_01_segmented_frames\\seg_156\n",
      "D:\\OneDrive - Habib University\\acedemics\\semester5\\DL\\project\\project_files\\dataset\\Theory of Automata in Urdu\\lec_01_segmented_frames\\seg_157\n",
      "D:\\OneDrive - Habib University\\acedemics\\semester5\\DL\\project\\project_files\\dataset\\Theory of Automata in Urdu\\lec_01_segmented_frames\\seg_158\n",
      "D:\\OneDrive - Habib University\\acedemics\\semester5\\DL\\project\\project_files\\dataset\\Theory of Automata in Urdu\\lec_01_segmented_frames\\seg_159\n",
      "D:\\OneDrive - Habib University\\acedemics\\semester5\\DL\\project\\project_files\\dataset\\Theory of Automata in Urdu\\lec_01_segmented_frames\\seg_160\n",
      "D:\\OneDrive - Habib University\\acedemics\\semester5\\DL\\project\\project_files\\dataset\\Theory of Automata in Urdu\\lec_01_segmented_frames\\seg_161\n",
      "D:\\OneDrive - Habib University\\acedemics\\semester5\\DL\\project\\project_files\\dataset\\Theory of Automata in Urdu\\lec_01_segmented_frames\\seg_162\n",
      "D:\\OneDrive - Habib University\\acedemics\\semester5\\DL\\project\\project_files\\dataset\\Theory of Automata in Urdu\\lec_01_segmented_frames\\seg_163\n",
      "D:\\OneDrive - Habib University\\acedemics\\semester5\\DL\\project\\project_files\\dataset\\Theory of Automata in Urdu\\lec_01_segmented_frames\\seg_164\n",
      "D:\\OneDrive - Habib University\\acedemics\\semester5\\DL\\project\\project_files\\dataset\\Theory of Automata in Urdu\\lec_01_segmented_frames\\seg_165\n",
      "D:\\OneDrive - Habib University\\acedemics\\semester5\\DL\\project\\project_files\\dataset\\Theory of Automata in Urdu\\lec_01_segmented_frames\\seg_166\n",
      "D:\\OneDrive - Habib University\\acedemics\\semester5\\DL\\project\\project_files\\dataset\\Theory of Automata in Urdu\\lec_01_segmented_frames\\seg_167\n",
      "D:\\OneDrive - Habib University\\acedemics\\semester5\\DL\\project\\project_files\\dataset\\Theory of Automata in Urdu\\lec_01_segmented_frames\\seg_168\n",
      "D:\\OneDrive - Habib University\\acedemics\\semester5\\DL\\project\\project_files\\dataset\\Theory of Automata in Urdu\\lec_01_segmented_frames\\seg_169\n",
      "D:\\OneDrive - Habib University\\acedemics\\semester5\\DL\\project\\project_files\\dataset\\Theory of Automata in Urdu\\lec_01_segmented_frames\\seg_170\n",
      "D:\\OneDrive - Habib University\\acedemics\\semester5\\DL\\project\\project_files\\dataset\\Theory of Automata in Urdu\\lec_01_segmented_frames\\seg_171\n",
      "D:\\OneDrive - Habib University\\acedemics\\semester5\\DL\\project\\project_files\\dataset\\Theory of Automata in Urdu\\lec_01_segmented_frames\\seg_172\n",
      "D:\\OneDrive - Habib University\\acedemics\\semester5\\DL\\project\\project_files\\dataset\\Theory of Automata in Urdu\\lec_01_segmented_frames\\seg_173\n",
      "D:\\OneDrive - Habib University\\acedemics\\semester5\\DL\\project\\project_files\\dataset\\Theory of Automata in Urdu\\lec_01_segmented_frames\\seg_174\n",
      "D:\\OneDrive - Habib University\\acedemics\\semester5\\DL\\project\\project_files\\dataset\\Theory of Automata in Urdu\\lec_01_segmented_frames\\seg_175\n",
      "D:\\OneDrive - Habib University\\acedemics\\semester5\\DL\\project\\project_files\\dataset\\Theory of Automata in Urdu\\lec_01_segmented_frames\\seg_176\n",
      "D:\\OneDrive - Habib University\\acedemics\\semester5\\DL\\project\\project_files\\dataset\\Theory of Automata in Urdu\\lec_01_segmented_frames\\seg_177\n",
      "D:\\OneDrive - Habib University\\acedemics\\semester5\\DL\\project\\project_files\\dataset\\Theory of Automata in Urdu\\lec_01_segmented_frames\\seg_178\n",
      "D:\\OneDrive - Habib University\\acedemics\\semester5\\DL\\project\\project_files\\dataset\\Theory of Automata in Urdu\\lec_01_segmented_frames\\seg_179\n",
      "D:\\OneDrive - Habib University\\acedemics\\semester5\\DL\\project\\project_files\\dataset\\Theory of Automata in Urdu\\lec_01_segmented_frames\\seg_180\n",
      "D:\\OneDrive - Habib University\\acedemics\\semester5\\DL\\project\\project_files\\dataset\\Theory of Automata in Urdu\\lec_01_segmented_frames\\seg_181\n",
      "D:\\OneDrive - Habib University\\acedemics\\semester5\\DL\\project\\project_files\\dataset\\Theory of Automata in Urdu\\lec_01_segmented_frames\\seg_182\n",
      "D:\\OneDrive - Habib University\\acedemics\\semester5\\DL\\project\\project_files\\dataset\\Theory of Automata in Urdu\\lec_01_segmented_frames\\seg_183\n",
      "D:\\OneDrive - Habib University\\acedemics\\semester5\\DL\\project\\project_files\\dataset\\Theory of Automata in Urdu\\lec_01_segmented_frames\\seg_184\n",
      "D:\\OneDrive - Habib University\\acedemics\\semester5\\DL\\project\\project_files\\dataset\\Theory of Automata in Urdu\\lec_01_segmented_frames\\seg_185\n",
      "D:\\OneDrive - Habib University\\acedemics\\semester5\\DL\\project\\project_files\\dataset\\Theory of Automata in Urdu\\lec_01_segmented_frames\\seg_186\n",
      "D:\\OneDrive - Habib University\\acedemics\\semester5\\DL\\project\\project_files\\dataset\\Theory of Automata in Urdu\\lec_01_segmented_frames\\seg_187\n",
      "D:\\OneDrive - Habib University\\acedemics\\semester5\\DL\\project\\project_files\\dataset\\Theory of Automata in Urdu\\lec_01_segmented_frames\\seg_188\n",
      "D:\\OneDrive - Habib University\\acedemics\\semester5\\DL\\project\\project_files\\dataset\\Theory of Automata in Urdu\\lec_01_segmented_frames\\seg_189\n",
      "D:\\OneDrive - Habib University\\acedemics\\semester5\\DL\\project\\project_files\\dataset\\Theory of Automata in Urdu\\lec_01_segmented_frames\\seg_190\n",
      "D:\\OneDrive - Habib University\\acedemics\\semester5\\DL\\project\\project_files\\dataset\\Theory of Automata in Urdu\\lec_01_segmented_frames\\seg_191\n",
      "D:\\OneDrive - Habib University\\acedemics\\semester5\\DL\\project\\project_files\\dataset\\Theory of Automata in Urdu\\lec_01_segmented_frames\\seg_192\n",
      "D:\\OneDrive - Habib University\\acedemics\\semester5\\DL\\project\\project_files\\dataset\\Theory of Automata in Urdu\\lec_01_segmented_frames\\seg_193\n",
      "D:\\OneDrive - Habib University\\acedemics\\semester5\\DL\\project\\project_files\\dataset\\Theory of Automata in Urdu\\lec_01_segmented_frames\\seg_194\n",
      "D:\\OneDrive - Habib University\\acedemics\\semester5\\DL\\project\\project_files\\dataset\\Theory of Automata in Urdu\\lec_01_segmented_frames\\seg_195\n",
      "D:\\OneDrive - Habib University\\acedemics\\semester5\\DL\\project\\project_files\\dataset\\Theory of Automata in Urdu\\lec_01_segmented_frames\\seg_196\n",
      "D:\\OneDrive - Habib University\\acedemics\\semester5\\DL\\project\\project_files\\dataset\\Theory of Automata in Urdu\\lec_01_segmented_frames\\seg_197\n",
      "D:\\OneDrive - Habib University\\acedemics\\semester5\\DL\\project\\project_files\\dataset\\Theory of Automata in Urdu\\lec_01_segmented_frames\\seg_198\n",
      "D:\\OneDrive - Habib University\\acedemics\\semester5\\DL\\project\\project_files\\dataset\\Theory of Automata in Urdu\\lec_01_segmented_frames\\seg_199\n",
      "D:\\OneDrive - Habib University\\acedemics\\semester5\\DL\\project\\project_files\\dataset\\Theory of Automata in Urdu\\lec_01_segmented_frames\\seg_200\n",
      "D:\\OneDrive - Habib University\\acedemics\\semester5\\DL\\project\\project_files\\dataset\\Theory of Automata in Urdu\\lec_01_segmented_frames\\seg_201\n",
      "D:\\OneDrive - Habib University\\acedemics\\semester5\\DL\\project\\project_files\\dataset\\Theory of Automata in Urdu\\lec_01_segmented_frames\\seg_202\n",
      "D:\\OneDrive - Habib University\\acedemics\\semester5\\DL\\project\\project_files\\dataset\\Theory of Automata in Urdu\\lec_01_segmented_frames\\seg_203\n",
      "D:\\OneDrive - Habib University\\acedemics\\semester5\\DL\\project\\project_files\\dataset\\Theory of Automata in Urdu\\lec_01_segmented_frames\\seg_204\n",
      "D:\\OneDrive - Habib University\\acedemics\\semester5\\DL\\project\\project_files\\dataset\\Theory of Automata in Urdu\\lec_01_segmented_frames\\seg_205\n",
      "D:\\OneDrive - Habib University\\acedemics\\semester5\\DL\\project\\project_files\\dataset\\Theory of Automata in Urdu\\lec_01_segmented_frames\\seg_206\n",
      "D:\\OneDrive - Habib University\\acedemics\\semester5\\DL\\project\\project_files\\dataset\\Theory of Automata in Urdu\\lec_01_segmented_frames\\seg_207\n",
      "D:\\OneDrive - Habib University\\acedemics\\semester5\\DL\\project\\project_files\\dataset\\Theory of Automata in Urdu\\lec_01_segmented_frames\\seg_208\n",
      "D:\\OneDrive - Habib University\\acedemics\\semester5\\DL\\project\\project_files\\dataset\\Theory of Automata in Urdu\\lec_01_segmented_frames\\seg_209\n",
      "D:\\OneDrive - Habib University\\acedemics\\semester5\\DL\\project\\project_files\\dataset\\Theory of Automata in Urdu\\lec_01_segmented_frames\\seg_210\n",
      "D:\\OneDrive - Habib University\\acedemics\\semester5\\DL\\project\\project_files\\dataset\\Theory of Automata in Urdu\\lec_01_segmented_frames\\seg_211\n",
      "D:\\OneDrive - Habib University\\acedemics\\semester5\\DL\\project\\project_files\\dataset\\Theory of Automata in Urdu\\lec_01_segmented_frames\\seg_212\n",
      "D:\\OneDrive - Habib University\\acedemics\\semester5\\DL\\project\\project_files\\dataset\\Theory of Automata in Urdu\\lec_01_segmented_frames\\seg_213\n",
      "D:\\OneDrive - Habib University\\acedemics\\semester5\\DL\\project\\project_files\\dataset\\Theory of Automata in Urdu\\lec_01_segmented_frames\\seg_214\n",
      "D:\\OneDrive - Habib University\\acedemics\\semester5\\DL\\project\\project_files\\dataset\\Theory of Automata in Urdu\\lec_01_segmented_frames\\seg_215\n",
      "D:\\OneDrive - Habib University\\acedemics\\semester5\\DL\\project\\project_files\\dataset\\Theory of Automata in Urdu\\lec_01_segmented_frames\\seg_216\n",
      "D:\\OneDrive - Habib University\\acedemics\\semester5\\DL\\project\\project_files\\dataset\\Theory of Automata in Urdu\\lec_01_segmented_frames\\seg_217\n",
      "D:\\OneDrive - Habib University\\acedemics\\semester5\\DL\\project\\project_files\\dataset\\Theory of Automata in Urdu\\lec_01_segmented_frames\\seg_218\n",
      "D:\\OneDrive - Habib University\\acedemics\\semester5\\DL\\project\\project_files\\dataset\\Theory of Automata in Urdu\\lec_01_segmented_frames\\seg_219\n",
      "D:\\OneDrive - Habib University\\acedemics\\semester5\\DL\\project\\project_files\\dataset\\Theory of Automata in Urdu\\lec_01_segmented_frames\\seg_220\n",
      "D:\\OneDrive - Habib University\\acedemics\\semester5\\DL\\project\\project_files\\dataset\\Theory of Automata in Urdu\\lec_01_segmented_frames\\seg_221\n",
      "D:\\OneDrive - Habib University\\acedemics\\semester5\\DL\\project\\project_files\\dataset\\Theory of Automata in Urdu\\lec_01_segmented_frames\\seg_222\n",
      "D:\\OneDrive - Habib University\\acedemics\\semester5\\DL\\project\\project_files\\dataset\\Theory of Automata in Urdu\\lec_01_segmented_frames\\seg_223\n",
      "D:\\OneDrive - Habib University\\acedemics\\semester5\\DL\\project\\project_files\\dataset\\Theory of Automata in Urdu\\lec_01_segmented_frames\\seg_224\n",
      "D:\\OneDrive - Habib University\\acedemics\\semester5\\DL\\project\\project_files\\dataset\\Theory of Automata in Urdu\\lec_01_segmented_frames\\seg_225\n",
      "D:\\OneDrive - Habib University\\acedemics\\semester5\\DL\\project\\project_files\\dataset\\Theory of Automata in Urdu\\lec_01_segmented_frames\\seg_226\n",
      "D:\\OneDrive - Habib University\\acedemics\\semester5\\DL\\project\\project_files\\dataset\\Theory of Automata in Urdu\\lec_01_segmented_frames\\seg_227\n",
      "D:\\OneDrive - Habib University\\acedemics\\semester5\\DL\\project\\project_files\\dataset\\Theory of Automata in Urdu\\lec_01_segmented_frames\\seg_228\n",
      "D:\\OneDrive - Habib University\\acedemics\\semester5\\DL\\project\\project_files\\dataset\\Theory of Automata in Urdu\\lec_01_segmented_frames\\seg_229\n",
      "D:\\OneDrive - Habib University\\acedemics\\semester5\\DL\\project\\project_files\\dataset\\Theory of Automata in Urdu\\lec_01_segmented_frames\\seg_230\n",
      "D:\\OneDrive - Habib University\\acedemics\\semester5\\DL\\project\\project_files\\dataset\\Theory of Automata in Urdu\\lec_01_segmented_frames\\seg_231\n",
      "D:\\OneDrive - Habib University\\acedemics\\semester5\\DL\\project\\project_files\\dataset\\Theory of Automata in Urdu\\lec_01_segmented_frames\\seg_232\n",
      "D:\\OneDrive - Habib University\\acedemics\\semester5\\DL\\project\\project_files\\dataset\\Theory of Automata in Urdu\\lec_01_segmented_frames\\seg_233\n",
      "D:\\OneDrive - Habib University\\acedemics\\semester5\\DL\\project\\project_files\\dataset\\Theory of Automata in Urdu\\lec_01_segmented_frames\\seg_234\n",
      "D:\\OneDrive - Habib University\\acedemics\\semester5\\DL\\project\\project_files\\dataset\\Theory of Automata in Urdu\\lec_01_segmented_frames\\seg_235\n",
      "D:\\OneDrive - Habib University\\acedemics\\semester5\\DL\\project\\project_files\\dataset\\Theory of Automata in Urdu\\lec_01_segmented_frames\\seg_236\n",
      "D:\\OneDrive - Habib University\\acedemics\\semester5\\DL\\project\\project_files\\dataset\\Theory of Automata in Urdu\\lec_01_segmented_frames\\seg_237\n",
      "D:\\OneDrive - Habib University\\acedemics\\semester5\\DL\\project\\project_files\\dataset\\Theory of Automata in Urdu\\lec_01_segmented_frames\\seg_238\n",
      "D:\\OneDrive - Habib University\\acedemics\\semester5\\DL\\project\\project_files\\dataset\\Theory of Automata in Urdu\\lec_01_segmented_frames\\seg_239\n",
      "D:\\OneDrive - Habib University\\acedemics\\semester5\\DL\\project\\project_files\\dataset\\Theory of Automata in Urdu\\lec_01_segmented_frames\\seg_240\n",
      "D:\\OneDrive - Habib University\\acedemics\\semester5\\DL\\project\\project_files\\dataset\\Theory of Automata in Urdu\\lec_01_segmented_frames\\seg_241\n",
      "D:\\OneDrive - Habib University\\acedemics\\semester5\\DL\\project\\project_files\\dataset\\Theory of Automata in Urdu\\lec_01_segmented_frames\\seg_242\n",
      "D:\\OneDrive - Habib University\\acedemics\\semester5\\DL\\project\\project_files\\dataset\\Theory of Automata in Urdu\\lec_01_segmented_frames\\seg_243\n",
      "D:\\OneDrive - Habib University\\acedemics\\semester5\\DL\\project\\project_files\\dataset\\Theory of Automata in Urdu\\lec_01_segmented_frames\\seg_244\n",
      "D:\\OneDrive - Habib University\\acedemics\\semester5\\DL\\project\\project_files\\dataset\\Theory of Automata in Urdu\\lec_01_segmented_frames\\seg_245\n",
      "D:\\OneDrive - Habib University\\acedemics\\semester5\\DL\\project\\project_files\\dataset\\Theory of Automata in Urdu\\lec_01_segmented_frames\\seg_246\n",
      "D:\\OneDrive - Habib University\\acedemics\\semester5\\DL\\project\\project_files\\dataset\\Theory of Automata in Urdu\\lec_01_segmented_frames\\seg_247\n",
      "D:\\OneDrive - Habib University\\acedemics\\semester5\\DL\\project\\project_files\\dataset\\Theory of Automata in Urdu\\lec_01_segmented_frames\\seg_248\n",
      "D:\\OneDrive - Habib University\\acedemics\\semester5\\DL\\project\\project_files\\dataset\\Theory of Automata in Urdu\\lec_01_segmented_frames\\seg_249\n",
      "D:\\OneDrive - Habib University\\acedemics\\semester5\\DL\\project\\project_files\\dataset\\Theory of Automata in Urdu\\lec_01_segmented_frames\\seg_250\n",
      "D:\\OneDrive - Habib University\\acedemics\\semester5\\DL\\project\\project_files\\dataset\\Theory of Automata in Urdu\\lec_01_segmented_frames\\seg_251\n",
      "D:\\OneDrive - Habib University\\acedemics\\semester5\\DL\\project\\project_files\\dataset\\Theory of Automata in Urdu\\lec_01_segmented_frames\\seg_252\n",
      "D:\\OneDrive - Habib University\\acedemics\\semester5\\DL\\project\\project_files\\dataset\\Theory of Automata in Urdu\\lec_01_segmented_frames\\seg_253\n",
      "D:\\OneDrive - Habib University\\acedemics\\semester5\\DL\\project\\project_files\\dataset\\Theory of Automata in Urdu\\lec_01_segmented_frames\\seg_254\n",
      "D:\\OneDrive - Habib University\\acedemics\\semester5\\DL\\project\\project_files\\dataset\\Theory of Automata in Urdu\\lec_01_segmented_frames\\seg_255\n",
      "D:\\OneDrive - Habib University\\acedemics\\semester5\\DL\\project\\project_files\\dataset\\Theory of Automata in Urdu\\lec_01_segmented_frames\\seg_256\n",
      "D:\\OneDrive - Habib University\\acedemics\\semester5\\DL\\project\\project_files\\dataset\\Theory of Automata in Urdu\\lec_01_segmented_frames\\seg_257\n",
      "D:\\OneDrive - Habib University\\acedemics\\semester5\\DL\\project\\project_files\\dataset\\Theory of Automata in Urdu\\lec_01_segmented_frames\\seg_258\n",
      "D:\\OneDrive - Habib University\\acedemics\\semester5\\DL\\project\\project_files\\dataset\\Theory of Automata in Urdu\\lec_01_segmented_frames\\seg_259\n",
      "D:\\OneDrive - Habib University\\acedemics\\semester5\\DL\\project\\project_files\\dataset\\Theory of Automata in Urdu\\lec_01_segmented_frames\\seg_260\n",
      "D:\\OneDrive - Habib University\\acedemics\\semester5\\DL\\project\\project_files\\dataset\\Theory of Automata in Urdu\\lec_01_segmented_frames\\seg_261\n",
      "D:\\OneDrive - Habib University\\acedemics\\semester5\\DL\\project\\project_files\\dataset\\Theory of Automata in Urdu\\lec_01_segmented_frames\\seg_262\n",
      "D:\\OneDrive - Habib University\\acedemics\\semester5\\DL\\project\\project_files\\dataset\\Theory of Automata in Urdu\\lec_01_segmented_frames\\seg_263\n",
      "D:\\OneDrive - Habib University\\acedemics\\semester5\\DL\\project\\project_files\\dataset\\Theory of Automata in Urdu\\lec_01_segmented_frames\\seg_264\n",
      "D:\\OneDrive - Habib University\\acedemics\\semester5\\DL\\project\\project_files\\dataset\\Theory of Automata in Urdu\\lec_01_segmented_frames\\seg_265\n",
      "D:\\OneDrive - Habib University\\acedemics\\semester5\\DL\\project\\project_files\\dataset\\Theory of Automata in Urdu\\lec_01_segmented_frames\\seg_266\n",
      "D:\\OneDrive - Habib University\\acedemics\\semester5\\DL\\project\\project_files\\dataset\\Theory of Automata in Urdu\\lec_01_segmented_frames\\seg_267\n",
      "D:\\OneDrive - Habib University\\acedemics\\semester5\\DL\\project\\project_files\\dataset\\Theory of Automata in Urdu\\lec_01_segmented_frames\\seg_268\n",
      "D:\\OneDrive - Habib University\\acedemics\\semester5\\DL\\project\\project_files\\dataset\\Theory of Automata in Urdu\\lec_01_segmented_frames\\seg_269\n",
      "D:\\OneDrive - Habib University\\acedemics\\semester5\\DL\\project\\project_files\\dataset\\Theory of Automata in Urdu\\lec_01_segmented_frames\\seg_270\n",
      "D:\\OneDrive - Habib University\\acedemics\\semester5\\DL\\project\\project_files\\dataset\\Theory of Automata in Urdu\\lec_01_segmented_frames\\seg_271\n",
      "D:\\OneDrive - Habib University\\acedemics\\semester5\\DL\\project\\project_files\\dataset\\Theory of Automata in Urdu\\lec_01_segmented_frames\\seg_272\n",
      "D:\\OneDrive - Habib University\\acedemics\\semester5\\DL\\project\\project_files\\dataset\\Theory of Automata in Urdu\\lec_01_segmented_frames\\seg_273\n",
      "D:\\OneDrive - Habib University\\acedemics\\semester5\\DL\\project\\project_files\\dataset\\Theory of Automata in Urdu\\lec_01_segmented_frames\\seg_274\n",
      "D:\\OneDrive - Habib University\\acedemics\\semester5\\DL\\project\\project_files\\dataset\\Theory of Automata in Urdu\\lec_01_segmented_frames\\seg_275\n",
      "D:\\OneDrive - Habib University\\acedemics\\semester5\\DL\\project\\project_files\\dataset\\Theory of Automata in Urdu\\lec_01_segmented_frames\\seg_276\n",
      "D:\\OneDrive - Habib University\\acedemics\\semester5\\DL\\project\\project_files\\dataset\\Theory of Automata in Urdu\\lec_01_segmented_frames\\seg_277\n",
      "D:\\OneDrive - Habib University\\acedemics\\semester5\\DL\\project\\project_files\\dataset\\Theory of Automata in Urdu\\lec_01_segmented_frames\\seg_278\n",
      "D:\\OneDrive - Habib University\\acedemics\\semester5\\DL\\project\\project_files\\dataset\\Theory of Automata in Urdu\\lec_01_segmented_frames\\seg_279\n",
      "D:\\OneDrive - Habib University\\acedemics\\semester5\\DL\\project\\project_files\\dataset\\Theory of Automata in Urdu\\lec_01_segmented_frames\\seg_280\n",
      "D:\\OneDrive - Habib University\\acedemics\\semester5\\DL\\project\\project_files\\dataset\\Theory of Automata in Urdu\\lec_01_segmented_frames\\seg_281\n",
      "D:\\OneDrive - Habib University\\acedemics\\semester5\\DL\\project\\project_files\\dataset\\Theory of Automata in Urdu\\lec_01_segmented_frames\\seg_282\n",
      "D:\\OneDrive - Habib University\\acedemics\\semester5\\DL\\project\\project_files\\dataset\\Theory of Automata in Urdu\\lec_01_segmented_frames\\seg_283\n",
      "D:\\OneDrive - Habib University\\acedemics\\semester5\\DL\\project\\project_files\\dataset\\Theory of Automata in Urdu\\lec_01_segmented_frames\\seg_284\n",
      "D:\\OneDrive - Habib University\\acedemics\\semester5\\DL\\project\\project_files\\dataset\\Theory of Automata in Urdu\\lec_01_segmented_frames\\seg_285\n",
      "D:\\OneDrive - Habib University\\acedemics\\semester5\\DL\\project\\project_files\\dataset\\Theory of Automata in Urdu\\lec_01_segmented_frames\\seg_286\n",
      "D:\\OneDrive - Habib University\\acedemics\\semester5\\DL\\project\\project_files\\dataset\\Theory of Automata in Urdu\\lec_01_segmented_frames\\seg_287\n",
      "D:\\OneDrive - Habib University\\acedemics\\semester5\\DL\\project\\project_files\\dataset\\Theory of Automata in Urdu\\lec_01_segmented_frames\\seg_288\n",
      "D:\\OneDrive - Habib University\\acedemics\\semester5\\DL\\project\\project_files\\dataset\\Theory of Automata in Urdu\\lec_01_segmented_frames\\seg_289\n",
      "D:\\OneDrive - Habib University\\acedemics\\semester5\\DL\\project\\project_files\\dataset\\Theory of Automata in Urdu\\lec_01_segmented_frames\\seg_290\n",
      "D:\\OneDrive - Habib University\\acedemics\\semester5\\DL\\project\\project_files\\dataset\\Theory of Automata in Urdu\\lec_01_segmented_frames\\seg_291\n",
      "D:\\OneDrive - Habib University\\acedemics\\semester5\\DL\\project\\project_files\\dataset\\Theory of Automata in Urdu\\lec_01_segmented_frames\\seg_292\n",
      "D:\\OneDrive - Habib University\\acedemics\\semester5\\DL\\project\\project_files\\dataset\\Theory of Automata in Urdu\\lec_01_segmented_frames\\seg_293\n",
      "D:\\OneDrive - Habib University\\acedemics\\semester5\\DL\\project\\project_files\\dataset\\Theory of Automata in Urdu\\lec_01_segmented_frames\\seg_294\n",
      "D:\\OneDrive - Habib University\\acedemics\\semester5\\DL\\project\\project_files\\dataset\\Theory of Automata in Urdu\\lec_01_segmented_frames\\seg_295\n",
      "D:\\OneDrive - Habib University\\acedemics\\semester5\\DL\\project\\project_files\\dataset\\Theory of Automata in Urdu\\lec_01_segmented_frames\\seg_296\n",
      "D:\\OneDrive - Habib University\\acedemics\\semester5\\DL\\project\\project_files\\dataset\\Theory of Automata in Urdu\\lec_01_segmented_frames\\seg_297\n",
      "D:\\OneDrive - Habib University\\acedemics\\semester5\\DL\\project\\project_files\\dataset\\Theory of Automata in Urdu\\lec_01_segmented_frames\\seg_298\n",
      "D:\\OneDrive - Habib University\\acedemics\\semester5\\DL\\project\\project_files\\dataset\\Theory of Automata in Urdu\\lec_01_segmented_frames\\seg_299\n",
      "D:\\OneDrive - Habib University\\acedemics\\semester5\\DL\\project\\project_files\\dataset\\Theory of Automata in Urdu\\lec_01_segmented_frames\\seg_300\n",
      "D:\\OneDrive - Habib University\\acedemics\\semester5\\DL\\project\\project_files\\dataset\\Theory of Automata in Urdu\\lec_01_segmented_frames\\seg_301\n",
      "D:\\OneDrive - Habib University\\acedemics\\semester5\\DL\\project\\project_files\\dataset\\Theory of Automata in Urdu\\lec_01_segmented_frames\\seg_302\n",
      "D:\\OneDrive - Habib University\\acedemics\\semester5\\DL\\project\\project_files\\dataset\\Theory of Automata in Urdu\\lec_01_segmented_frames\\seg_303\n",
      "D:\\OneDrive - Habib University\\acedemics\\semester5\\DL\\project\\project_files\\dataset\\Theory of Automata in Urdu\\lec_01_segmented_frames\\seg_304\n",
      "D:\\OneDrive - Habib University\\acedemics\\semester5\\DL\\project\\project_files\\dataset\\Theory of Automata in Urdu\\lec_01_segmented_frames\\seg_305\n",
      "D:\\OneDrive - Habib University\\acedemics\\semester5\\DL\\project\\project_files\\dataset\\Theory of Automata in Urdu\\lec_01_segmented_frames\\seg_306\n",
      "D:\\OneDrive - Habib University\\acedemics\\semester5\\DL\\project\\project_files\\dataset\\Theory of Automata in Urdu\\lec_01_segmented_frames\\seg_307\n",
      "D:\\OneDrive - Habib University\\acedemics\\semester5\\DL\\project\\project_files\\dataset\\Theory of Automata in Urdu\\lec_01_segmented_frames\\seg_308\n",
      "D:\\OneDrive - Habib University\\acedemics\\semester5\\DL\\project\\project_files\\dataset\\Theory of Automata in Urdu\\lec_01_segmented_frames\\seg_309\n",
      "D:\\OneDrive - Habib University\\acedemics\\semester5\\DL\\project\\project_files\\dataset\\Theory of Automata in Urdu\\lec_01_segmented_frames\\seg_310\n",
      "D:\\OneDrive - Habib University\\acedemics\\semester5\\DL\\project\\project_files\\dataset\\Theory of Automata in Urdu\\lec_01_segmented_frames\\seg_311\n",
      "D:\\OneDrive - Habib University\\acedemics\\semester5\\DL\\project\\project_files\\dataset\\Theory of Automata in Urdu\\lec_01_segmented_frames\\seg_312\n",
      "D:\\OneDrive - Habib University\\acedemics\\semester5\\DL\\project\\project_files\\dataset\\Theory of Automata in Urdu\\lec_01_segmented_frames\\seg_313\n",
      "D:\\OneDrive - Habib University\\acedemics\\semester5\\DL\\project\\project_files\\dataset\\Theory of Automata in Urdu\\lec_01_segmented_frames\\seg_314\n",
      "D:\\OneDrive - Habib University\\acedemics\\semester5\\DL\\project\\project_files\\dataset\\Theory of Automata in Urdu\\lec_01_segmented_frames\\seg_315\n",
      "D:\\OneDrive - Habib University\\acedemics\\semester5\\DL\\project\\project_files\\dataset\\Theory of Automata in Urdu\\lec_01_segmented_frames\\seg_316\n",
      "D:\\OneDrive - Habib University\\acedemics\\semester5\\DL\\project\\project_files\\dataset\\Theory of Automata in Urdu\\lec_01_segmented_frames\\seg_317\n",
      "D:\\OneDrive - Habib University\\acedemics\\semester5\\DL\\project\\project_files\\dataset\\Theory of Automata in Urdu\\lec_01_segmented_frames\\seg_318\n",
      "D:\\OneDrive - Habib University\\acedemics\\semester5\\DL\\project\\project_files\\dataset\\Theory of Automata in Urdu\\lec_01_segmented_frames\\seg_319\n",
      "D:\\OneDrive - Habib University\\acedemics\\semester5\\DL\\project\\project_files\\dataset\\Theory of Automata in Urdu\\lec_01_segmented_frames\\seg_320\n",
      "D:\\OneDrive - Habib University\\acedemics\\semester5\\DL\\project\\project_files\\dataset\\Theory of Automata in Urdu\\lec_01_segmented_frames\\seg_321\n",
      "D:\\OneDrive - Habib University\\acedemics\\semester5\\DL\\project\\project_files\\dataset\\Theory of Automata in Urdu\\lec_01_segmented_frames\\seg_322\n",
      "D:\\OneDrive - Habib University\\acedemics\\semester5\\DL\\project\\project_files\\dataset\\Theory of Automata in Urdu\\lec_01_segmented_frames\\seg_323\n",
      "D:\\OneDrive - Habib University\\acedemics\\semester5\\DL\\project\\project_files\\dataset\\Theory of Automata in Urdu\\lec_01_segmented_frames\\seg_324\n",
      "D:\\OneDrive - Habib University\\acedemics\\semester5\\DL\\project\\project_files\\dataset\\Theory of Automata in Urdu\\lec_01_segmented_frames\\seg_325\n",
      "D:\\OneDrive - Habib University\\acedemics\\semester5\\DL\\project\\project_files\\dataset\\Theory of Automata in Urdu\\lec_01_segmented_frames\\seg_326\n",
      "D:\\OneDrive - Habib University\\acedemics\\semester5\\DL\\project\\project_files\\dataset\\Theory of Automata in Urdu\\lec_01_segmented_frames\\seg_327\n",
      "D:\\OneDrive - Habib University\\acedemics\\semester5\\DL\\project\\project_files\\dataset\\Theory of Automata in Urdu\\lec_01_segmented_frames\\seg_328\n",
      "D:\\OneDrive - Habib University\\acedemics\\semester5\\DL\\project\\project_files\\dataset\\Theory of Automata in Urdu\\lec_01_segmented_frames\\seg_329\n",
      "D:\\OneDrive - Habib University\\acedemics\\semester5\\DL\\project\\project_files\\dataset\\Theory of Automata in Urdu\\lec_01_segmented_frames\\seg_330\n",
      "D:\\OneDrive - Habib University\\acedemics\\semester5\\DL\\project\\project_files\\dataset\\Theory of Automata in Urdu\\lec_01_segmented_frames\\seg_331\n",
      "D:\\OneDrive - Habib University\\acedemics\\semester5\\DL\\project\\project_files\\dataset\\Theory of Automata in Urdu\\lec_01_segmented_frames\\seg_332\n",
      "D:\\OneDrive - Habib University\\acedemics\\semester5\\DL\\project\\project_files\\dataset\\Theory of Automata in Urdu\\lec_01_segmented_frames\\seg_333\n",
      "D:\\OneDrive - Habib University\\acedemics\\semester5\\DL\\project\\project_files\\dataset\\Theory of Automata in Urdu\\lec_01_segmented_frames\\seg_334\n",
      "D:\\OneDrive - Habib University\\acedemics\\semester5\\DL\\project\\project_files\\dataset\\Theory of Automata in Urdu\\lec_01_segmented_frames\\seg_335\n",
      "D:\\OneDrive - Habib University\\acedemics\\semester5\\DL\\project\\project_files\\dataset\\Theory of Automata in Urdu\\lec_01_segmented_frames\\seg_336\n",
      "D:\\OneDrive - Habib University\\acedemics\\semester5\\DL\\project\\project_files\\dataset\\Theory of Automata in Urdu\\lec_01_segmented_frames\\seg_337\n",
      "D:\\OneDrive - Habib University\\acedemics\\semester5\\DL\\project\\project_files\\dataset\\Theory of Automata in Urdu\\lec_01_segmented_frames\\seg_338\n",
      "D:\\OneDrive - Habib University\\acedemics\\semester5\\DL\\project\\project_files\\dataset\\Theory of Automata in Urdu\\lec_01_segmented_frames\\seg_339\n",
      "D:\\OneDrive - Habib University\\acedemics\\semester5\\DL\\project\\project_files\\dataset\\Theory of Automata in Urdu\\lec_01_segmented_frames\\seg_340\n",
      "D:\\OneDrive - Habib University\\acedemics\\semester5\\DL\\project\\project_files\\dataset\\Theory of Automata in Urdu\\lec_01_segmented_frames\\seg_341\n",
      "D:\\OneDrive - Habib University\\acedemics\\semester5\\DL\\project\\project_files\\dataset\\Theory of Automata in Urdu\\lec_01_segmented_frames\\seg_342\n",
      "D:\\OneDrive - Habib University\\acedemics\\semester5\\DL\\project\\project_files\\dataset\\Theory of Automata in Urdu\\lec_01_segmented_frames\\seg_343\n",
      "D:\\OneDrive - Habib University\\acedemics\\semester5\\DL\\project\\project_files\\dataset\\Theory of Automata in Urdu\\lec_01_segmented_frames\\seg_344\n",
      "D:\\OneDrive - Habib University\\acedemics\\semester5\\DL\\project\\project_files\\dataset\\Theory of Automata in Urdu\\lec_01_segmented_frames\\seg_345\n",
      "D:\\OneDrive - Habib University\\acedemics\\semester5\\DL\\project\\project_files\\dataset\\Theory of Automata in Urdu\\lec_01_segmented_frames\\seg_346\n",
      "D:\\OneDrive - Habib University\\acedemics\\semester5\\DL\\project\\project_files\\dataset\\Theory of Automata in Urdu\\lec_01_segmented_frames\\seg_347\n",
      "D:\\OneDrive - Habib University\\acedemics\\semester5\\DL\\project\\project_files\\dataset\\Theory of Automata in Urdu\\lec_01_segmented_frames\\seg_348\n",
      "D:\\OneDrive - Habib University\\acedemics\\semester5\\DL\\project\\project_files\\dataset\\Theory of Automata in Urdu\\lec_01_segmented_frames\\seg_349\n",
      "D:\\OneDrive - Habib University\\acedemics\\semester5\\DL\\project\\project_files\\dataset\\Theory of Automata in Urdu\\lec_01_segmented_frames\\seg_350\n",
      "D:\\OneDrive - Habib University\\acedemics\\semester5\\DL\\project\\project_files\\dataset\\Theory of Automata in Urdu\\lec_01_segmented_frames\\seg_351\n",
      "D:\\OneDrive - Habib University\\acedemics\\semester5\\DL\\project\\project_files\\dataset\\Theory of Automata in Urdu\\lec_01_segmented_frames\\seg_352\n",
      "D:\\OneDrive - Habib University\\acedemics\\semester5\\DL\\project\\project_files\\dataset\\Theory of Automata in Urdu\\lec_01_segmented_frames\\seg_353\n",
      "D:\\OneDrive - Habib University\\acedemics\\semester5\\DL\\project\\project_files\\dataset\\Theory of Automata in Urdu\\lec_01_segmented_frames\\seg_354\n",
      "D:\\OneDrive - Habib University\\acedemics\\semester5\\DL\\project\\project_files\\dataset\\Theory of Automata in Urdu\\lec_01_segmented_frames\\seg_355\n",
      "D:\\OneDrive - Habib University\\acedemics\\semester5\\DL\\project\\project_files\\dataset\\Theory of Automata in Urdu\\lec_01_segmented_frames\\seg_356\n",
      "D:\\OneDrive - Habib University\\acedemics\\semester5\\DL\\project\\project_files\\dataset\\Theory of Automata in Urdu\\lec_01_segmented_frames\\seg_357\n",
      "D:\\OneDrive - Habib University\\acedemics\\semester5\\DL\\project\\project_files\\dataset\\Theory of Automata in Urdu\\lec_01_segmented_frames\\seg_358\n",
      "D:\\OneDrive - Habib University\\acedemics\\semester5\\DL\\project\\project_files\\dataset\\Theory of Automata in Urdu\\lec_01_segmented_frames\\seg_359\n",
      "D:\\OneDrive - Habib University\\acedemics\\semester5\\DL\\project\\project_files\\dataset\\Theory of Automata in Urdu\\lec_01_segmented_frames\\seg_360\n",
      "D:\\OneDrive - Habib University\\acedemics\\semester5\\DL\\project\\project_files\\dataset\\Theory of Automata in Urdu\\lec_01_segmented_frames\\seg_361\n",
      "D:\\OneDrive - Habib University\\acedemics\\semester5\\DL\\project\\project_files\\dataset\\Theory of Automata in Urdu\\lec_01_segmented_frames\\seg_362\n",
      "D:\\OneDrive - Habib University\\acedemics\\semester5\\DL\\project\\project_files\\dataset\\Theory of Automata in Urdu\\lec_01_segmented_frames\\seg_363\n",
      "D:\\OneDrive - Habib University\\acedemics\\semester5\\DL\\project\\project_files\\dataset\\Theory of Automata in Urdu\\lec_01_segmented_frames\\seg_364\n",
      "D:\\OneDrive - Habib University\\acedemics\\semester5\\DL\\project\\project_files\\dataset\\Theory of Automata in Urdu\\lec_01_segmented_frames\\seg_365\n",
      "D:\\OneDrive - Habib University\\acedemics\\semester5\\DL\\project\\project_files\\dataset\\Theory of Automata in Urdu\\lec_01_segmented_frames\\seg_366\n",
      "D:\\OneDrive - Habib University\\acedemics\\semester5\\DL\\project\\project_files\\dataset\\Theory of Automata in Urdu\\lec_01_segmented_frames\\seg_367\n",
      "D:\\OneDrive - Habib University\\acedemics\\semester5\\DL\\project\\project_files\\dataset\\Theory of Automata in Urdu\\lec_01_segmented_frames\\seg_368\n",
      "D:\\OneDrive - Habib University\\acedemics\\semester5\\DL\\project\\project_files\\dataset\\Theory of Automata in Urdu\\lec_01_segmented_frames\\seg_369\n",
      "D:\\OneDrive - Habib University\\acedemics\\semester5\\DL\\project\\project_files\\dataset\\Theory of Automata in Urdu\\lec_01_segmented_frames\\seg_370\n",
      "D:\\OneDrive - Habib University\\acedemics\\semester5\\DL\\project\\project_files\\dataset\\Theory of Automata in Urdu\\lec_01_segmented_frames\\seg_371\n",
      "D:\\OneDrive - Habib University\\acedemics\\semester5\\DL\\project\\project_files\\dataset\\Theory of Automata in Urdu\\lec_01_segmented_frames\\seg_372\n",
      "D:\\OneDrive - Habib University\\acedemics\\semester5\\DL\\project\\project_files\\dataset\\Theory of Automata in Urdu\\lec_01_segmented_frames\\seg_373\n",
      "D:\\OneDrive - Habib University\\acedemics\\semester5\\DL\\project\\project_files\\dataset\\Theory of Automata in Urdu\\lec_01_segmented_frames\\seg_374\n",
      "D:\\OneDrive - Habib University\\acedemics\\semester5\\DL\\project\\project_files\\dataset\\Theory of Automata in Urdu\\lec_01_segmented_frames\\seg_375\n",
      "D:\\OneDrive - Habib University\\acedemics\\semester5\\DL\\project\\project_files\\dataset\\Theory of Automata in Urdu\\lec_01_segmented_frames\\seg_376\n",
      "D:\\OneDrive - Habib University\\acedemics\\semester5\\DL\\project\\project_files\\dataset\\Theory of Automata in Urdu\\lec_01_segmented_frames\\seg_377\n",
      "D:\\OneDrive - Habib University\\acedemics\\semester5\\DL\\project\\project_files\\dataset\\Theory of Automata in Urdu\\lec_01_segmented_frames\\seg_378\n",
      "D:\\OneDrive - Habib University\\acedemics\\semester5\\DL\\project\\project_files\\dataset\\Theory of Automata in Urdu\\lec_01_segmented_frames\\seg_379\n",
      "D:\\OneDrive - Habib University\\acedemics\\semester5\\DL\\project\\project_files\\dataset\\Theory of Automata in Urdu\\lec_01_segmented_frames\\seg_380\n",
      "D:\\OneDrive - Habib University\\acedemics\\semester5\\DL\\project\\project_files\\dataset\\Theory of Automata in Urdu\\lec_01_segmented_frames\\seg_381\n",
      "D:\\OneDrive - Habib University\\acedemics\\semester5\\DL\\project\\project_files\\dataset\\Theory of Automata in Urdu\\lec_01_segmented_frames\\seg_382\n",
      "D:\\OneDrive - Habib University\\acedemics\\semester5\\DL\\project\\project_files\\dataset\\Theory of Automata in Urdu\\lec_01_segmented_frames\\seg_383\n",
      "D:\\OneDrive - Habib University\\acedemics\\semester5\\DL\\project\\project_files\\dataset\\Theory of Automata in Urdu\\lec_01_segmented_frames\\seg_384\n",
      "D:\\OneDrive - Habib University\\acedemics\\semester5\\DL\\project\\project_files\\dataset\\Theory of Automata in Urdu\\lec_01_segmented_frames\\seg_385\n",
      "D:\\OneDrive - Habib University\\acedemics\\semester5\\DL\\project\\project_files\\dataset\\Theory of Automata in Urdu\\lec_01_segmented_frames\\seg_386\n",
      "D:\\OneDrive - Habib University\\acedemics\\semester5\\DL\\project\\project_files\\dataset\\Theory of Automata in Urdu\\lec_01_segmented_frames\\seg_387\n",
      "D:\\OneDrive - Habib University\\acedemics\\semester5\\DL\\project\\project_files\\dataset\\Theory of Automata in Urdu\\lec_01_segmented_frames\\seg_388\n",
      "D:\\OneDrive - Habib University\\acedemics\\semester5\\DL\\project\\project_files\\dataset\\Theory of Automata in Urdu\\lec_01_segmented_frames\\seg_389\n",
      "D:\\OneDrive - Habib University\\acedemics\\semester5\\DL\\project\\project_files\\dataset\\Theory of Automata in Urdu\\lec_01_segmented_frames\\seg_390\n",
      "D:\\OneDrive - Habib University\\acedemics\\semester5\\DL\\project\\project_files\\dataset\\Theory of Automata in Urdu\\lec_01_segmented_frames\\seg_391\n",
      "D:\\OneDrive - Habib University\\acedemics\\semester5\\DL\\project\\project_files\\dataset\\Theory of Automata in Urdu\\lec_01_segmented_frames\\seg_392\n",
      "D:\\OneDrive - Habib University\\acedemics\\semester5\\DL\\project\\project_files\\dataset\\Theory of Automata in Urdu\\lec_01_segmented_frames\\seg_393\n",
      "D:\\OneDrive - Habib University\\acedemics\\semester5\\DL\\project\\project_files\\dataset\\Theory of Automata in Urdu\\lec_01_segmented_frames\\seg_394\n",
      "D:\\OneDrive - Habib University\\acedemics\\semester5\\DL\\project\\project_files\\dataset\\Theory of Automata in Urdu\\lec_01_segmented_frames\\seg_395\n",
      "D:\\OneDrive - Habib University\\acedemics\\semester5\\DL\\project\\project_files\\dataset\\Theory of Automata in Urdu\\lec_01_segmented_frames\\seg_396\n",
      "D:\\OneDrive - Habib University\\acedemics\\semester5\\DL\\project\\project_files\\dataset\\Theory of Automata in Urdu\\lec_01_segmented_frames\\seg_397\n",
      "D:\\OneDrive - Habib University\\acedemics\\semester5\\DL\\project\\project_files\\dataset\\Theory of Automata in Urdu\\lec_01_segmented_frames\\seg_398\n",
      "D:\\OneDrive - Habib University\\acedemics\\semester5\\DL\\project\\project_files\\dataset\\Theory of Automata in Urdu\\lec_01_segmented_frames\\seg_399\n",
      "D:\\OneDrive - Habib University\\acedemics\\semester5\\DL\\project\\project_files\\dataset\\Theory of Automata in Urdu\\lec_01_segmented_frames\\seg_400\n",
      "D:\\OneDrive - Habib University\\acedemics\\semester5\\DL\\project\\project_files\\dataset\\Theory of Automata in Urdu\\lec_01_segmented_frames\\seg_401\n",
      "D:\\OneDrive - Habib University\\acedemics\\semester5\\DL\\project\\project_files\\dataset\\Theory of Automata in Urdu\\lec_01_segmented_frames\\seg_402\n",
      "D:\\OneDrive - Habib University\\acedemics\\semester5\\DL\\project\\project_files\\dataset\\Theory of Automata in Urdu\\lec_01_segmented_frames\\seg_403\n",
      "D:\\OneDrive - Habib University\\acedemics\\semester5\\DL\\project\\project_files\\dataset\\Theory of Automata in Urdu\\lec_01_segmented_frames\\seg_404\n",
      "D:\\OneDrive - Habib University\\acedemics\\semester5\\DL\\project\\project_files\\dataset\\Theory of Automata in Urdu\\lec_01_segmented_frames\\seg_405\n",
      "D:\\OneDrive - Habib University\\acedemics\\semester5\\DL\\project\\project_files\\dataset\\Theory of Automata in Urdu\\lec_01_segmented_frames\\seg_406\n",
      "D:\\OneDrive - Habib University\\acedemics\\semester5\\DL\\project\\project_files\\dataset\\Theory of Automata in Urdu\\lec_01_segmented_frames\\seg_407\n",
      "D:\\OneDrive - Habib University\\acedemics\\semester5\\DL\\project\\project_files\\dataset\\Theory of Automata in Urdu\\lec_01_segmented_frames\\seg_408\n",
      "D:\\OneDrive - Habib University\\acedemics\\semester5\\DL\\project\\project_files\\dataset\\Theory of Automata in Urdu\\lec_01_segmented_frames\\seg_409\n",
      "D:\\OneDrive - Habib University\\acedemics\\semester5\\DL\\project\\project_files\\dataset\\Theory of Automata in Urdu\\lec_01_segmented_frames\\seg_410\n",
      "D:\\OneDrive - Habib University\\acedemics\\semester5\\DL\\project\\project_files\\dataset\\Theory of Automata in Urdu\\lec_01_segmented_frames\\seg_411\n",
      "D:\\OneDrive - Habib University\\acedemics\\semester5\\DL\\project\\project_files\\dataset\\Theory of Automata in Urdu\\lec_01_segmented_frames\\seg_412\n",
      "D:\\OneDrive - Habib University\\acedemics\\semester5\\DL\\project\\project_files\\dataset\\Theory of Automata in Urdu\\lec_01_segmented_frames\\seg_413\n",
      "D:\\OneDrive - Habib University\\acedemics\\semester5\\DL\\project\\project_files\\dataset\\Theory of Automata in Urdu\\lec_01_segmented_frames\\seg_414\n",
      "D:\\OneDrive - Habib University\\acedemics\\semester5\\DL\\project\\project_files\\dataset\\Theory of Automata in Urdu\\lec_01_segmented_frames\\seg_415\n",
      "D:\\OneDrive - Habib University\\acedemics\\semester5\\DL\\project\\project_files\\dataset\\Theory of Automata in Urdu\\lec_01_segmented_frames\\seg_416\n",
      "D:\\OneDrive - Habib University\\acedemics\\semester5\\DL\\project\\project_files\\dataset\\Theory of Automata in Urdu\\lec_01_segmented_frames\\seg_417\n",
      "D:\\OneDrive - Habib University\\acedemics\\semester5\\DL\\project\\project_files\\dataset\\Theory of Automata in Urdu\\lec_01_segmented_frames\\seg_418\n",
      "D:\\OneDrive - Habib University\\acedemics\\semester5\\DL\\project\\project_files\\dataset\\Theory of Automata in Urdu\\lec_01_segmented_frames\\seg_419\n",
      "D:\\OneDrive - Habib University\\acedemics\\semester5\\DL\\project\\project_files\\dataset\\Theory of Automata in Urdu\\lec_01_segmented_frames\\seg_420\n",
      "D:\\OneDrive - Habib University\\acedemics\\semester5\\DL\\project\\project_files\\dataset\\Theory of Automata in Urdu\\lec_01_segmented_frames\\seg_421\n",
      "D:\\OneDrive - Habib University\\acedemics\\semester5\\DL\\project\\project_files\\dataset\\Theory of Automata in Urdu\\lec_01_segmented_frames\\seg_422\n",
      "D:\\OneDrive - Habib University\\acedemics\\semester5\\DL\\project\\project_files\\dataset\\Theory of Automata in Urdu\\lec_01_segmented_frames\\seg_423\n",
      "D:\\OneDrive - Habib University\\acedemics\\semester5\\DL\\project\\project_files\\dataset\\Theory of Automata in Urdu\\lec_01_segmented_frames\\seg_424\n",
      "D:\\OneDrive - Habib University\\acedemics\\semester5\\DL\\project\\project_files\\dataset\\Theory of Automata in Urdu\\lec_01_segmented_frames\\seg_425\n",
      "D:\\OneDrive - Habib University\\acedemics\\semester5\\DL\\project\\project_files\\dataset\\Theory of Automata in Urdu\\lec_01_segmented_frames\\seg_426\n",
      "D:\\OneDrive - Habib University\\acedemics\\semester5\\DL\\project\\project_files\\dataset\\Theory of Automata in Urdu\\lec_01_segmented_frames\\seg_427\n",
      "D:\\OneDrive - Habib University\\acedemics\\semester5\\DL\\project\\project_files\\dataset\\Theory of Automata in Urdu\\lec_01_segmented_frames\\seg_428\n",
      "D:\\OneDrive - Habib University\\acedemics\\semester5\\DL\\project\\project_files\\dataset\\Theory of Automata in Urdu\\lec_01_segmented_frames\\seg_429\n",
      "D:\\OneDrive - Habib University\\acedemics\\semester5\\DL\\project\\project_files\\dataset\\Theory of Automata in Urdu\\lec_01_segmented_frames\\seg_430\n",
      "D:\\OneDrive - Habib University\\acedemics\\semester5\\DL\\project\\project_files\\dataset\\Theory of Automata in Urdu\\lec_01_segmented_frames\\seg_431\n",
      "D:\\OneDrive - Habib University\\acedemics\\semester5\\DL\\project\\project_files\\dataset\\Theory of Automata in Urdu\\lec_01_segmented_frames\\seg_432\n",
      "D:\\OneDrive - Habib University\\acedemics\\semester5\\DL\\project\\project_files\\dataset\\Theory of Automata in Urdu\\lec_01_segmented_frames\\seg_433\n",
      "D:\\OneDrive - Habib University\\acedemics\\semester5\\DL\\project\\project_files\\dataset\\Theory of Automata in Urdu\\lec_01_segmented_frames\\seg_434\n",
      "D:\\OneDrive - Habib University\\acedemics\\semester5\\DL\\project\\project_files\\dataset\\Theory of Automata in Urdu\\lec_01_segmented_frames\\seg_435\n",
      "D:\\OneDrive - Habib University\\acedemics\\semester5\\DL\\project\\project_files\\dataset\\Theory of Automata in Urdu\\lec_01_segmented_frames\\seg_436\n",
      "D:\\OneDrive - Habib University\\acedemics\\semester5\\DL\\project\\project_files\\dataset\\Theory of Automata in Urdu\\lec_01_segmented_frames\\seg_437\n",
      "D:\\OneDrive - Habib University\\acedemics\\semester5\\DL\\project\\project_files\\dataset\\Theory of Automata in Urdu\\lec_01_segmented_frames\\seg_438\n",
      "D:\\OneDrive - Habib University\\acedemics\\semester5\\DL\\project\\project_files\\dataset\\Theory of Automata in Urdu\\lec_01_segmented_frames\\seg_439\n",
      "D:\\OneDrive - Habib University\\acedemics\\semester5\\DL\\project\\project_files\\dataset\\Theory of Automata in Urdu\\lec_01_segmented_frames\\seg_440\n",
      "D:\\OneDrive - Habib University\\acedemics\\semester5\\DL\\project\\project_files\\dataset\\Theory of Automata in Urdu\\lec_01_segmented_frames\\seg_441\n",
      "D:\\OneDrive - Habib University\\acedemics\\semester5\\DL\\project\\project_files\\dataset\\Theory of Automata in Urdu\\lec_01_segmented_frames\\seg_442\n",
      "D:\\OneDrive - Habib University\\acedemics\\semester5\\DL\\project\\project_files\\dataset\\Theory of Automata in Urdu\\lec_01_segmented_frames\\seg_443\n",
      "D:\\OneDrive - Habib University\\acedemics\\semester5\\DL\\project\\project_files\\dataset\\Theory of Automata in Urdu\\lec_01_segmented_frames\\seg_444\n",
      "D:\\OneDrive - Habib University\\acedemics\\semester5\\DL\\project\\project_files\\dataset\\Theory of Automata in Urdu\\lec_01_segmented_frames\\seg_445\n",
      "D:\\OneDrive - Habib University\\acedemics\\semester5\\DL\\project\\project_files\\dataset\\Theory of Automata in Urdu\\lec_01_segmented_frames\\seg_446\n",
      "D:\\OneDrive - Habib University\\acedemics\\semester5\\DL\\project\\project_files\\dataset\\Theory of Automata in Urdu\\lec_01_segmented_frames\\seg_447\n",
      "D:\\OneDrive - Habib University\\acedemics\\semester5\\DL\\project\\project_files\\dataset\\Theory of Automata in Urdu\\lec_01_segmented_frames\\seg_448\n",
      "D:\\OneDrive - Habib University\\acedemics\\semester5\\DL\\project\\project_files\\dataset\\Theory of Automata in Urdu\\lec_01_segmented_frames\\seg_449\n",
      "D:\\OneDrive - Habib University\\acedemics\\semester5\\DL\\project\\project_files\\dataset\\Theory of Automata in Urdu\\lec_01_segmented_frames\\seg_450\n",
      "D:\\OneDrive - Habib University\\acedemics\\semester5\\DL\\project\\project_files\\dataset\\Theory of Automata in Urdu\\lec_01_segmented_frames\\seg_451\n",
      "D:\\OneDrive - Habib University\\acedemics\\semester5\\DL\\project\\project_files\\dataset\\Theory of Automata in Urdu\\lec_01_segmented_frames\\seg_452\n",
      "D:\\OneDrive - Habib University\\acedemics\\semester5\\DL\\project\\project_files\\dataset\\Theory of Automata in Urdu\\lec_01_segmented_frames\\seg_453\n",
      "D:\\OneDrive - Habib University\\acedemics\\semester5\\DL\\project\\project_files\\dataset\\Theory of Automata in Urdu\\lec_01_segmented_frames\\seg_454\n",
      "D:\\OneDrive - Habib University\\acedemics\\semester5\\DL\\project\\project_files\\dataset\\Theory of Automata in Urdu\\lec_01_segmented_frames\\seg_455\n",
      "D:\\OneDrive - Habib University\\acedemics\\semester5\\DL\\project\\project_files\\dataset\\Theory of Automata in Urdu\\lec_01_segmented_frames\\seg_456\n",
      "D:\\OneDrive - Habib University\\acedemics\\semester5\\DL\\project\\project_files\\dataset\\Theory of Automata in Urdu\\lec_01_segmented_frames\\seg_457\n",
      "D:\\OneDrive - Habib University\\acedemics\\semester5\\DL\\project\\project_files\\dataset\\Theory of Automata in Urdu\\lec_01_segmented_frames\\seg_458\n",
      "D:\\OneDrive - Habib University\\acedemics\\semester5\\DL\\project\\project_files\\dataset\\Theory of Automata in Urdu\\lec_01_segmented_frames\\seg_459\n",
      "D:\\OneDrive - Habib University\\acedemics\\semester5\\DL\\project\\project_files\\dataset\\Theory of Automata in Urdu\\lec_01_segmented_frames\\seg_460\n",
      "D:\\OneDrive - Habib University\\acedemics\\semester5\\DL\\project\\project_files\\dataset\\Theory of Automata in Urdu\\lec_01_segmented_frames\\seg_461\n",
      "D:\\OneDrive - Habib University\\acedemics\\semester5\\DL\\project\\project_files\\dataset\\Theory of Automata in Urdu\\lec_01_segmented_frames\\seg_462\n",
      "D:\\OneDrive - Habib University\\acedemics\\semester5\\DL\\project\\project_files\\dataset\\Theory of Automata in Urdu\\lec_01_segmented_frames\\seg_463\n",
      "D:\\OneDrive - Habib University\\acedemics\\semester5\\DL\\project\\project_files\\dataset\\Theory of Automata in Urdu\\lec_01_segmented_frames\\seg_464\n",
      "D:\\OneDrive - Habib University\\acedemics\\semester5\\DL\\project\\project_files\\dataset\\Theory of Automata in Urdu\\lec_01_segmented_frames\\seg_465\n",
      "D:\\OneDrive - Habib University\\acedemics\\semester5\\DL\\project\\project_files\\dataset\\Theory of Automata in Urdu\\lec_01_segmented_frames\\seg_466\n",
      "D:\\OneDrive - Habib University\\acedemics\\semester5\\DL\\project\\project_files\\dataset\\Theory of Automata in Urdu\\lec_01_segmented_frames\\seg_467\n",
      "D:\\OneDrive - Habib University\\acedemics\\semester5\\DL\\project\\project_files\\dataset\\Theory of Automata in Urdu\\lec_01_segmented_frames\\seg_468\n",
      "D:\\OneDrive - Habib University\\acedemics\\semester5\\DL\\project\\project_files\\dataset\\Theory of Automata in Urdu\\lec_01_segmented_frames\\seg_469\n",
      "D:\\OneDrive - Habib University\\acedemics\\semester5\\DL\\project\\project_files\\dataset\\Theory of Automata in Urdu\\lec_01_segmented_frames\\seg_470\n",
      "D:\\OneDrive - Habib University\\acedemics\\semester5\\DL\\project\\project_files\\dataset\\Theory of Automata in Urdu\\lec_01_segmented_frames\\seg_471\n",
      "D:\\OneDrive - Habib University\\acedemics\\semester5\\DL\\project\\project_files\\dataset\\Theory of Automata in Urdu\\lec_01_segmented_frames\\seg_472\n",
      "D:\\OneDrive - Habib University\\acedemics\\semester5\\DL\\project\\project_files\\dataset\\Theory of Automata in Urdu\\lec_01_segmented_frames\\seg_473\n",
      "D:\\OneDrive - Habib University\\acedemics\\semester5\\DL\\project\\project_files\\dataset\\Theory of Automata in Urdu\\lec_01_segmented_frames\\seg_474\n",
      "D:\\OneDrive - Habib University\\acedemics\\semester5\\DL\\project\\project_files\\dataset\\Theory of Automata in Urdu\\lec_01_segmented_frames\\seg_475\n",
      "D:\\OneDrive - Habib University\\acedemics\\semester5\\DL\\project\\project_files\\dataset\\Theory of Automata in Urdu\\lec_01_segmented_frames\\seg_476\n",
      "D:\\OneDrive - Habib University\\acedemics\\semester5\\DL\\project\\project_files\\dataset\\Theory of Automata in Urdu\\lec_01_segmented_frames\\seg_477\n",
      "D:\\OneDrive - Habib University\\acedemics\\semester5\\DL\\project\\project_files\\dataset\\Theory of Automata in Urdu\\lec_01_segmented_frames\\seg_478\n",
      "D:\\OneDrive - Habib University\\acedemics\\semester5\\DL\\project\\project_files\\dataset\\Theory of Automata in Urdu\\lec_01_segmented_frames\\seg_479\n",
      "D:\\OneDrive - Habib University\\acedemics\\semester5\\DL\\project\\project_files\\dataset\\Theory of Automata in Urdu\\lec_01_segmented_frames\\seg_480\n",
      "D:\\OneDrive - Habib University\\acedemics\\semester5\\DL\\project\\project_files\\dataset\\Theory of Automata in Urdu\\lec_01_segmented_frames\\seg_481\n",
      "D:\\OneDrive - Habib University\\acedemics\\semester5\\DL\\project\\project_files\\dataset\\Theory of Automata in Urdu\\lec_01_segmented_frames\\seg_482\n",
      "D:\\OneDrive - Habib University\\acedemics\\semester5\\DL\\project\\project_files\\dataset\\Theory of Automata in Urdu\\lec_01_segmented_frames\\seg_483\n",
      "D:\\OneDrive - Habib University\\acedemics\\semester5\\DL\\project\\project_files\\dataset\\Theory of Automata in Urdu\\lec_01_segmented_frames\\seg_484\n",
      "D:\\OneDrive - Habib University\\acedemics\\semester5\\DL\\project\\project_files\\dataset\\Theory of Automata in Urdu\\lec_01_segmented_frames\\seg_485\n",
      "D:\\OneDrive - Habib University\\acedemics\\semester5\\DL\\project\\project_files\\dataset\\Theory of Automata in Urdu\\lec_01_segmented_frames\\seg_486\n",
      "D:\\OneDrive - Habib University\\acedemics\\semester5\\DL\\project\\project_files\\dataset\\Theory of Automata in Urdu\\lec_01_segmented_frames\\seg_487\n",
      "D:\\OneDrive - Habib University\\acedemics\\semester5\\DL\\project\\project_files\\dataset\\Theory of Automata in Urdu\\lec_01_segmented_frames\\seg_488\n",
      "D:\\OneDrive - Habib University\\acedemics\\semester5\\DL\\project\\project_files\\dataset\\Theory of Automata in Urdu\\lec_01_segmented_frames\\seg_489\n",
      "D:\\OneDrive - Habib University\\acedemics\\semester5\\DL\\project\\project_files\\dataset\\Theory of Automata in Urdu\\lec_01_segmented_frames\\seg_490\n",
      "D:\\OneDrive - Habib University\\acedemics\\semester5\\DL\\project\\project_files\\dataset\\Theory of Automata in Urdu\\lec_01_segmented_frames\\seg_491\n",
      "D:\\OneDrive - Habib University\\acedemics\\semester5\\DL\\project\\project_files\\dataset\\Theory of Automata in Urdu\\lec_01_segmented_frames\\seg_492\n",
      "D:\\OneDrive - Habib University\\acedemics\\semester5\\DL\\project\\project_files\\dataset\\Theory of Automata in Urdu\\lec_01_segmented_frames\\seg_493\n",
      "D:\\OneDrive - Habib University\\acedemics\\semester5\\DL\\project\\project_files\\dataset\\Theory of Automata in Urdu\\lec_01_segmented_frames\\seg_494\n",
      "D:\\OneDrive - Habib University\\acedemics\\semester5\\DL\\project\\project_files\\dataset\\Theory of Automata in Urdu\\lec_01_segmented_frames\\seg_495\n",
      "D:\\OneDrive - Habib University\\acedemics\\semester5\\DL\\project\\project_files\\dataset\\Theory of Automata in Urdu\\lec_01_segmented_frames\\seg_496\n",
      "D:\\OneDrive - Habib University\\acedemics\\semester5\\DL\\project\\project_files\\dataset\\Theory of Automata in Urdu\\lec_01_segmented_frames\\seg_497\n",
      "D:\\OneDrive - Habib University\\acedemics\\semester5\\DL\\project\\project_files\\dataset\\Theory of Automata in Urdu\\lec_01_segmented_frames\\seg_498\n",
      "D:\\OneDrive - Habib University\\acedemics\\semester5\\DL\\project\\project_files\\dataset\\Theory of Automata in Urdu\\lec_01_segmented_frames\\seg_499\n",
      "D:\\OneDrive - Habib University\\acedemics\\semester5\\DL\\project\\project_files\\dataset\\Theory of Automata in Urdu\\lec_01_segmented_frames\\seg_500\n",
      "D:\\OneDrive - Habib University\\acedemics\\semester5\\DL\\project\\project_files\\dataset\\Theory of Automata in Urdu\\lec_01_segmented_frames\\seg_501\n",
      "D:\\OneDrive - Habib University\\acedemics\\semester5\\DL\\project\\project_files\\dataset\\Theory of Automata in Urdu\\lec_01_segmented_frames\\seg_502\n",
      "D:\\OneDrive - Habib University\\acedemics\\semester5\\DL\\project\\project_files\\dataset\\Theory of Automata in Urdu\\lec_01_segmented_frames\\seg_503\n",
      "D:\\OneDrive - Habib University\\acedemics\\semester5\\DL\\project\\project_files\\dataset\\Theory of Automata in Urdu\\lec_01_segmented_frames\\seg_504\n",
      "D:\\OneDrive - Habib University\\acedemics\\semester5\\DL\\project\\project_files\\dataset\\Theory of Automata in Urdu\\lec_01_segmented_frames\\seg_505\n",
      "D:\\OneDrive - Habib University\\acedemics\\semester5\\DL\\project\\project_files\\dataset\\Theory of Automata in Urdu\\lec_01_segmented_frames\\seg_506\n",
      "D:\\OneDrive - Habib University\\acedemics\\semester5\\DL\\project\\project_files\\dataset\\Theory of Automata in Urdu\\lec_01_segmented_frames\\seg_507\n",
      "D:\\OneDrive - Habib University\\acedemics\\semester5\\DL\\project\\project_files\\dataset\\Theory of Automata in Urdu\\lec_01_segmented_frames\\seg_508\n",
      "D:\\OneDrive - Habib University\\acedemics\\semester5\\DL\\project\\project_files\\dataset\\Theory of Automata in Urdu\\lec_01_segmented_frames\\seg_509\n",
      "D:\\OneDrive - Habib University\\acedemics\\semester5\\DL\\project\\project_files\\dataset\\Theory of Automata in Urdu\\lec_01_segmented_frames\\seg_510\n",
      "D:\\OneDrive - Habib University\\acedemics\\semester5\\DL\\project\\project_files\\dataset\\Theory of Automata in Urdu\\lec_01_segmented_frames\\seg_511\n",
      "D:\\OneDrive - Habib University\\acedemics\\semester5\\DL\\project\\project_files\\dataset\\Theory of Automata in Urdu\\lec_01_segmented_frames\\seg_512\n",
      "D:\\OneDrive - Habib University\\acedemics\\semester5\\DL\\project\\project_files\\dataset\\Theory of Automata in Urdu\\lec_01_segmented_frames\\seg_513\n",
      "D:\\OneDrive - Habib University\\acedemics\\semester5\\DL\\project\\project_files\\dataset\\Theory of Automata in Urdu\\lec_01_segmented_frames\\seg_514\n",
      "D:\\OneDrive - Habib University\\acedemics\\semester5\\DL\\project\\project_files\\dataset\\Theory of Automata in Urdu\\lec_01_segmented_frames\\seg_515\n",
      "D:\\OneDrive - Habib University\\acedemics\\semester5\\DL\\project\\project_files\\dataset\\Theory of Automata in Urdu\\lec_01_segmented_frames\\seg_516\n",
      "D:\\OneDrive - Habib University\\acedemics\\semester5\\DL\\project\\project_files\\dataset\\Theory of Automata in Urdu\\lec_01_segmented_frames\\seg_517\n",
      "D:\\OneDrive - Habib University\\acedemics\\semester5\\DL\\project\\project_files\\dataset\\Theory of Automata in Urdu\\lec_01_segmented_frames\\seg_518\n",
      "D:\\OneDrive - Habib University\\acedemics\\semester5\\DL\\project\\project_files\\dataset\\Theory of Automata in Urdu\\lec_01_segmented_frames\\seg_519\n",
      "D:\\OneDrive - Habib University\\acedemics\\semester5\\DL\\project\\project_files\\dataset\\Theory of Automata in Urdu\\lec_01_segmented_frames\\seg_520\n",
      "D:\\OneDrive - Habib University\\acedemics\\semester5\\DL\\project\\project_files\\dataset\\Theory of Automata in Urdu\\lec_01_segmented_frames\\seg_521\n",
      "D:\\OneDrive - Habib University\\acedemics\\semester5\\DL\\project\\project_files\\dataset\\Theory of Automata in Urdu\\lec_01_segmented_frames\\seg_522\n",
      "D:\\OneDrive - Habib University\\acedemics\\semester5\\DL\\project\\project_files\\dataset\\Theory of Automata in Urdu\\lec_01_segmented_frames\\seg_523\n",
      "D:\\OneDrive - Habib University\\acedemics\\semester5\\DL\\project\\project_files\\dataset\\Theory of Automata in Urdu\\lec_01_segmented_frames\\seg_524\n",
      "D:\\OneDrive - Habib University\\acedemics\\semester5\\DL\\project\\project_files\\dataset\\Theory of Automata in Urdu\\lec_01_segmented_frames\\seg_525\n",
      "D:\\OneDrive - Habib University\\acedemics\\semester5\\DL\\project\\project_files\\dataset\\Theory of Automata in Urdu\\lec_01_segmented_frames\\seg_526\n",
      "D:\\OneDrive - Habib University\\acedemics\\semester5\\DL\\project\\project_files\\dataset\\Theory of Automata in Urdu\\lec_01_segmented_frames\\seg_527\n",
      "D:\\OneDrive - Habib University\\acedemics\\semester5\\DL\\project\\project_files\\dataset\\Theory of Automata in Urdu\\lec_01_segmented_frames\\seg_528\n",
      "D:\\OneDrive - Habib University\\acedemics\\semester5\\DL\\project\\project_files\\dataset\\Theory of Automata in Urdu\\lec_01_segmented_frames\\seg_529\n",
      "D:\\OneDrive - Habib University\\acedemics\\semester5\\DL\\project\\project_files\\dataset\\Theory of Automata in Urdu\\lec_01_segmented_frames\\seg_530\n",
      "D:\\OneDrive - Habib University\\acedemics\\semester5\\DL\\project\\project_files\\dataset\\Theory of Automata in Urdu\\lec_01_segmented_frames\\seg_531\n",
      "D:\\OneDrive - Habib University\\acedemics\\semester5\\DL\\project\\project_files\\dataset\\Theory of Automata in Urdu\\lec_01_segmented_frames\\seg_532\n",
      "D:\\OneDrive - Habib University\\acedemics\\semester5\\DL\\project\\project_files\\dataset\\Theory of Automata in Urdu\\lec_01_segmented_frames\\seg_533\n",
      "D:\\OneDrive - Habib University\\acedemics\\semester5\\DL\\project\\project_files\\dataset\\Theory of Automata in Urdu\\lec_01_segmented_frames\\seg_534\n",
      "D:\\OneDrive - Habib University\\acedemics\\semester5\\DL\\project\\project_files\\dataset\\Theory of Automata in Urdu\\lec_01_segmented_frames\\seg_535\n",
      "D:\\OneDrive - Habib University\\acedemics\\semester5\\DL\\project\\project_files\\dataset\\Theory of Automata in Urdu\\lec_01_segmented_frames\\seg_536\n",
      "D:\\OneDrive - Habib University\\acedemics\\semester5\\DL\\project\\project_files\\dataset\\Theory of Automata in Urdu\\lec_01_segmented_frames\\seg_537\n",
      "D:\\OneDrive - Habib University\\acedemics\\semester5\\DL\\project\\project_files\\dataset\\Theory of Automata in Urdu\\lec_01_segmented_frames\\seg_538\n",
      "D:\\OneDrive - Habib University\\acedemics\\semester5\\DL\\project\\project_files\\dataset\\Theory of Automata in Urdu\\lec_01_segmented_frames\\seg_539\n",
      "D:\\OneDrive - Habib University\\acedemics\\semester5\\DL\\project\\project_files\\dataset\\Theory of Automata in Urdu\\lec_01_segmented_frames\\seg_540\n",
      "D:\\OneDrive - Habib University\\acedemics\\semester5\\DL\\project\\project_files\\dataset\\Theory of Automata in Urdu\\lec_01_segmented_frames\\seg_541\n",
      "D:\\OneDrive - Habib University\\acedemics\\semester5\\DL\\project\\project_files\\dataset\\Theory of Automata in Urdu\\lec_01_segmented_frames\\seg_542\n",
      "D:\\OneDrive - Habib University\\acedemics\\semester5\\DL\\project\\project_files\\dataset\\Theory of Automata in Urdu\\lec_01_segmented_frames\\seg_543\n",
      "D:\\OneDrive - Habib University\\acedemics\\semester5\\DL\\project\\project_files\\dataset\\Theory of Automata in Urdu\\lec_01_segmented_frames\\seg_544\n",
      "D:\\OneDrive - Habib University\\acedemics\\semester5\\DL\\project\\project_files\\dataset\\Theory of Automata in Urdu\\lec_01_segmented_frames\\seg_545\n",
      "D:\\OneDrive - Habib University\\acedemics\\semester5\\DL\\project\\project_files\\dataset\\Theory of Automata in Urdu\\lec_01_segmented_frames\\seg_546\n",
      "D:\\OneDrive - Habib University\\acedemics\\semester5\\DL\\project\\project_files\\dataset\\Theory of Automata in Urdu\\lec_01_segmented_frames\\seg_547\n",
      "D:\\OneDrive - Habib University\\acedemics\\semester5\\DL\\project\\project_files\\dataset\\Theory of Automata in Urdu\\lec_01_segmented_frames\\seg_548\n",
      "D:\\OneDrive - Habib University\\acedemics\\semester5\\DL\\project\\project_files\\dataset\\Theory of Automata in Urdu\\lec_01_segmented_frames\\seg_549\n",
      "D:\\OneDrive - Habib University\\acedemics\\semester5\\DL\\project\\project_files\\dataset\\Theory of Automata in Urdu\\lec_01_segmented_frames\\seg_550\n",
      "D:\\OneDrive - Habib University\\acedemics\\semester5\\DL\\project\\project_files\\dataset\\Theory of Automata in Urdu\\lec_01_segmented_frames\\seg_551\n",
      "D:\\OneDrive - Habib University\\acedemics\\semester5\\DL\\project\\project_files\\dataset\\Theory of Automata in Urdu\\lec_01_segmented_frames\\seg_552\n",
      "D:\\OneDrive - Habib University\\acedemics\\semester5\\DL\\project\\project_files\\dataset\\Theory of Automata in Urdu\\lec_01_segmented_frames\\seg_553\n",
      "D:\\OneDrive - Habib University\\acedemics\\semester5\\DL\\project\\project_files\\dataset\\Theory of Automata in Urdu\\lec_01_segmented_frames\\seg_554\n",
      "D:\\OneDrive - Habib University\\acedemics\\semester5\\DL\\project\\project_files\\dataset\\Theory of Automata in Urdu\\lec_01_segmented_frames\\seg_555\n",
      "D:\\OneDrive - Habib University\\acedemics\\semester5\\DL\\project\\project_files\\dataset\\Theory of Automata in Urdu\\lec_01_segmented_frames\\seg_556\n",
      "D:\\OneDrive - Habib University\\acedemics\\semester5\\DL\\project\\project_files\\dataset\\Theory of Automata in Urdu\\lec_01_segmented_frames\\seg_557\n",
      "D:\\OneDrive - Habib University\\acedemics\\semester5\\DL\\project\\project_files\\dataset\\Theory of Automata in Urdu\\lec_01_segmented_frames\\seg_558\n",
      "D:\\OneDrive - Habib University\\acedemics\\semester5\\DL\\project\\project_files\\dataset\\Theory of Automata in Urdu\\lec_01_segmented_frames\\seg_559\n",
      "D:\\OneDrive - Habib University\\acedemics\\semester5\\DL\\project\\project_files\\dataset\\Theory of Automata in Urdu\\lec_01_segmented_frames\\seg_560\n",
      "D:\\OneDrive - Habib University\\acedemics\\semester5\\DL\\project\\project_files\\dataset\\Theory of Automata in Urdu\\lec_01_segmented_frames\\seg_561\n",
      "D:\\OneDrive - Habib University\\acedemics\\semester5\\DL\\project\\project_files\\dataset\\Theory of Automata in Urdu\\lec_01_segmented_frames\\seg_562\n",
      "D:\\OneDrive - Habib University\\acedemics\\semester5\\DL\\project\\project_files\\dataset\\Theory of Automata in Urdu\\lec_01_segmented_frames\\seg_563\n",
      "D:\\OneDrive - Habib University\\acedemics\\semester5\\DL\\project\\project_files\\dataset\\Theory of Automata in Urdu\\lec_01_segmented_frames\\seg_564\n",
      "D:\\OneDrive - Habib University\\acedemics\\semester5\\DL\\project\\project_files\\dataset\\Theory of Automata in Urdu\\lec_01_segmented_frames\\seg_565\n",
      "D:\\OneDrive - Habib University\\acedemics\\semester5\\DL\\project\\project_files\\dataset\\Theory of Automata in Urdu\\lec_01_segmented_frames\\seg_566\n",
      "D:\\OneDrive - Habib University\\acedemics\\semester5\\DL\\project\\project_files\\dataset\\Theory of Automata in Urdu\\lec_01_segmented_frames\\seg_567\n",
      "D:\\OneDrive - Habib University\\acedemics\\semester5\\DL\\project\\project_files\\dataset\\Theory of Automata in Urdu\\lec_01_segmented_frames\\seg_568\n",
      "D:\\OneDrive - Habib University\\acedemics\\semester5\\DL\\project\\project_files\\dataset\\Theory of Automata in Urdu\\lec_01_segmented_frames\\seg_569\n",
      "D:\\OneDrive - Habib University\\acedemics\\semester5\\DL\\project\\project_files\\dataset\\Theory of Automata in Urdu\\lec_01_segmented_frames\\seg_570\n",
      "D:\\OneDrive - Habib University\\acedemics\\semester5\\DL\\project\\project_files\\dataset\\Theory of Automata in Urdu\\lec_01_segmented_frames\\seg_571\n",
      "D:\\OneDrive - Habib University\\acedemics\\semester5\\DL\\project\\project_files\\dataset\\Theory of Automata in Urdu\\lec_01_segmented_frames\\seg_572\n",
      "D:\\OneDrive - Habib University\\acedemics\\semester5\\DL\\project\\project_files\\dataset\\Theory of Automata in Urdu\\lec_01_segmented_frames\\seg_573\n",
      "D:\\OneDrive - Habib University\\acedemics\\semester5\\DL\\project\\project_files\\dataset\\Theory of Automata in Urdu\\lec_01_segmented_frames\\seg_574\n",
      "D:\\OneDrive - Habib University\\acedemics\\semester5\\DL\\project\\project_files\\dataset\\Theory of Automata in Urdu\\lec_01_segmented_frames\\seg_575\n",
      "D:\\OneDrive - Habib University\\acedemics\\semester5\\DL\\project\\project_files\\dataset\\Theory of Automata in Urdu\\lec_01_segmented_frames\\seg_576\n",
      "D:\\OneDrive - Habib University\\acedemics\\semester5\\DL\\project\\project_files\\dataset\\Theory of Automata in Urdu\\lec_01_segmented_frames\\seg_577\n",
      "D:\\OneDrive - Habib University\\acedemics\\semester5\\DL\\project\\project_files\\dataset\\Theory of Automata in Urdu\\lec_01_segmented_frames\\seg_578\n",
      "D:\\OneDrive - Habib University\\acedemics\\semester5\\DL\\project\\project_files\\dataset\\Theory of Automata in Urdu\\lec_01_segmented_frames\\seg_579\n",
      "D:\\OneDrive - Habib University\\acedemics\\semester5\\DL\\project\\project_files\\dataset\\Theory of Automata in Urdu\\lec_01_segmented_frames\\seg_580\n",
      "D:\\OneDrive - Habib University\\acedemics\\semester5\\DL\\project\\project_files\\dataset\\Theory of Automata in Urdu\\lec_01_segmented_frames\\seg_581\n",
      "D:\\OneDrive - Habib University\\acedemics\\semester5\\DL\\project\\project_files\\dataset\\Theory of Automata in Urdu\\lec_01_segmented_frames\\seg_582\n",
      "D:\\OneDrive - Habib University\\acedemics\\semester5\\DL\\project\\project_files\\dataset\\Theory of Automata in Urdu\\lec_01_segmented_frames\\seg_583\n",
      "D:\\OneDrive - Habib University\\acedemics\\semester5\\DL\\project\\project_files\\dataset\\Theory of Automata in Urdu\\lec_01_segmented_frames\\seg_584\n",
      "D:\\OneDrive - Habib University\\acedemics\\semester5\\DL\\project\\project_files\\dataset\\Theory of Automata in Urdu\\lec_01_segmented_frames\\seg_585\n",
      "D:\\OneDrive - Habib University\\acedemics\\semester5\\DL\\project\\project_files\\dataset\\Theory of Automata in Urdu\\lec_01_segmented_frames\\seg_586\n",
      "D:\\OneDrive - Habib University\\acedemics\\semester5\\DL\\project\\project_files\\dataset\\Theory of Automata in Urdu\\lec_01_segmented_frames\\seg_587\n",
      "D:\\OneDrive - Habib University\\acedemics\\semester5\\DL\\project\\project_files\\dataset\\Theory of Automata in Urdu\\lec_01_segmented_frames\\seg_588\n",
      "D:\\OneDrive - Habib University\\acedemics\\semester5\\DL\\project\\project_files\\dataset\\Theory of Automata in Urdu\\lec_01_segmented_frames\\seg_589\n",
      "D:\\OneDrive - Habib University\\acedemics\\semester5\\DL\\project\\project_files\\dataset\\Theory of Automata in Urdu\\lec_01_segmented_frames\\seg_590\n",
      "D:\\OneDrive - Habib University\\acedemics\\semester5\\DL\\project\\project_files\\dataset\\Theory of Automata in Urdu\\lec_01_segmented_frames\\seg_591\n",
      "D:\\OneDrive - Habib University\\acedemics\\semester5\\DL\\project\\project_files\\dataset\\Theory of Automata in Urdu\\lec_01_segmented_frames\\seg_592\n",
      "D:\\OneDrive - Habib University\\acedemics\\semester5\\DL\\project\\project_files\\dataset\\Theory of Automata in Urdu\\lec_01_segmented_frames\\seg_593\n",
      "D:\\OneDrive - Habib University\\acedemics\\semester5\\DL\\project\\project_files\\dataset\\Theory of Automata in Urdu\\lec_01_segmented_frames\\seg_594\n",
      "D:\\OneDrive - Habib University\\acedemics\\semester5\\DL\\project\\project_files\\dataset\\Theory of Automata in Urdu\\lec_01_segmented_frames\\seg_595\n",
      "D:\\OneDrive - Habib University\\acedemics\\semester5\\DL\\project\\project_files\\dataset\\Theory of Automata in Urdu\\lec_01_segmented_frames\\seg_596\n",
      "D:\\OneDrive - Habib University\\acedemics\\semester5\\DL\\project\\project_files\\dataset\\Theory of Automata in Urdu\\lec_01_segmented_frames\\seg_597\n",
      "D:\\OneDrive - Habib University\\acedemics\\semester5\\DL\\project\\project_files\\dataset\\Theory of Automata in Urdu\\lec_01_segmented_frames\\seg_598\n",
      "D:\\OneDrive - Habib University\\acedemics\\semester5\\DL\\project\\project_files\\dataset\\Theory of Automata in Urdu\\lec_01_segmented_frames\\seg_599\n",
      "D:\\OneDrive - Habib University\\acedemics\\semester5\\DL\\project\\project_files\\dataset\\Theory of Automata in Urdu\\lec_01_segmented_frames\\seg_600\n",
      "D:\\OneDrive - Habib University\\acedemics\\semester5\\DL\\project\\project_files\\dataset\\Theory of Automata in Urdu\\lec_01_segmented_frames\\seg_601\n",
      "D:\\OneDrive - Habib University\\acedemics\\semester5\\DL\\project\\project_files\\dataset\\Theory of Automata in Urdu\\lec_01_segmented_frames\\seg_602\n",
      "D:\\OneDrive - Habib University\\acedemics\\semester5\\DL\\project\\project_files\\dataset\\Theory of Automata in Urdu\\lec_01_segmented_frames\\seg_603\n",
      "D:\\OneDrive - Habib University\\acedemics\\semester5\\DL\\project\\project_files\\dataset\\Theory of Automata in Urdu\\lec_01_segmented_frames\\seg_604\n",
      "D:\\OneDrive - Habib University\\acedemics\\semester5\\DL\\project\\project_files\\dataset\\Theory of Automata in Urdu\\lec_01_segmented_frames\\seg_605\n",
      "D:\\OneDrive - Habib University\\acedemics\\semester5\\DL\\project\\project_files\\dataset\\Theory of Automata in Urdu\\lec_01_segmented_frames\\seg_606\n",
      "D:\\OneDrive - Habib University\\acedemics\\semester5\\DL\\project\\project_files\\dataset\\Theory of Automata in Urdu\\lec_01_segmented_frames\\seg_607\n",
      "D:\\OneDrive - Habib University\\acedemics\\semester5\\DL\\project\\project_files\\dataset\\Theory of Automata in Urdu\\lec_01_segmented_frames\\seg_608\n",
      "D:\\OneDrive - Habib University\\acedemics\\semester5\\DL\\project\\project_files\\dataset\\Theory of Automata in Urdu\\lec_01_segmented_frames\\seg_609\n",
      "D:\\OneDrive - Habib University\\acedemics\\semester5\\DL\\project\\project_files\\dataset\\Theory of Automata in Urdu\\lec_01_segmented_frames\\seg_610\n",
      "D:\\OneDrive - Habib University\\acedemics\\semester5\\DL\\project\\project_files\\dataset\\Theory of Automata in Urdu\\lec_01_segmented_frames\\seg_611\n",
      "D:\\OneDrive - Habib University\\acedemics\\semester5\\DL\\project\\project_files\\dataset\\Theory of Automata in Urdu\\lec_01_segmented_frames\\seg_612\n",
      "D:\\OneDrive - Habib University\\acedemics\\semester5\\DL\\project\\project_files\\dataset\\Theory of Automata in Urdu\\lec_01_segmented_frames\\seg_613\n",
      "D:\\OneDrive - Habib University\\acedemics\\semester5\\DL\\project\\project_files\\dataset\\Theory of Automata in Urdu\\lec_01_segmented_frames\\seg_614\n",
      "D:\\OneDrive - Habib University\\acedemics\\semester5\\DL\\project\\project_files\\dataset\\Theory of Automata in Urdu\\lec_01_segmented_frames\\seg_615\n",
      "D:\\OneDrive - Habib University\\acedemics\\semester5\\DL\\project\\project_files\\dataset\\Theory of Automata in Urdu\\lec_01_segmented_frames\\seg_616\n",
      "D:\\OneDrive - Habib University\\acedemics\\semester5\\DL\\project\\project_files\\dataset\\Theory of Automata in Urdu\\lec_01_segmented_frames\\seg_617\n",
      "D:\\OneDrive - Habib University\\acedemics\\semester5\\DL\\project\\project_files\\dataset\\Theory of Automata in Urdu\\lec_01_segmented_frames\\seg_618\n",
      "D:\\OneDrive - Habib University\\acedemics\\semester5\\DL\\project\\project_files\\dataset\\Theory of Automata in Urdu\\lec_01_segmented_frames\\seg_619\n",
      "D:\\OneDrive - Habib University\\acedemics\\semester5\\DL\\project\\project_files\\dataset\\Theory of Automata in Urdu\\lec_01_segmented_frames\\seg_620\n",
      "D:\\OneDrive - Habib University\\acedemics\\semester5\\DL\\project\\project_files\\dataset\\Theory of Automata in Urdu\\lec_01_segmented_frames\\seg_621\n",
      "D:\\OneDrive - Habib University\\acedemics\\semester5\\DL\\project\\project_files\\dataset\\Theory of Automata in Urdu\\lec_01_segmented_frames\\seg_622\n",
      "D:\\OneDrive - Habib University\\acedemics\\semester5\\DL\\project\\project_files\\dataset\\Theory of Automata in Urdu\\lec_01_segmented_frames\\seg_623\n",
      "D:\\OneDrive - Habib University\\acedemics\\semester5\\DL\\project\\project_files\\dataset\\Theory of Automata in Urdu\\lec_01_segmented_frames\\seg_624\n",
      "D:\\OneDrive - Habib University\\acedemics\\semester5\\DL\\project\\project_files\\dataset\\Theory of Automata in Urdu\\lec_01_segmented_frames\\seg_625\n",
      "D:\\OneDrive - Habib University\\acedemics\\semester5\\DL\\project\\project_files\\dataset\\Theory of Automata in Urdu\\lec_01_segmented_frames\\seg_626\n",
      "D:\\OneDrive - Habib University\\acedemics\\semester5\\DL\\project\\project_files\\dataset\\Theory of Automata in Urdu\\lec_01_segmented_frames\\seg_627\n",
      "D:\\OneDrive - Habib University\\acedemics\\semester5\\DL\\project\\project_files\\dataset\\Theory of Automata in Urdu\\lec_01_segmented_frames\\seg_628\n",
      "D:\\OneDrive - Habib University\\acedemics\\semester5\\DL\\project\\project_files\\dataset\\Theory of Automata in Urdu\\lec_01_segmented_frames\\seg_629\n",
      "D:\\OneDrive - Habib University\\acedemics\\semester5\\DL\\project\\project_files\\dataset\\Theory of Automata in Urdu\\lec_01_segmented_frames\\seg_630\n",
      "D:\\OneDrive - Habib University\\acedemics\\semester5\\DL\\project\\project_files\\dataset\\Theory of Automata in Urdu\\lec_01_segmented_frames\\seg_631\n",
      "D:\\OneDrive - Habib University\\acedemics\\semester5\\DL\\project\\project_files\\dataset\\Theory of Automata in Urdu\\lec_01_segmented_frames\\seg_632\n",
      "D:\\OneDrive - Habib University\\acedemics\\semester5\\DL\\project\\project_files\\dataset\\Theory of Automata in Urdu\\lec_01_segmented_frames\\seg_633\n",
      "D:\\OneDrive - Habib University\\acedemics\\semester5\\DL\\project\\project_files\\dataset\\Theory of Automata in Urdu\\lec_01_segmented_frames\\seg_634\n",
      "D:\\OneDrive - Habib University\\acedemics\\semester5\\DL\\project\\project_files\\dataset\\Theory of Automata in Urdu\\lec_01_segmented_frames\\seg_635\n",
      "D:\\OneDrive - Habib University\\acedemics\\semester5\\DL\\project\\project_files\\dataset\\Theory of Automata in Urdu\\lec_01_segmented_frames\\seg_636\n",
      "D:\\OneDrive - Habib University\\acedemics\\semester5\\DL\\project\\project_files\\dataset\\Theory of Automata in Urdu\\lec_01_segmented_frames\\seg_637\n",
      "D:\\OneDrive - Habib University\\acedemics\\semester5\\DL\\project\\project_files\\dataset\\Theory of Automata in Urdu\\lec_01_segmented_frames\\seg_638\n",
      "D:\\OneDrive - Habib University\\acedemics\\semester5\\DL\\project\\project_files\\dataset\\Theory of Automata in Urdu\\lec_01_segmented_frames\\seg_639\n",
      "D:\\OneDrive - Habib University\\acedemics\\semester5\\DL\\project\\project_files\\dataset\\Theory of Automata in Urdu\\lec_01_segmented_frames\\seg_640\n",
      "D:\\OneDrive - Habib University\\acedemics\\semester5\\DL\\project\\project_files\\dataset\\Theory of Automata in Urdu\\lec_01_segmented_frames\\seg_641\n",
      "D:\\OneDrive - Habib University\\acedemics\\semester5\\DL\\project\\project_files\\dataset\\Theory of Automata in Urdu\\lec_01_segmented_frames\\seg_642\n",
      "D:\\OneDrive - Habib University\\acedemics\\semester5\\DL\\project\\project_files\\dataset\\Theory of Automata in Urdu\\lec_01_segmented_frames\\seg_643\n",
      "D:\\OneDrive - Habib University\\acedemics\\semester5\\DL\\project\\project_files\\dataset\\Theory of Automata in Urdu\\lec_01_segmented_frames\\seg_644\n",
      "D:\\OneDrive - Habib University\\acedemics\\semester5\\DL\\project\\project_files\\dataset\\Theory of Automata in Urdu\\lec_01_segmented_frames\\seg_645\n",
      "D:\\OneDrive - Habib University\\acedemics\\semester5\\DL\\project\\project_files\\dataset\\Theory of Automata in Urdu\\lec_01_segmented_frames\\seg_646\n",
      "D:\\OneDrive - Habib University\\acedemics\\semester5\\DL\\project\\project_files\\dataset\\Theory of Automata in Urdu\\lec_01_segmented_frames\\seg_647\n",
      "D:\\OneDrive - Habib University\\acedemics\\semester5\\DL\\project\\project_files\\dataset\\Theory of Automata in Urdu\\lec_01_segmented_frames\\seg_648\n",
      "D:\\OneDrive - Habib University\\acedemics\\semester5\\DL\\project\\project_files\\dataset\\Theory of Automata in Urdu\\lec_01_segmented_frames\\seg_649\n",
      "D:\\OneDrive - Habib University\\acedemics\\semester5\\DL\\project\\project_files\\dataset\\Theory of Automata in Urdu\\lec_01_segmented_frames\\seg_650\n",
      "D:\\OneDrive - Habib University\\acedemics\\semester5\\DL\\project\\project_files\\dataset\\Theory of Automata in Urdu\\lec_01_segmented_frames\\seg_651\n",
      "D:\\OneDrive - Habib University\\acedemics\\semester5\\DL\\project\\project_files\\dataset\\Theory of Automata in Urdu\\lec_01_segmented_frames\\seg_652\n",
      "D:\\OneDrive - Habib University\\acedemics\\semester5\\DL\\project\\project_files\\dataset\\Theory of Automata in Urdu\\lec_01_segmented_frames\\seg_653\n",
      "D:\\OneDrive - Habib University\\acedemics\\semester5\\DL\\project\\project_files\\dataset\\Theory of Automata in Urdu\\lec_01_segmented_frames\\seg_654\n",
      "D:\\OneDrive - Habib University\\acedemics\\semester5\\DL\\project\\project_files\\dataset\\Theory of Automata in Urdu\\lec_01_segmented_frames\\seg_655\n",
      "D:\\OneDrive - Habib University\\acedemics\\semester5\\DL\\project\\project_files\\dataset\\Theory of Automata in Urdu\\lec_01_segmented_frames\\seg_656\n",
      "D:\\OneDrive - Habib University\\acedemics\\semester5\\DL\\project\\project_files\\dataset\\Theory of Automata in Urdu\\lec_01_segmented_frames\\seg_657\n",
      "D:\\OneDrive - Habib University\\acedemics\\semester5\\DL\\project\\project_files\\dataset\\Theory of Automata in Urdu\\lec_01_segmented_frames\\seg_658\n",
      "D:\\OneDrive - Habib University\\acedemics\\semester5\\DL\\project\\project_files\\dataset\\Theory of Automata in Urdu\\lec_01_segmented_frames\\seg_659\n",
      "D:\\OneDrive - Habib University\\acedemics\\semester5\\DL\\project\\project_files\\dataset\\Theory of Automata in Urdu\\lec_01_segmented_frames\\seg_660\n",
      "D:\\OneDrive - Habib University\\acedemics\\semester5\\DL\\project\\project_files\\dataset\\Theory of Automata in Urdu\\lec_01_segmented_frames\\seg_661\n",
      "D:\\OneDrive - Habib University\\acedemics\\semester5\\DL\\project\\project_files\\dataset\\Theory of Automata in Urdu\\lec_01_segmented_frames\\seg_662\n",
      "D:\\OneDrive - Habib University\\acedemics\\semester5\\DL\\project\\project_files\\dataset\\Theory of Automata in Urdu\\lec_01_segmented_frames\\seg_663\n",
      "D:\\OneDrive - Habib University\\acedemics\\semester5\\DL\\project\\project_files\\dataset\\Theory of Automata in Urdu\\lec_01_segmented_frames\\seg_664\n",
      "D:\\OneDrive - Habib University\\acedemics\\semester5\\DL\\project\\project_files\\dataset\\Theory of Automata in Urdu\\lec_01_segmented_frames\\seg_665\n",
      "D:\\OneDrive - Habib University\\acedemics\\semester5\\DL\\project\\project_files\\dataset\\Theory of Automata in Urdu\\lec_01_segmented_frames\\seg_666\n",
      "D:\\OneDrive - Habib University\\acedemics\\semester5\\DL\\project\\project_files\\dataset\\Theory of Automata in Urdu\\lec_01_segmented_frames\\seg_667\n",
      "D:\\OneDrive - Habib University\\acedemics\\semester5\\DL\\project\\project_files\\dataset\\Theory of Automata in Urdu\\lec_01_segmented_frames\\seg_668\n",
      "D:\\OneDrive - Habib University\\acedemics\\semester5\\DL\\project\\project_files\\dataset\\Theory of Automata in Urdu\\lec_01_segmented_frames\\seg_669\n",
      "D:\\OneDrive - Habib University\\acedemics\\semester5\\DL\\project\\project_files\\dataset\\Theory of Automata in Urdu\\lec_01_segmented_frames\\seg_670\n",
      "D:\\OneDrive - Habib University\\acedemics\\semester5\\DL\\project\\project_files\\dataset\\Theory of Automata in Urdu\\lec_01_segmented_frames\\seg_671\n",
      "D:\\OneDrive - Habib University\\acedemics\\semester5\\DL\\project\\project_files\\dataset\\Theory of Automata in Urdu\\lec_01_segmented_frames\\seg_672\n",
      "D:\\OneDrive - Habib University\\acedemics\\semester5\\DL\\project\\project_files\\dataset\\Theory of Automata in Urdu\\lec_01_segmented_frames\\seg_673\n",
      "D:\\OneDrive - Habib University\\acedemics\\semester5\\DL\\project\\project_files\\dataset\\Theory of Automata in Urdu\\lec_01_segmented_frames\\seg_674\n",
      "D:\\OneDrive - Habib University\\acedemics\\semester5\\DL\\project\\project_files\\dataset\\Theory of Automata in Urdu\\lec_01_segmented_frames\\seg_675\n",
      "D:\\OneDrive - Habib University\\acedemics\\semester5\\DL\\project\\project_files\\dataset\\Theory of Automata in Urdu\\lec_01_segmented_frames\\seg_676\n",
      "D:\\OneDrive - Habib University\\acedemics\\semester5\\DL\\project\\project_files\\dataset\\Theory of Automata in Urdu\\lec_01_segmented_frames\\seg_677\n",
      "D:\\OneDrive - Habib University\\acedemics\\semester5\\DL\\project\\project_files\\dataset\\Theory of Automata in Urdu\\lec_01_segmented_frames\\seg_678\n",
      "D:\\OneDrive - Habib University\\acedemics\\semester5\\DL\\project\\project_files\\dataset\\Theory of Automata in Urdu\\lec_01_segmented_frames\\seg_679\n",
      "D:\\OneDrive - Habib University\\acedemics\\semester5\\DL\\project\\project_files\\dataset\\Theory of Automata in Urdu\\lec_01_segmented_frames\\seg_680\n",
      "D:\\OneDrive - Habib University\\acedemics\\semester5\\DL\\project\\project_files\\dataset\\Theory of Automata in Urdu\\lec_01_segmented_frames\\seg_681\n",
      "D:\\OneDrive - Habib University\\acedemics\\semester5\\DL\\project\\project_files\\dataset\\Theory of Automata in Urdu\\lec_01_segmented_frames\\seg_682\n",
      "D:\\OneDrive - Habib University\\acedemics\\semester5\\DL\\project\\project_files\\dataset\\Theory of Automata in Urdu\\lec_01_segmented_frames\\seg_683\n",
      "D:\\OneDrive - Habib University\\acedemics\\semester5\\DL\\project\\project_files\\dataset\\Theory of Automata in Urdu\\lec_01_segmented_frames\\seg_684\n",
      "D:\\OneDrive - Habib University\\acedemics\\semester5\\DL\\project\\project_files\\dataset\\Theory of Automata in Urdu\\lec_01_segmented_frames\\seg_685\n",
      "D:\\OneDrive - Habib University\\acedemics\\semester5\\DL\\project\\project_files\\dataset\\Theory of Automata in Urdu\\lec_01_segmented_frames\\seg_686\n",
      "D:\\OneDrive - Habib University\\acedemics\\semester5\\DL\\project\\project_files\\dataset\\Theory of Automata in Urdu\\lec_01_segmented_frames\\seg_687\n",
      "D:\\OneDrive - Habib University\\acedemics\\semester5\\DL\\project\\project_files\\dataset\\Theory of Automata in Urdu\\lec_01_segmented_frames\\seg_688\n",
      "D:\\OneDrive - Habib University\\acedemics\\semester5\\DL\\project\\project_files\\dataset\\Theory of Automata in Urdu\\lec_01_segmented_frames\\seg_689\n",
      "D:\\OneDrive - Habib University\\acedemics\\semester5\\DL\\project\\project_files\\dataset\\Theory of Automata in Urdu\\lec_01_segmented_frames\\seg_690\n",
      "D:\\OneDrive - Habib University\\acedemics\\semester5\\DL\\project\\project_files\\dataset\\Theory of Automata in Urdu\\lec_01_segmented_frames\\seg_691\n",
      "D:\\OneDrive - Habib University\\acedemics\\semester5\\DL\\project\\project_files\\dataset\\Theory of Automata in Urdu\\lec_01_segmented_frames\\seg_692\n",
      "D:\\OneDrive - Habib University\\acedemics\\semester5\\DL\\project\\project_files\\dataset\\Theory of Automata in Urdu\\lec_01_segmented_frames\\seg_693\n",
      "D:\\OneDrive - Habib University\\acedemics\\semester5\\DL\\project\\project_files\\dataset\\Theory of Automata in Urdu\\lec_01_segmented_frames\\seg_694\n",
      "D:\\OneDrive - Habib University\\acedemics\\semester5\\DL\\project\\project_files\\dataset\\Theory of Automata in Urdu\\lec_01_segmented_frames\\seg_695\n",
      "D:\\OneDrive - Habib University\\acedemics\\semester5\\DL\\project\\project_files\\dataset\\Theory of Automata in Urdu\\lec_01_segmented_frames\\seg_696\n",
      "D:\\OneDrive - Habib University\\acedemics\\semester5\\DL\\project\\project_files\\dataset\\Theory of Automata in Urdu\\lec_01_segmented_frames\\seg_697\n",
      "D:\\OneDrive - Habib University\\acedemics\\semester5\\DL\\project\\project_files\\dataset\\Theory of Automata in Urdu\\lec_01_segmented_frames\\seg_698\n",
      "D:\\OneDrive - Habib University\\acedemics\\semester5\\DL\\project\\project_files\\dataset\\Theory of Automata in Urdu\\lec_01_segmented_frames\\seg_699\n",
      "D:\\OneDrive - Habib University\\acedemics\\semester5\\DL\\project\\project_files\\dataset\\Theory of Automata in Urdu\\lec_01_segmented_frames\\seg_700\n",
      "D:\\OneDrive - Habib University\\acedemics\\semester5\\DL\\project\\project_files\\dataset\\Theory of Automata in Urdu\\lec_01_segmented_frames\\seg_701\n",
      "D:\\OneDrive - Habib University\\acedemics\\semester5\\DL\\project\\project_files\\dataset\\Theory of Automata in Urdu\\lec_01_segmented_frames\\seg_702\n",
      "D:\\OneDrive - Habib University\\acedemics\\semester5\\DL\\project\\project_files\\dataset\\Theory of Automata in Urdu\\lec_01_segmented_frames\\seg_703\n",
      "D:\\OneDrive - Habib University\\acedemics\\semester5\\DL\\project\\project_files\\dataset\\Theory of Automata in Urdu\\lec_01_segmented_frames\\seg_704\n",
      "D:\\OneDrive - Habib University\\acedemics\\semester5\\DL\\project\\project_files\\dataset\\Theory of Automata in Urdu\\lec_01_segmented_frames\\seg_705\n",
      "D:\\OneDrive - Habib University\\acedemics\\semester5\\DL\\project\\project_files\\dataset\\Theory of Automata in Urdu\\lec_01_segmented_frames\\seg_706\n",
      "D:\\OneDrive - Habib University\\acedemics\\semester5\\DL\\project\\project_files\\dataset\\Theory of Automata in Urdu\\lec_01_segmented_frames\\seg_707\n",
      "D:\\OneDrive - Habib University\\acedemics\\semester5\\DL\\project\\project_files\\dataset\\Theory of Automata in Urdu\\lec_01_segmented_frames\\seg_708\n",
      "D:\\OneDrive - Habib University\\acedemics\\semester5\\DL\\project\\project_files\\dataset\\Theory of Automata in Urdu\\lec_01_segmented_frames\\seg_709\n",
      "D:\\OneDrive - Habib University\\acedemics\\semester5\\DL\\project\\project_files\\dataset\\Theory of Automata in Urdu\\lec_01_segmented_frames\\seg_710\n",
      "D:\\OneDrive - Habib University\\acedemics\\semester5\\DL\\project\\project_files\\dataset\\Theory of Automata in Urdu\\lec_01_segmented_frames\\seg_711\n",
      "D:\\OneDrive - Habib University\\acedemics\\semester5\\DL\\project\\project_files\\dataset\\Theory of Automata in Urdu\\lec_01_segmented_frames\\seg_712\n",
      "D:\\OneDrive - Habib University\\acedemics\\semester5\\DL\\project\\project_files\\dataset\\Theory of Automata in Urdu\\lec_01_segmented_frames\\seg_713\n",
      "D:\\OneDrive - Habib University\\acedemics\\semester5\\DL\\project\\project_files\\dataset\\Theory of Automata in Urdu\\lec_01_segmented_frames\\seg_714\n",
      "D:\\OneDrive - Habib University\\acedemics\\semester5\\DL\\project\\project_files\\dataset\\Theory of Automata in Urdu\\lec_01_segmented_frames\\seg_715\n",
      "D:\\OneDrive - Habib University\\acedemics\\semester5\\DL\\project\\project_files\\dataset\\Theory of Automata in Urdu\\lec_01_segmented_frames\\seg_716\n",
      "D:\\OneDrive - Habib University\\acedemics\\semester5\\DL\\project\\project_files\\dataset\\Theory of Automata in Urdu\\lec_01_segmented_frames\\seg_717\n",
      "D:\\OneDrive - Habib University\\acedemics\\semester5\\DL\\project\\project_files\\dataset\\Theory of Automata in Urdu\\lec_01_segmented_frames\\seg_718\n",
      "D:\\OneDrive - Habib University\\acedemics\\semester5\\DL\\project\\project_files\\dataset\\Theory of Automata in Urdu\\lec_01_segmented_frames\\seg_719\n",
      "D:\\OneDrive - Habib University\\acedemics\\semester5\\DL\\project\\project_files\\dataset\\Theory of Automata in Urdu\\lec_01_segmented_frames\\seg_720\n",
      "D:\\OneDrive - Habib University\\acedemics\\semester5\\DL\\project\\project_files\\dataset\\Theory of Automata in Urdu\\lec_01_segmented_frames\\seg_721\n",
      "D:\\OneDrive - Habib University\\acedemics\\semester5\\DL\\project\\project_files\\dataset\\Theory of Automata in Urdu\\lec_01_segmented_frames\\seg_722\n",
      "D:\\OneDrive - Habib University\\acedemics\\semester5\\DL\\project\\project_files\\dataset\\Theory of Automata in Urdu\\lec_01_segmented_frames\\seg_723\n",
      "D:\\OneDrive - Habib University\\acedemics\\semester5\\DL\\project\\project_files\\dataset\\Theory of Automata in Urdu\\lec_01_segmented_frames\\seg_724\n",
      "D:\\OneDrive - Habib University\\acedemics\\semester5\\DL\\project\\project_files\\dataset\\Theory of Automata in Urdu\\lec_01_segmented_frames\\seg_725\n",
      "D:\\OneDrive - Habib University\\acedemics\\semester5\\DL\\project\\project_files\\dataset\\Theory of Automata in Urdu\\lec_01_segmented_frames\\seg_726\n",
      "D:\\OneDrive - Habib University\\acedemics\\semester5\\DL\\project\\project_files\\dataset\\Theory of Automata in Urdu\\lec_01_segmented_frames\\seg_727\n",
      "D:\\OneDrive - Habib University\\acedemics\\semester5\\DL\\project\\project_files\\dataset\\Theory of Automata in Urdu\\lec_01_segmented_frames\\seg_728\n",
      "D:\\OneDrive - Habib University\\acedemics\\semester5\\DL\\project\\project_files\\dataset\\Theory of Automata in Urdu\\lec_01_segmented_frames\\seg_729\n",
      "D:\\OneDrive - Habib University\\acedemics\\semester5\\DL\\project\\project_files\\dataset\\Theory of Automata in Urdu\\lec_01_segmented_frames\\seg_730\n",
      "D:\\OneDrive - Habib University\\acedemics\\semester5\\DL\\project\\project_files\\dataset\\Theory of Automata in Urdu\\lec_01_segmented_frames\\seg_731\n",
      "D:\\OneDrive - Habib University\\acedemics\\semester5\\DL\\project\\project_files\\dataset\\Theory of Automata in Urdu\\lec_01_segmented_frames\\seg_732\n",
      "D:\\OneDrive - Habib University\\acedemics\\semester5\\DL\\project\\project_files\\dataset\\Theory of Automata in Urdu\\lec_01_segmented_frames\\seg_733\n",
      "D:\\OneDrive - Habib University\\acedemics\\semester5\\DL\\project\\project_files\\dataset\\Theory of Automata in Urdu\\lec_01_segmented_frames\\seg_734\n",
      "D:\\OneDrive - Habib University\\acedemics\\semester5\\DL\\project\\project_files\\dataset\\Theory of Automata in Urdu\\lec_01_segmented_frames\\seg_735\n",
      "D:\\OneDrive - Habib University\\acedemics\\semester5\\DL\\project\\project_files\\dataset\\Theory of Automata in Urdu\\lec_01_segmented_frames\\seg_736\n",
      "D:\\OneDrive - Habib University\\acedemics\\semester5\\DL\\project\\project_files\\dataset\\Theory of Automata in Urdu\\lec_01_segmented_frames\\seg_737\n",
      "D:\\OneDrive - Habib University\\acedemics\\semester5\\DL\\project\\project_files\\dataset\\Theory of Automata in Urdu\\lec_01_segmented_frames\\seg_738\n",
      "D:\\OneDrive - Habib University\\acedemics\\semester5\\DL\\project\\project_files\\dataset\\Theory of Automata in Urdu\\lec_01_segmented_frames\\seg_739\n",
      "D:\\OneDrive - Habib University\\acedemics\\semester5\\DL\\project\\project_files\\dataset\\Theory of Automata in Urdu\\lec_01_segmented_frames\\seg_740\n",
      "D:\\OneDrive - Habib University\\acedemics\\semester5\\DL\\project\\project_files\\dataset\\Theory of Automata in Urdu\\lec_01_segmented_frames\\seg_741\n",
      "D:\\OneDrive - Habib University\\acedemics\\semester5\\DL\\project\\project_files\\dataset\\Theory of Automata in Urdu\\lec_01_segmented_frames\\seg_742\n",
      "D:\\OneDrive - Habib University\\acedemics\\semester5\\DL\\project\\project_files\\dataset\\Theory of Automata in Urdu\\lec_01_segmented_frames\\seg_743\n",
      "D:\\OneDrive - Habib University\\acedemics\\semester5\\DL\\project\\project_files\\dataset\\Theory of Automata in Urdu\\lec_01_segmented_frames\\seg_744\n",
      "D:\\OneDrive - Habib University\\acedemics\\semester5\\DL\\project\\project_files\\dataset\\Theory of Automata in Urdu\\lec_01_segmented_frames\\seg_745\n",
      "D:\\OneDrive - Habib University\\acedemics\\semester5\\DL\\project\\project_files\\dataset\\Theory of Automata in Urdu\\lec_01_segmented_frames\\seg_746\n",
      "D:\\OneDrive - Habib University\\acedemics\\semester5\\DL\\project\\project_files\\dataset\\Theory of Automata in Urdu\\lec_01_segmented_frames\\seg_747\n",
      "D:\\OneDrive - Habib University\\acedemics\\semester5\\DL\\project\\project_files\\dataset\\Theory of Automata in Urdu\\lec_01_segmented_frames\\seg_748\n",
      "D:\\OneDrive - Habib University\\acedemics\\semester5\\DL\\project\\project_files\\dataset\\Theory of Automata in Urdu\\lec_01_segmented_frames\\seg_749\n",
      "D:\\OneDrive - Habib University\\acedemics\\semester5\\DL\\project\\project_files\\dataset\\Theory of Automata in Urdu\\lec_01_segmented_frames\\seg_750\n",
      "D:\\OneDrive - Habib University\\acedemics\\semester5\\DL\\project\\project_files\\dataset\\Theory of Automata in Urdu\\lec_01_segmented_frames\\seg_751\n",
      "D:\\OneDrive - Habib University\\acedemics\\semester5\\DL\\project\\project_files\\dataset\\Theory of Automata in Urdu\\lec_01_segmented_frames\\seg_752\n",
      "D:\\OneDrive - Habib University\\acedemics\\semester5\\DL\\project\\project_files\\dataset\\Theory of Automata in Urdu\\lec_01_segmented_frames\\seg_753\n",
      "D:\\OneDrive - Habib University\\acedemics\\semester5\\DL\\project\\project_files\\dataset\\Theory of Automata in Urdu\\lec_01_segmented_frames\\seg_754\n",
      "D:\\OneDrive - Habib University\\acedemics\\semester5\\DL\\project\\project_files\\dataset\\Theory of Automata in Urdu\\lec_01_segmented_frames\\seg_755\n",
      "D:\\OneDrive - Habib University\\acedemics\\semester5\\DL\\project\\project_files\\dataset\\Theory of Automata in Urdu\\lec_01_segmented_frames\\seg_756\n",
      "D:\\OneDrive - Habib University\\acedemics\\semester5\\DL\\project\\project_files\\dataset\\Theory of Automata in Urdu\\lec_01_segmented_frames\\seg_757\n",
      "D:\\OneDrive - Habib University\\acedemics\\semester5\\DL\\project\\project_files\\dataset\\Theory of Automata in Urdu\\lec_01_segmented_frames\\seg_758\n",
      "D:\\OneDrive - Habib University\\acedemics\\semester5\\DL\\project\\project_files\\dataset\\Theory of Automata in Urdu\\lec_01_segmented_frames\\seg_759\n",
      "D:\\OneDrive - Habib University\\acedemics\\semester5\\DL\\project\\project_files\\dataset\\Theory of Automata in Urdu\\lec_01_segmented_frames\\seg_760\n",
      "D:\\OneDrive - Habib University\\acedemics\\semester5\\DL\\project\\project_files\\dataset\\Theory of Automata in Urdu\\lec_01_segmented_frames\\seg_761\n",
      "D:\\OneDrive - Habib University\\acedemics\\semester5\\DL\\project\\project_files\\dataset\\Theory of Automata in Urdu\\lec_01_segmented_frames\\seg_762\n",
      "D:\\OneDrive - Habib University\\acedemics\\semester5\\DL\\project\\project_files\\dataset\\Theory of Automata in Urdu\\lec_01_segmented_frames\\seg_763\n",
      "D:\\OneDrive - Habib University\\acedemics\\semester5\\DL\\project\\project_files\\dataset\\Theory of Automata in Urdu\\lec_01_segmented_frames\\seg_764\n",
      "D:\\OneDrive - Habib University\\acedemics\\semester5\\DL\\project\\project_files\\dataset\\Theory of Automata in Urdu\\lec_01_segmented_frames\\seg_765\n",
      "D:\\OneDrive - Habib University\\acedemics\\semester5\\DL\\project\\project_files\\dataset\\Theory of Automata in Urdu\\lec_01_segmented_frames\\seg_766\n",
      "D:\\OneDrive - Habib University\\acedemics\\semester5\\DL\\project\\project_files\\dataset\\Theory of Automata in Urdu\\lec_01_segmented_frames\\seg_767\n",
      "D:\\OneDrive - Habib University\\acedemics\\semester5\\DL\\project\\project_files\\dataset\\Theory of Automata in Urdu\\lec_01_segmented_frames\\seg_768\n",
      "D:\\OneDrive - Habib University\\acedemics\\semester5\\DL\\project\\project_files\\dataset\\Theory of Automata in Urdu\\lec_01_segmented_frames\\seg_769\n",
      "D:\\OneDrive - Habib University\\acedemics\\semester5\\DL\\project\\project_files\\dataset\\Theory of Automata in Urdu\\lec_01_segmented_frames\\seg_770\n",
      "D:\\OneDrive - Habib University\\acedemics\\semester5\\DL\\project\\project_files\\dataset\\Theory of Automata in Urdu\\lec_01_segmented_frames\\seg_771\n",
      "D:\\OneDrive - Habib University\\acedemics\\semester5\\DL\\project\\project_files\\dataset\\Theory of Automata in Urdu\\lec_01_segmented_frames\\seg_772\n",
      "D:\\OneDrive - Habib University\\acedemics\\semester5\\DL\\project\\project_files\\dataset\\Theory of Automata in Urdu\\lec_01_segmented_frames\\seg_773\n",
      "D:\\OneDrive - Habib University\\acedemics\\semester5\\DL\\project\\project_files\\dataset\\Theory of Automata in Urdu\\lec_01_segmented_frames\\seg_774\n",
      "D:\\OneDrive - Habib University\\acedemics\\semester5\\DL\\project\\project_files\\dataset\\Theory of Automata in Urdu\\lec_01_segmented_frames\\seg_775\n",
      "D:\\OneDrive - Habib University\\acedemics\\semester5\\DL\\project\\project_files\\dataset\\Theory of Automata in Urdu\\lec_01_segmented_frames\\seg_776\n",
      "D:\\OneDrive - Habib University\\acedemics\\semester5\\DL\\project\\project_files\\dataset\\Theory of Automata in Urdu\\lec_01_segmented_frames\\seg_777\n",
      "D:\\OneDrive - Habib University\\acedemics\\semester5\\DL\\project\\project_files\\dataset\\Theory of Automata in Urdu\\lec_01_segmented_frames\\seg_778\n",
      "D:\\OneDrive - Habib University\\acedemics\\semester5\\DL\\project\\project_files\\dataset\\Theory of Automata in Urdu\\lec_01_segmented_frames\\seg_779\n",
      "D:\\OneDrive - Habib University\\acedemics\\semester5\\DL\\project\\project_files\\dataset\\Theory of Automata in Urdu\\lec_01_segmented_frames\\seg_780\n",
      "D:\\OneDrive - Habib University\\acedemics\\semester5\\DL\\project\\project_files\\dataset\\Theory of Automata in Urdu\\lec_01_segmented_frames\\seg_781\n",
      "D:\\OneDrive - Habib University\\acedemics\\semester5\\DL\\project\\project_files\\dataset\\Theory of Automata in Urdu\\lec_01_segmented_frames\\seg_782\n",
      "D:\\OneDrive - Habib University\\acedemics\\semester5\\DL\\project\\project_files\\dataset\\Theory of Automata in Urdu\\lec_01_segmented_frames\\seg_783\n",
      "D:\\OneDrive - Habib University\\acedemics\\semester5\\DL\\project\\project_files\\dataset\\Theory of Automata in Urdu\\lec_01_segmented_frames\\seg_784\n",
      "D:\\OneDrive - Habib University\\acedemics\\semester5\\DL\\project\\project_files\\dataset\\Theory of Automata in Urdu\\lec_01_segmented_frames\\seg_785\n",
      "D:\\OneDrive - Habib University\\acedemics\\semester5\\DL\\project\\project_files\\dataset\\Theory of Automata in Urdu\\lec_01_segmented_frames\\seg_786\n",
      "D:\\OneDrive - Habib University\\acedemics\\semester5\\DL\\project\\project_files\\dataset\\Theory of Automata in Urdu\\lec_01_segmented_frames\\seg_787\n",
      "D:\\OneDrive - Habib University\\acedemics\\semester5\\DL\\project\\project_files\\dataset\\Theory of Automata in Urdu\\lec_01_segmented_frames\\seg_788\n",
      "D:\\OneDrive - Habib University\\acedemics\\semester5\\DL\\project\\project_files\\dataset\\Theory of Automata in Urdu\\lec_01_segmented_frames\\seg_789\n",
      "D:\\OneDrive - Habib University\\acedemics\\semester5\\DL\\project\\project_files\\dataset\\Theory of Automata in Urdu\\lec_01_segmented_frames\\seg_790\n",
      "D:\\OneDrive - Habib University\\acedemics\\semester5\\DL\\project\\project_files\\dataset\\Theory of Automata in Urdu\\lec_01_segmented_frames\\seg_791\n",
      "D:\\OneDrive - Habib University\\acedemics\\semester5\\DL\\project\\project_files\\dataset\\Theory of Automata in Urdu\\lec_01_segmented_frames\\seg_792\n",
      "D:\\OneDrive - Habib University\\acedemics\\semester5\\DL\\project\\project_files\\dataset\\Theory of Automata in Urdu\\lec_01_segmented_frames\\seg_793\n",
      "D:\\OneDrive - Habib University\\acedemics\\semester5\\DL\\project\\project_files\\dataset\\Theory of Automata in Urdu\\lec_01_segmented_frames\\seg_794\n",
      "D:\\OneDrive - Habib University\\acedemics\\semester5\\DL\\project\\project_files\\dataset\\Theory of Automata in Urdu\\lec_01_segmented_frames\\seg_795\n",
      "D:\\OneDrive - Habib University\\acedemics\\semester5\\DL\\project\\project_files\\dataset\\Theory of Automata in Urdu\\lec_01_segmented_frames\\seg_796\n",
      "D:\\OneDrive - Habib University\\acedemics\\semester5\\DL\\project\\project_files\\dataset\\Theory of Automata in Urdu\\lec_01_segmented_frames\\seg_797\n",
      "D:\\OneDrive - Habib University\\acedemics\\semester5\\DL\\project\\project_files\\dataset\\Theory of Automata in Urdu\\lec_01_segmented_frames\\seg_798\n",
      "D:\\OneDrive - Habib University\\acedemics\\semester5\\DL\\project\\project_files\\dataset\\Theory of Automata in Urdu\\lec_01_segmented_frames\\seg_799\n",
      "D:\\OneDrive - Habib University\\acedemics\\semester5\\DL\\project\\project_files\\dataset\\Theory of Automata in Urdu\\lec_01_segmented_frames\\seg_800\n",
      "D:\\OneDrive - Habib University\\acedemics\\semester5\\DL\\project\\project_files\\dataset\\Theory of Automata in Urdu\\lec_01_segmented_frames\\seg_801\n",
      "D:\\OneDrive - Habib University\\acedemics\\semester5\\DL\\project\\project_files\\dataset\\Theory of Automata in Urdu\\lec_01_segmented_frames\\seg_802\n",
      "D:\\OneDrive - Habib University\\acedemics\\semester5\\DL\\project\\project_files\\dataset\\Theory of Automata in Urdu\\lec_01_segmented_frames\\seg_803\n",
      "D:\\OneDrive - Habib University\\acedemics\\semester5\\DL\\project\\project_files\\dataset\\Theory of Automata in Urdu\\lec_01_segmented_frames\\seg_804\n",
      "D:\\OneDrive - Habib University\\acedemics\\semester5\\DL\\project\\project_files\\dataset\\Theory of Automata in Urdu\\lec_01_segmented_frames\\seg_805\n",
      "D:\\OneDrive - Habib University\\acedemics\\semester5\\DL\\project\\project_files\\dataset\\Theory of Automata in Urdu\\lec_01_segmented_frames\\seg_806\n",
      "D:\\OneDrive - Habib University\\acedemics\\semester5\\DL\\project\\project_files\\dataset\\Theory of Automata in Urdu\\lec_01_segmented_frames\\seg_807\n",
      "D:\\OneDrive - Habib University\\acedemics\\semester5\\DL\\project\\project_files\\dataset\\Theory of Automata in Urdu\\lec_01_segmented_frames\\seg_808\n",
      "D:\\OneDrive - Habib University\\acedemics\\semester5\\DL\\project\\project_files\\dataset\\Theory of Automata in Urdu\\lec_01_segmented_frames\\seg_809\n",
      "D:\\OneDrive - Habib University\\acedemics\\semester5\\DL\\project\\project_files\\dataset\\Theory of Automata in Urdu\\lec_01_segmented_frames\\seg_810\n",
      "D:\\OneDrive - Habib University\\acedemics\\semester5\\DL\\project\\project_files\\dataset\\Theory of Automata in Urdu\\lec_01_segmented_frames\\seg_811\n",
      "D:\\OneDrive - Habib University\\acedemics\\semester5\\DL\\project\\project_files\\dataset\\Theory of Automata in Urdu\\lec_01_segmented_frames\\seg_812\n",
      "D:\\OneDrive - Habib University\\acedemics\\semester5\\DL\\project\\project_files\\dataset\\Theory of Automata in Urdu\\lec_01_segmented_frames\\seg_813\n",
      "D:\\OneDrive - Habib University\\acedemics\\semester5\\DL\\project\\project_files\\dataset\\Theory of Automata in Urdu\\lec_01_segmented_frames\\seg_814\n",
      "D:\\OneDrive - Habib University\\acedemics\\semester5\\DL\\project\\project_files\\dataset\\Theory of Automata in Urdu\\lec_01_segmented_frames\\seg_815\n",
      "D:\\OneDrive - Habib University\\acedemics\\semester5\\DL\\project\\project_files\\dataset\\Theory of Automata in Urdu\\lec_01_segmented_frames\\seg_816\n",
      "D:\\OneDrive - Habib University\\acedemics\\semester5\\DL\\project\\project_files\\dataset\\Theory of Automata in Urdu\\lec_01_segmented_frames\\seg_817\n",
      "D:\\OneDrive - Habib University\\acedemics\\semester5\\DL\\project\\project_files\\dataset\\Theory of Automata in Urdu\\lec_01_segmented_frames\\seg_818\n",
      "D:\\OneDrive - Habib University\\acedemics\\semester5\\DL\\project\\project_files\\dataset\\Theory of Automata in Urdu\\lec_01_segmented_frames\\seg_819\n",
      "D:\\OneDrive - Habib University\\acedemics\\semester5\\DL\\project\\project_files\\dataset\\Theory of Automata in Urdu\\lec_01_segmented_frames\\seg_820\n",
      "D:\\OneDrive - Habib University\\acedemics\\semester5\\DL\\project\\project_files\\dataset\\Theory of Automata in Urdu\\lec_01_segmented_frames\\seg_821\n",
      "D:\\OneDrive - Habib University\\acedemics\\semester5\\DL\\project\\project_files\\dataset\\Theory of Automata in Urdu\\lec_01_segmented_frames\\seg_822\n",
      "D:\\OneDrive - Habib University\\acedemics\\semester5\\DL\\project\\project_files\\dataset\\Theory of Automata in Urdu\\lec_01_segmented_frames\\seg_823\n",
      "D:\\OneDrive - Habib University\\acedemics\\semester5\\DL\\project\\project_files\\dataset\\Theory of Automata in Urdu\\lec_01_segmented_frames\\seg_824\n",
      "D:\\OneDrive - Habib University\\acedemics\\semester5\\DL\\project\\project_files\\dataset\\Theory of Automata in Urdu\\lec_01_segmented_frames\\seg_825\n",
      "D:\\OneDrive - Habib University\\acedemics\\semester5\\DL\\project\\project_files\\dataset\\Theory of Automata in Urdu\\lec_01_segmented_frames\\seg_826\n",
      "D:\\OneDrive - Habib University\\acedemics\\semester5\\DL\\project\\project_files\\dataset\\Theory of Automata in Urdu\\lec_01_segmented_frames\\seg_827\n",
      "D:\\OneDrive - Habib University\\acedemics\\semester5\\DL\\project\\project_files\\dataset\\Theory of Automata in Urdu\\lec_01_segmented_frames\\seg_828\n",
      "D:\\OneDrive - Habib University\\acedemics\\semester5\\DL\\project\\project_files\\dataset\\Theory of Automata in Urdu\\lec_01_segmented_frames\\seg_829\n",
      "D:\\OneDrive - Habib University\\acedemics\\semester5\\DL\\project\\project_files\\dataset\\Theory of Automata in Urdu\\lec_01_segmented_frames\\seg_830\n",
      "D:\\OneDrive - Habib University\\acedemics\\semester5\\DL\\project\\project_files\\dataset\\Theory of Automata in Urdu\\lec_01_segmented_frames\\seg_831\n",
      "D:\\OneDrive - Habib University\\acedemics\\semester5\\DL\\project\\project_files\\dataset\\Theory of Automata in Urdu\\lec_01_segmented_frames\\seg_832\n",
      "D:\\OneDrive - Habib University\\acedemics\\semester5\\DL\\project\\project_files\\dataset\\Theory of Automata in Urdu\\lec_01_segmented_frames\\seg_833\n",
      "D:\\OneDrive - Habib University\\acedemics\\semester5\\DL\\project\\project_files\\dataset\\Theory of Automata in Urdu\\lec_01_segmented_frames\\seg_834\n",
      "D:\\OneDrive - Habib University\\acedemics\\semester5\\DL\\project\\project_files\\dataset\\Theory of Automata in Urdu\\lec_01_segmented_frames\\seg_835\n",
      "D:\\OneDrive - Habib University\\acedemics\\semester5\\DL\\project\\project_files\\dataset\\Theory of Automata in Urdu\\lec_01_segmented_frames\\seg_836\n",
      "D:\\OneDrive - Habib University\\acedemics\\semester5\\DL\\project\\project_files\\dataset\\Theory of Automata in Urdu\\lec_01_segmented_frames\\seg_837\n",
      "D:\\OneDrive - Habib University\\acedemics\\semester5\\DL\\project\\project_files\\dataset\\Theory of Automata in Urdu\\lec_01_segmented_frames\\seg_838\n",
      "D:\\OneDrive - Habib University\\acedemics\\semester5\\DL\\project\\project_files\\dataset\\Theory of Automata in Urdu\\lec_01_segmented_frames\\seg_839\n",
      "D:\\OneDrive - Habib University\\acedemics\\semester5\\DL\\project\\project_files\\dataset\\Theory of Automata in Urdu\\lec_01_segmented_frames\\seg_840\n",
      "D:\\OneDrive - Habib University\\acedemics\\semester5\\DL\\project\\project_files\\dataset\\Theory of Automata in Urdu\\lec_01_segmented_frames\\seg_841\n",
      "D:\\OneDrive - Habib University\\acedemics\\semester5\\DL\\project\\project_files\\dataset\\Theory of Automata in Urdu\\lec_01_segmented_frames\\seg_842\n",
      "D:\\OneDrive - Habib University\\acedemics\\semester5\\DL\\project\\project_files\\dataset\\Theory of Automata in Urdu\\lec_01_segmented_frames\\seg_843\n",
      "D:\\OneDrive - Habib University\\acedemics\\semester5\\DL\\project\\project_files\\dataset\\Theory of Automata in Urdu\\lec_01_segmented_frames\\seg_844\n",
      "D:\\OneDrive - Habib University\\acedemics\\semester5\\DL\\project\\project_files\\dataset\\Theory of Automata in Urdu\\lec_01_segmented_frames\\seg_845\n",
      "D:\\OneDrive - Habib University\\acedemics\\semester5\\DL\\project\\project_files\\dataset\\Theory of Automata in Urdu\\lec_01_segmented_frames\\seg_846\n",
      "D:\\OneDrive - Habib University\\acedemics\\semester5\\DL\\project\\project_files\\dataset\\Theory of Automata in Urdu\\lec_01_segmented_frames\\seg_847\n",
      "D:\\OneDrive - Habib University\\acedemics\\semester5\\DL\\project\\project_files\\dataset\\Theory of Automata in Urdu\\lec_01_segmented_frames\\seg_848\n",
      "D:\\OneDrive - Habib University\\acedemics\\semester5\\DL\\project\\project_files\\dataset\\Theory of Automata in Urdu\\lec_01_segmented_frames\\seg_849\n",
      "D:\\OneDrive - Habib University\\acedemics\\semester5\\DL\\project\\project_files\\dataset\\Theory of Automata in Urdu\\lec_01_segmented_frames\\seg_850\n",
      "D:\\OneDrive - Habib University\\acedemics\\semester5\\DL\\project\\project_files\\dataset\\Theory of Automata in Urdu\\lec_01_segmented_frames\\seg_851\n",
      "D:\\OneDrive - Habib University\\acedemics\\semester5\\DL\\project\\project_files\\dataset\\Theory of Automata in Urdu\\lec_01_segmented_frames\\seg_852\n",
      "D:\\OneDrive - Habib University\\acedemics\\semester5\\DL\\project\\project_files\\dataset\\Theory of Automata in Urdu\\lec_01_segmented_frames\\seg_853\n",
      "D:\\OneDrive - Habib University\\acedemics\\semester5\\DL\\project\\project_files\\dataset\\Theory of Automata in Urdu\\lec_01_segmented_frames\\seg_854\n",
      "D:\\OneDrive - Habib University\\acedemics\\semester5\\DL\\project\\project_files\\dataset\\Theory of Automata in Urdu\\lec_01_segmented_frames\\seg_855\n",
      "D:\\OneDrive - Habib University\\acedemics\\semester5\\DL\\project\\project_files\\dataset\\Theory of Automata in Urdu\\lec_01_segmented_frames\\seg_856\n",
      "D:\\OneDrive - Habib University\\acedemics\\semester5\\DL\\project\\project_files\\dataset\\Theory of Automata in Urdu\\lec_01_segmented_frames\\seg_857\n",
      "D:\\OneDrive - Habib University\\acedemics\\semester5\\DL\\project\\project_files\\dataset\\Theory of Automata in Urdu\\lec_01_segmented_frames\\seg_858\n",
      "D:\\OneDrive - Habib University\\acedemics\\semester5\\DL\\project\\project_files\\dataset\\Theory of Automata in Urdu\\lec_01_segmented_frames\\seg_859\n",
      "D:\\OneDrive - Habib University\\acedemics\\semester5\\DL\\project\\project_files\\dataset\\Theory of Automata in Urdu\\lec_01_segmented_frames\\seg_860\n",
      "D:\\OneDrive - Habib University\\acedemics\\semester5\\DL\\project\\project_files\\dataset\\Theory of Automata in Urdu\\lec_01_segmented_frames\\seg_861\n",
      "D:\\OneDrive - Habib University\\acedemics\\semester5\\DL\\project\\project_files\\dataset\\Theory of Automata in Urdu\\lec_01_segmented_frames\\seg_862\n",
      "D:\\OneDrive - Habib University\\acedemics\\semester5\\DL\\project\\project_files\\dataset\\Theory of Automata in Urdu\\lec_01_segmented_frames\\seg_863\n",
      "D:\\OneDrive - Habib University\\acedemics\\semester5\\DL\\project\\project_files\\dataset\\Theory of Automata in Urdu\\lec_01_segmented_frames\\seg_864\n",
      "D:\\OneDrive - Habib University\\acedemics\\semester5\\DL\\project\\project_files\\dataset\\Theory of Automata in Urdu\\lec_01_segmented_frames\\seg_865\n",
      "D:\\OneDrive - Habib University\\acedemics\\semester5\\DL\\project\\project_files\\dataset\\Theory of Automata in Urdu\\lec_01_segmented_frames\\seg_866\n",
      "D:\\OneDrive - Habib University\\acedemics\\semester5\\DL\\project\\project_files\\dataset\\Theory of Automata in Urdu\\lec_01_segmented_frames\\seg_867\n",
      "D:\\OneDrive - Habib University\\acedemics\\semester5\\DL\\project\\project_files\\dataset\\Theory of Automata in Urdu\\lec_01_segmented_frames\\seg_868\n",
      "D:\\OneDrive - Habib University\\acedemics\\semester5\\DL\\project\\project_files\\dataset\\Theory of Automata in Urdu\\lec_01_segmented_frames\\seg_869\n",
      "D:\\OneDrive - Habib University\\acedemics\\semester5\\DL\\project\\project_files\\dataset\\Theory of Automata in Urdu\\lec_01_segmented_frames\\seg_870\n",
      "D:\\OneDrive - Habib University\\acedemics\\semester5\\DL\\project\\project_files\\dataset\\Theory of Automata in Urdu\\lec_01_segmented_frames\\seg_871\n",
      "D:\\OneDrive - Habib University\\acedemics\\semester5\\DL\\project\\project_files\\dataset\\Theory of Automata in Urdu\\lec_01_segmented_frames\\seg_872\n",
      "D:\\OneDrive - Habib University\\acedemics\\semester5\\DL\\project\\project_files\\dataset\\Theory of Automata in Urdu\\lec_01_segmented_frames\\seg_873\n",
      "D:\\OneDrive - Habib University\\acedemics\\semester5\\DL\\project\\project_files\\dataset\\Theory of Automata in Urdu\\lec_01_segmented_frames\\seg_874\n",
      "D:\\OneDrive - Habib University\\acedemics\\semester5\\DL\\project\\project_files\\dataset\\Theory of Automata in Urdu\\lec_01_segmented_frames\\seg_875\n",
      "D:\\OneDrive - Habib University\\acedemics\\semester5\\DL\\project\\project_files\\dataset\\Theory of Automata in Urdu\\lec_01_segmented_frames\\seg_876\n",
      "D:\\OneDrive - Habib University\\acedemics\\semester5\\DL\\project\\project_files\\dataset\\Theory of Automata in Urdu\\lec_01_segmented_frames\\seg_877\n",
      "D:\\OneDrive - Habib University\\acedemics\\semester5\\DL\\project\\project_files\\dataset\\Theory of Automata in Urdu\\lec_01_segmented_frames\\seg_878\n",
      "D:\\OneDrive - Habib University\\acedemics\\semester5\\DL\\project\\project_files\\dataset\\Theory of Automata in Urdu\\lec_01_segmented_frames\\seg_879\n",
      "D:\\OneDrive - Habib University\\acedemics\\semester5\\DL\\project\\project_files\\dataset\\Theory of Automata in Urdu\\lec_01_segmented_frames\\seg_880\n",
      "D:\\OneDrive - Habib University\\acedemics\\semester5\\DL\\project\\project_files\\dataset\\Theory of Automata in Urdu\\lec_01_segmented_frames\\seg_881\n",
      "D:\\OneDrive - Habib University\\acedemics\\semester5\\DL\\project\\project_files\\dataset\\Theory of Automata in Urdu\\lec_01_segmented_frames\\seg_882\n",
      "D:\\OneDrive - Habib University\\acedemics\\semester5\\DL\\project\\project_files\\dataset\\Theory of Automata in Urdu\\lec_01_segmented_frames\\seg_883\n",
      "D:\\OneDrive - Habib University\\acedemics\\semester5\\DL\\project\\project_files\\dataset\\Theory of Automata in Urdu\\lec_01_segmented_frames\\seg_884\n",
      "D:\\OneDrive - Habib University\\acedemics\\semester5\\DL\\project\\project_files\\dataset\\Theory of Automata in Urdu\\lec_01_segmented_frames\\seg_885\n",
      "D:\\OneDrive - Habib University\\acedemics\\semester5\\DL\\project\\project_files\\dataset\\Theory of Automata in Urdu\\lec_01_segmented_frames\\seg_886\n",
      "D:\\OneDrive - Habib University\\acedemics\\semester5\\DL\\project\\project_files\\dataset\\Theory of Automata in Urdu\\lec_01_segmented_frames\\seg_887\n",
      "D:\\OneDrive - Habib University\\acedemics\\semester5\\DL\\project\\project_files\\dataset\\Theory of Automata in Urdu\\lec_01_segmented_frames\\seg_888\n",
      "D:\\OneDrive - Habib University\\acedemics\\semester5\\DL\\project\\project_files\\dataset\\Theory of Automata in Urdu\\lec_01_segmented_frames\\seg_889\n",
      "D:\\OneDrive - Habib University\\acedemics\\semester5\\DL\\project\\project_files\\dataset\\Theory of Automata in Urdu\\lec_01_segmented_frames\\seg_890\n",
      "D:\\OneDrive - Habib University\\acedemics\\semester5\\DL\\project\\project_files\\dataset\\Theory of Automata in Urdu\\lec_01_segmented_frames\\seg_891\n",
      "D:\\OneDrive - Habib University\\acedemics\\semester5\\DL\\project\\project_files\\dataset\\Theory of Automata in Urdu\\lec_01_segmented_frames\\seg_892\n",
      "D:\\OneDrive - Habib University\\acedemics\\semester5\\DL\\project\\project_files\\dataset\\Theory of Automata in Urdu\\lec_01_segmented_frames\\seg_893\n",
      "D:\\OneDrive - Habib University\\acedemics\\semester5\\DL\\project\\project_files\\dataset\\Theory of Automata in Urdu\\lec_01_segmented_frames\\seg_894\n",
      "D:\\OneDrive - Habib University\\acedemics\\semester5\\DL\\project\\project_files\\dataset\\Theory of Automata in Urdu\\lec_01_segmented_frames\\seg_895\n",
      "D:\\OneDrive - Habib University\\acedemics\\semester5\\DL\\project\\project_files\\dataset\\Theory of Automata in Urdu\\lec_01_segmented_frames\\seg_896\n",
      "D:\\OneDrive - Habib University\\acedemics\\semester5\\DL\\project\\project_files\\dataset\\Theory of Automata in Urdu\\lec_01_segmented_frames\\seg_897\n",
      "D:\\OneDrive - Habib University\\acedemics\\semester5\\DL\\project\\project_files\\dataset\\Theory of Automata in Urdu\\lec_01_segmented_frames\\seg_898\n",
      "D:\\OneDrive - Habib University\\acedemics\\semester5\\DL\\project\\project_files\\dataset\\Theory of Automata in Urdu\\lec_01_segmented_frames\\seg_899\n",
      "D:\\OneDrive - Habib University\\acedemics\\semester5\\DL\\project\\project_files\\dataset\\Theory of Automata in Urdu\\lec_01_segmented_frames\\seg_900\n",
      "D:\\OneDrive - Habib University\\acedemics\\semester5\\DL\\project\\project_files\\dataset\\Theory of Automata in Urdu\\lec_01_segmented_frames\\seg_901\n",
      "D:\\OneDrive - Habib University\\acedemics\\semester5\\DL\\project\\project_files\\dataset\\Theory of Automata in Urdu\\lec_01_segmented_frames\\seg_902\n",
      "D:\\OneDrive - Habib University\\acedemics\\semester5\\DL\\project\\project_files\\dataset\\Theory of Automata in Urdu\\lec_01_segmented_frames\\seg_903\n",
      "D:\\OneDrive - Habib University\\acedemics\\semester5\\DL\\project\\project_files\\dataset\\Theory of Automata in Urdu\\lec_01_segmented_frames\\seg_904\n",
      "D:\\OneDrive - Habib University\\acedemics\\semester5\\DL\\project\\project_files\\dataset\\Theory of Automata in Urdu\\lec_01_segmented_frames\\seg_905\n",
      "D:\\OneDrive - Habib University\\acedemics\\semester5\\DL\\project\\project_files\\dataset\\Theory of Automata in Urdu\\lec_01_segmented_frames\\seg_906\n",
      "D:\\OneDrive - Habib University\\acedemics\\semester5\\DL\\project\\project_files\\dataset\\Theory of Automata in Urdu\\lec_01_segmented_frames\\seg_907\n",
      "D:\\OneDrive - Habib University\\acedemics\\semester5\\DL\\project\\project_files\\dataset\\Theory of Automata in Urdu\\lec_01_segmented_frames\\seg_908\n",
      "D:\\OneDrive - Habib University\\acedemics\\semester5\\DL\\project\\project_files\\dataset\\Theory of Automata in Urdu\\lec_01_segmented_frames\\seg_909\n",
      "D:\\OneDrive - Habib University\\acedemics\\semester5\\DL\\project\\project_files\\dataset\\Theory of Automata in Urdu\\lec_01_segmented_frames\\seg_910\n",
      "D:\\OneDrive - Habib University\\acedemics\\semester5\\DL\\project\\project_files\\dataset\\Theory of Automata in Urdu\\lec_01_segmented_frames\\seg_911\n",
      "D:\\OneDrive - Habib University\\acedemics\\semester5\\DL\\project\\project_files\\dataset\\Theory of Automata in Urdu\\lec_01_segmented_frames\\seg_912\n",
      "D:\\OneDrive - Habib University\\acedemics\\semester5\\DL\\project\\project_files\\dataset\\Theory of Automata in Urdu\\lec_01_segmented_frames\\seg_913\n",
      "D:\\OneDrive - Habib University\\acedemics\\semester5\\DL\\project\\project_files\\dataset\\Theory of Automata in Urdu\\lec_01_segmented_frames\\seg_914\n",
      "D:\\OneDrive - Habib University\\acedemics\\semester5\\DL\\project\\project_files\\dataset\\Theory of Automata in Urdu\\lec_01_segmented_frames\\seg_915\n",
      "D:\\OneDrive - Habib University\\acedemics\\semester5\\DL\\project\\project_files\\dataset\\Theory of Automata in Urdu\\lec_01_segmented_frames\\seg_916\n",
      "D:\\OneDrive - Habib University\\acedemics\\semester5\\DL\\project\\project_files\\dataset\\Theory of Automata in Urdu\\lec_01_segmented_frames\\seg_917\n",
      "D:\\OneDrive - Habib University\\acedemics\\semester5\\DL\\project\\project_files\\dataset\\Theory of Automata in Urdu\\lec_01_segmented_frames\\seg_918\n",
      "D:\\OneDrive - Habib University\\acedemics\\semester5\\DL\\project\\project_files\\dataset\\Theory of Automata in Urdu\\lec_01_segmented_frames\\seg_919\n",
      "D:\\OneDrive - Habib University\\acedemics\\semester5\\DL\\project\\project_files\\dataset\\Theory of Automata in Urdu\\lec_01_segmented_frames\\seg_920\n",
      "D:\\OneDrive - Habib University\\acedemics\\semester5\\DL\\project\\project_files\\dataset\\Theory of Automata in Urdu\\lec_01_segmented_frames\\seg_921\n",
      "D:\\OneDrive - Habib University\\acedemics\\semester5\\DL\\project\\project_files\\dataset\\Theory of Automata in Urdu\\lec_01_segmented_frames\\seg_922\n",
      "D:\\OneDrive - Habib University\\acedemics\\semester5\\DL\\project\\project_files\\dataset\\Theory of Automata in Urdu\\lec_01_segmented_frames\\seg_923\n",
      "D:\\OneDrive - Habib University\\acedemics\\semester5\\DL\\project\\project_files\\dataset\\Theory of Automata in Urdu\\lec_01_segmented_frames\\seg_924\n",
      "D:\\OneDrive - Habib University\\acedemics\\semester5\\DL\\project\\project_files\\dataset\\Theory of Automata in Urdu\\lec_01_segmented_frames\\seg_925\n",
      "D:\\OneDrive - Habib University\\acedemics\\semester5\\DL\\project\\project_files\\dataset\\Theory of Automata in Urdu\\lec_01_segmented_frames\\seg_926\n",
      "D:\\OneDrive - Habib University\\acedemics\\semester5\\DL\\project\\project_files\\dataset\\Theory of Automata in Urdu\\lec_01_segmented_frames\\seg_927\n",
      "D:\\OneDrive - Habib University\\acedemics\\semester5\\DL\\project\\project_files\\dataset\\Theory of Automata in Urdu\\lec_01_segmented_frames\\seg_928\n",
      "D:\\OneDrive - Habib University\\acedemics\\semester5\\DL\\project\\project_files\\dataset\\Theory of Automata in Urdu\\lec_01_segmented_frames\\seg_929\n",
      "D:\\OneDrive - Habib University\\acedemics\\semester5\\DL\\project\\project_files\\dataset\\Theory of Automata in Urdu\\lec_01_segmented_frames\\seg_930\n",
      "D:\\OneDrive - Habib University\\acedemics\\semester5\\DL\\project\\project_files\\dataset\\Theory of Automata in Urdu\\lec_01_segmented_frames\\seg_931\n",
      "D:\\OneDrive - Habib University\\acedemics\\semester5\\DL\\project\\project_files\\dataset\\Theory of Automata in Urdu\\lec_01_segmented_frames\\seg_932\n",
      "D:\\OneDrive - Habib University\\acedemics\\semester5\\DL\\project\\project_files\\dataset\\Theory of Automata in Urdu\\lec_01_segmented_frames\\seg_933\n",
      "D:\\OneDrive - Habib University\\acedemics\\semester5\\DL\\project\\project_files\\dataset\\Theory of Automata in Urdu\\lec_01_segmented_frames\\seg_934\n",
      "D:\\OneDrive - Habib University\\acedemics\\semester5\\DL\\project\\project_files\\dataset\\Theory of Automata in Urdu\\lec_01_segmented_frames\\seg_935\n",
      "D:\\OneDrive - Habib University\\acedemics\\semester5\\DL\\project\\project_files\\dataset\\Theory of Automata in Urdu\\lec_01_segmented_frames\\seg_936\n",
      "D:\\OneDrive - Habib University\\acedemics\\semester5\\DL\\project\\project_files\\dataset\\Theory of Automata in Urdu\\lec_01_segmented_frames\\seg_937\n",
      "D:\\OneDrive - Habib University\\acedemics\\semester5\\DL\\project\\project_files\\dataset\\Theory of Automata in Urdu\\lec_01_segmented_frames\\seg_938\n",
      "D:\\OneDrive - Habib University\\acedemics\\semester5\\DL\\project\\project_files\\dataset\\Theory of Automata in Urdu\\lec_01_segmented_frames\\seg_939\n",
      "D:\\OneDrive - Habib University\\acedemics\\semester5\\DL\\project\\project_files\\dataset\\Theory of Automata in Urdu\\lec_01_segmented_frames\\seg_940\n",
      "D:\\OneDrive - Habib University\\acedemics\\semester5\\DL\\project\\project_files\\dataset\\Theory of Automata in Urdu\\lec_01_segmented_frames\\seg_941\n",
      "D:\\OneDrive - Habib University\\acedemics\\semester5\\DL\\project\\project_files\\dataset\\Theory of Automata in Urdu\\lec_01_segmented_frames\\seg_942\n",
      "D:\\OneDrive - Habib University\\acedemics\\semester5\\DL\\project\\project_files\\dataset\\Theory of Automata in Urdu\\lec_01_segmented_frames\\seg_943\n",
      "D:\\OneDrive - Habib University\\acedemics\\semester5\\DL\\project\\project_files\\dataset\\Theory of Automata in Urdu\\lec_01_segmented_frames\\seg_944\n",
      "D:\\OneDrive - Habib University\\acedemics\\semester5\\DL\\project\\project_files\\dataset\\Theory of Automata in Urdu\\lec_01_segmented_frames\\seg_945\n",
      "D:\\OneDrive - Habib University\\acedemics\\semester5\\DL\\project\\project_files\\dataset\\Theory of Automata in Urdu\\lec_01_segmented_frames\\seg_946\n",
      "D:\\OneDrive - Habib University\\acedemics\\semester5\\DL\\project\\project_files\\dataset\\Theory of Automata in Urdu\\lec_01_segmented_frames\\seg_947\n",
      "D:\\OneDrive - Habib University\\acedemics\\semester5\\DL\\project\\project_files\\dataset\\Theory of Automata in Urdu\\lec_01_segmented_frames\\seg_948\n",
      "D:\\OneDrive - Habib University\\acedemics\\semester5\\DL\\project\\project_files\\dataset\\Theory of Automata in Urdu\\lec_01_segmented_frames\\seg_949\n",
      "D:\\OneDrive - Habib University\\acedemics\\semester5\\DL\\project\\project_files\\dataset\\Theory of Automata in Urdu\\lec_01_segmented_frames\\seg_950\n",
      "D:\\OneDrive - Habib University\\acedemics\\semester5\\DL\\project\\project_files\\dataset\\Theory of Automata in Urdu\\lec_01_segmented_frames\\seg_951\n",
      "D:\\OneDrive - Habib University\\acedemics\\semester5\\DL\\project\\project_files\\dataset\\Theory of Automata in Urdu\\lec_01_segmented_frames\\seg_952\n",
      "D:\\OneDrive - Habib University\\acedemics\\semester5\\DL\\project\\project_files\\dataset\\Theory of Automata in Urdu\\lec_01_segmented_frames\\seg_953\n",
      "D:\\OneDrive - Habib University\\acedemics\\semester5\\DL\\project\\project_files\\dataset\\Theory of Automata in Urdu\\lec_01_segmented_frames\\seg_954\n",
      "D:\\OneDrive - Habib University\\acedemics\\semester5\\DL\\project\\project_files\\dataset\\Theory of Automata in Urdu\\lec_01_segmented_frames\\seg_955\n",
      "D:\\OneDrive - Habib University\\acedemics\\semester5\\DL\\project\\project_files\\dataset\\Theory of Automata in Urdu\\lec_01_segmented_frames\\seg_956\n",
      "D:\\OneDrive - Habib University\\acedemics\\semester5\\DL\\project\\project_files\\dataset\\Theory of Automata in Urdu\\lec_01_segmented_frames\\seg_957\n",
      "D:\\OneDrive - Habib University\\acedemics\\semester5\\DL\\project\\project_files\\dataset\\Theory of Automata in Urdu\\lec_01_segmented_frames\\seg_958\n",
      "D:\\OneDrive - Habib University\\acedemics\\semester5\\DL\\project\\project_files\\dataset\\Theory of Automata in Urdu\\lec_01_segmented_frames\\seg_959\n",
      "D:\\OneDrive - Habib University\\acedemics\\semester5\\DL\\project\\project_files\\dataset\\Theory of Automata in Urdu\\lec_01_segmented_frames\\seg_960\n",
      "D:\\OneDrive - Habib University\\acedemics\\semester5\\DL\\project\\project_files\\dataset\\Theory of Automata in Urdu\\lec_01_segmented_frames\\seg_961\n",
      "D:\\OneDrive - Habib University\\acedemics\\semester5\\DL\\project\\project_files\\dataset\\Theory of Automata in Urdu\\lec_01_segmented_frames\\seg_962\n",
      "D:\\OneDrive - Habib University\\acedemics\\semester5\\DL\\project\\project_files\\dataset\\Theory of Automata in Urdu\\lec_01_segmented_frames\\seg_963\n",
      "D:\\OneDrive - Habib University\\acedemics\\semester5\\DL\\project\\project_files\\dataset\\Theory of Automata in Urdu\\lec_01_segmented_frames\\seg_964\n",
      "D:\\OneDrive - Habib University\\acedemics\\semester5\\DL\\project\\project_files\\dataset\\Theory of Automata in Urdu\\lec_01_segmented_frames\\seg_965\n",
      "D:\\OneDrive - Habib University\\acedemics\\semester5\\DL\\project\\project_files\\dataset\\Theory of Automata in Urdu\\lec_01_segmented_frames\\seg_966\n",
      "D:\\OneDrive - Habib University\\acedemics\\semester5\\DL\\project\\project_files\\dataset\\Theory of Automata in Urdu\\lec_01_segmented_frames\\seg_967\n",
      "D:\\OneDrive - Habib University\\acedemics\\semester5\\DL\\project\\project_files\\dataset\\Theory of Automata in Urdu\\lec_01_segmented_frames\\seg_968\n",
      "D:\\OneDrive - Habib University\\acedemics\\semester5\\DL\\project\\project_files\\dataset\\Theory of Automata in Urdu\\lec_01_segmented_frames\\seg_969\n",
      "D:\\OneDrive - Habib University\\acedemics\\semester5\\DL\\project\\project_files\\dataset\\Theory of Automata in Urdu\\lec_01_segmented_frames\\seg_970\n",
      "D:\\OneDrive - Habib University\\acedemics\\semester5\\DL\\project\\project_files\\dataset\\Theory of Automata in Urdu\\lec_01_segmented_frames\\seg_971\n",
      "D:\\OneDrive - Habib University\\acedemics\\semester5\\DL\\project\\project_files\\dataset\\Theory of Automata in Urdu\\lec_01_segmented_frames\\seg_972\n",
      "D:\\OneDrive - Habib University\\acedemics\\semester5\\DL\\project\\project_files\\dataset\\Theory of Automata in Urdu\\lec_01_segmented_frames\\seg_973\n",
      "D:\\OneDrive - Habib University\\acedemics\\semester5\\DL\\project\\project_files\\dataset\\Theory of Automata in Urdu\\lec_01_segmented_frames\\seg_974\n",
      "D:\\OneDrive - Habib University\\acedemics\\semester5\\DL\\project\\project_files\\dataset\\Theory of Automata in Urdu\\lec_01_segmented_frames\\seg_975\n",
      "D:\\OneDrive - Habib University\\acedemics\\semester5\\DL\\project\\project_files\\dataset\\Theory of Automata in Urdu\\lec_01_segmented_frames\\seg_976\n",
      "D:\\OneDrive - Habib University\\acedemics\\semester5\\DL\\project\\project_files\\dataset\\Theory of Automata in Urdu\\lec_01_segmented_frames\\seg_977\n",
      "D:\\OneDrive - Habib University\\acedemics\\semester5\\DL\\project\\project_files\\dataset\\Theory of Automata in Urdu\\lec_01_segmented_frames\\seg_978\n",
      "D:\\OneDrive - Habib University\\acedemics\\semester5\\DL\\project\\project_files\\dataset\\Theory of Automata in Urdu\\lec_01_segmented_frames\\seg_979\n",
      "D:\\OneDrive - Habib University\\acedemics\\semester5\\DL\\project\\project_files\\dataset\\Theory of Automata in Urdu\\lec_01_segmented_frames\\seg_980\n",
      "D:\\OneDrive - Habib University\\acedemics\\semester5\\DL\\project\\project_files\\dataset\\Theory of Automata in Urdu\\lec_01_segmented_frames\\seg_981\n",
      "D:\\OneDrive - Habib University\\acedemics\\semester5\\DL\\project\\project_files\\dataset\\Theory of Automata in Urdu\\lec_01_segmented_frames\\seg_982\n",
      "D:\\OneDrive - Habib University\\acedemics\\semester5\\DL\\project\\project_files\\dataset\\Theory of Automata in Urdu\\lec_01_segmented_frames\\seg_983\n",
      "D:\\OneDrive - Habib University\\acedemics\\semester5\\DL\\project\\project_files\\dataset\\Theory of Automata in Urdu\\lec_01_segmented_frames\\seg_984\n",
      "D:\\OneDrive - Habib University\\acedemics\\semester5\\DL\\project\\project_files\\dataset\\Theory of Automata in Urdu\\lec_01_segmented_frames\\seg_985\n",
      "D:\\OneDrive - Habib University\\acedemics\\semester5\\DL\\project\\project_files\\dataset\\Theory of Automata in Urdu\\lec_01_segmented_frames\\seg_986\n",
      "D:\\OneDrive - Habib University\\acedemics\\semester5\\DL\\project\\project_files\\dataset\\Theory of Automata in Urdu\\lec_01_segmented_frames\\seg_987\n",
      "D:\\OneDrive - Habib University\\acedemics\\semester5\\DL\\project\\project_files\\dataset\\Theory of Automata in Urdu\\lec_01_segmented_frames\\seg_988\n",
      "D:\\OneDrive - Habib University\\acedemics\\semester5\\DL\\project\\project_files\\dataset\\Theory of Automata in Urdu\\lec_01_segmented_frames\\seg_989\n",
      "D:\\OneDrive - Habib University\\acedemics\\semester5\\DL\\project\\project_files\\dataset\\Theory of Automata in Urdu\\lec_01_segmented_frames\\seg_990\n",
      "D:\\OneDrive - Habib University\\acedemics\\semester5\\DL\\project\\project_files\\dataset\\Theory of Automata in Urdu\\lec_01_segmented_frames\\seg_991\n",
      "D:\\OneDrive - Habib University\\acedemics\\semester5\\DL\\project\\project_files\\dataset\\Theory of Automata in Urdu\\lec_01_segmented_frames\\seg_992\n",
      "D:\\OneDrive - Habib University\\acedemics\\semester5\\DL\\project\\project_files\\dataset\\Theory of Automata in Urdu\\lec_01_segmented_frames\\seg_993\n",
      "D:\\OneDrive - Habib University\\acedemics\\semester5\\DL\\project\\project_files\\dataset\\Theory of Automata in Urdu\\lec_01_segmented_frames\\seg_994\n",
      "D:\\OneDrive - Habib University\\acedemics\\semester5\\DL\\project\\project_files\\dataset\\Theory of Automata in Urdu\\lec_01_segmented_frames\\seg_995\n",
      "D:\\OneDrive - Habib University\\acedemics\\semester5\\DL\\project\\project_files\\dataset\\Theory of Automata in Urdu\\lec_01_segmented_frames\\seg_996\n",
      "D:\\OneDrive - Habib University\\acedemics\\semester5\\DL\\project\\project_files\\dataset\\Theory of Automata in Urdu\\lec_01_segmented_frames\\seg_997\n",
      "D:\\OneDrive - Habib University\\acedemics\\semester5\\DL\\project\\project_files\\dataset\\Theory of Automata in Urdu\\lec_01_segmented_frames\\seg_998\n",
      "D:\\OneDrive - Habib University\\acedemics\\semester5\\DL\\project\\project_files\\dataset\\Theory of Automata in Urdu\\lec_01_segmented_frames\\seg_999\n",
      "D:\\OneDrive - Habib University\\acedemics\\semester5\\DL\\project\\project_files\\dataset\\Theory of Automata in Urdu\\lec_01_segmented_frames\\seg_1000\n",
      "D:\\OneDrive - Habib University\\acedemics\\semester5\\DL\\project\\project_files\\dataset\\Theory of Automata in Urdu\\lec_01_segmented_frames\\seg_1001\n",
      "D:\\OneDrive - Habib University\\acedemics\\semester5\\DL\\project\\project_files\\dataset\\Theory of Automata in Urdu\\lec_01_segmented_frames\\seg_1002\n",
      "D:\\OneDrive - Habib University\\acedemics\\semester5\\DL\\project\\project_files\\dataset\\Theory of Automata in Urdu\\lec_01_segmented_frames\\seg_1003\n",
      "D:\\OneDrive - Habib University\\acedemics\\semester5\\DL\\project\\project_files\\dataset\\Theory of Automata in Urdu\\lec_01_segmented_frames\\seg_1004\n",
      "D:\\OneDrive - Habib University\\acedemics\\semester5\\DL\\project\\project_files\\dataset\\Theory of Automata in Urdu\\lec_01_segmented_frames\\seg_1005\n",
      "D:\\OneDrive - Habib University\\acedemics\\semester5\\DL\\project\\project_files\\dataset\\Theory of Automata in Urdu\\lec_01_segmented_frames\\seg_1006\n",
      "D:\\OneDrive - Habib University\\acedemics\\semester5\\DL\\project\\project_files\\dataset\\Theory of Automata in Urdu\\lec_01_segmented_frames\\seg_1007\n",
      "D:\\OneDrive - Habib University\\acedemics\\semester5\\DL\\project\\project_files\\dataset\\Theory of Automata in Urdu\\lec_01_segmented_frames\\seg_1008\n",
      "D:\\OneDrive - Habib University\\acedemics\\semester5\\DL\\project\\project_files\\dataset\\Theory of Automata in Urdu\\lec_01_segmented_frames\\seg_1009\n",
      "D:\\OneDrive - Habib University\\acedemics\\semester5\\DL\\project\\project_files\\dataset\\Theory of Automata in Urdu\\lec_01_segmented_frames\\seg_1010\n",
      "D:\\OneDrive - Habib University\\acedemics\\semester5\\DL\\project\\project_files\\dataset\\Theory of Automata in Urdu\\lec_01_segmented_frames\\seg_1011\n",
      "D:\\OneDrive - Habib University\\acedemics\\semester5\\DL\\project\\project_files\\dataset\\Theory of Automata in Urdu\\lec_01_segmented_frames\\seg_1012\n",
      "D:\\OneDrive - Habib University\\acedemics\\semester5\\DL\\project\\project_files\\dataset\\Theory of Automata in Urdu\\lec_01_segmented_frames\\seg_1013\n",
      "D:\\OneDrive - Habib University\\acedemics\\semester5\\DL\\project\\project_files\\dataset\\Theory of Automata in Urdu\\lec_01_segmented_frames\\seg_1014\n",
      "D:\\OneDrive - Habib University\\acedemics\\semester5\\DL\\project\\project_files\\dataset\\Theory of Automata in Urdu\\lec_01_segmented_frames\\seg_1015\n",
      "D:\\OneDrive - Habib University\\acedemics\\semester5\\DL\\project\\project_files\\dataset\\Theory of Automata in Urdu\\lec_01_segmented_frames\\seg_1016\n",
      "D:\\OneDrive - Habib University\\acedemics\\semester5\\DL\\project\\project_files\\dataset\\Theory of Automata in Urdu\\lec_01_segmented_frames\\seg_1017\n",
      "D:\\OneDrive - Habib University\\acedemics\\semester5\\DL\\project\\project_files\\dataset\\Theory of Automata in Urdu\\lec_01_segmented_frames\\seg_1018\n",
      "D:\\OneDrive - Habib University\\acedemics\\semester5\\DL\\project\\project_files\\dataset\\Theory of Automata in Urdu\\lec_01_segmented_frames\\seg_1019\n",
      "D:\\OneDrive - Habib University\\acedemics\\semester5\\DL\\project\\project_files\\dataset\\Theory of Automata in Urdu\\lec_01_segmented_frames\\seg_1020\n",
      "D:\\OneDrive - Habib University\\acedemics\\semester5\\DL\\project\\project_files\\dataset\\Theory of Automata in Urdu\\lec_01_segmented_frames\\seg_1021\n",
      "D:\\OneDrive - Habib University\\acedemics\\semester5\\DL\\project\\project_files\\dataset\\Theory of Automata in Urdu\\lec_01_segmented_frames\\seg_1022\n",
      "D:\\OneDrive - Habib University\\acedemics\\semester5\\DL\\project\\project_files\\dataset\\Theory of Automata in Urdu\\lec_01_segmented_frames\\seg_1023\n",
      "D:\\OneDrive - Habib University\\acedemics\\semester5\\DL\\project\\project_files\\dataset\\Theory of Automata in Urdu\\lec_01_segmented_frames\\seg_1024\n",
      "D:\\OneDrive - Habib University\\acedemics\\semester5\\DL\\project\\project_files\\dataset\\Theory of Automata in Urdu\\lec_01_segmented_frames\\seg_1025\n",
      "D:\\OneDrive - Habib University\\acedemics\\semester5\\DL\\project\\project_files\\dataset\\Theory of Automata in Urdu\\lec_01_segmented_frames\\seg_1026\n",
      "D:\\OneDrive - Habib University\\acedemics\\semester5\\DL\\project\\project_files\\dataset\\Theory of Automata in Urdu\\lec_01_segmented_frames\\seg_1027\n",
      "D:\\OneDrive - Habib University\\acedemics\\semester5\\DL\\project\\project_files\\dataset\\Theory of Automata in Urdu\\lec_01_segmented_frames\\seg_1028\n",
      "D:\\OneDrive - Habib University\\acedemics\\semester5\\DL\\project\\project_files\\dataset\\Theory of Automata in Urdu\\lec_01_segmented_frames\\seg_1029\n",
      "D:\\OneDrive - Habib University\\acedemics\\semester5\\DL\\project\\project_files\\dataset\\Theory of Automata in Urdu\\lec_01_segmented_frames\\seg_1030\n",
      "D:\\OneDrive - Habib University\\acedemics\\semester5\\DL\\project\\project_files\\dataset\\Theory of Automata in Urdu\\lec_01_segmented_frames\\seg_1031\n",
      "D:\\OneDrive - Habib University\\acedemics\\semester5\\DL\\project\\project_files\\dataset\\Theory of Automata in Urdu\\lec_01_segmented_frames\\seg_1032\n",
      "D:\\OneDrive - Habib University\\acedemics\\semester5\\DL\\project\\project_files\\dataset\\Theory of Automata in Urdu\\lec_01_segmented_frames\\seg_1033\n",
      "D:\\OneDrive - Habib University\\acedemics\\semester5\\DL\\project\\project_files\\dataset\\Theory of Automata in Urdu\\lec_01_segmented_frames\\seg_1034\n",
      "D:\\OneDrive - Habib University\\acedemics\\semester5\\DL\\project\\project_files\\dataset\\Theory of Automata in Urdu\\lec_01_segmented_frames\\seg_1035\n",
      "D:\\OneDrive - Habib University\\acedemics\\semester5\\DL\\project\\project_files\\dataset\\Theory of Automata in Urdu\\lec_01_segmented_frames\\seg_1036\n",
      "D:\\OneDrive - Habib University\\acedemics\\semester5\\DL\\project\\project_files\\dataset\\Theory of Automata in Urdu\\lec_01_segmented_frames\\seg_1037\n",
      "D:\\OneDrive - Habib University\\acedemics\\semester5\\DL\\project\\project_files\\dataset\\Theory of Automata in Urdu\\lec_01_segmented_frames\\seg_1038\n",
      "D:\\OneDrive - Habib University\\acedemics\\semester5\\DL\\project\\project_files\\dataset\\Theory of Automata in Urdu\\lec_01_segmented_frames\\seg_1039\n",
      "D:\\OneDrive - Habib University\\acedemics\\semester5\\DL\\project\\project_files\\dataset\\Theory of Automata in Urdu\\lec_01_segmented_frames\\seg_1040\n",
      "D:\\OneDrive - Habib University\\acedemics\\semester5\\DL\\project\\project_files\\dataset\\Theory of Automata in Urdu\\lec_01_segmented_frames\\seg_1041\n",
      "D:\\OneDrive - Habib University\\acedemics\\semester5\\DL\\project\\project_files\\dataset\\Theory of Automata in Urdu\\lec_01_segmented_frames\\seg_1042\n",
      "D:\\OneDrive - Habib University\\acedemics\\semester5\\DL\\project\\project_files\\dataset\\Theory of Automata in Urdu\\lec_01_segmented_frames\\seg_1043\n",
      "D:\\OneDrive - Habib University\\acedemics\\semester5\\DL\\project\\project_files\\dataset\\Theory of Automata in Urdu\\lec_01_segmented_frames\\seg_1044\n",
      "D:\\OneDrive - Habib University\\acedemics\\semester5\\DL\\project\\project_files\\dataset\\Theory of Automata in Urdu\\lec_01_segmented_frames\\seg_1045\n",
      "D:\\OneDrive - Habib University\\acedemics\\semester5\\DL\\project\\project_files\\dataset\\Theory of Automata in Urdu\\lec_01_segmented_frames\\seg_1046\n",
      "D:\\OneDrive - Habib University\\acedemics\\semester5\\DL\\project\\project_files\\dataset\\Theory of Automata in Urdu\\lec_01_segmented_frames\\seg_1047\n",
      "D:\\OneDrive - Habib University\\acedemics\\semester5\\DL\\project\\project_files\\dataset\\Theory of Automata in Urdu\\lec_01_segmented_frames\\seg_1048\n",
      "D:\\OneDrive - Habib University\\acedemics\\semester5\\DL\\project\\project_files\\dataset\\Theory of Automata in Urdu\\lec_01_segmented_frames\\seg_1049\n",
      "D:\\OneDrive - Habib University\\acedemics\\semester5\\DL\\project\\project_files\\dataset\\Theory of Automata in Urdu\\lec_01_segmented_frames\\seg_1050\n",
      "D:\\OneDrive - Habib University\\acedemics\\semester5\\DL\\project\\project_files\\dataset\\Theory of Automata in Urdu\\lec_01_segmented_frames\\seg_1051\n",
      "D:\\OneDrive - Habib University\\acedemics\\semester5\\DL\\project\\project_files\\dataset\\Theory of Automata in Urdu\\lec_01_segmented_frames\\seg_1052\n",
      "D:\\OneDrive - Habib University\\acedemics\\semester5\\DL\\project\\project_files\\dataset\\Theory of Automata in Urdu\\lec_01_segmented_frames\\seg_1053\n",
      "D:\\OneDrive - Habib University\\acedemics\\semester5\\DL\\project\\project_files\\dataset\\Theory of Automata in Urdu\\lec_01_segmented_frames\\seg_1054\n",
      "D:\\OneDrive - Habib University\\acedemics\\semester5\\DL\\project\\project_files\\dataset\\Theory of Automata in Urdu\\lec_01_segmented_frames\\seg_1055\n",
      "D:\\OneDrive - Habib University\\acedemics\\semester5\\DL\\project\\project_files\\dataset\\Theory of Automata in Urdu\\lec_01_segmented_frames\\seg_1056\n",
      "D:\\OneDrive - Habib University\\acedemics\\semester5\\DL\\project\\project_files\\dataset\\Theory of Automata in Urdu\\lec_01_segmented_frames\\seg_1057\n",
      "D:\\OneDrive - Habib University\\acedemics\\semester5\\DL\\project\\project_files\\dataset\\Theory of Automata in Urdu\\lec_01_segmented_frames\\seg_1058\n",
      "D:\\OneDrive - Habib University\\acedemics\\semester5\\DL\\project\\project_files\\dataset\\Theory of Automata in Urdu\\lec_01_segmented_frames\\seg_1059\n",
      "D:\\OneDrive - Habib University\\acedemics\\semester5\\DL\\project\\project_files\\dataset\\Theory of Automata in Urdu\\lec_01_segmented_frames\\seg_1060\n",
      "D:\\OneDrive - Habib University\\acedemics\\semester5\\DL\\project\\project_files\\dataset\\Theory of Automata in Urdu\\lec_01_segmented_frames\\seg_1061\n",
      "D:\\OneDrive - Habib University\\acedemics\\semester5\\DL\\project\\project_files\\dataset\\Theory of Automata in Urdu\\lec_01_segmented_frames\\seg_1062\n",
      "D:\\OneDrive - Habib University\\acedemics\\semester5\\DL\\project\\project_files\\dataset\\Theory of Automata in Urdu\\lec_01_segmented_frames\\seg_1063\n",
      "D:\\OneDrive - Habib University\\acedemics\\semester5\\DL\\project\\project_files\\dataset\\Theory of Automata in Urdu\\lec_01_segmented_frames\\seg_1064\n",
      "D:\\OneDrive - Habib University\\acedemics\\semester5\\DL\\project\\project_files\\dataset\\Theory of Automata in Urdu\\lec_01_segmented_frames\\seg_1065\n",
      "D:\\OneDrive - Habib University\\acedemics\\semester5\\DL\\project\\project_files\\dataset\\Theory of Automata in Urdu\\lec_01_segmented_frames\\seg_1066\n",
      "D:\\OneDrive - Habib University\\acedemics\\semester5\\DL\\project\\project_files\\dataset\\Theory of Automata in Urdu\\lec_01_segmented_frames\\seg_1067\n",
      "D:\\OneDrive - Habib University\\acedemics\\semester5\\DL\\project\\project_files\\dataset\\Theory of Automata in Urdu\\lec_01_segmented_frames\\seg_1068\n",
      "D:\\OneDrive - Habib University\\acedemics\\semester5\\DL\\project\\project_files\\dataset\\Theory of Automata in Urdu\\lec_01_segmented_frames\\seg_1069\n",
      "D:\\OneDrive - Habib University\\acedemics\\semester5\\DL\\project\\project_files\\dataset\\Theory of Automata in Urdu\\lec_01_segmented_frames\\seg_1070\n",
      "D:\\OneDrive - Habib University\\acedemics\\semester5\\DL\\project\\project_files\\dataset\\Theory of Automata in Urdu\\lec_01_segmented_frames\\seg_1071\n",
      "D:\\OneDrive - Habib University\\acedemics\\semester5\\DL\\project\\project_files\\dataset\\Theory of Automata in Urdu\\lec_01_segmented_frames\\seg_1072\n",
      "D:\\OneDrive - Habib University\\acedemics\\semester5\\DL\\project\\project_files\\dataset\\Theory of Automata in Urdu\\lec_01_segmented_frames\\seg_1073\n",
      "D:\\OneDrive - Habib University\\acedemics\\semester5\\DL\\project\\project_files\\dataset\\Theory of Automata in Urdu\\lec_01_segmented_frames\\seg_1074\n",
      "D:\\OneDrive - Habib University\\acedemics\\semester5\\DL\\project\\project_files\\dataset\\Theory of Automata in Urdu\\lec_01_segmented_frames\\seg_1075\n",
      "D:\\OneDrive - Habib University\\acedemics\\semester5\\DL\\project\\project_files\\dataset\\Theory of Automata in Urdu\\lec_01_segmented_frames\\seg_1076\n",
      "D:\\OneDrive - Habib University\\acedemics\\semester5\\DL\\project\\project_files\\dataset\\Theory of Automata in Urdu\\lec_01_segmented_frames\\seg_1077\n",
      "D:\\OneDrive - Habib University\\acedemics\\semester5\\DL\\project\\project_files\\dataset\\Theory of Automata in Urdu\\lec_01_segmented_frames\\seg_1078\n",
      "D:\\OneDrive - Habib University\\acedemics\\semester5\\DL\\project\\project_files\\dataset\\Theory of Automata in Urdu\\lec_01_segmented_frames\\seg_1079\n",
      "D:\\OneDrive - Habib University\\acedemics\\semester5\\DL\\project\\project_files\\dataset\\Theory of Automata in Urdu\\lec_01_segmented_frames\\seg_1080\n",
      "D:\\OneDrive - Habib University\\acedemics\\semester5\\DL\\project\\project_files\\dataset\\Theory of Automata in Urdu\\lec_01_segmented_frames\\seg_1081\n",
      "D:\\OneDrive - Habib University\\acedemics\\semester5\\DL\\project\\project_files\\dataset\\Theory of Automata in Urdu\\lec_01_segmented_frames\\seg_1082\n",
      "D:\\OneDrive - Habib University\\acedemics\\semester5\\DL\\project\\project_files\\dataset\\Theory of Automata in Urdu\\lec_01_segmented_frames\\seg_1083\n",
      "D:\\OneDrive - Habib University\\acedemics\\semester5\\DL\\project\\project_files\\dataset\\Theory of Automata in Urdu\\lec_01_segmented_frames\\seg_1084\n",
      "D:\\OneDrive - Habib University\\acedemics\\semester5\\DL\\project\\project_files\\dataset\\Theory of Automata in Urdu\\lec_01_segmented_frames\\seg_1085\n",
      "D:\\OneDrive - Habib University\\acedemics\\semester5\\DL\\project\\project_files\\dataset\\Theory of Automata in Urdu\\lec_01_segmented_frames\\seg_1086\n",
      "D:\\OneDrive - Habib University\\acedemics\\semester5\\DL\\project\\project_files\\dataset\\Theory of Automata in Urdu\\lec_01_segmented_frames\\seg_1087\n",
      "D:\\OneDrive - Habib University\\acedemics\\semester5\\DL\\project\\project_files\\dataset\\Theory of Automata in Urdu\\lec_01_segmented_frames\\seg_1088\n",
      "D:\\OneDrive - Habib University\\acedemics\\semester5\\DL\\project\\project_files\\dataset\\Theory of Automata in Urdu\\lec_01_segmented_frames\\seg_1089\n",
      "D:\\OneDrive - Habib University\\acedemics\\semester5\\DL\\project\\project_files\\dataset\\Theory of Automata in Urdu\\lec_01_segmented_frames\\seg_1090\n",
      "D:\\OneDrive - Habib University\\acedemics\\semester5\\DL\\project\\project_files\\dataset\\Theory of Automata in Urdu\\lec_01_segmented_frames\\seg_1091\n",
      "D:\\OneDrive - Habib University\\acedemics\\semester5\\DL\\project\\project_files\\dataset\\Theory of Automata in Urdu\\lec_01_segmented_frames\\seg_1092\n",
      "D:\\OneDrive - Habib University\\acedemics\\semester5\\DL\\project\\project_files\\dataset\\Theory of Automata in Urdu\\lec_01_segmented_frames\\seg_1093\n",
      "D:\\OneDrive - Habib University\\acedemics\\semester5\\DL\\project\\project_files\\dataset\\Theory of Automata in Urdu\\lec_01_segmented_frames\\seg_1094\n",
      "D:\\OneDrive - Habib University\\acedemics\\semester5\\DL\\project\\project_files\\dataset\\Theory of Automata in Urdu\\lec_01_segmented_frames\\seg_1095\n",
      "D:\\OneDrive - Habib University\\acedemics\\semester5\\DL\\project\\project_files\\dataset\\Theory of Automata in Urdu\\lec_01_segmented_frames\\seg_1096\n",
      "D:\\OneDrive - Habib University\\acedemics\\semester5\\DL\\project\\project_files\\dataset\\Theory of Automata in Urdu\\lec_01_segmented_frames\\seg_1097\n",
      "D:\\OneDrive - Habib University\\acedemics\\semester5\\DL\\project\\project_files\\dataset\\Theory of Automata in Urdu\\lec_01_segmented_frames\\seg_1098\n",
      "D:\\OneDrive - Habib University\\acedemics\\semester5\\DL\\project\\project_files\\dataset\\Theory of Automata in Urdu\\lec_01_segmented_frames\\seg_1099\n",
      "D:\\OneDrive - Habib University\\acedemics\\semester5\\DL\\project\\project_files\\dataset\\Theory of Automata in Urdu\\lec_01_segmented_frames\\seg_1100\n",
      "D:\\OneDrive - Habib University\\acedemics\\semester5\\DL\\project\\project_files\\dataset\\Theory of Automata in Urdu\\lec_01_segmented_frames\\seg_1101\n",
      "D:\\OneDrive - Habib University\\acedemics\\semester5\\DL\\project\\project_files\\dataset\\Theory of Automata in Urdu\\lec_01_segmented_frames\\seg_1102\n",
      "D:\\OneDrive - Habib University\\acedemics\\semester5\\DL\\project\\project_files\\dataset\\Theory of Automata in Urdu\\lec_01_segmented_frames\\seg_1103\n",
      "D:\\OneDrive - Habib University\\acedemics\\semester5\\DL\\project\\project_files\\dataset\\Theory of Automata in Urdu\\lec_01_segmented_frames\\seg_1104\n",
      "D:\\OneDrive - Habib University\\acedemics\\semester5\\DL\\project\\project_files\\dataset\\Theory of Automata in Urdu\\lec_01_segmented_frames\\seg_1105\n",
      "D:\\OneDrive - Habib University\\acedemics\\semester5\\DL\\project\\project_files\\dataset\\Theory of Automata in Urdu\\lec_01_segmented_frames\\seg_1106\n",
      "D:\\OneDrive - Habib University\\acedemics\\semester5\\DL\\project\\project_files\\dataset\\Theory of Automata in Urdu\\lec_01_segmented_frames\\seg_1107\n",
      "D:\\OneDrive - Habib University\\acedemics\\semester5\\DL\\project\\project_files\\dataset\\Theory of Automata in Urdu\\lec_01_segmented_frames\\seg_1108\n",
      "D:\\OneDrive - Habib University\\acedemics\\semester5\\DL\\project\\project_files\\dataset\\Theory of Automata in Urdu\\lec_01_segmented_frames\\seg_1109\n",
      "D:\\OneDrive - Habib University\\acedemics\\semester5\\DL\\project\\project_files\\dataset\\Theory of Automata in Urdu\\lec_01_segmented_frames\\seg_1110\n",
      "D:\\OneDrive - Habib University\\acedemics\\semester5\\DL\\project\\project_files\\dataset\\Theory of Automata in Urdu\\lec_01_segmented_frames\\seg_1111\n",
      "D:\\OneDrive - Habib University\\acedemics\\semester5\\DL\\project\\project_files\\dataset\\Theory of Automata in Urdu\\lec_01_segmented_frames\\seg_1112\n",
      "D:\\OneDrive - Habib University\\acedemics\\semester5\\DL\\project\\project_files\\dataset\\Theory of Automata in Urdu\\lec_01_segmented_frames\\seg_1113\n",
      "D:\\OneDrive - Habib University\\acedemics\\semester5\\DL\\project\\project_files\\dataset\\Theory of Automata in Urdu\\lec_01_segmented_frames\\seg_1114\n",
      "D:\\OneDrive - Habib University\\acedemics\\semester5\\DL\\project\\project_files\\dataset\\Theory of Automata in Urdu\\lec_01_segmented_frames\\seg_1115\n",
      "D:\\OneDrive - Habib University\\acedemics\\semester5\\DL\\project\\project_files\\dataset\\Theory of Automata in Urdu\\lec_01_segmented_frames\\seg_1116\n",
      "D:\\OneDrive - Habib University\\acedemics\\semester5\\DL\\project\\project_files\\dataset\\Theory of Automata in Urdu\\lec_01_segmented_frames\\seg_1117\n",
      "D:\\OneDrive - Habib University\\acedemics\\semester5\\DL\\project\\project_files\\dataset\\Theory of Automata in Urdu\\lec_01_segmented_frames\\seg_1118\n",
      "D:\\OneDrive - Habib University\\acedemics\\semester5\\DL\\project\\project_files\\dataset\\Theory of Automata in Urdu\\lec_01_segmented_frames\\seg_1119\n",
      "D:\\OneDrive - Habib University\\acedemics\\semester5\\DL\\project\\project_files\\dataset\\Theory of Automata in Urdu\\lec_01_segmented_frames\\seg_1120\n",
      "D:\\OneDrive - Habib University\\acedemics\\semester5\\DL\\project\\project_files\\dataset\\Theory of Automata in Urdu\\lec_01_segmented_frames\\seg_1121\n",
      "D:\\OneDrive - Habib University\\acedemics\\semester5\\DL\\project\\project_files\\dataset\\Theory of Automata in Urdu\\lec_01_segmented_frames\\seg_1122\n",
      "D:\\OneDrive - Habib University\\acedemics\\semester5\\DL\\project\\project_files\\dataset\\Theory of Automata in Urdu\\lec_01_segmented_frames\\seg_1123\n",
      "D:\\OneDrive - Habib University\\acedemics\\semester5\\DL\\project\\project_files\\dataset\\Theory of Automata in Urdu\\lec_01_segmented_frames\\seg_1124\n",
      "D:\\OneDrive - Habib University\\acedemics\\semester5\\DL\\project\\project_files\\dataset\\Theory of Automata in Urdu\\lec_01_segmented_frames\\seg_1125\n",
      "D:\\OneDrive - Habib University\\acedemics\\semester5\\DL\\project\\project_files\\dataset\\Theory of Automata in Urdu\\lec_01_segmented_frames\\seg_1126\n",
      "D:\\OneDrive - Habib University\\acedemics\\semester5\\DL\\project\\project_files\\dataset\\Theory of Automata in Urdu\\lec_01_segmented_frames\\seg_1127\n",
      "D:\\OneDrive - Habib University\\acedemics\\semester5\\DL\\project\\project_files\\dataset\\Theory of Automata in Urdu\\lec_01_segmented_frames\\seg_1128\n",
      "D:\\OneDrive - Habib University\\acedemics\\semester5\\DL\\project\\project_files\\dataset\\Theory of Automata in Urdu\\lec_01_segmented_frames\\seg_1129\n",
      "D:\\OneDrive - Habib University\\acedemics\\semester5\\DL\\project\\project_files\\dataset\\Theory of Automata in Urdu\\lec_01_segmented_frames\\seg_1130\n",
      "D:\\OneDrive - Habib University\\acedemics\\semester5\\DL\\project\\project_files\\dataset\\Theory of Automata in Urdu\\lec_01_segmented_frames\\seg_1131\n",
      "D:\\OneDrive - Habib University\\acedemics\\semester5\\DL\\project\\project_files\\dataset\\Theory of Automata in Urdu\\lec_01_segmented_frames\\seg_1132\n",
      "D:\\OneDrive - Habib University\\acedemics\\semester5\\DL\\project\\project_files\\dataset\\Theory of Automata in Urdu\\lec_01_segmented_frames\\seg_1133\n",
      "D:\\OneDrive - Habib University\\acedemics\\semester5\\DL\\project\\project_files\\dataset\\Theory of Automata in Urdu\\lec_01_segmented_frames\\seg_1134\n",
      "D:\\OneDrive - Habib University\\acedemics\\semester5\\DL\\project\\project_files\\dataset\\Theory of Automata in Urdu\\lec_01_segmented_frames\\seg_1135\n",
      "D:\\OneDrive - Habib University\\acedemics\\semester5\\DL\\project\\project_files\\dataset\\Theory of Automata in Urdu\\lec_01_segmented_frames\\seg_1136\n",
      "D:\\OneDrive - Habib University\\acedemics\\semester5\\DL\\project\\project_files\\dataset\\Theory of Automata in Urdu\\lec_01_segmented_frames\\seg_1137\n",
      "D:\\OneDrive - Habib University\\acedemics\\semester5\\DL\\project\\project_files\\dataset\\Theory of Automata in Urdu\\lec_01_segmented_frames\\seg_1138\n",
      "D:\\OneDrive - Habib University\\acedemics\\semester5\\DL\\project\\project_files\\dataset\\Theory of Automata in Urdu\\lec_01_segmented_frames\\seg_1139\n",
      "D:\\OneDrive - Habib University\\acedemics\\semester5\\DL\\project\\project_files\\dataset\\Theory of Automata in Urdu\\lec_01_segmented_frames\\seg_1140\n",
      "D:\\OneDrive - Habib University\\acedemics\\semester5\\DL\\project\\project_files\\dataset\\Theory of Automata in Urdu\\lec_01_segmented_frames\\seg_1141\n",
      "D:\\OneDrive - Habib University\\acedemics\\semester5\\DL\\project\\project_files\\dataset\\Theory of Automata in Urdu\\lec_01_segmented_frames\\seg_1142\n",
      "D:\\OneDrive - Habib University\\acedemics\\semester5\\DL\\project\\project_files\\dataset\\Theory of Automata in Urdu\\lec_01_segmented_frames\\seg_1143\n",
      "D:\\OneDrive - Habib University\\acedemics\\semester5\\DL\\project\\project_files\\dataset\\Theory of Automata in Urdu\\lec_01_segmented_frames\\seg_1144\n",
      "D:\\OneDrive - Habib University\\acedemics\\semester5\\DL\\project\\project_files\\dataset\\Theory of Automata in Urdu\\lec_01_segmented_frames\\seg_1145\n",
      "D:\\OneDrive - Habib University\\acedemics\\semester5\\DL\\project\\project_files\\dataset\\Theory of Automata in Urdu\\lec_01_segmented_frames\\seg_1146\n",
      "D:\\OneDrive - Habib University\\acedemics\\semester5\\DL\\project\\project_files\\dataset\\Theory of Automata in Urdu\\lec_01_segmented_frames\\seg_1147\n",
      "D:\\OneDrive - Habib University\\acedemics\\semester5\\DL\\project\\project_files\\dataset\\Theory of Automata in Urdu\\lec_01_segmented_frames\\seg_1148\n",
      "D:\\OneDrive - Habib University\\acedemics\\semester5\\DL\\project\\project_files\\dataset\\Theory of Automata in Urdu\\lec_01_segmented_frames\\seg_1149\n",
      "D:\\OneDrive - Habib University\\acedemics\\semester5\\DL\\project\\project_files\\dataset\\Theory of Automata in Urdu\\lec_01_segmented_frames\\seg_1150\n",
      "D:\\OneDrive - Habib University\\acedemics\\semester5\\DL\\project\\project_files\\dataset\\Theory of Automata in Urdu\\lec_01_segmented_frames\\seg_1151\n",
      "D:\\OneDrive - Habib University\\acedemics\\semester5\\DL\\project\\project_files\\dataset\\Theory of Automata in Urdu\\lec_01_segmented_frames\\seg_1152\n",
      "D:\\OneDrive - Habib University\\acedemics\\semester5\\DL\\project\\project_files\\dataset\\Theory of Automata in Urdu\\lec_01_segmented_frames\\seg_1153\n",
      "D:\\OneDrive - Habib University\\acedemics\\semester5\\DL\\project\\project_files\\dataset\\Theory of Automata in Urdu\\lec_01_segmented_frames\\seg_1154\n",
      "D:\\OneDrive - Habib University\\acedemics\\semester5\\DL\\project\\project_files\\dataset\\Theory of Automata in Urdu\\lec_01_segmented_frames\\seg_1155\n",
      "D:\\OneDrive - Habib University\\acedemics\\semester5\\DL\\project\\project_files\\dataset\\Theory of Automata in Urdu\\lec_01_segmented_frames\\seg_1156\n",
      "D:\\OneDrive - Habib University\\acedemics\\semester5\\DL\\project\\project_files\\dataset\\Theory of Automata in Urdu\\lec_01_segmented_frames\\seg_1157\n",
      "D:\\OneDrive - Habib University\\acedemics\\semester5\\DL\\project\\project_files\\dataset\\Theory of Automata in Urdu\\lec_01_segmented_frames\\seg_1158\n",
      "D:\\OneDrive - Habib University\\acedemics\\semester5\\DL\\project\\project_files\\dataset\\Theory of Automata in Urdu\\lec_01_segmented_frames\\seg_1159\n",
      "D:\\OneDrive - Habib University\\acedemics\\semester5\\DL\\project\\project_files\\dataset\\Theory of Automata in Urdu\\lec_01_segmented_frames\\seg_1160\n",
      "D:\\OneDrive - Habib University\\acedemics\\semester5\\DL\\project\\project_files\\dataset\\Theory of Automata in Urdu\\lec_01_segmented_frames\\seg_1161\n",
      "D:\\OneDrive - Habib University\\acedemics\\semester5\\DL\\project\\project_files\\dataset\\Theory of Automata in Urdu\\lec_01_segmented_frames\\seg_1162\n",
      "D:\\OneDrive - Habib University\\acedemics\\semester5\\DL\\project\\project_files\\dataset\\Theory of Automata in Urdu\\lec_01_segmented_frames\\seg_1163\n",
      "D:\\OneDrive - Habib University\\acedemics\\semester5\\DL\\project\\project_files\\dataset\\Theory of Automata in Urdu\\lec_01_segmented_frames\\seg_1164\n",
      "D:\\OneDrive - Habib University\\acedemics\\semester5\\DL\\project\\project_files\\dataset\\Theory of Automata in Urdu\\lec_01_segmented_frames\\seg_1165\n",
      "D:\\OneDrive - Habib University\\acedemics\\semester5\\DL\\project\\project_files\\dataset\\Theory of Automata in Urdu\\lec_01_segmented_frames\\seg_1166\n",
      "D:\\OneDrive - Habib University\\acedemics\\semester5\\DL\\project\\project_files\\dataset\\Theory of Automata in Urdu\\lec_01_segmented_frames\\seg_1167\n",
      "D:\\OneDrive - Habib University\\acedemics\\semester5\\DL\\project\\project_files\\dataset\\Theory of Automata in Urdu\\lec_01_segmented_frames\\seg_1168\n",
      "D:\\OneDrive - Habib University\\acedemics\\semester5\\DL\\project\\project_files\\dataset\\Theory of Automata in Urdu\\lec_01_segmented_frames\\seg_1169\n",
      "D:\\OneDrive - Habib University\\acedemics\\semester5\\DL\\project\\project_files\\dataset\\Theory of Automata in Urdu\\lec_01_segmented_frames\\seg_1170\n",
      "D:\\OneDrive - Habib University\\acedemics\\semester5\\DL\\project\\project_files\\dataset\\Theory of Automata in Urdu\\lec_01_segmented_frames\\seg_1171\n",
      "D:\\OneDrive - Habib University\\acedemics\\semester5\\DL\\project\\project_files\\dataset\\Theory of Automata in Urdu\\lec_01_segmented_frames\\seg_1172\n",
      "D:\\OneDrive - Habib University\\acedemics\\semester5\\DL\\project\\project_files\\dataset\\Theory of Automata in Urdu\\lec_01_segmented_frames\\seg_1173\n",
      "D:\\OneDrive - Habib University\\acedemics\\semester5\\DL\\project\\project_files\\dataset\\Theory of Automata in Urdu\\lec_01_segmented_frames\\seg_1174\n",
      "D:\\OneDrive - Habib University\\acedemics\\semester5\\DL\\project\\project_files\\dataset\\Theory of Automata in Urdu\\lec_01_segmented_frames\\seg_1175\n",
      "D:\\OneDrive - Habib University\\acedemics\\semester5\\DL\\project\\project_files\\dataset\\Theory of Automata in Urdu\\lec_01_segmented_frames\\seg_1176\n",
      "D:\\OneDrive - Habib University\\acedemics\\semester5\\DL\\project\\project_files\\dataset\\Theory of Automata in Urdu\\lec_01_segmented_frames\\seg_1177\n",
      "D:\\OneDrive - Habib University\\acedemics\\semester5\\DL\\project\\project_files\\dataset\\Theory of Automata in Urdu\\lec_01_segmented_frames\\seg_1178\n",
      "D:\\OneDrive - Habib University\\acedemics\\semester5\\DL\\project\\project_files\\dataset\\Theory of Automata in Urdu\\lec_01_segmented_frames\\seg_1179\n",
      "D:\\OneDrive - Habib University\\acedemics\\semester5\\DL\\project\\project_files\\dataset\\Theory of Automata in Urdu\\lec_01_segmented_frames\\seg_1180\n",
      "D:\\OneDrive - Habib University\\acedemics\\semester5\\DL\\project\\project_files\\dataset\\Theory of Automata in Urdu\\lec_01_segmented_frames\\seg_1181\n",
      "D:\\OneDrive - Habib University\\acedemics\\semester5\\DL\\project\\project_files\\dataset\\Theory of Automata in Urdu\\lec_01_segmented_frames\\seg_1182\n",
      "D:\\OneDrive - Habib University\\acedemics\\semester5\\DL\\project\\project_files\\dataset\\Theory of Automata in Urdu\\lec_01_segmented_frames\\seg_1183\n",
      "D:\\OneDrive - Habib University\\acedemics\\semester5\\DL\\project\\project_files\\dataset\\Theory of Automata in Urdu\\lec_01_segmented_frames\\seg_1184\n",
      "D:\\OneDrive - Habib University\\acedemics\\semester5\\DL\\project\\project_files\\dataset\\Theory of Automata in Urdu\\lec_01_segmented_frames\\seg_1185\n",
      "D:\\OneDrive - Habib University\\acedemics\\semester5\\DL\\project\\project_files\\dataset\\Theory of Automata in Urdu\\lec_01_segmented_frames\\seg_1186\n",
      "D:\\OneDrive - Habib University\\acedemics\\semester5\\DL\\project\\project_files\\dataset\\Theory of Automata in Urdu\\lec_01_segmented_frames\\seg_1187\n",
      "D:\\OneDrive - Habib University\\acedemics\\semester5\\DL\\project\\project_files\\dataset\\Theory of Automata in Urdu\\lec_01_segmented_frames\\seg_1188\n",
      "D:\\OneDrive - Habib University\\acedemics\\semester5\\DL\\project\\project_files\\dataset\\Theory of Automata in Urdu\\lec_01_segmented_frames\\seg_1189\n",
      "D:\\OneDrive - Habib University\\acedemics\\semester5\\DL\\project\\project_files\\dataset\\Theory of Automata in Urdu\\lec_01_segmented_frames\\seg_1190\n",
      "D:\\OneDrive - Habib University\\acedemics\\semester5\\DL\\project\\project_files\\dataset\\Theory of Automata in Urdu\\lec_01_segmented_frames\\seg_1191\n",
      "D:\\OneDrive - Habib University\\acedemics\\semester5\\DL\\project\\project_files\\dataset\\Theory of Automata in Urdu\\lec_01_segmented_frames\\seg_1192\n",
      "D:\\OneDrive - Habib University\\acedemics\\semester5\\DL\\project\\project_files\\dataset\\Theory of Automata in Urdu\\lec_01_segmented_frames\\seg_1193\n",
      "D:\\OneDrive - Habib University\\acedemics\\semester5\\DL\\project\\project_files\\dataset\\Theory of Automata in Urdu\\lec_01_segmented_frames\\seg_1194\n",
      "D:\\OneDrive - Habib University\\acedemics\\semester5\\DL\\project\\project_files\\dataset\\Theory of Automata in Urdu\\lec_01_segmented_frames\\seg_1195\n",
      "D:\\OneDrive - Habib University\\acedemics\\semester5\\DL\\project\\project_files\\dataset\\Theory of Automata in Urdu\\lec_01_segmented_frames\\seg_1196\n",
      "D:\\OneDrive - Habib University\\acedemics\\semester5\\DL\\project\\project_files\\dataset\\Theory of Automata in Urdu\\lec_01_segmented_frames\\seg_1197\n",
      "D:\\OneDrive - Habib University\\acedemics\\semester5\\DL\\project\\project_files\\dataset\\Theory of Automata in Urdu\\lec_01_segmented_frames\\seg_1198\n",
      "D:\\OneDrive - Habib University\\acedemics\\semester5\\DL\\project\\project_files\\dataset\\Theory of Automata in Urdu\\lec_01_segmented_frames\\seg_1199\n",
      "D:\\OneDrive - Habib University\\acedemics\\semester5\\DL\\project\\project_files\\dataset\\Theory of Automata in Urdu\\lec_01_segmented_frames\\seg_1200\n",
      "D:\\OneDrive - Habib University\\acedemics\\semester5\\DL\\project\\project_files\\dataset\\Theory of Automata in Urdu\\lec_01_segmented_frames\\seg_1201\n",
      "D:\\OneDrive - Habib University\\acedemics\\semester5\\DL\\project\\project_files\\dataset\\Theory of Automata in Urdu\\lec_01_segmented_frames\\seg_1202\n",
      "D:\\OneDrive - Habib University\\acedemics\\semester5\\DL\\project\\project_files\\dataset\\Theory of Automata in Urdu\\lec_01_segmented_frames\\seg_1203\n",
      "D:\\OneDrive - Habib University\\acedemics\\semester5\\DL\\project\\project_files\\dataset\\Theory of Automata in Urdu\\lec_01_segmented_frames\\seg_1204\n",
      "D:\\OneDrive - Habib University\\acedemics\\semester5\\DL\\project\\project_files\\dataset\\Theory of Automata in Urdu\\lec_01_segmented_frames\\seg_1205\n",
      "D:\\OneDrive - Habib University\\acedemics\\semester5\\DL\\project\\project_files\\dataset\\Theory of Automata in Urdu\\lec_01_segmented_frames\\seg_1206\n",
      "D:\\OneDrive - Habib University\\acedemics\\semester5\\DL\\project\\project_files\\dataset\\Theory of Automata in Urdu\\lec_01_segmented_frames\\seg_1207\n",
      "D:\\OneDrive - Habib University\\acedemics\\semester5\\DL\\project\\project_files\\dataset\\Theory of Automata in Urdu\\lec_01_segmented_frames\\seg_1208\n",
      "D:\\OneDrive - Habib University\\acedemics\\semester5\\DL\\project\\project_files\\dataset\\Theory of Automata in Urdu\\lec_01_segmented_frames\\seg_1209\n",
      "D:\\OneDrive - Habib University\\acedemics\\semester5\\DL\\project\\project_files\\dataset\\Theory of Automata in Urdu\\lec_01_segmented_frames\\seg_1210\n",
      "D:\\OneDrive - Habib University\\acedemics\\semester5\\DL\\project\\project_files\\dataset\\Theory of Automata in Urdu\\lec_01_segmented_frames\\seg_1211\n",
      "D:\\OneDrive - Habib University\\acedemics\\semester5\\DL\\project\\project_files\\dataset\\Theory of Automata in Urdu\\lec_01_segmented_frames\\seg_1212\n",
      "D:\\OneDrive - Habib University\\acedemics\\semester5\\DL\\project\\project_files\\dataset\\Theory of Automata in Urdu\\lec_01_segmented_frames\\seg_1213\n",
      "D:\\OneDrive - Habib University\\acedemics\\semester5\\DL\\project\\project_files\\dataset\\Theory of Automata in Urdu\\lec_01_segmented_frames\\seg_1214\n",
      "D:\\OneDrive - Habib University\\acedemics\\semester5\\DL\\project\\project_files\\dataset\\Theory of Automata in Urdu\\lec_01_segmented_frames\\seg_1215\n",
      "D:\\OneDrive - Habib University\\acedemics\\semester5\\DL\\project\\project_files\\dataset\\Theory of Automata in Urdu\\lec_01_segmented_frames\\seg_1216\n",
      "D:\\OneDrive - Habib University\\acedemics\\semester5\\DL\\project\\project_files\\dataset\\Theory of Automata in Urdu\\lec_01_segmented_frames\\seg_1217\n",
      "D:\\OneDrive - Habib University\\acedemics\\semester5\\DL\\project\\project_files\\dataset\\Theory of Automata in Urdu\\lec_01_segmented_frames\\seg_1218\n",
      "D:\\OneDrive - Habib University\\acedemics\\semester5\\DL\\project\\project_files\\dataset\\Theory of Automata in Urdu\\lec_01_segmented_frames\\seg_1219\n",
      "D:\\OneDrive - Habib University\\acedemics\\semester5\\DL\\project\\project_files\\dataset\\Theory of Automata in Urdu\\lec_01_segmented_frames\\seg_1220\n",
      "D:\\OneDrive - Habib University\\acedemics\\semester5\\DL\\project\\project_files\\dataset\\Theory of Automata in Urdu\\lec_01_segmented_frames\\seg_1221\n",
      "D:\\OneDrive - Habib University\\acedemics\\semester5\\DL\\project\\project_files\\dataset\\Theory of Automata in Urdu\\lec_01_segmented_frames\\seg_1222\n",
      "D:\\OneDrive - Habib University\\acedemics\\semester5\\DL\\project\\project_files\\dataset\\Theory of Automata in Urdu\\lec_01_segmented_frames\\seg_1223\n",
      "D:\\OneDrive - Habib University\\acedemics\\semester5\\DL\\project\\project_files\\dataset\\Theory of Automata in Urdu\\lec_01_segmented_frames\\seg_1224\n",
      "D:\\OneDrive - Habib University\\acedemics\\semester5\\DL\\project\\project_files\\dataset\\Theory of Automata in Urdu\\lec_01_segmented_frames\\seg_1225\n",
      "D:\\OneDrive - Habib University\\acedemics\\semester5\\DL\\project\\project_files\\dataset\\Theory of Automata in Urdu\\lec_01_segmented_frames\\seg_1226\n",
      "D:\\OneDrive - Habib University\\acedemics\\semester5\\DL\\project\\project_files\\dataset\\Theory of Automata in Urdu\\lec_01_segmented_frames\\seg_1227\n",
      "D:\\OneDrive - Habib University\\acedemics\\semester5\\DL\\project\\project_files\\dataset\\Theory of Automata in Urdu\\lec_01_segmented_frames\\seg_1228\n",
      "D:\\OneDrive - Habib University\\acedemics\\semester5\\DL\\project\\project_files\\dataset\\Theory of Automata in Urdu\\lec_01_segmented_frames\\seg_1229\n",
      "D:\\OneDrive - Habib University\\acedemics\\semester5\\DL\\project\\project_files\\dataset\\Theory of Automata in Urdu\\lec_01_segmented_frames\\seg_1230\n",
      "D:\\OneDrive - Habib University\\acedemics\\semester5\\DL\\project\\project_files\\dataset\\Theory of Automata in Urdu\\lec_01_segmented_frames\\seg_1231\n",
      "D:\\OneDrive - Habib University\\acedemics\\semester5\\DL\\project\\project_files\\dataset\\Theory of Automata in Urdu\\lec_01_segmented_frames\\seg_1232\n",
      "D:\\OneDrive - Habib University\\acedemics\\semester5\\DL\\project\\project_files\\dataset\\Theory of Automata in Urdu\\lec_01_segmented_frames\\seg_1233\n",
      "D:\\OneDrive - Habib University\\acedemics\\semester5\\DL\\project\\project_files\\dataset\\Theory of Automata in Urdu\\lec_01_segmented_frames\\seg_1234\n",
      "D:\\OneDrive - Habib University\\acedemics\\semester5\\DL\\project\\project_files\\dataset\\Theory of Automata in Urdu\\lec_01_segmented_frames\\seg_1235\n",
      "D:\\OneDrive - Habib University\\acedemics\\semester5\\DL\\project\\project_files\\dataset\\Theory of Automata in Urdu\\lec_01_segmented_frames\\seg_1236\n",
      "D:\\OneDrive - Habib University\\acedemics\\semester5\\DL\\project\\project_files\\dataset\\Theory of Automata in Urdu\\lec_01_segmented_frames\\seg_1237\n",
      "D:\\OneDrive - Habib University\\acedemics\\semester5\\DL\\project\\project_files\\dataset\\Theory of Automata in Urdu\\lec_01_segmented_frames\\seg_1238\n",
      "D:\\OneDrive - Habib University\\acedemics\\semester5\\DL\\project\\project_files\\dataset\\Theory of Automata in Urdu\\lec_01_segmented_frames\\seg_1239\n",
      "D:\\OneDrive - Habib University\\acedemics\\semester5\\DL\\project\\project_files\\dataset\\Theory of Automata in Urdu\\lec_01_segmented_frames\\seg_1240\n",
      "D:\\OneDrive - Habib University\\acedemics\\semester5\\DL\\project\\project_files\\dataset\\Theory of Automata in Urdu\\lec_01_segmented_frames\\seg_1241\n",
      "D:\\OneDrive - Habib University\\acedemics\\semester5\\DL\\project\\project_files\\dataset\\Theory of Automata in Urdu\\lec_01_segmented_frames\\seg_1242\n",
      "D:\\OneDrive - Habib University\\acedemics\\semester5\\DL\\project\\project_files\\dataset\\Theory of Automata in Urdu\\lec_01_segmented_frames\\seg_1243\n",
      "D:\\OneDrive - Habib University\\acedemics\\semester5\\DL\\project\\project_files\\dataset\\Theory of Automata in Urdu\\lec_01_segmented_frames\\seg_1244\n",
      "D:\\OneDrive - Habib University\\acedemics\\semester5\\DL\\project\\project_files\\dataset\\Theory of Automata in Urdu\\lec_01_segmented_frames\\seg_1245\n",
      "D:\\OneDrive - Habib University\\acedemics\\semester5\\DL\\project\\project_files\\dataset\\Theory of Automata in Urdu\\lec_01_segmented_frames\\seg_1246\n",
      "D:\\OneDrive - Habib University\\acedemics\\semester5\\DL\\project\\project_files\\dataset\\Theory of Automata in Urdu\\lec_01_segmented_frames\\seg_1247\n",
      "D:\\OneDrive - Habib University\\acedemics\\semester5\\DL\\project\\project_files\\dataset\\Theory of Automata in Urdu\\lec_01_segmented_frames\\seg_1248\n",
      "D:\\OneDrive - Habib University\\acedemics\\semester5\\DL\\project\\project_files\\dataset\\Theory of Automata in Urdu\\lec_01_segmented_frames\\seg_1249\n",
      "D:\\OneDrive - Habib University\\acedemics\\semester5\\DL\\project\\project_files\\dataset\\Theory of Automata in Urdu\\lec_01_segmented_frames\\seg_1250\n",
      "D:\\OneDrive - Habib University\\acedemics\\semester5\\DL\\project\\project_files\\dataset\\Theory of Automata in Urdu\\lec_01_segmented_frames\\seg_1251\n",
      "D:\\OneDrive - Habib University\\acedemics\\semester5\\DL\\project\\project_files\\dataset\\Theory of Automata in Urdu\\lec_01_segmented_frames\\seg_1252\n",
      "D:\\OneDrive - Habib University\\acedemics\\semester5\\DL\\project\\project_files\\dataset\\Theory of Automata in Urdu\\lec_01_segmented_frames\\seg_1253\n",
      "D:\\OneDrive - Habib University\\acedemics\\semester5\\DL\\project\\project_files\\dataset\\Theory of Automata in Urdu\\lec_01_segmented_frames\\seg_1254\n",
      "D:\\OneDrive - Habib University\\acedemics\\semester5\\DL\\project\\project_files\\dataset\\Theory of Automata in Urdu\\lec_01_segmented_frames\\seg_1255\n",
      "D:\\OneDrive - Habib University\\acedemics\\semester5\\DL\\project\\project_files\\dataset\\Theory of Automata in Urdu\\lec_01_segmented_frames\\seg_1256\n",
      "D:\\OneDrive - Habib University\\acedemics\\semester5\\DL\\project\\project_files\\dataset\\Theory of Automata in Urdu\\lec_01_segmented_frames\\seg_1257\n",
      "D:\\OneDrive - Habib University\\acedemics\\semester5\\DL\\project\\project_files\\dataset\\Theory of Automata in Urdu\\lec_01_segmented_frames\\seg_1258\n",
      "D:\\OneDrive - Habib University\\acedemics\\semester5\\DL\\project\\project_files\\dataset\\Theory of Automata in Urdu\\lec_01_segmented_frames\\seg_1259\n",
      "D:\\OneDrive - Habib University\\acedemics\\semester5\\DL\\project\\project_files\\dataset\\Theory of Automata in Urdu\\lec_01_segmented_frames\\seg_1260\n",
      "D:\\OneDrive - Habib University\\acedemics\\semester5\\DL\\project\\project_files\\dataset\\Theory of Automata in Urdu\\lec_01_segmented_frames\\seg_1261\n",
      "D:\\OneDrive - Habib University\\acedemics\\semester5\\DL\\project\\project_files\\dataset\\Theory of Automata in Urdu\\lec_01_segmented_frames\\seg_1262\n",
      "D:\\OneDrive - Habib University\\acedemics\\semester5\\DL\\project\\project_files\\dataset\\Theory of Automata in Urdu\\lec_01_segmented_frames\\seg_1263\n",
      "D:\\OneDrive - Habib University\\acedemics\\semester5\\DL\\project\\project_files\\dataset\\Theory of Automata in Urdu\\lec_01_segmented_frames\\seg_1264\n",
      "D:\\OneDrive - Habib University\\acedemics\\semester5\\DL\\project\\project_files\\dataset\\Theory of Automata in Urdu\\lec_01_segmented_frames\\seg_1265\n",
      "D:\\OneDrive - Habib University\\acedemics\\semester5\\DL\\project\\project_files\\dataset\\Theory of Automata in Urdu\\lec_01_segmented_frames\\seg_1266\n",
      "D:\\OneDrive - Habib University\\acedemics\\semester5\\DL\\project\\project_files\\dataset\\Theory of Automata in Urdu\\lec_01_segmented_frames\\seg_1267\n",
      "D:\\OneDrive - Habib University\\acedemics\\semester5\\DL\\project\\project_files\\dataset\\Theory of Automata in Urdu\\lec_01_segmented_frames\\seg_1268\n",
      "D:\\OneDrive - Habib University\\acedemics\\semester5\\DL\\project\\project_files\\dataset\\Theory of Automata in Urdu\\lec_01_segmented_frames\\seg_1269\n",
      "D:\\OneDrive - Habib University\\acedemics\\semester5\\DL\\project\\project_files\\dataset\\Theory of Automata in Urdu\\lec_01_segmented_frames\\seg_1270\n",
      "D:\\OneDrive - Habib University\\acedemics\\semester5\\DL\\project\\project_files\\dataset\\Theory of Automata in Urdu\\lec_01_segmented_frames\\seg_1271\n",
      "D:\\OneDrive - Habib University\\acedemics\\semester5\\DL\\project\\project_files\\dataset\\Theory of Automata in Urdu\\lec_01_segmented_frames\\seg_1272\n",
      "D:\\OneDrive - Habib University\\acedemics\\semester5\\DL\\project\\project_files\\dataset\\Theory of Automata in Urdu\\lec_01_segmented_frames\\seg_1273\n",
      "D:\\OneDrive - Habib University\\acedemics\\semester5\\DL\\project\\project_files\\dataset\\Theory of Automata in Urdu\\lec_01_segmented_frames\\seg_1274\n",
      "D:\\OneDrive - Habib University\\acedemics\\semester5\\DL\\project\\project_files\\dataset\\Theory of Automata in Urdu\\lec_01_segmented_frames\\seg_1275\n",
      "D:\\OneDrive - Habib University\\acedemics\\semester5\\DL\\project\\project_files\\dataset\\Theory of Automata in Urdu\\lec_01_segmented_frames\\seg_1276\n",
      "D:\\OneDrive - Habib University\\acedemics\\semester5\\DL\\project\\project_files\\dataset\\Theory of Automata in Urdu\\lec_01_segmented_frames\\seg_1277\n",
      "D:\\OneDrive - Habib University\\acedemics\\semester5\\DL\\project\\project_files\\dataset\\Theory of Automata in Urdu\\lec_01_segmented_frames\\seg_1278\n",
      "D:\\OneDrive - Habib University\\acedemics\\semester5\\DL\\project\\project_files\\dataset\\Theory of Automata in Urdu\\lec_01_segmented_frames\\seg_1279\n",
      "D:\\OneDrive - Habib University\\acedemics\\semester5\\DL\\project\\project_files\\dataset\\Theory of Automata in Urdu\\lec_01_segmented_frames\\seg_1280\n",
      "D:\\OneDrive - Habib University\\acedemics\\semester5\\DL\\project\\project_files\\dataset\\Theory of Automata in Urdu\\lec_01_segmented_frames\\seg_1281\n",
      "D:\\OneDrive - Habib University\\acedemics\\semester5\\DL\\project\\project_files\\dataset\\Theory of Automata in Urdu\\lec_01_segmented_frames\\seg_1282\n",
      "D:\\OneDrive - Habib University\\acedemics\\semester5\\DL\\project\\project_files\\dataset\\Theory of Automata in Urdu\\lec_01_segmented_frames\\seg_1283\n",
      "D:\\OneDrive - Habib University\\acedemics\\semester5\\DL\\project\\project_files\\dataset\\Theory of Automata in Urdu\\lec_01_segmented_frames\\seg_1284\n",
      "D:\\OneDrive - Habib University\\acedemics\\semester5\\DL\\project\\project_files\\dataset\\Theory of Automata in Urdu\\lec_01_segmented_frames\\seg_1285\n",
      "D:\\OneDrive - Habib University\\acedemics\\semester5\\DL\\project\\project_files\\dataset\\Theory of Automata in Urdu\\lec_01_segmented_frames\\seg_1286\n",
      "D:\\OneDrive - Habib University\\acedemics\\semester5\\DL\\project\\project_files\\dataset\\Theory of Automata in Urdu\\lec_01_segmented_frames\\seg_1287\n",
      "D:\\OneDrive - Habib University\\acedemics\\semester5\\DL\\project\\project_files\\dataset\\Theory of Automata in Urdu\\lec_01_segmented_frames\\seg_1288\n",
      "D:\\OneDrive - Habib University\\acedemics\\semester5\\DL\\project\\project_files\\dataset\\Theory of Automata in Urdu\\lec_01_segmented_frames\\seg_1289\n",
      "D:\\OneDrive - Habib University\\acedemics\\semester5\\DL\\project\\project_files\\dataset\\Theory of Automata in Urdu\\lec_01_segmented_frames\\seg_1290\n",
      "D:\\OneDrive - Habib University\\acedemics\\semester5\\DL\\project\\project_files\\dataset\\Theory of Automata in Urdu\\lec_01_segmented_frames\\seg_1291\n",
      "D:\\OneDrive - Habib University\\acedemics\\semester5\\DL\\project\\project_files\\dataset\\Theory of Automata in Urdu\\lec_01_segmented_frames\\seg_1292\n",
      "D:\\OneDrive - Habib University\\acedemics\\semester5\\DL\\project\\project_files\\dataset\\Theory of Automata in Urdu\\lec_01_segmented_frames\\seg_1293\n",
      "D:\\OneDrive - Habib University\\acedemics\\semester5\\DL\\project\\project_files\\dataset\\Theory of Automata in Urdu\\lec_01_segmented_frames\\seg_1294\n",
      "D:\\OneDrive - Habib University\\acedemics\\semester5\\DL\\project\\project_files\\dataset\\Theory of Automata in Urdu\\lec_01_segmented_frames\\seg_1295\n",
      "D:\\OneDrive - Habib University\\acedemics\\semester5\\DL\\project\\project_files\\dataset\\Theory of Automata in Urdu\\lec_01_segmented_frames\\seg_1296\n",
      "D:\\OneDrive - Habib University\\acedemics\\semester5\\DL\\project\\project_files\\dataset\\Theory of Automata in Urdu\\lec_01_segmented_frames\\seg_1297\n",
      "D:\\OneDrive - Habib University\\acedemics\\semester5\\DL\\project\\project_files\\dataset\\Theory of Automata in Urdu\\lec_01_segmented_frames\\seg_1298\n",
      "D:\\OneDrive - Habib University\\acedemics\\semester5\\DL\\project\\project_files\\dataset\\Theory of Automata in Urdu\\lec_01_segmented_frames\\seg_1299\n",
      "D:\\OneDrive - Habib University\\acedemics\\semester5\\DL\\project\\project_files\\dataset\\Theory of Automata in Urdu\\lec_01_segmented_frames\\seg_1300\n",
      "D:\\OneDrive - Habib University\\acedemics\\semester5\\DL\\project\\project_files\\dataset\\Theory of Automata in Urdu\\lec_01_segmented_frames\\seg_1301\n",
      "D:\\OneDrive - Habib University\\acedemics\\semester5\\DL\\project\\project_files\\dataset\\Theory of Automata in Urdu\\lec_01_segmented_frames\\seg_1302\n",
      "D:\\OneDrive - Habib University\\acedemics\\semester5\\DL\\project\\project_files\\dataset\\Theory of Automata in Urdu\\lec_01_segmented_frames\\seg_1303\n",
      "D:\\OneDrive - Habib University\\acedemics\\semester5\\DL\\project\\project_files\\dataset\\Theory of Automata in Urdu\\lec_01_segmented_frames\\seg_1304\n",
      "D:\\OneDrive - Habib University\\acedemics\\semester5\\DL\\project\\project_files\\dataset\\Theory of Automata in Urdu\\lec_01_segmented_frames\\seg_1305\n",
      "D:\\OneDrive - Habib University\\acedemics\\semester5\\DL\\project\\project_files\\dataset\\Theory of Automata in Urdu\\lec_01_segmented_frames\\seg_1306\n",
      "D:\\OneDrive - Habib University\\acedemics\\semester5\\DL\\project\\project_files\\dataset\\Theory of Automata in Urdu\\lec_01_segmented_frames\\seg_1307\n",
      "D:\\OneDrive - Habib University\\acedemics\\semester5\\DL\\project\\project_files\\dataset\\Theory of Automata in Urdu\\lec_01_segmented_frames\\seg_1308\n",
      "D:\\OneDrive - Habib University\\acedemics\\semester5\\DL\\project\\project_files\\dataset\\Theory of Automata in Urdu\\lec_01_segmented_frames\\seg_1309\n",
      "D:\\OneDrive - Habib University\\acedemics\\semester5\\DL\\project\\project_files\\dataset\\Theory of Automata in Urdu\\lec_01_segmented_frames\\seg_1310\n",
      "D:\\OneDrive - Habib University\\acedemics\\semester5\\DL\\project\\project_files\\dataset\\Theory of Automata in Urdu\\lec_01_segmented_frames\\seg_1311\n",
      "D:\\OneDrive - Habib University\\acedemics\\semester5\\DL\\project\\project_files\\dataset\\Theory of Automata in Urdu\\lec_01_segmented_frames\\seg_1312\n",
      "D:\\OneDrive - Habib University\\acedemics\\semester5\\DL\\project\\project_files\\dataset\\Theory of Automata in Urdu\\lec_01_segmented_frames\\seg_1313\n",
      "D:\\OneDrive - Habib University\\acedemics\\semester5\\DL\\project\\project_files\\dataset\\Theory of Automata in Urdu\\lec_01_segmented_frames\\seg_1314\n",
      "D:\\OneDrive - Habib University\\acedemics\\semester5\\DL\\project\\project_files\\dataset\\Theory of Automata in Urdu\\lec_01_segmented_frames\\seg_1315\n",
      "D:\\OneDrive - Habib University\\acedemics\\semester5\\DL\\project\\project_files\\dataset\\Theory of Automata in Urdu\\lec_01_segmented_frames\\seg_1316\n",
      "D:\\OneDrive - Habib University\\acedemics\\semester5\\DL\\project\\project_files\\dataset\\Theory of Automata in Urdu\\lec_01_segmented_frames\\seg_1317\n",
      "D:\\OneDrive - Habib University\\acedemics\\semester5\\DL\\project\\project_files\\dataset\\Theory of Automata in Urdu\\lec_01_segmented_frames\\seg_1318\n",
      "D:\\OneDrive - Habib University\\acedemics\\semester5\\DL\\project\\project_files\\dataset\\Theory of Automata in Urdu\\lec_01_segmented_frames\\seg_1319\n",
      "D:\\OneDrive - Habib University\\acedemics\\semester5\\DL\\project\\project_files\\dataset\\Theory of Automata in Urdu\\lec_01_segmented_frames\\seg_1320\n",
      "D:\\OneDrive - Habib University\\acedemics\\semester5\\DL\\project\\project_files\\dataset\\Theory of Automata in Urdu\\lec_01_segmented_frames\\seg_1321\n",
      "D:\\OneDrive - Habib University\\acedemics\\semester5\\DL\\project\\project_files\\dataset\\Theory of Automata in Urdu\\lec_01_segmented_frames\\seg_1322\n",
      "D:\\OneDrive - Habib University\\acedemics\\semester5\\DL\\project\\project_files\\dataset\\Theory of Automata in Urdu\\lec_01_segmented_frames\\seg_1323\n",
      "D:\\OneDrive - Habib University\\acedemics\\semester5\\DL\\project\\project_files\\dataset\\Theory of Automata in Urdu\\lec_01_segmented_frames\\seg_1324\n",
      "D:\\OneDrive - Habib University\\acedemics\\semester5\\DL\\project\\project_files\\dataset\\Theory of Automata in Urdu\\lec_01_segmented_frames\\seg_1325\n",
      "D:\\OneDrive - Habib University\\acedemics\\semester5\\DL\\project\\project_files\\dataset\\Theory of Automata in Urdu\\lec_01_segmented_frames\\seg_1326\n",
      "D:\\OneDrive - Habib University\\acedemics\\semester5\\DL\\project\\project_files\\dataset\\Theory of Automata in Urdu\\lec_01_segmented_frames\\seg_1327\n",
      "D:\\OneDrive - Habib University\\acedemics\\semester5\\DL\\project\\project_files\\dataset\\Theory of Automata in Urdu\\lec_01_segmented_frames\\seg_1328\n",
      "D:\\OneDrive - Habib University\\acedemics\\semester5\\DL\\project\\project_files\\dataset\\Theory of Automata in Urdu\\lec_01_segmented_frames\\seg_1329\n",
      "D:\\OneDrive - Habib University\\acedemics\\semester5\\DL\\project\\project_files\\dataset\\Theory of Automata in Urdu\\lec_01_segmented_frames\\seg_1330\n",
      "D:\\OneDrive - Habib University\\acedemics\\semester5\\DL\\project\\project_files\\dataset\\Theory of Automata in Urdu\\lec_01_segmented_frames\\seg_1331\n",
      "D:\\OneDrive - Habib University\\acedemics\\semester5\\DL\\project\\project_files\\dataset\\Theory of Automata in Urdu\\lec_01_segmented_frames\\seg_1332\n",
      "D:\\OneDrive - Habib University\\acedemics\\semester5\\DL\\project\\project_files\\dataset\\Theory of Automata in Urdu\\lec_01_segmented_frames\\seg_1333\n",
      "D:\\OneDrive - Habib University\\acedemics\\semester5\\DL\\project\\project_files\\dataset\\Theory of Automata in Urdu\\lec_01_segmented_frames\\seg_1334\n",
      "D:\\OneDrive - Habib University\\acedemics\\semester5\\DL\\project\\project_files\\dataset\\Theory of Automata in Urdu\\lec_01_segmented_frames\\seg_1335\n",
      "D:\\OneDrive - Habib University\\acedemics\\semester5\\DL\\project\\project_files\\dataset\\Theory of Automata in Urdu\\lec_01_segmented_frames\\seg_1336\n",
      "D:\\OneDrive - Habib University\\acedemics\\semester5\\DL\\project\\project_files\\dataset\\Theory of Automata in Urdu\\lec_01_segmented_frames\\seg_1337\n",
      "D:\\OneDrive - Habib University\\acedemics\\semester5\\DL\\project\\project_files\\dataset\\Theory of Automata in Urdu\\lec_01_segmented_frames\\seg_1338\n",
      "D:\\OneDrive - Habib University\\acedemics\\semester5\\DL\\project\\project_files\\dataset\\Theory of Automata in Urdu\\lec_01_segmented_frames\\seg_1339\n",
      "D:\\OneDrive - Habib University\\acedemics\\semester5\\DL\\project\\project_files\\dataset\\Theory of Automata in Urdu\\lec_01_segmented_frames\\seg_1340\n",
      "D:\\OneDrive - Habib University\\acedemics\\semester5\\DL\\project\\project_files\\dataset\\Theory of Automata in Urdu\\lec_01_segmented_frames\\seg_1341\n",
      "D:\\OneDrive - Habib University\\acedemics\\semester5\\DL\\project\\project_files\\dataset\\Theory of Automata in Urdu\\lec_01_segmented_frames\\seg_1342\n",
      "D:\\OneDrive - Habib University\\acedemics\\semester5\\DL\\project\\project_files\\dataset\\Theory of Automata in Urdu\\lec_01_segmented_frames\\seg_1343\n",
      "D:\\OneDrive - Habib University\\acedemics\\semester5\\DL\\project\\project_files\\dataset\\Theory of Automata in Urdu\\lec_01_segmented_frames\\seg_1344\n",
      "D:\\OneDrive - Habib University\\acedemics\\semester5\\DL\\project\\project_files\\dataset\\Theory of Automata in Urdu\\lec_01_segmented_frames\\seg_1345\n",
      "D:\\OneDrive - Habib University\\acedemics\\semester5\\DL\\project\\project_files\\dataset\\Theory of Automata in Urdu\\lec_01_segmented_frames\\seg_1346\n",
      "D:\\OneDrive - Habib University\\acedemics\\semester5\\DL\\project\\project_files\\dataset\\Theory of Automata in Urdu\\lec_01_segmented_frames\\seg_1347\n",
      "D:\\OneDrive - Habib University\\acedemics\\semester5\\DL\\project\\project_files\\dataset\\Theory of Automata in Urdu\\lec_01_segmented_frames\\seg_1348\n",
      "D:\\OneDrive - Habib University\\acedemics\\semester5\\DL\\project\\project_files\\dataset\\Theory of Automata in Urdu\\lec_01_segmented_frames\\seg_1349\n",
      "D:\\OneDrive - Habib University\\acedemics\\semester5\\DL\\project\\project_files\\dataset\\Theory of Automata in Urdu\\lec_01_segmented_frames\\seg_1350\n",
      "D:\\OneDrive - Habib University\\acedemics\\semester5\\DL\\project\\project_files\\dataset\\Theory of Automata in Urdu\\lec_01_segmented_frames\\seg_1351\n",
      "D:\\OneDrive - Habib University\\acedemics\\semester5\\DL\\project\\project_files\\dataset\\Theory of Automata in Urdu\\lec_01_segmented_frames\\seg_1352\n",
      "D:\\OneDrive - Habib University\\acedemics\\semester5\\DL\\project\\project_files\\dataset\\Theory of Automata in Urdu\\lec_01_segmented_frames\\seg_1353\n",
      "D:\\OneDrive - Habib University\\acedemics\\semester5\\DL\\project\\project_files\\dataset\\Theory of Automata in Urdu\\lec_01_segmented_frames\\seg_1354\n",
      "D:\\OneDrive - Habib University\\acedemics\\semester5\\DL\\project\\project_files\\dataset\\Theory of Automata in Urdu\\lec_01_segmented_frames\\seg_1355\n",
      "D:\\OneDrive - Habib University\\acedemics\\semester5\\DL\\project\\project_files\\dataset\\Theory of Automata in Urdu\\lec_01_segmented_frames\\seg_1356\n",
      "D:\\OneDrive - Habib University\\acedemics\\semester5\\DL\\project\\project_files\\dataset\\Theory of Automata in Urdu\\lec_01_segmented_frames\\seg_1357\n",
      "D:\\OneDrive - Habib University\\acedemics\\semester5\\DL\\project\\project_files\\dataset\\Theory of Automata in Urdu\\lec_01_segmented_frames\\seg_1358\n",
      "D:\\OneDrive - Habib University\\acedemics\\semester5\\DL\\project\\project_files\\dataset\\Theory of Automata in Urdu\\lec_01_segmented_frames\\seg_1359\n",
      "D:\\OneDrive - Habib University\\acedemics\\semester5\\DL\\project\\project_files\\dataset\\Theory of Automata in Urdu\\lec_01_segmented_frames\\seg_1360\n",
      "D:\\OneDrive - Habib University\\acedemics\\semester5\\DL\\project\\project_files\\dataset\\Theory of Automata in Urdu\\lec_01_segmented_frames\\seg_1361\n",
      "D:\\OneDrive - Habib University\\acedemics\\semester5\\DL\\project\\project_files\\dataset\\Theory of Automata in Urdu\\lec_01_segmented_frames\\seg_1362\n",
      "D:\\OneDrive - Habib University\\acedemics\\semester5\\DL\\project\\project_files\\dataset\\Theory of Automata in Urdu\\lec_01_segmented_frames\\seg_1363\n",
      "D:\\OneDrive - Habib University\\acedemics\\semester5\\DL\\project\\project_files\\dataset\\Theory of Automata in Urdu\\lec_01_segmented_frames\\seg_1364\n",
      "D:\\OneDrive - Habib University\\acedemics\\semester5\\DL\\project\\project_files\\dataset\\Theory of Automata in Urdu\\lec_01_segmented_frames\\seg_1365\n",
      "D:\\OneDrive - Habib University\\acedemics\\semester5\\DL\\project\\project_files\\dataset\\Theory of Automata in Urdu\\lec_01_segmented_frames\\seg_1366\n",
      "D:\\OneDrive - Habib University\\acedemics\\semester5\\DL\\project\\project_files\\dataset\\Theory of Automata in Urdu\\lec_01_segmented_frames\\seg_1367\n",
      "D:\\OneDrive - Habib University\\acedemics\\semester5\\DL\\project\\project_files\\dataset\\Theory of Automata in Urdu\\lec_01_segmented_frames\\seg_1368\n",
      "D:\\OneDrive - Habib University\\acedemics\\semester5\\DL\\project\\project_files\\dataset\\Theory of Automata in Urdu\\lec_01_segmented_frames\\seg_1369\n",
      "D:\\OneDrive - Habib University\\acedemics\\semester5\\DL\\project\\project_files\\dataset\\Theory of Automata in Urdu\\lec_01_segmented_frames\\seg_1370\n",
      "D:\\OneDrive - Habib University\\acedemics\\semester5\\DL\\project\\project_files\\dataset\\Theory of Automata in Urdu\\lec_01_segmented_frames\\seg_1371\n",
      "D:\\OneDrive - Habib University\\acedemics\\semester5\\DL\\project\\project_files\\dataset\\Theory of Automata in Urdu\\lec_01_segmented_frames\\seg_1372\n"
     ]
    }
   ],
   "source": [
    "video_path = r\"D:\\OneDrive - Habib University\\acedemics\\semester5\\DL\\project\\project_files\\dataset\\Theory of Automata in Urdu\\video\"\n",
    "output_path = r\"D:\\OneDrive - Habib University\\acedemics\\semester5\\DL\\project\\project_files\\dataset\\Theory of Automata in Urdu\\lec_01_segmented_frames\"\n",
    "multiple_video2frames(video_path,output_path)"
   ]
  },
  {
   "cell_type": "markdown",
   "metadata": {},
   "source": [
    "### Audio Segmenter"
   ]
  },
  {
   "cell_type": "code",
   "execution_count": 39,
   "metadata": {},
   "outputs": [],
   "source": [
    "def video2audio(video_file, output_path):\n",
    "  video = moviepy.editor.VideoFileClip(video_file)\n",
    "  audio = video.audio\n",
    "  audio.write_audiofile(output_path)\n",
    "  "
   ]
  },
  {
   "cell_type": "code",
   "execution_count": 43,
   "metadata": {},
   "outputs": [
    {
     "name": "stdout",
     "output_type": "stream",
     "text": [
      "D:\\OneDrive - Habib University\\acedemics\\semester5\\DL\\project\\dataset\\Theory of Automata in Urdu\\lec_01.mp4\n",
      "D:\\OneDrive - Habib University\\acedemics\\semester5\\DL\\project\\dataset\\Theory of Automata in Urdu_Audio\n",
      "D:\\OneDrive - Habib University\\acedemics\\semester5\\DL\\project\\dataset\\Theory of Automata in Urdu_Audio\\lec_01.mp3\n"
     ]
    },
    {
     "name": "stderr",
     "output_type": "stream",
     "text": [
      "chunk:   0%|          | 28/90722 [00:47<1:32:12, 16.39it/s, now=None]"
     ]
    },
    {
     "name": "stdout",
     "output_type": "stream",
     "text": [
      "MoviePy - Writing audio in D:\\OneDrive - Habib University\\acedemics\\semester5\\DL\\project\\dataset\\Theory of Automata in Urdu_Audio\\lec_01.mp3\n"
     ]
    },
    {
     "name": "stderr",
     "output_type": "stream",
     "text": [
      "chunk:   0%|          | 28/90722 [02:32<1:32:12, 16.39it/s, now=None]"
     ]
    },
    {
     "name": "stdout",
     "output_type": "stream",
     "text": [
      "MoviePy - Done.\n",
      "D:\\OneDrive - Habib University\\acedemics\\semester5\\DL\\project\\dataset\\Theory of Automata in Urdu\\lec_02.mp4\n",
      "D:\\OneDrive - Habib University\\acedemics\\semester5\\DL\\project\\dataset\\Theory of Automata in Urdu_Audio\n",
      "D:\\OneDrive - Habib University\\acedemics\\semester5\\DL\\project\\dataset\\Theory of Automata in Urdu_Audio\\lec_02.mp3\n"
     ]
    },
    {
     "name": "stderr",
     "output_type": "stream",
     "text": [
      "chunk:   0%|          | 28/90722 [02:32<1:32:12, 16.39it/s, now=None]"
     ]
    },
    {
     "name": "stdout",
     "output_type": "stream",
     "text": [
      "MoviePy - Writing audio in D:\\OneDrive - Habib University\\acedemics\\semester5\\DL\\project\\dataset\\Theory of Automata in Urdu_Audio\\lec_02.mp3\n"
     ]
    },
    {
     "name": "stderr",
     "output_type": "stream",
     "text": [
      "chunk:   0%|          | 28/90722 [03:53<1:32:12, 16.39it/s, now=None]"
     ]
    },
    {
     "name": "stdout",
     "output_type": "stream",
     "text": [
      "MoviePy - Done.\n",
      "D:\\OneDrive - Habib University\\acedemics\\semester5\\DL\\project\\dataset\\Theory of Automata in Urdu\\lec_03.mp4\n",
      "D:\\OneDrive - Habib University\\acedemics\\semester5\\DL\\project\\dataset\\Theory of Automata in Urdu_Audio\n",
      "D:\\OneDrive - Habib University\\acedemics\\semester5\\DL\\project\\dataset\\Theory of Automata in Urdu_Audio\\lec_03.mp3\n"
     ]
    },
    {
     "name": "stderr",
     "output_type": "stream",
     "text": [
      "chunk:   0%|          | 28/90722 [03:54<1:32:12, 16.39it/s, now=None]"
     ]
    },
    {
     "name": "stdout",
     "output_type": "stream",
     "text": [
      "MoviePy - Writing audio in D:\\OneDrive - Habib University\\acedemics\\semester5\\DL\\project\\dataset\\Theory of Automata in Urdu_Audio\\lec_03.mp3\n"
     ]
    },
    {
     "name": "stderr",
     "output_type": "stream",
     "text": [
      "chunk:   0%|          | 28/90722 [05:26<1:32:12, 16.39it/s, now=None]"
     ]
    },
    {
     "name": "stdout",
     "output_type": "stream",
     "text": [
      "MoviePy - Done.\n",
      "D:\\OneDrive - Habib University\\acedemics\\semester5\\DL\\project\\dataset\\Theory of Automata in Urdu\\lec_04.mp4\n",
      "D:\\OneDrive - Habib University\\acedemics\\semester5\\DL\\project\\dataset\\Theory of Automata in Urdu_Audio\n",
      "D:\\OneDrive - Habib University\\acedemics\\semester5\\DL\\project\\dataset\\Theory of Automata in Urdu_Audio\\lec_04.mp3\n"
     ]
    },
    {
     "name": "stderr",
     "output_type": "stream",
     "text": [
      "chunk:   0%|          | 28/90722 [05:27<1:32:12, 16.39it/s, now=None]"
     ]
    },
    {
     "name": "stdout",
     "output_type": "stream",
     "text": [
      "MoviePy - Writing audio in D:\\OneDrive - Habib University\\acedemics\\semester5\\DL\\project\\dataset\\Theory of Automata in Urdu_Audio\\lec_04.mp3\n"
     ]
    },
    {
     "name": "stderr",
     "output_type": "stream",
     "text": [
      "chunk:   0%|          | 28/90722 [07:08<1:32:12, 16.39it/s, now=None]"
     ]
    },
    {
     "name": "stdout",
     "output_type": "stream",
     "text": [
      "MoviePy - Done.\n",
      "D:\\OneDrive - Habib University\\acedemics\\semester5\\DL\\project\\dataset\\Theory of Automata in Urdu\\lec_05.mp4\n",
      "D:\\OneDrive - Habib University\\acedemics\\semester5\\DL\\project\\dataset\\Theory of Automata in Urdu_Audio\n",
      "D:\\OneDrive - Habib University\\acedemics\\semester5\\DL\\project\\dataset\\Theory of Automata in Urdu_Audio\\lec_05.mp3\n"
     ]
    },
    {
     "name": "stderr",
     "output_type": "stream",
     "text": [
      "chunk:   0%|          | 28/90722 [07:09<1:32:12, 16.39it/s, now=None]"
     ]
    },
    {
     "name": "stdout",
     "output_type": "stream",
     "text": [
      "MoviePy - Writing audio in D:\\OneDrive - Habib University\\acedemics\\semester5\\DL\\project\\dataset\\Theory of Automata in Urdu_Audio\\lec_05.mp3\n"
     ]
    },
    {
     "name": "stderr",
     "output_type": "stream",
     "text": [
      "chunk:   0%|          | 28/90722 [08:43<1:32:12, 16.39it/s, now=None]"
     ]
    },
    {
     "name": "stdout",
     "output_type": "stream",
     "text": [
      "MoviePy - Done.\n",
      "D:\\OneDrive - Habib University\\acedemics\\semester5\\DL\\project\\dataset\\Theory of Automata in Urdu\\lec_06.mp4\n",
      "D:\\OneDrive - Habib University\\acedemics\\semester5\\DL\\project\\dataset\\Theory of Automata in Urdu_Audio\n",
      "D:\\OneDrive - Habib University\\acedemics\\semester5\\DL\\project\\dataset\\Theory of Automata in Urdu_Audio\\lec_06.mp3\n"
     ]
    },
    {
     "name": "stderr",
     "output_type": "stream",
     "text": [
      "chunk:   0%|          | 28/90722 [08:44<1:32:12, 16.39it/s, now=None]"
     ]
    },
    {
     "name": "stdout",
     "output_type": "stream",
     "text": [
      "MoviePy - Writing audio in D:\\OneDrive - Habib University\\acedemics\\semester5\\DL\\project\\dataset\\Theory of Automata in Urdu_Audio\\lec_06.mp3\n"
     ]
    },
    {
     "name": "stderr",
     "output_type": "stream",
     "text": [
      "chunk:   0%|          | 28/90722 [09:56<1:32:12, 16.39it/s, now=None]"
     ]
    },
    {
     "name": "stdout",
     "output_type": "stream",
     "text": [
      "MoviePy - Done.\n",
      "D:\\OneDrive - Habib University\\acedemics\\semester5\\DL\\project\\dataset\\Theory of Automata in Urdu\\lec_07.mp4\n",
      "D:\\OneDrive - Habib University\\acedemics\\semester5\\DL\\project\\dataset\\Theory of Automata in Urdu_Audio\n",
      "D:\\OneDrive - Habib University\\acedemics\\semester5\\DL\\project\\dataset\\Theory of Automata in Urdu_Audio\\lec_07.mp3\n"
     ]
    },
    {
     "name": "stderr",
     "output_type": "stream",
     "text": [
      "chunk:   0%|          | 28/90722 [09:57<1:32:12, 16.39it/s, now=None]"
     ]
    },
    {
     "name": "stdout",
     "output_type": "stream",
     "text": [
      "MoviePy - Writing audio in D:\\OneDrive - Habib University\\acedemics\\semester5\\DL\\project\\dataset\\Theory of Automata in Urdu_Audio\\lec_07.mp3\n"
     ]
    },
    {
     "name": "stderr",
     "output_type": "stream",
     "text": [
      "chunk:   0%|          | 28/90722 [11:33<1:32:12, 16.39it/s, now=None]"
     ]
    },
    {
     "name": "stdout",
     "output_type": "stream",
     "text": [
      "MoviePy - Done.\n",
      "D:\\OneDrive - Habib University\\acedemics\\semester5\\DL\\project\\dataset\\Theory of Automata in Urdu\\lec_08.mp4\n",
      "D:\\OneDrive - Habib University\\acedemics\\semester5\\DL\\project\\dataset\\Theory of Automata in Urdu_Audio\n",
      "D:\\OneDrive - Habib University\\acedemics\\semester5\\DL\\project\\dataset\\Theory of Automata in Urdu_Audio\\lec_08.mp3\n"
     ]
    },
    {
     "name": "stderr",
     "output_type": "stream",
     "text": [
      "chunk:   0%|          | 28/90722 [11:33<1:32:12, 16.39it/s, now=None]"
     ]
    },
    {
     "name": "stdout",
     "output_type": "stream",
     "text": [
      "MoviePy - Writing audio in D:\\OneDrive - Habib University\\acedemics\\semester5\\DL\\project\\dataset\\Theory of Automata in Urdu_Audio\\lec_08.mp3\n"
     ]
    },
    {
     "name": "stderr",
     "output_type": "stream",
     "text": [
      "chunk:   0%|          | 28/90722 [13:08<1:32:12, 16.39it/s, now=None]"
     ]
    },
    {
     "name": "stdout",
     "output_type": "stream",
     "text": [
      "MoviePy - Done.\n",
      "D:\\OneDrive - Habib University\\acedemics\\semester5\\DL\\project\\dataset\\Theory of Automata in Urdu\\lec_09.mp4\n",
      "D:\\OneDrive - Habib University\\acedemics\\semester5\\DL\\project\\dataset\\Theory of Automata in Urdu_Audio\n",
      "D:\\OneDrive - Habib University\\acedemics\\semester5\\DL\\project\\dataset\\Theory of Automata in Urdu_Audio\\lec_09.mp3\n"
     ]
    },
    {
     "name": "stderr",
     "output_type": "stream",
     "text": [
      "chunk:   0%|          | 28/90722 [13:09<1:32:12, 16.39it/s, now=None]"
     ]
    },
    {
     "name": "stdout",
     "output_type": "stream",
     "text": [
      "MoviePy - Writing audio in D:\\OneDrive - Habib University\\acedemics\\semester5\\DL\\project\\dataset\\Theory of Automata in Urdu_Audio\\lec_09.mp3\n"
     ]
    },
    {
     "name": "stderr",
     "output_type": "stream",
     "text": [
      "chunk:   0%|          | 28/90722 [14:39<1:32:12, 16.39it/s, now=None]"
     ]
    },
    {
     "name": "stdout",
     "output_type": "stream",
     "text": [
      "MoviePy - Done.\n",
      "D:\\OneDrive - Habib University\\acedemics\\semester5\\DL\\project\\dataset\\Theory of Automata in Urdu\\lec_10.mp4\n",
      "D:\\OneDrive - Habib University\\acedemics\\semester5\\DL\\project\\dataset\\Theory of Automata in Urdu_Audio\n",
      "D:\\OneDrive - Habib University\\acedemics\\semester5\\DL\\project\\dataset\\Theory of Automata in Urdu_Audio\\lec_10.mp3\n"
     ]
    },
    {
     "name": "stderr",
     "output_type": "stream",
     "text": [
      "chunk:   0%|          | 28/90722 [14:40<1:32:12, 16.39it/s, now=None]"
     ]
    },
    {
     "name": "stdout",
     "output_type": "stream",
     "text": [
      "MoviePy - Writing audio in D:\\OneDrive - Habib University\\acedemics\\semester5\\DL\\project\\dataset\\Theory of Automata in Urdu_Audio\\lec_10.mp3\n"
     ]
    },
    {
     "name": "stderr",
     "output_type": "stream",
     "text": [
      "chunk:   0%|          | 28/90722 [16:11<1:32:12, 16.39it/s, now=None]"
     ]
    },
    {
     "name": "stdout",
     "output_type": "stream",
     "text": [
      "MoviePy - Done.\n",
      "D:\\OneDrive - Habib University\\acedemics\\semester5\\DL\\project\\dataset\\Theory of Automata in Urdu\\lec_11.mp4\n",
      "D:\\OneDrive - Habib University\\acedemics\\semester5\\DL\\project\\dataset\\Theory of Automata in Urdu_Audio\n",
      "D:\\OneDrive - Habib University\\acedemics\\semester5\\DL\\project\\dataset\\Theory of Automata in Urdu_Audio\\lec_11.mp3\n"
     ]
    },
    {
     "name": "stderr",
     "output_type": "stream",
     "text": [
      "chunk:   0%|          | 28/90722 [16:12<1:32:12, 16.39it/s, now=None]"
     ]
    },
    {
     "name": "stdout",
     "output_type": "stream",
     "text": [
      "MoviePy - Writing audio in D:\\OneDrive - Habib University\\acedemics\\semester5\\DL\\project\\dataset\\Theory of Automata in Urdu_Audio\\lec_11.mp3\n"
     ]
    },
    {
     "name": "stderr",
     "output_type": "stream",
     "text": [
      "chunk:   0%|          | 28/90722 [17:27<1:32:12, 16.39it/s, now=None]"
     ]
    },
    {
     "name": "stdout",
     "output_type": "stream",
     "text": [
      "MoviePy - Done.\n",
      "D:\\OneDrive - Habib University\\acedemics\\semester5\\DL\\project\\dataset\\Theory of Automata in Urdu\\lec_12.mp4\n",
      "D:\\OneDrive - Habib University\\acedemics\\semester5\\DL\\project\\dataset\\Theory of Automata in Urdu_Audio\n",
      "D:\\OneDrive - Habib University\\acedemics\\semester5\\DL\\project\\dataset\\Theory of Automata in Urdu_Audio\\lec_12.mp3\n"
     ]
    },
    {
     "name": "stderr",
     "output_type": "stream",
     "text": [
      "chunk:   0%|          | 28/90722 [17:27<1:32:12, 16.39it/s, now=None]"
     ]
    },
    {
     "name": "stdout",
     "output_type": "stream",
     "text": [
      "MoviePy - Writing audio in D:\\OneDrive - Habib University\\acedemics\\semester5\\DL\\project\\dataset\\Theory of Automata in Urdu_Audio\\lec_12.mp3\n"
     ]
    },
    {
     "name": "stderr",
     "output_type": "stream",
     "text": [
      "chunk:   0%|          | 28/90722 [18:57<1:32:12, 16.39it/s, now=None]"
     ]
    },
    {
     "name": "stdout",
     "output_type": "stream",
     "text": [
      "MoviePy - Done.\n",
      "D:\\OneDrive - Habib University\\acedemics\\semester5\\DL\\project\\dataset\\Theory of Automata in Urdu\\lec_13.mp4\n",
      "D:\\OneDrive - Habib University\\acedemics\\semester5\\DL\\project\\dataset\\Theory of Automata in Urdu_Audio\n",
      "D:\\OneDrive - Habib University\\acedemics\\semester5\\DL\\project\\dataset\\Theory of Automata in Urdu_Audio\\lec_13.mp3\n"
     ]
    },
    {
     "name": "stderr",
     "output_type": "stream",
     "text": [
      "chunk:   0%|          | 28/90722 [18:58<1:32:12, 16.39it/s, now=None]"
     ]
    },
    {
     "name": "stdout",
     "output_type": "stream",
     "text": [
      "MoviePy - Writing audio in D:\\OneDrive - Habib University\\acedemics\\semester5\\DL\\project\\dataset\\Theory of Automata in Urdu_Audio\\lec_13.mp3\n"
     ]
    },
    {
     "name": "stderr",
     "output_type": "stream",
     "text": [
      "chunk:   0%|          | 28/90722 [20:28<1:32:12, 16.39it/s, now=None]"
     ]
    },
    {
     "name": "stdout",
     "output_type": "stream",
     "text": [
      "MoviePy - Done.\n",
      "D:\\OneDrive - Habib University\\acedemics\\semester5\\DL\\project\\dataset\\Theory of Automata in Urdu\\lec_14.mp4\n",
      "D:\\OneDrive - Habib University\\acedemics\\semester5\\DL\\project\\dataset\\Theory of Automata in Urdu_Audio\n",
      "D:\\OneDrive - Habib University\\acedemics\\semester5\\DL\\project\\dataset\\Theory of Automata in Urdu_Audio\\lec_14.mp3\n"
     ]
    },
    {
     "name": "stderr",
     "output_type": "stream",
     "text": [
      "chunk:   0%|          | 28/90722 [20:28<1:32:12, 16.39it/s, now=None]"
     ]
    },
    {
     "name": "stdout",
     "output_type": "stream",
     "text": [
      "MoviePy - Writing audio in D:\\OneDrive - Habib University\\acedemics\\semester5\\DL\\project\\dataset\\Theory of Automata in Urdu_Audio\\lec_14.mp3\n"
     ]
    },
    {
     "name": "stderr",
     "output_type": "stream",
     "text": [
      "chunk:   0%|          | 28/90722 [22:04<1:32:12, 16.39it/s, now=None]"
     ]
    },
    {
     "name": "stdout",
     "output_type": "stream",
     "text": [
      "MoviePy - Done.\n",
      "D:\\OneDrive - Habib University\\acedemics\\semester5\\DL\\project\\dataset\\Theory of Automata in Urdu\\lec_15.mp4\n",
      "D:\\OneDrive - Habib University\\acedemics\\semester5\\DL\\project\\dataset\\Theory of Automata in Urdu_Audio\n",
      "D:\\OneDrive - Habib University\\acedemics\\semester5\\DL\\project\\dataset\\Theory of Automata in Urdu_Audio\\lec_15.mp3\n"
     ]
    },
    {
     "name": "stderr",
     "output_type": "stream",
     "text": [
      "chunk:   0%|          | 28/90722 [22:05<1:32:12, 16.39it/s, now=None]"
     ]
    },
    {
     "name": "stdout",
     "output_type": "stream",
     "text": [
      "MoviePy - Writing audio in D:\\OneDrive - Habib University\\acedemics\\semester5\\DL\\project\\dataset\\Theory of Automata in Urdu_Audio\\lec_15.mp3\n"
     ]
    },
    {
     "name": "stderr",
     "output_type": "stream",
     "text": [
      "chunk:   0%|          | 28/90722 [23:43<1:32:12, 16.39it/s, now=None]"
     ]
    },
    {
     "name": "stdout",
     "output_type": "stream",
     "text": [
      "MoviePy - Done.\n",
      "D:\\OneDrive - Habib University\\acedemics\\semester5\\DL\\project\\dataset\\Theory of Automata in Urdu\\lec_16.mp4\n",
      "D:\\OneDrive - Habib University\\acedemics\\semester5\\DL\\project\\dataset\\Theory of Automata in Urdu_Audio\n",
      "D:\\OneDrive - Habib University\\acedemics\\semester5\\DL\\project\\dataset\\Theory of Automata in Urdu_Audio\\lec_16.mp3\n"
     ]
    },
    {
     "name": "stderr",
     "output_type": "stream",
     "text": [
      "chunk:   0%|          | 28/90722 [23:44<1:32:12, 16.39it/s, now=None]"
     ]
    },
    {
     "name": "stdout",
     "output_type": "stream",
     "text": [
      "MoviePy - Writing audio in D:\\OneDrive - Habib University\\acedemics\\semester5\\DL\\project\\dataset\\Theory of Automata in Urdu_Audio\\lec_16.mp3\n"
     ]
    },
    {
     "name": "stderr",
     "output_type": "stream",
     "text": [
      "chunk:   0%|          | 28/90722 [25:11<1:32:12, 16.39it/s, now=None]"
     ]
    },
    {
     "name": "stdout",
     "output_type": "stream",
     "text": [
      "MoviePy - Done.\n",
      "D:\\OneDrive - Habib University\\acedemics\\semester5\\DL\\project\\dataset\\Theory of Automata in Urdu\\lec_17.mp4\n",
      "D:\\OneDrive - Habib University\\acedemics\\semester5\\DL\\project\\dataset\\Theory of Automata in Urdu_Audio\n",
      "D:\\OneDrive - Habib University\\acedemics\\semester5\\DL\\project\\dataset\\Theory of Automata in Urdu_Audio\\lec_17.mp3\n"
     ]
    },
    {
     "name": "stderr",
     "output_type": "stream",
     "text": [
      "chunk:   0%|          | 28/90722 [25:12<1:32:12, 16.39it/s, now=None]"
     ]
    },
    {
     "name": "stdout",
     "output_type": "stream",
     "text": [
      "MoviePy - Writing audio in D:\\OneDrive - Habib University\\acedemics\\semester5\\DL\\project\\dataset\\Theory of Automata in Urdu_Audio\\lec_17.mp3\n"
     ]
    },
    {
     "name": "stderr",
     "output_type": "stream",
     "text": [
      "chunk:   0%|          | 28/90722 [26:45<1:32:12, 16.39it/s, now=None]"
     ]
    },
    {
     "name": "stdout",
     "output_type": "stream",
     "text": [
      "MoviePy - Done.\n",
      "D:\\OneDrive - Habib University\\acedemics\\semester5\\DL\\project\\dataset\\Theory of Automata in Urdu\\lec_18.mp4\n",
      "D:\\OneDrive - Habib University\\acedemics\\semester5\\DL\\project\\dataset\\Theory of Automata in Urdu_Audio\n",
      "D:\\OneDrive - Habib University\\acedemics\\semester5\\DL\\project\\dataset\\Theory of Automata in Urdu_Audio\\lec_18.mp3\n"
     ]
    },
    {
     "name": "stderr",
     "output_type": "stream",
     "text": [
      "chunk:   0%|          | 28/90722 [26:46<1:32:12, 16.39it/s, now=None]"
     ]
    },
    {
     "name": "stdout",
     "output_type": "stream",
     "text": [
      "MoviePy - Writing audio in D:\\OneDrive - Habib University\\acedemics\\semester5\\DL\\project\\dataset\\Theory of Automata in Urdu_Audio\\lec_18.mp3\n"
     ]
    },
    {
     "name": "stderr",
     "output_type": "stream",
     "text": [
      "chunk:   0%|          | 28/90722 [28:34<1:32:12, 16.39it/s, now=None]"
     ]
    },
    {
     "name": "stdout",
     "output_type": "stream",
     "text": [
      "MoviePy - Done.\n",
      "D:\\OneDrive - Habib University\\acedemics\\semester5\\DL\\project\\dataset\\Theory of Automata in Urdu\\lec_19.mp4\n",
      "D:\\OneDrive - Habib University\\acedemics\\semester5\\DL\\project\\dataset\\Theory of Automata in Urdu_Audio\n",
      "D:\\OneDrive - Habib University\\acedemics\\semester5\\DL\\project\\dataset\\Theory of Automata in Urdu_Audio\\lec_19.mp3\n"
     ]
    },
    {
     "name": "stderr",
     "output_type": "stream",
     "text": [
      "chunk:   0%|          | 28/90722 [28:34<1:32:12, 16.39it/s, now=None]"
     ]
    },
    {
     "name": "stdout",
     "output_type": "stream",
     "text": [
      "MoviePy - Writing audio in D:\\OneDrive - Habib University\\acedemics\\semester5\\DL\\project\\dataset\\Theory of Automata in Urdu_Audio\\lec_19.mp3\n"
     ]
    },
    {
     "name": "stderr",
     "output_type": "stream",
     "text": [
      "chunk:   0%|          | 28/90722 [30:18<1:32:12, 16.39it/s, now=None]"
     ]
    },
    {
     "name": "stdout",
     "output_type": "stream",
     "text": [
      "MoviePy - Done.\n",
      "D:\\OneDrive - Habib University\\acedemics\\semester5\\DL\\project\\dataset\\Theory of Automata in Urdu\\lec_20.mp4\n",
      "D:\\OneDrive - Habib University\\acedemics\\semester5\\DL\\project\\dataset\\Theory of Automata in Urdu_Audio\n",
      "D:\\OneDrive - Habib University\\acedemics\\semester5\\DL\\project\\dataset\\Theory of Automata in Urdu_Audio\\lec_20.mp3\n"
     ]
    },
    {
     "name": "stderr",
     "output_type": "stream",
     "text": [
      "chunk:   0%|          | 28/90722 [30:18<1:32:12, 16.39it/s, now=None]"
     ]
    },
    {
     "name": "stdout",
     "output_type": "stream",
     "text": [
      "MoviePy - Writing audio in D:\\OneDrive - Habib University\\acedemics\\semester5\\DL\\project\\dataset\\Theory of Automata in Urdu_Audio\\lec_20.mp3\n"
     ]
    },
    {
     "name": "stderr",
     "output_type": "stream",
     "text": [
      "chunk:   0%|          | 28/90722 [31:48<1:32:12, 16.39it/s, now=None]"
     ]
    },
    {
     "name": "stdout",
     "output_type": "stream",
     "text": [
      "MoviePy - Done.\n",
      "D:\\OneDrive - Habib University\\acedemics\\semester5\\DL\\project\\dataset\\Theory of Automata in Urdu\\lec_21.mp4\n",
      "D:\\OneDrive - Habib University\\acedemics\\semester5\\DL\\project\\dataset\\Theory of Automata in Urdu_Audio\n",
      "D:\\OneDrive - Habib University\\acedemics\\semester5\\DL\\project\\dataset\\Theory of Automata in Urdu_Audio\\lec_21.mp3\n"
     ]
    },
    {
     "name": "stderr",
     "output_type": "stream",
     "text": [
      "chunk:   0%|          | 28/90722 [31:49<1:32:12, 16.39it/s, now=None]"
     ]
    },
    {
     "name": "stdout",
     "output_type": "stream",
     "text": [
      "MoviePy - Writing audio in D:\\OneDrive - Habib University\\acedemics\\semester5\\DL\\project\\dataset\\Theory of Automata in Urdu_Audio\\lec_21.mp3\n"
     ]
    },
    {
     "name": "stderr",
     "output_type": "stream",
     "text": [
      "chunk:   0%|          | 28/90722 [33:17<1:32:12, 16.39it/s, now=None]"
     ]
    },
    {
     "name": "stdout",
     "output_type": "stream",
     "text": [
      "MoviePy - Done.\n",
      "D:\\OneDrive - Habib University\\acedemics\\semester5\\DL\\project\\dataset\\Theory of Automata in Urdu\\lec_22.mp4\n",
      "D:\\OneDrive - Habib University\\acedemics\\semester5\\DL\\project\\dataset\\Theory of Automata in Urdu_Audio\n",
      "D:\\OneDrive - Habib University\\acedemics\\semester5\\DL\\project\\dataset\\Theory of Automata in Urdu_Audio\\lec_22.mp3\n"
     ]
    },
    {
     "name": "stderr",
     "output_type": "stream",
     "text": [
      "chunk:   0%|          | 28/90722 [33:18<1:32:12, 16.39it/s, now=None]"
     ]
    },
    {
     "name": "stdout",
     "output_type": "stream",
     "text": [
      "MoviePy - Writing audio in D:\\OneDrive - Habib University\\acedemics\\semester5\\DL\\project\\dataset\\Theory of Automata in Urdu_Audio\\lec_22.mp3\n"
     ]
    },
    {
     "name": "stderr",
     "output_type": "stream",
     "text": [
      "chunk:   0%|          | 28/90722 [34:36<1:32:12, 16.39it/s, now=None]"
     ]
    },
    {
     "name": "stdout",
     "output_type": "stream",
     "text": [
      "MoviePy - Done.\n",
      "D:\\OneDrive - Habib University\\acedemics\\semester5\\DL\\project\\dataset\\Theory of Automata in Urdu\\lec_23.mp4\n",
      "D:\\OneDrive - Habib University\\acedemics\\semester5\\DL\\project\\dataset\\Theory of Automata in Urdu_Audio\n",
      "D:\\OneDrive - Habib University\\acedemics\\semester5\\DL\\project\\dataset\\Theory of Automata in Urdu_Audio\\lec_23.mp3\n"
     ]
    },
    {
     "name": "stderr",
     "output_type": "stream",
     "text": [
      "chunk:   0%|          | 28/90722 [34:37<1:32:12, 16.39it/s, now=None]"
     ]
    },
    {
     "name": "stdout",
     "output_type": "stream",
     "text": [
      "MoviePy - Writing audio in D:\\OneDrive - Habib University\\acedemics\\semester5\\DL\\project\\dataset\\Theory of Automata in Urdu_Audio\\lec_23.mp3\n"
     ]
    },
    {
     "name": "stderr",
     "output_type": "stream",
     "text": [
      "chunk:   0%|          | 28/90722 [35:52<1:32:12, 16.39it/s, now=None]"
     ]
    },
    {
     "name": "stdout",
     "output_type": "stream",
     "text": [
      "MoviePy - Done.\n",
      "D:\\OneDrive - Habib University\\acedemics\\semester5\\DL\\project\\dataset\\Theory of Automata in Urdu\\lec_24.mp4\n",
      "D:\\OneDrive - Habib University\\acedemics\\semester5\\DL\\project\\dataset\\Theory of Automata in Urdu_Audio\n",
      "D:\\OneDrive - Habib University\\acedemics\\semester5\\DL\\project\\dataset\\Theory of Automata in Urdu_Audio\\lec_24.mp3\n"
     ]
    },
    {
     "name": "stderr",
     "output_type": "stream",
     "text": [
      "chunk:   0%|          | 28/90722 [35:53<1:32:12, 16.39it/s, now=None]"
     ]
    },
    {
     "name": "stdout",
     "output_type": "stream",
     "text": [
      "MoviePy - Writing audio in D:\\OneDrive - Habib University\\acedemics\\semester5\\DL\\project\\dataset\\Theory of Automata in Urdu_Audio\\lec_24.mp3\n"
     ]
    },
    {
     "name": "stderr",
     "output_type": "stream",
     "text": [
      "chunk:   0%|          | 28/90722 [37:50<1:32:12, 16.39it/s, now=None]"
     ]
    },
    {
     "name": "stdout",
     "output_type": "stream",
     "text": [
      "MoviePy - Done.\n",
      "D:\\OneDrive - Habib University\\acedemics\\semester5\\DL\\project\\dataset\\Theory of Automata in Urdu\\lec_25.mp4\n",
      "D:\\OneDrive - Habib University\\acedemics\\semester5\\DL\\project\\dataset\\Theory of Automata in Urdu_Audio\n",
      "D:\\OneDrive - Habib University\\acedemics\\semester5\\DL\\project\\dataset\\Theory of Automata in Urdu_Audio\\lec_25.mp3\n"
     ]
    },
    {
     "name": "stderr",
     "output_type": "stream",
     "text": [
      "chunk:   0%|          | 28/90722 [37:50<1:32:12, 16.39it/s, now=None]"
     ]
    },
    {
     "name": "stdout",
     "output_type": "stream",
     "text": [
      "MoviePy - Writing audio in D:\\OneDrive - Habib University\\acedemics\\semester5\\DL\\project\\dataset\\Theory of Automata in Urdu_Audio\\lec_25.mp3\n"
     ]
    },
    {
     "name": "stderr",
     "output_type": "stream",
     "text": [
      "chunk:   0%|          | 28/90722 [40:00<1:32:12, 16.39it/s, now=None]"
     ]
    },
    {
     "name": "stdout",
     "output_type": "stream",
     "text": [
      "MoviePy - Done.\n",
      "D:\\OneDrive - Habib University\\acedemics\\semester5\\DL\\project\\dataset\\Theory of Automata in Urdu\\lec_26.mp4\n",
      "D:\\OneDrive - Habib University\\acedemics\\semester5\\DL\\project\\dataset\\Theory of Automata in Urdu_Audio\n",
      "D:\\OneDrive - Habib University\\acedemics\\semester5\\DL\\project\\dataset\\Theory of Automata in Urdu_Audio\\lec_26.mp3\n"
     ]
    },
    {
     "name": "stderr",
     "output_type": "stream",
     "text": [
      "chunk:   0%|          | 28/90722 [40:01<1:32:12, 16.39it/s, now=None]"
     ]
    },
    {
     "name": "stdout",
     "output_type": "stream",
     "text": [
      "MoviePy - Writing audio in D:\\OneDrive - Habib University\\acedemics\\semester5\\DL\\project\\dataset\\Theory of Automata in Urdu_Audio\\lec_26.mp3\n"
     ]
    },
    {
     "name": "stderr",
     "output_type": "stream",
     "text": [
      "chunk:   0%|          | 28/90722 [42:27<1:32:12, 16.39it/s, now=None]"
     ]
    },
    {
     "name": "stdout",
     "output_type": "stream",
     "text": [
      "MoviePy - Done.\n",
      "D:\\OneDrive - Habib University\\acedemics\\semester5\\DL\\project\\dataset\\Theory of Automata in Urdu\\lec_27.mp4\n",
      "D:\\OneDrive - Habib University\\acedemics\\semester5\\DL\\project\\dataset\\Theory of Automata in Urdu_Audio\n",
      "D:\\OneDrive - Habib University\\acedemics\\semester5\\DL\\project\\dataset\\Theory of Automata in Urdu_Audio\\lec_27.mp3\n"
     ]
    },
    {
     "name": "stderr",
     "output_type": "stream",
     "text": [
      "chunk:   0%|          | 28/90722 [42:28<1:32:12, 16.39it/s, now=None]"
     ]
    },
    {
     "name": "stdout",
     "output_type": "stream",
     "text": [
      "MoviePy - Writing audio in D:\\OneDrive - Habib University\\acedemics\\semester5\\DL\\project\\dataset\\Theory of Automata in Urdu_Audio\\lec_27.mp3\n"
     ]
    },
    {
     "name": "stderr",
     "output_type": "stream",
     "text": [
      "chunk:   0%|          | 28/90722 [44:16<1:32:12, 16.39it/s, now=None]"
     ]
    },
    {
     "name": "stdout",
     "output_type": "stream",
     "text": [
      "MoviePy - Done.\n",
      "D:\\OneDrive - Habib University\\acedemics\\semester5\\DL\\project\\dataset\\Theory of Automata in Urdu\\lec_28.mp4\n",
      "D:\\OneDrive - Habib University\\acedemics\\semester5\\DL\\project\\dataset\\Theory of Automata in Urdu_Audio\n",
      "D:\\OneDrive - Habib University\\acedemics\\semester5\\DL\\project\\dataset\\Theory of Automata in Urdu_Audio\\lec_28.mp3\n"
     ]
    },
    {
     "name": "stderr",
     "output_type": "stream",
     "text": [
      "chunk:   0%|          | 28/90722 [44:17<1:32:12, 16.39it/s, now=None]"
     ]
    },
    {
     "name": "stdout",
     "output_type": "stream",
     "text": [
      "MoviePy - Writing audio in D:\\OneDrive - Habib University\\acedemics\\semester5\\DL\\project\\dataset\\Theory of Automata in Urdu_Audio\\lec_28.mp3\n"
     ]
    },
    {
     "name": "stderr",
     "output_type": "stream",
     "text": [
      "chunk:   0%|          | 28/90722 [46:42<1:32:12, 16.39it/s, now=None]"
     ]
    },
    {
     "name": "stdout",
     "output_type": "stream",
     "text": [
      "MoviePy - Done.\n",
      "D:\\OneDrive - Habib University\\acedemics\\semester5\\DL\\project\\dataset\\Theory of Automata in Urdu\\lec_29.mp4\n",
      "D:\\OneDrive - Habib University\\acedemics\\semester5\\DL\\project\\dataset\\Theory of Automata in Urdu_Audio\n",
      "D:\\OneDrive - Habib University\\acedemics\\semester5\\DL\\project\\dataset\\Theory of Automata in Urdu_Audio\\lec_29.mp3\n"
     ]
    },
    {
     "name": "stderr",
     "output_type": "stream",
     "text": [
      "chunk:   0%|          | 28/90722 [46:44<1:32:12, 16.39it/s, now=None]"
     ]
    },
    {
     "name": "stdout",
     "output_type": "stream",
     "text": [
      "MoviePy - Writing audio in D:\\OneDrive - Habib University\\acedemics\\semester5\\DL\\project\\dataset\\Theory of Automata in Urdu_Audio\\lec_29.mp3\n"
     ]
    },
    {
     "name": "stderr",
     "output_type": "stream",
     "text": [
      "chunk:   0%|          | 28/90722 [49:15<1:32:12, 16.39it/s, now=None]"
     ]
    },
    {
     "name": "stdout",
     "output_type": "stream",
     "text": [
      "MoviePy - Done.\n",
      "D:\\OneDrive - Habib University\\acedemics\\semester5\\DL\\project\\dataset\\Theory of Automata in Urdu\\lec_30.mp4\n",
      "D:\\OneDrive - Habib University\\acedemics\\semester5\\DL\\project\\dataset\\Theory of Automata in Urdu_Audio\n",
      "D:\\OneDrive - Habib University\\acedemics\\semester5\\DL\\project\\dataset\\Theory of Automata in Urdu_Audio\\lec_30.mp3\n"
     ]
    },
    {
     "name": "stderr",
     "output_type": "stream",
     "text": [
      "chunk:   0%|          | 28/90722 [49:16<1:32:12, 16.39it/s, now=None]"
     ]
    },
    {
     "name": "stdout",
     "output_type": "stream",
     "text": [
      "MoviePy - Writing audio in D:\\OneDrive - Habib University\\acedemics\\semester5\\DL\\project\\dataset\\Theory of Automata in Urdu_Audio\\lec_30.mp3\n"
     ]
    },
    {
     "name": "stderr",
     "output_type": "stream",
     "text": [
      "chunk:   0%|          | 28/90722 [51:32<1:32:12, 16.39it/s, now=None]"
     ]
    },
    {
     "name": "stdout",
     "output_type": "stream",
     "text": [
      "MoviePy - Done.\n",
      "D:\\OneDrive - Habib University\\acedemics\\semester5\\DL\\project\\dataset\\Theory of Automata in Urdu\\lec_31.mp4\n",
      "D:\\OneDrive - Habib University\\acedemics\\semester5\\DL\\project\\dataset\\Theory of Automata in Urdu_Audio\n",
      "D:\\OneDrive - Habib University\\acedemics\\semester5\\DL\\project\\dataset\\Theory of Automata in Urdu_Audio\\lec_31.mp3\n"
     ]
    },
    {
     "name": "stderr",
     "output_type": "stream",
     "text": [
      "chunk:   0%|          | 28/90722 [51:33<1:32:12, 16.39it/s, now=None]"
     ]
    },
    {
     "name": "stdout",
     "output_type": "stream",
     "text": [
      "MoviePy - Writing audio in D:\\OneDrive - Habib University\\acedemics\\semester5\\DL\\project\\dataset\\Theory of Automata in Urdu_Audio\\lec_31.mp3\n"
     ]
    },
    {
     "name": "stderr",
     "output_type": "stream",
     "text": [
      "chunk:   0%|          | 28/90722 [53:37<1:32:12, 16.39it/s, now=None]"
     ]
    },
    {
     "name": "stdout",
     "output_type": "stream",
     "text": [
      "MoviePy - Done.\n",
      "D:\\OneDrive - Habib University\\acedemics\\semester5\\DL\\project\\dataset\\Theory of Automata in Urdu\\lec_32.mp4\n",
      "D:\\OneDrive - Habib University\\acedemics\\semester5\\DL\\project\\dataset\\Theory of Automata in Urdu_Audio\n",
      "D:\\OneDrive - Habib University\\acedemics\\semester5\\DL\\project\\dataset\\Theory of Automata in Urdu_Audio\\lec_32.mp3\n"
     ]
    },
    {
     "name": "stderr",
     "output_type": "stream",
     "text": [
      "chunk:   0%|          | 28/90722 [53:37<1:32:12, 16.39it/s, now=None]"
     ]
    },
    {
     "name": "stdout",
     "output_type": "stream",
     "text": [
      "MoviePy - Writing audio in D:\\OneDrive - Habib University\\acedemics\\semester5\\DL\\project\\dataset\\Theory of Automata in Urdu_Audio\\lec_32.mp3\n"
     ]
    },
    {
     "name": "stderr",
     "output_type": "stream",
     "text": [
      "chunk:   0%|          | 28/90722 [55:08<1:32:12, 16.39it/s, now=None]"
     ]
    },
    {
     "name": "stdout",
     "output_type": "stream",
     "text": [
      "MoviePy - Done.\n"
     ]
    }
   ],
   "source": [
    "vid_folder = r\"D:\\OneDrive - Habib University\\acedemics\\semester5\\DL\\project\\dataset\\Theory of Automata in Urdu\"\n",
    "destination_folder = r\"D:\\OneDrive - Habib University\\acedemics\\semester5\\DL\\project\\dataset\\Theory of Automata in Urdu_Audio\"\n",
    "for file in os.listdir(vid_folder):\n",
    "    vid_file = os.path.join(vid_folder,file)\n",
    "    print(vid_file)\n",
    "    print(destination_folder)\n",
    "    audio_file = os.path.join(destination_folder,file[0:6]+\".mp3\")\n",
    "    print(audio_file)\n",
    "    video2audio(vid_file,audio_file)"
   ]
  },
  {
   "cell_type": "code",
   "execution_count": null,
   "metadata": {},
   "outputs": [],
   "source": []
  }
 ],
 "metadata": {
  "kernelspec": {
   "display_name": "Python 3.9.1 64-bit",
   "language": "python",
   "name": "python3"
  },
  "language_info": {
   "codemirror_mode": {
    "name": "ipython",
    "version": 3
   },
   "file_extension": ".py",
   "mimetype": "text/x-python",
   "name": "python",
   "nbconvert_exporter": "python",
   "pygments_lexer": "ipython3",
   "version": "3.9.1"
  },
  "orig_nbformat": 3,
  "vscode": {
   "interpreter": {
    "hash": "df489fb1e130da9f6ba5d7b964fc8c0a95ac36686e5462b4af8e73863edb035e"
   }
  }
 },
 "nbformat": 4,
 "nbformat_minor": 2
}
